{
  "cells": [
    {
      "cell_type": "markdown",
      "metadata": {
        "id": "eFredcs8Angr"
      },
      "source": [
        "# Assignment 2: Build a CNN for image recognition.\n",
        "\n",
        "## Due Date:  March 27, 11:59PM\n",
        "\n",
        "### Name: Joshua Meharg\n"
      ]
    },
    {
      "cell_type": "markdown",
      "metadata": {
        "id": "eobV4pzEAngt"
      },
      "source": [
        "## Introduction:\n",
        "\n",
        "1. In this assignment, you will build Convolutional Neural Network to classify CIFAR-10 Images.\n",
        "2. You can directly load dataset from many deep learning packages.\n",
        "3. You can use any deep learning packages such as pytorch, keras or tensorflow for this assignment."
      ]
    },
    {
      "cell_type": "markdown",
      "metadata": {
        "id": "-uYYCpDwAngt"
      },
      "source": [
        "## Requirements:\n",
        "\n",
        "1. You need to load cifar 10 data and split the entire training dataset into training and validation.\n",
        "2. You will implement a CNN model to classify cifar 10 images with provided structure.\n",
        "3. You need to plot the training and validation accuracy or loss obtained from above step.\n",
        "4. Then you can use tuned parameters to train using the entire training dataset.\n",
        "5. You should report the testing accuracy using the model with complete data.\n",
        "6. You may try to change the structure (e.g, add BN layer or dropout layer,...) and analyze your findings.\n",
        "\n",
        "## Google Colab\n",
        "\n",
        "- If you do not have GPU, the training of a CNN can be slow. Google Colab is a good option."
      ]
    },
    {
      "cell_type": "markdown",
      "metadata": {
        "id": "J1uXnN0mAngu"
      },
      "source": [
        "## Batch Normalization (BN)"
      ]
    },
    {
      "cell_type": "markdown",
      "metadata": {
        "id": "siQlpnhFAngu"
      },
      "source": [
        "### Background:"
      ]
    },
    {
      "cell_type": "markdown",
      "metadata": {
        "id": "dRSWR4_pAngu"
      },
      "source": [
        "- Batch Normalization is a technique to speed up training and help make the model more stable.\n",
        "- In simple words, batch normalization is just another network layer that gets inserted between a hidden layer and the next hidden layer. Its job is to take the outputs from the first hidden layer and normalize them before passing them on as the input of the next hidden layer.\n",
        "\n",
        "- For more detailed information, you may refer to the original paper: https://arxiv.org/pdf/1502.03167.pdf."
      ]
    },
    {
      "cell_type": "markdown",
      "metadata": {
        "id": "enmxl4TVAngu"
      },
      "source": [
        "### BN Algorithm:"
      ]
    },
    {
      "cell_type": "markdown",
      "metadata": {
        "id": "HbTocohLAngv"
      },
      "source": [
        "- Input: Values of $x$ over a mini-batch: $\\mathbf{B}$ = $\\{x_1,..., x_m\\};$\n",
        "- Output: $\\{y_i = BN_{\\gamma,\\beta}(x_i)\\}$, $\\gamma, \\beta$ are learnable parameters\n",
        "\n",
        "Normalization of the Input:\n",
        "$$\\mu_{\\mathbf{B}} = \\frac{1}{m}\\sum_{i=1}^m x_i$$\n",
        "$$\\sigma_{\\mathbf{B}}^2 = \\frac{1}{m}\\sum_{i=1}^m (x_i - \\mu_{\\mathbf{B}})^2$$\n",
        "$$\\hat{x_i} = \\frac{x_i - \\mu_{\\mathbf{B}}}{\\sqrt{\\sigma_{\\mathbf{B}}}^2 + \\epsilon}$$\n",
        "Re-scaling and Offsetting:\n",
        "$$y_i = \\gamma \\hat{x_i} + \\beta = BN_{\\gamma,\\beta}(x_i)$$\n"
      ]
    },
    {
      "cell_type": "markdown",
      "metadata": {
        "id": "UumUQqquAngv"
      },
      "source": [
        "### Advantages of BN:\n",
        "1. Improves gradient flow through the network.\n",
        "2. Allows use of saturating nonlinearities and higher learning rates.\n",
        "3. Makes weights easier to initialize.\n",
        "4. Act as a form of regularization and may reduce the need for dropout."
      ]
    },
    {
      "cell_type": "markdown",
      "metadata": {
        "id": "AL18QRhBAngv"
      },
      "source": [
        "### Implementation:"
      ]
    },
    {
      "cell_type": "markdown",
      "metadata": {
        "id": "4IrV142hAngv"
      },
      "source": [
        "- The batch normalization layer has already been implemented in many packages. You may simply call the function to build the layer. For example: torch.nn.BatchNorm2d() using pytroch package, keras.layers.BatchNormalization() using keras package.\n",
        "- The location of BN layer: Please make sure ```BatchNormalization``` is between a ```Conv```/```Dense``` layer and an ```activation``` layer."
      ]
    },
    {
      "cell_type": "markdown",
      "metadata": {
        "id": "haYS3tvtAngv"
      },
      "source": [
        "## 1. Data preparation"
      ]
    },
    {
      "cell_type": "markdown",
      "metadata": {
        "id": "yAJ0XfZhAngw"
      },
      "source": [
        "### 1.1. Load data\n"
      ]
    },
    {
      "cell_type": "code",
      "execution_count": null,
      "metadata": {
        "colab": {
          "base_uri": "https://localhost:8080/"
        },
        "id": "GPRHBQfSAngw",
        "outputId": "ac05bad5-54f5-4809-ac82-86b2be0a9ebd"
      },
      "outputs": [
        {
          "output_type": "stream",
          "name": "stdout",
          "text": [
            "shape of x_train: (50000, 32, 32, 3)\n",
            "shape of y_train: (50000, 1)\n",
            "shape of x_test: (10000, 32, 32, 3)\n",
            "shape of y_test: (10000, 1)\n",
            "number of classes: 10\n"
          ]
        }
      ],
      "source": [
        "# Load Cifar-10 Data\n",
        "# This is just an example, you may load dataset from other packages.\n",
        "import keras\n",
        "import numpy as np\n",
        "\n",
        "### If you can not load keras dataset, un-comment these two lines.\n",
        "import ssl\n",
        "ssl._create_default_https_context = ssl._create_unverified_context\n",
        "\n",
        "(x_train, y_train), (x_test, y_test) = keras.datasets.cifar10.load_data()\n",
        "\n",
        "print('shape of x_train: ' + str(x_train.shape))\n",
        "print('shape of y_train: ' + str(y_train.shape))\n",
        "print('shape of x_test: ' + str(x_test.shape))\n",
        "print('shape of y_test: ' + str(y_test.shape))\n",
        "print('number of classes: ' + str(np.max(y_train) - np.min(y_train) + 1))"
      ]
    },
    {
      "cell_type": "markdown",
      "metadata": {
        "id": "NZGhD6ryAngy"
      },
      "source": [
        "### 1.2. One-hot encode the labels (5 points)\n",
        "\n",
        "In the input, a label is a scalar in $\\{0, 1, \\cdots , 9\\}$. One-hot encode transform such a scalar to a $10$-dim vector. E.g., a scalar ```y_train[j]=3``` is transformed to the vector ```y_train_vec[j]=[0, 0, 0, 1, 0, 0, 0, 0, 0, 0]```.\n",
        "\n",
        "1. Implement a function ```to_one_hot``` that transforms an $n\\times 1$ array to a $n\\times 10$ matrix.\n",
        "\n",
        "2. Apply the function to ```y_train``` and ```y_test```."
      ]
    },
    {
      "cell_type": "code",
      "execution_count": null,
      "metadata": {
        "colab": {
          "base_uri": "https://localhost:8080/"
        },
        "id": "nk37GUEzAngy",
        "outputId": "7f830abe-9760-44e9-b6df-a5a693dfabae"
      },
      "outputs": [
        {
          "output_type": "stream",
          "name": "stdout",
          "text": [
            "Shape of y_train_vec: (50000, 10)\n",
            "Shape of y_test_vec: (10000, 10)\n",
            "[6]\n",
            "[0 0 0 0 0 0 1 0 0 0]\n"
          ]
        }
      ],
      "source": [
        "def to_one_hot(y, num_class=10):\n",
        "    ret = [[]] * len(y)\n",
        "    for i, e in enumerate(y):\n",
        "        encode = [0] * 10\n",
        "        encode[e[0]] = 1\n",
        "        ret[i] = encode\n",
        "    return np.array(ret)\n",
        "\n",
        "\n",
        "y_train_vec = to_one_hot(y_train)\n",
        "y_test_vec = to_one_hot(y_test)\n",
        "\n",
        "print('Shape of y_train_vec: ' + str(y_train_vec.shape))\n",
        "print('Shape of y_test_vec: ' + str(y_test_vec.shape))\n",
        "\n",
        "print(y_train[0])\n",
        "print(y_train_vec[0])"
      ]
    },
    {
      "cell_type": "markdown",
      "metadata": {
        "id": "hyAckiqxAngy"
      },
      "source": [
        "#### Remark: the outputs should be\n",
        "* Shape of y_train_vec: (50000, 10)\n",
        "* Shape of y_test_vec: (10000, 10)\n",
        "* [6]\n",
        "* [0. 0. 0. 0. 0. 0. 1. 0. 0. 0.]"
      ]
    },
    {
      "cell_type": "markdown",
      "metadata": {
        "id": "Fpnd98pVAngy"
      },
      "source": [
        "### 1.3. Randomly partition the training set to training and validation sets (5 points)\n",
        "\n",
        "Randomly partition the 50K training samples to 2 sets:\n",
        "* a training set containing 40K samples: x_tr, y_tr\n",
        "* a validation set containing 10K samples: x_val, y_val\n"
      ]
    },
    {
      "cell_type": "code",
      "execution_count": null,
      "metadata": {
        "colab": {
          "base_uri": "https://localhost:8080/"
        },
        "id": "qhiv05EsAngz",
        "outputId": "edc010ee-a99a-45e1-dd14-401a66d3f66b"
      },
      "outputs": [
        {
          "output_type": "stream",
          "name": "stdout",
          "text": [
            "50000\n",
            "length of ran_nums =  50000\n",
            "Shape of x_tr: (40000, 32, 32, 3)\n",
            "Shape of y_tr: (40000, 10)\n",
            "Shape of x_val: (10000, 32, 32, 3)\n",
            "Shape of y_val: (10000, 10)\n"
          ]
        }
      ],
      "source": [
        "import random\n",
        "\n",
        "train_size = len(y_train_vec)\n",
        "print(train_size)\n",
        "ran_nums = random.sample(range(0, train_size), train_size)\n",
        "\n",
        "print(\"length of ran_nums = \", len(ran_nums))\n",
        "\n",
        "x_tr = np.zeros((40000, 32, 32, 3))\n",
        "x_val = np.zeros((10000, 32, 32, 3))\n",
        "y_tr = np.zeros((40000, 10))\n",
        "y_val = np.zeros((10000, 10))\n",
        "\n",
        "\n",
        "x_tr[:40000] = x_train[ran_nums[:40000]]\n",
        "y_tr[:40000] = y_train_vec[ran_nums[:40000]]\n",
        "\n",
        "x_val[:10000] = x_train[ran_nums[40000:50000]]\n",
        "y_val[:10000] = y_train_vec[ran_nums[40000:50000]]\n",
        "\n",
        "\n",
        "print('Shape of x_tr: ' + str(x_tr.shape))\n",
        "print('Shape of y_tr: ' + str(y_tr.shape))\n",
        "print('Shape of x_val: ' + str(x_val.shape))\n",
        "print('Shape of y_val: ' + str(y_val.shape))\n",
        "\n",
        "ran_nums1 = random.sample(range(0, train_size), train_size)\n",
        "\n",
        "x_tr1 = np.zeros((40000, 32, 32, 3))\n",
        "x_val1 = np.zeros((10000, 32, 32, 3))\n",
        "y_tr1 = np.zeros((40000, 10))\n",
        "y_val1 = np.zeros((10000, 10))\n",
        "\n",
        "\n",
        "x_tr1[:40000] = x_train[ran_nums[:40000]]\n",
        "y_tr1[:40000] = y_train_vec[ran_nums[:40000]]\n",
        "\n",
        "x_val1[:10000] = x_train[ran_nums[40000:50000]]\n",
        "y_val1[:10000] = y_train_vec[ran_nums[40000:50000]]"
      ]
    },
    {
      "cell_type": "markdown",
      "metadata": {
        "id": "XGgTFBwxAngz"
      },
      "source": [
        "## 2. Build a CNN and tune its hyper-parameters (50 points)\n",
        "\n",
        "- Build a convolutional neural network model using the below structure:\n",
        "\n",
        "- It should have a structure of: Conv - ReLU - Max Pool - ConV - ReLU - Max Pool - Dense - ReLU - Dense - Softmax\n",
        "\n",
        "- In the graph 3@32x32 means the dimension of input image, 32@30x30 means it has 32 filters and the dimension now becomes 30x30 after the convolution.\n",
        "- All convolutional layers (Conv) should have stride = 1 and no padding.\n",
        "- Max Pooling has a pool size of 2 by 2.\n",
        "\n",
        "\n"
      ]
    },
    {
      "cell_type": "markdown",
      "metadata": {
        "id": "qJilthc2Angz"
      },
      "source": [
        "<img src=\"network.PNG\"/>"
      ]
    },
    {
      "cell_type": "markdown",
      "metadata": {
        "id": "j9Kfk_PGAngz"
      },
      "source": [
        "- You may use the validation data to tune the hyper-parameters (e.g., learning rate, and optimization algorithm)\n",
        "- Do NOT use test data for hyper-parameter tuning!!!\n",
        "- Try to achieve a validation accuracy as high as possible."
      ]
    },
    {
      "cell_type": "code",
      "execution_count": null,
      "metadata": {
        "colab": {
          "base_uri": "https://localhost:8080/"
        },
        "id": "HUQxhpr9Angz",
        "outputId": "710df4a2-7d72-4577-dfa0-050d31c0bae2"
      },
      "outputs": [
        {
          "output_type": "stream",
          "name": "stdout",
          "text": [
            "Model: \"sequential_1\"\n",
            "_________________________________________________________________\n",
            " Layer (type)                Output Shape              Param #   \n",
            "=================================================================\n",
            " conv2d_2 (Conv2D)           (None, 30, 30, 32)        896       \n",
            "                                                                 \n",
            " max_pooling2d_2 (MaxPoolin  (None, 15, 15, 32)        0         \n",
            " g2D)                                                            \n",
            "                                                                 \n",
            " conv2d_3 (Conv2D)           (None, 12, 12, 64)        32832     \n",
            "                                                                 \n",
            " max_pooling2d_3 (MaxPoolin  (None, 6, 6, 64)          0         \n",
            " g2D)                                                            \n",
            "                                                                 \n",
            " flatten_1 (Flatten)         (None, 2304)              0         \n",
            "                                                                 \n",
            " dense_2 (Dense)             (None, 256)               590080    \n",
            "                                                                 \n",
            " dense_3 (Dense)             (None, 10)                2570      \n",
            "                                                                 \n",
            "=================================================================\n",
            "Total params: 626378 (2.39 MB)\n",
            "Trainable params: 626378 (2.39 MB)\n",
            "Non-trainable params: 0 (0.00 Byte)\n",
            "_________________________________________________________________\n"
          ]
        }
      ],
      "source": [
        "# Build the model\n",
        "\n",
        "\n",
        "from keras.models import Sequential\n",
        "from keras.layers import Conv2D, MaxPooling2D, Flatten, Dense\n",
        "\n",
        "model = Sequential()\n",
        "model.add(Conv2D(32, (3,3), activation='relu', input_shape=(32,32,3)))\n",
        "model.add(MaxPooling2D((2,2)))\n",
        "model.add(Conv2D(64, (4,4), activation='relu', input_shape=(15,15,3)))\n",
        "model.add(MaxPooling2D((2,2)))\n",
        "model.add(Flatten())\n",
        "model.add(Dense(256, activation='relu'))\n",
        "model.add(Dense(10, activation='softmax'))\n",
        "\n",
        "model.summary()\n"
      ]
    },
    {
      "cell_type": "code",
      "execution_count": null,
      "metadata": {
        "colab": {
          "base_uri": "https://localhost:8080/"
        },
        "id": "74DJA_W-Angz",
        "outputId": "cc19578f-3544-4c41-9ae7-b524cf489ccf"
      },
      "outputs": [
        {
          "output_type": "stream",
          "name": "stderr",
          "text": [
            "WARNING:absl:`lr` is deprecated in Keras optimizer, please use `learning_rate` or use the legacy optimizer, e.g.,tf.keras.optimizers.legacy.RMSprop.\n"
          ]
        }
      ],
      "source": [
        "a# Define model optimizer and loss function\n",
        "from keras import optimizers\n",
        "\n",
        "model.compile(optimizers.RMSprop(lr=0.0001),\n",
        "              loss='categorical_crossentropy',\n",
        "              metrics=['accuracy'])\n"
      ]
    },
    {
      "cell_type": "code",
      "execution_count": null,
      "metadata": {
        "colab": {
          "base_uri": "https://localhost:8080/"
        },
        "id": "G1WAGi0wAngz",
        "outputId": "d523ce4f-1811-474f-c583-d3ed6a7b4021"
      },
      "outputs": [
        {
          "output_type": "stream",
          "name": "stdout",
          "text": [
            "Epoch 1/50\n",
            "313/313 [==============================] - 59s 188ms/step - loss: 3.5941 - accuracy: 0.2307 - val_loss: 1.7520 - val_accuracy: 0.3824\n",
            "Epoch 2/50\n",
            "313/313 [==============================] - 59s 187ms/step - loss: 1.7098 - accuracy: 0.4113 - val_loss: 1.7055 - val_accuracy: 0.4255\n",
            "Epoch 3/50\n",
            "313/313 [==============================] - 59s 189ms/step - loss: 1.3475 - accuracy: 0.5373 - val_loss: 1.3309 - val_accuracy: 0.5431\n",
            "Epoch 4/50\n",
            "313/313 [==============================] - 56s 179ms/step - loss: 1.1247 - accuracy: 0.6150 - val_loss: 1.3216 - val_accuracy: 0.5760\n",
            "Epoch 5/50\n",
            "313/313 [==============================] - 56s 179ms/step - loss: 0.9463 - accuracy: 0.6801 - val_loss: 1.2157 - val_accuracy: 0.6078\n",
            "Epoch 6/50\n",
            "313/313 [==============================] - 58s 186ms/step - loss: 0.7875 - accuracy: 0.7351 - val_loss: 1.1827 - val_accuracy: 0.6189\n",
            "Epoch 7/50\n",
            "313/313 [==============================] - 56s 180ms/step - loss: 0.6420 - accuracy: 0.7829 - val_loss: 1.6704 - val_accuracy: 0.6084\n",
            "Epoch 8/50\n",
            "313/313 [==============================] - 59s 189ms/step - loss: 0.5148 - accuracy: 0.8259 - val_loss: 1.4565 - val_accuracy: 0.6290\n",
            "Epoch 9/50\n",
            "313/313 [==============================] - 61s 196ms/step - loss: 0.4180 - accuracy: 0.8598 - val_loss: 1.8748 - val_accuracy: 0.6065\n",
            "Epoch 10/50\n",
            "313/313 [==============================] - 59s 187ms/step - loss: 0.3390 - accuracy: 0.8871 - val_loss: 2.1031 - val_accuracy: 0.6306\n",
            "Epoch 11/50\n",
            "313/313 [==============================] - 58s 185ms/step - loss: 0.2818 - accuracy: 0.9085 - val_loss: 2.1084 - val_accuracy: 0.5979\n",
            "Epoch 12/50\n",
            "313/313 [==============================] - 59s 187ms/step - loss: 0.2485 - accuracy: 0.9193 - val_loss: 2.5432 - val_accuracy: 0.6134\n",
            "Epoch 13/50\n",
            "313/313 [==============================] - 57s 182ms/step - loss: 0.2233 - accuracy: 0.9294 - val_loss: 2.4053 - val_accuracy: 0.6109\n",
            "Epoch 14/50\n",
            "313/313 [==============================] - 60s 192ms/step - loss: 0.2000 - accuracy: 0.9383 - val_loss: 2.7826 - val_accuracy: 0.6101\n",
            "Epoch 15/50\n",
            "313/313 [==============================] - 57s 182ms/step - loss: 0.1837 - accuracy: 0.9449 - val_loss: 3.1766 - val_accuracy: 0.6268\n",
            "Epoch 16/50\n",
            "313/313 [==============================] - 60s 191ms/step - loss: 0.1765 - accuracy: 0.9489 - val_loss: 3.3033 - val_accuracy: 0.6186\n",
            "Epoch 17/50\n",
            "313/313 [==============================] - 59s 188ms/step - loss: 0.1905 - accuracy: 0.9487 - val_loss: 3.2610 - val_accuracy: 0.6096\n",
            "Epoch 18/50\n",
            "313/313 [==============================] - 59s 189ms/step - loss: 0.1774 - accuracy: 0.9520 - val_loss: 3.5718 - val_accuracy: 0.5898\n",
            "Epoch 19/50\n",
            "313/313 [==============================] - 60s 192ms/step - loss: 0.1780 - accuracy: 0.9524 - val_loss: 3.4923 - val_accuracy: 0.6316\n",
            "Epoch 20/50\n",
            "313/313 [==============================] - 59s 188ms/step - loss: 0.1656 - accuracy: 0.9563 - val_loss: 3.9958 - val_accuracy: 0.5969\n",
            "Epoch 21/50\n",
            "313/313 [==============================] - 60s 192ms/step - loss: 0.1612 - accuracy: 0.9594 - val_loss: 4.3001 - val_accuracy: 0.6115\n",
            "Epoch 22/50\n",
            "313/313 [==============================] - 59s 187ms/step - loss: 0.1606 - accuracy: 0.9610 - val_loss: 4.7220 - val_accuracy: 0.6289\n",
            "Epoch 23/50\n",
            "313/313 [==============================] - 58s 185ms/step - loss: 0.1612 - accuracy: 0.9619 - val_loss: 4.5099 - val_accuracy: 0.6197\n",
            "Epoch 24/50\n",
            "313/313 [==============================] - 58s 187ms/step - loss: 0.1615 - accuracy: 0.9628 - val_loss: 4.7031 - val_accuracy: 0.6341\n",
            "Epoch 25/50\n",
            "313/313 [==============================] - 58s 185ms/step - loss: 0.1580 - accuracy: 0.9645 - val_loss: 5.2363 - val_accuracy: 0.6282\n",
            "Epoch 26/50\n",
            "313/313 [==============================] - 60s 191ms/step - loss: 0.1490 - accuracy: 0.9660 - val_loss: 5.1318 - val_accuracy: 0.6355\n",
            "Epoch 27/50\n",
            "313/313 [==============================] - 64s 204ms/step - loss: 0.1468 - accuracy: 0.9684 - val_loss: 5.1646 - val_accuracy: 0.6263\n",
            "Epoch 28/50\n",
            "313/313 [==============================] - 63s 201ms/step - loss: 0.1492 - accuracy: 0.9678 - val_loss: 5.1833 - val_accuracy: 0.6267\n",
            "Epoch 29/50\n",
            "313/313 [==============================] - 64s 206ms/step - loss: 0.1513 - accuracy: 0.9691 - val_loss: 6.0441 - val_accuracy: 0.6231\n",
            "Epoch 30/50\n",
            "313/313 [==============================] - 61s 195ms/step - loss: 0.1594 - accuracy: 0.9684 - val_loss: 6.3806 - val_accuracy: 0.6380\n",
            "Epoch 31/50\n",
            "313/313 [==============================] - 67s 214ms/step - loss: 0.1501 - accuracy: 0.9699 - val_loss: 5.6522 - val_accuracy: 0.6184\n",
            "Epoch 32/50\n",
            "313/313 [==============================] - 62s 198ms/step - loss: 0.1478 - accuracy: 0.9710 - val_loss: 5.6746 - val_accuracy: 0.6164\n",
            "Epoch 33/50\n",
            "313/313 [==============================] - 61s 196ms/step - loss: 0.1420 - accuracy: 0.9721 - val_loss: 8.0269 - val_accuracy: 0.6049\n",
            "Epoch 34/50\n",
            "313/313 [==============================] - 61s 195ms/step - loss: 0.1537 - accuracy: 0.9722 - val_loss: 7.4801 - val_accuracy: 0.6166\n",
            "Epoch 35/50\n",
            "313/313 [==============================] - 61s 195ms/step - loss: 0.1485 - accuracy: 0.9737 - val_loss: 6.9478 - val_accuracy: 0.6211\n",
            "Epoch 36/50\n",
            "313/313 [==============================] - 64s 205ms/step - loss: 0.1572 - accuracy: 0.9719 - val_loss: 7.3510 - val_accuracy: 0.6270\n",
            "Epoch 37/50\n",
            "313/313 [==============================] - 61s 195ms/step - loss: 0.1592 - accuracy: 0.9722 - val_loss: 7.5430 - val_accuracy: 0.6358\n",
            "Epoch 38/50\n",
            "313/313 [==============================] - 60s 192ms/step - loss: 0.1546 - accuracy: 0.9738 - val_loss: 7.0036 - val_accuracy: 0.6097\n",
            "Epoch 39/50\n",
            "313/313 [==============================] - 62s 198ms/step - loss: 0.1575 - accuracy: 0.9729 - val_loss: 7.0515 - val_accuracy: 0.6076\n",
            "Epoch 40/50\n",
            "313/313 [==============================] - 63s 201ms/step - loss: 0.1525 - accuracy: 0.9754 - val_loss: 6.9226 - val_accuracy: 0.6118\n",
            "Epoch 41/50\n",
            "313/313 [==============================] - 63s 201ms/step - loss: 0.1671 - accuracy: 0.9739 - val_loss: 8.0032 - val_accuracy: 0.6254\n",
            "Epoch 42/50\n",
            "313/313 [==============================] - 62s 197ms/step - loss: 0.1495 - accuracy: 0.9752 - val_loss: 8.4661 - val_accuracy: 0.6362\n",
            "Epoch 43/50\n",
            "313/313 [==============================] - 60s 192ms/step - loss: 0.1625 - accuracy: 0.9758 - val_loss: 8.7241 - val_accuracy: 0.6325\n",
            "Epoch 44/50\n",
            "313/313 [==============================] - 62s 199ms/step - loss: 0.1609 - accuracy: 0.9765 - val_loss: 10.4472 - val_accuracy: 0.6014\n",
            "Epoch 45/50\n",
            "313/313 [==============================] - 62s 199ms/step - loss: 0.1600 - accuracy: 0.9766 - val_loss: 8.4522 - val_accuracy: 0.6250\n",
            "Epoch 46/50\n",
            "313/313 [==============================] - 62s 197ms/step - loss: 0.1571 - accuracy: 0.9772 - val_loss: 9.4037 - val_accuracy: 0.6213\n",
            "Epoch 47/50\n",
            "313/313 [==============================] - 63s 200ms/step - loss: 0.1636 - accuracy: 0.9769 - val_loss: 9.7843 - val_accuracy: 0.6337\n",
            "Epoch 48/50\n",
            "313/313 [==============================] - 61s 194ms/step - loss: 0.1503 - accuracy: 0.9795 - val_loss: 9.3860 - val_accuracy: 0.6210\n",
            "Epoch 49/50\n",
            "313/313 [==============================] - 62s 200ms/step - loss: 0.1656 - accuracy: 0.9779 - val_loss: 9.1358 - val_accuracy: 0.6218\n",
            "Epoch 50/50\n",
            "313/313 [==============================] - 61s 196ms/step - loss: 0.1609 - accuracy: 0.9780 - val_loss: 10.5223 - val_accuracy: 0.6380\n"
          ]
        }
      ],
      "source": [
        "# Train the model and store model parameters/loss values\n",
        "history = model.fit(x_tr, y_tr, batch_size=128, epochs=50, validation_data=(x_val, y_val))\n"
      ]
    },
    {
      "cell_type": "markdown",
      "metadata": {
        "id": "ToXUpGcYAngz"
      },
      "source": [
        "## 3. Plot the training and validation loss curve versus epochs. (5 points)"
      ]
    },
    {
      "cell_type": "code",
      "execution_count": null,
      "metadata": {
        "id": "upMsM4enAngz",
        "colab": {
          "base_uri": "https://localhost:8080/",
          "height": 472
        },
        "outputId": "17f68dd5-aaef-4c9d-ee0e-7cfdb504d4be"
      },
      "outputs": [
        {
          "output_type": "display_data",
          "data": {
            "text/plain": [
              "<Figure size 640x480 with 1 Axes>"
            ],
            "image/png": "[encoded data removed]"
          },
          "metadata": {}
        }
      ],
      "source": [
        "# Plot the loss curve\n",
        "import matplotlib.pyplot as plt\n",
        "%matplotlib inline\n",
        "\n",
        "epochs = range(50)\n",
        "train_acc = history.history['accuracy']\n",
        "valid_acc = history.history['val_accuracy']\n",
        "plt.plot(epochs, train_acc, 'bo', label=\"Training Accuracy\")\n",
        "plt.plot(epochs, valid_acc, 'r', label=\"Validation Accuracy\")\n",
        "plt.xlabel('Epochs')\n",
        "plt.ylabel('Accuracy')\n",
        "plt.legend()\n",
        "plt.title(\"Model 1\")\n",
        "plt.show()"
      ]
    },
    {
      "cell_type": "markdown",
      "metadata": {
        "id": "Qg1gALCXAng0"
      },
      "source": [
        "## 4. Train (again) and evaluate the model (5 points)\n",
        "\n",
        "- To this end, you have found the \"best\" hyper-parameters.\n",
        "- Now, fix the hyper-parameters and train the network on the entire training set (all the 50K training samples)\n",
        "- Evaluate your model on the test set."
      ]
    },
    {
      "cell_type": "markdown",
      "metadata": {
        "id": "StG8bvzpAng0"
      },
      "source": [
        "### Train the model on the entire training set\n",
        "\n",
        "Why? Previously, you used 40K samples for training; you wasted 10K samples for the sake of hyper-parameter tuning. Now you already know the hyper-parameters, so why not using all the 50K samples for training?"
      ]
    },
    {
      "cell_type": "code",
      "execution_count": null,
      "metadata": {
        "id": "eclgf-sXAng0",
        "colab": {
          "base_uri": "https://localhost:8080/"
        },
        "outputId": "42cfb1d6-9ae8-4f80-f4a9-395f1067807a"
      },
      "outputs": [
        {
          "output_type": "stream",
          "name": "stderr",
          "text": [
            "WARNING:absl:`lr` is deprecated in Keras optimizer, please use `learning_rate` or use the legacy optimizer, e.g.,tf.keras.optimizers.legacy.RMSprop.\n"
          ]
        }
      ],
      "source": [
        "#<Compile your model again (using the same hyper-parameters you tuned above)>\n",
        "# Define model optimizer and loss function\n",
        "from keras import optimizers\n",
        "\n",
        "model.compile(optimizers.RMSprop(lr=0.0001),\n",
        "              loss='categorical_crossentropy',\n",
        "              metrics=['accuracy'])"
      ]
    },
    {
      "cell_type": "code",
      "source": [],
      "metadata": {
        "id": "SWoOederiYLH"
      },
      "execution_count": null,
      "outputs": []
    },
    {
      "cell_type": "code",
      "execution_count": null,
      "metadata": {
        "id": "CiufFMRKAng0",
        "colab": {
          "base_uri": "https://localhost:8080/"
        },
        "outputId": "16d23f2b-ec35-4bfa-b192-b0332fad486c"
      },
      "outputs": [
        {
          "output_type": "stream",
          "name": "stdout",
          "text": [
            "Epoch 1/50\n",
            "391/391 [==============================] - 71s 180ms/step - loss: 1.2323 - accuracy: 0.8211\n",
            "Epoch 2/50\n",
            "391/391 [==============================] - 70s 179ms/step - loss: 0.6468 - accuracy: 0.8704\n",
            "Epoch 3/50\n",
            "391/391 [==============================] - 71s 182ms/step - loss: 0.4532 - accuracy: 0.9015\n",
            "Epoch 4/50\n",
            "391/391 [==============================] - 71s 182ms/step - loss: 0.3666 - accuracy: 0.9188\n",
            "Epoch 5/50\n",
            "391/391 [==============================] - 71s 181ms/step - loss: 0.2977 - accuracy: 0.9314\n",
            "Epoch 6/50\n",
            "391/391 [==============================] - 70s 179ms/step - loss: 0.2574 - accuracy: 0.9397\n",
            "Epoch 7/50\n",
            "391/391 [==============================] - 71s 182ms/step - loss: 0.2393 - accuracy: 0.9469\n",
            "Epoch 8/50\n",
            "391/391 [==============================] - 71s 182ms/step - loss: 0.2341 - accuracy: 0.9503\n",
            "Epoch 9/50\n",
            "391/391 [==============================] - 71s 182ms/step - loss: 0.2111 - accuracy: 0.9557\n",
            "Epoch 10/50\n",
            "391/391 [==============================] - 71s 181ms/step - loss: 0.1960 - accuracy: 0.9591\n",
            "Epoch 11/50\n",
            "391/391 [==============================] - 71s 182ms/step - loss: 0.1882 - accuracy: 0.9618\n",
            "Epoch 12/50\n",
            "391/391 [==============================] - 70s 180ms/step - loss: 0.1977 - accuracy: 0.9616\n",
            "Epoch 13/50\n",
            "391/391 [==============================] - 72s 184ms/step - loss: 0.1864 - accuracy: 0.9644\n",
            "Epoch 14/50\n",
            "391/391 [==============================] - 70s 179ms/step - loss: 0.1772 - accuracy: 0.9670\n",
            "Epoch 15/50\n",
            "391/391 [==============================] - 72s 185ms/step - loss: 0.1823 - accuracy: 0.9674\n",
            "Epoch 16/50\n",
            "391/391 [==============================] - 72s 185ms/step - loss: 0.1964 - accuracy: 0.9668\n",
            "Epoch 17/50\n",
            "391/391 [==============================] - 73s 187ms/step - loss: 0.1858 - accuracy: 0.9683\n",
            "Epoch 18/50\n",
            "391/391 [==============================] - 70s 178ms/step - loss: 0.1805 - accuracy: 0.9703\n",
            "Epoch 19/50\n",
            "391/391 [==============================] - 72s 183ms/step - loss: 0.1772 - accuracy: 0.9716\n",
            "Epoch 20/50\n",
            "391/391 [==============================] - 72s 184ms/step - loss: 0.1634 - accuracy: 0.9738\n",
            "Epoch 21/50\n",
            "391/391 [==============================] - 71s 182ms/step - loss: 0.1767 - accuracy: 0.9730\n",
            "Epoch 22/50\n",
            "391/391 [==============================] - 72s 183ms/step - loss: 0.1765 - accuracy: 0.9736\n",
            "Epoch 23/50\n",
            "391/391 [==============================] - 71s 181ms/step - loss: 0.1731 - accuracy: 0.9744\n",
            "Epoch 24/50\n",
            "391/391 [==============================] - 71s 181ms/step - loss: 0.1924 - accuracy: 0.9735\n",
            "Epoch 25/50\n",
            "391/391 [==============================] - 71s 182ms/step - loss: 0.1955 - accuracy: 0.9725\n",
            "Epoch 26/50\n",
            "391/391 [==============================] - 71s 181ms/step - loss: 0.1840 - accuracy: 0.9761\n",
            "Epoch 27/50\n",
            "391/391 [==============================] - 71s 181ms/step - loss: 0.1640 - accuracy: 0.9775\n",
            "Epoch 28/50\n",
            "391/391 [==============================] - 70s 180ms/step - loss: 0.1713 - accuracy: 0.9772\n",
            "Epoch 29/50\n",
            "391/391 [==============================] - 71s 182ms/step - loss: 0.1683 - accuracy: 0.9776\n",
            "Epoch 30/50\n",
            "391/391 [==============================] - 71s 182ms/step - loss: 0.1725 - accuracy: 0.9775\n",
            "Epoch 31/50\n",
            "391/391 [==============================] - 69s 176ms/step - loss: 0.1621 - accuracy: 0.9778\n",
            "Epoch 32/50\n",
            "391/391 [==============================] - 71s 183ms/step - loss: 0.1567 - accuracy: 0.9800\n",
            "Epoch 33/50\n",
            "391/391 [==============================] - 71s 181ms/step - loss: 0.1749 - accuracy: 0.9782\n",
            "Epoch 34/50\n",
            "391/391 [==============================] - 69s 177ms/step - loss: 0.1667 - accuracy: 0.9793\n",
            "Epoch 35/50\n",
            "391/391 [==============================] - 70s 180ms/step - loss: 0.1679 - accuracy: 0.9796\n",
            "Epoch 36/50\n",
            "391/391 [==============================] - 71s 182ms/step - loss: 0.1803 - accuracy: 0.9794\n",
            "Epoch 37/50\n",
            "391/391 [==============================] - 71s 182ms/step - loss: 0.1720 - accuracy: 0.9795\n",
            "Epoch 38/50\n",
            "391/391 [==============================] - 71s 182ms/step - loss: 0.1778 - accuracy: 0.9805\n",
            "Epoch 39/50\n",
            "391/391 [==============================] - 71s 181ms/step - loss: 0.1736 - accuracy: 0.9807\n",
            "Epoch 40/50\n",
            "391/391 [==============================] - 71s 181ms/step - loss: 0.1584 - accuracy: 0.9816\n",
            "Epoch 41/50\n",
            "391/391 [==============================] - 72s 183ms/step - loss: 0.1716 - accuracy: 0.9814\n",
            "Epoch 42/50\n",
            "391/391 [==============================] - 70s 179ms/step - loss: 0.1778 - accuracy: 0.9815\n",
            "Epoch 43/50\n",
            "391/391 [==============================] - 72s 185ms/step - loss: 0.1627 - accuracy: 0.9823\n",
            "Epoch 44/50\n",
            "391/391 [==============================] - 70s 178ms/step - loss: 0.1847 - accuracy: 0.9825\n",
            "Epoch 45/50\n",
            "391/391 [==============================] - 72s 184ms/step - loss: 0.1794 - accuracy: 0.9813\n",
            "Epoch 46/50\n",
            "391/391 [==============================] - 70s 180ms/step - loss: 0.1641 - accuracy: 0.9833\n",
            "Epoch 47/50\n",
            "391/391 [==============================] - 72s 183ms/step - loss: 0.1724 - accuracy: 0.9828\n",
            "Epoch 48/50\n",
            "391/391 [==============================] - 70s 180ms/step - loss: 0.1736 - accuracy: 0.9838\n",
            "Epoch 49/50\n",
            "391/391 [==============================] - 71s 183ms/step - loss: 0.1899 - accuracy: 0.9823\n",
            "Epoch 50/50\n",
            "391/391 [==============================] - 71s 182ms/step - loss: 0.1784 - accuracy: 0.9837\n"
          ]
        }
      ],
      "source": [
        "#<Train your model on the entire training set (50K samples)>\n",
        "\n",
        "history1 = model.fit(x_train, y_train_vec, batch_size=128, epochs=50)"
      ]
    },
    {
      "cell_type": "code",
      "source": [
        "plt.clf()\n",
        "epochs = range(50)\n",
        "train_acc = history1.history['accuracy']\n",
        "plt.plot(epochs, train_acc, 'bo', label=\"Training Accuracy\")\n",
        "plt.xlabel('Epochs')\n",
        "plt.ylabel('Accuracy')\n",
        "plt.legend()\n",
        "plt.title(\"Model 2\")\n",
        "plt.show()"
      ],
      "metadata": {
        "colab": {
          "base_uri": "https://localhost:8080/",
          "height": 472
        },
        "id": "DlZWRU9IQXMF",
        "outputId": "10e8d6a7-94c0-446a-8a93-3bad77c09597"
      },
      "execution_count": null,
      "outputs": [
        {
          "output_type": "display_data",
          "data": {
            "text/plain": [
              "<Figure size 640x480 with 1 Axes>"
            ],
            "image/png": "[encoded data removed]"
          },
          "metadata": {}
        }
      ]
    },
    {
      "cell_type": "markdown",
      "metadata": {
        "id": "QEcx_qFdAng0"
      },
      "source": [
        "## 5. Evaluate the model on the test set (5 points)\n",
        "\n",
        "Do NOT used the test set until now. Make sure that your model parameters and hyper-parameters are independent of the test set."
      ]
    },
    {
      "cell_type": "code",
      "execution_count": null,
      "metadata": {
        "id": "n6yBcCM9Ang0",
        "colab": {
          "base_uri": "https://localhost:8080/"
        },
        "outputId": "88a626dd-0fd0-40d3-ea85-4375310b079c"
      },
      "outputs": [
        {
          "output_type": "stream",
          "name": "stdout",
          "text": [
            "313/313 [==============================] - 5s 16ms/step - loss: 16.7388 - accuracy: 0.6407\n",
            "loss:  16.738849639892578\n",
            "accuracy:  0.6406999826431274\n"
          ]
        }
      ],
      "source": [
        "# Evaluate your model performance (testing accuracy) on testing data.\n",
        "loss_and_acc = model.evaluate(x_test, y_test_vec)\n",
        "print(\"loss: \", str(loss_and_acc[0]))\n",
        "print(\"accuracy: \", str(loss_and_acc[1]))"
      ]
    },
    {
      "cell_type": "markdown",
      "metadata": {
        "id": "qaN2pLWcAng0"
      },
      "source": [
        "## 6. Building model with new structure (25 points)\n",
        "- In this section, you can build your model with adding new layers (e.g, BN layer or dropout layer, ...)\n",
        "- If you want to regularize a ```Conv/Dense layer```, you should place a ```Dropout layer``` before the ```Conv/Dense layer```.\n",
        "- You can try to compare their loss curve and testing accuracy and analyze your findings.\n",
        "- You need to try at lease two different structures."
      ]
    },
    {
      "cell_type": "code",
      "execution_count": null,
      "metadata": {
        "id": "2aAfyRr-Ang0",
        "colab": {
          "base_uri": "https://localhost:8080/"
        },
        "outputId": "756e36ff-553d-4ba6-908f-dc1094da445b"
      },
      "outputs": [
        {
          "output_type": "stream",
          "name": "stdout",
          "text": [
            "Model: \"sequential_2\"\n",
            "_________________________________________________________________\n",
            " Layer (type)                Output Shape              Param #   \n",
            "=================================================================\n",
            " conv2d_4 (Conv2D)           (None, 30, 30, 32)        896       \n",
            "                                                                 \n",
            " max_pooling2d_4 (MaxPoolin  (None, 15, 15, 32)        0         \n",
            " g2D)                                                            \n",
            "                                                                 \n",
            " conv2d_5 (Conv2D)           (None, 12, 12, 64)        32832     \n",
            "                                                                 \n",
            " max_pooling2d_5 (MaxPoolin  (None, 6, 6, 64)          0         \n",
            " g2D)                                                            \n",
            "                                                                 \n",
            " flatten_2 (Flatten)         (None, 2304)              0         \n",
            "                                                                 \n",
            " dropout (Dropout)           (None, 2304)              0         \n",
            "                                                                 \n",
            " dense_4 (Dense)             (None, 256)               590080    \n",
            "                                                                 \n",
            " dense_5 (Dense)             (None, 10)                2570      \n",
            "                                                                 \n",
            "=================================================================\n",
            "Total params: 626378 (2.39 MB)\n",
            "Trainable params: 626378 (2.39 MB)\n",
            "Non-trainable params: 0 (0.00 Byte)\n",
            "_________________________________________________________________\n"
          ]
        }
      ],
      "source": [
        "from keras.models import Sequential\n",
        "from keras.layers import Conv2D, MaxPooling2D, Flatten, Dense, Dropout\n",
        "from keras.preprocessing.image import ImageDataGenerator\n",
        "\n",
        "model3 = Sequential()\n",
        "model3.add(Conv2D(32, (3,3), activation='relu', input_shape=(32,32,3)))\n",
        "model3.add(MaxPooling2D((2,2)))\n",
        "model3.add(Conv2D(64, (4,4), activation='relu', input_shape=(15,15,3)))\n",
        "model3.add(MaxPooling2D((2,2)))\n",
        "model3.add(Flatten())\n",
        "model3.add(Dropout(0.5))\n",
        "model3.add(Dense(256, activation='relu'))\n",
        "model3.add(Dense(10, activation='softmax'))\n",
        "\n",
        "model3.summary()"
      ]
    },
    {
      "cell_type": "code",
      "source": [
        "model3.compile(optimizers.RMSprop(lr=0.0001),\n",
        "              loss='categorical_crossentropy',\n",
        "              metrics=['accuracy'])"
      ],
      "metadata": {
        "colab": {
          "base_uri": "https://localhost:8080/"
        },
        "id": "IKLq3Nq-2vQL",
        "outputId": "ac87c7b4-a3d9-4828-fb71-cf80a563200d"
      },
      "execution_count": null,
      "outputs": [
        {
          "output_type": "stream",
          "name": "stderr",
          "text": [
            "WARNING:absl:`lr` is deprecated in Keras optimizer, please use `learning_rate` or use the legacy optimizer, e.g.,tf.keras.optimizers.legacy.RMSprop.\n"
          ]
        }
      ]
    },
    {
      "cell_type": "code",
      "source": [
        "history3 = model3.fit(x_tr,\n",
        "                     y_tr,\n",
        "                     batch_size=128,\n",
        "                     epochs=50,\n",
        "                     validation_data=(x_val, y_val))\n"
      ],
      "metadata": {
        "colab": {
          "base_uri": "https://localhost:8080/"
        },
        "id": "dO6P8HvV5cQL",
        "outputId": "68b6cb34-1707-4a82-fd0d-e2d06cde1e8f"
      },
      "execution_count": null,
      "outputs": [
        {
          "output_type": "stream",
          "name": "stdout",
          "text": [
            "Epoch 1/50\n",
            "313/313 [==============================] - 68s 214ms/step - loss: 3.2198 - accuracy: 0.1281 - val_loss: 2.2955 - val_accuracy: 0.1171\n",
            "Epoch 2/50\n",
            "313/313 [==============================] - 65s 209ms/step - loss: 2.3032 - accuracy: 0.1713 - val_loss: 3.1923 - val_accuracy: 0.1400\n",
            "Epoch 3/50\n",
            "313/313 [==============================] - 62s 199ms/step - loss: 2.0913 - accuracy: 0.2800 - val_loss: 1.7746 - val_accuracy: 0.3836\n",
            "Epoch 4/50\n",
            "313/313 [==============================] - 62s 199ms/step - loss: 1.6801 - accuracy: 0.4020 - val_loss: 1.4456 - val_accuracy: 0.5077\n",
            "Epoch 5/50\n",
            "313/313 [==============================] - 59s 190ms/step - loss: 1.4690 - accuracy: 0.4829 - val_loss: 1.4241 - val_accuracy: 0.4991\n",
            "Epoch 6/50\n",
            "313/313 [==============================] - 62s 198ms/step - loss: 1.3499 - accuracy: 0.5338 - val_loss: 1.2354 - val_accuracy: 0.5741\n",
            "Epoch 7/50\n",
            "313/313 [==============================] - 61s 196ms/step - loss: 1.2570 - accuracy: 0.5684 - val_loss: 1.1449 - val_accuracy: 0.6003\n",
            "Epoch 8/50\n",
            "313/313 [==============================] - 59s 187ms/step - loss: 1.1857 - accuracy: 0.5964 - val_loss: 1.2214 - val_accuracy: 0.5673\n",
            "Epoch 9/50\n",
            "313/313 [==============================] - 59s 188ms/step - loss: 1.1368 - accuracy: 0.6130 - val_loss: 1.0734 - val_accuracy: 0.6437\n",
            "Epoch 10/50\n",
            "313/313 [==============================] - 59s 189ms/step - loss: 1.0906 - accuracy: 0.6304 - val_loss: 1.0061 - val_accuracy: 0.6553\n",
            "Epoch 11/50\n",
            "313/313 [==============================] - 60s 190ms/step - loss: 1.0533 - accuracy: 0.6442 - val_loss: 1.0781 - val_accuracy: 0.6368\n",
            "Epoch 12/50\n",
            "313/313 [==============================] - 59s 187ms/step - loss: 1.0112 - accuracy: 0.6573 - val_loss: 1.1718 - val_accuracy: 0.5844\n",
            "Epoch 13/50\n",
            "313/313 [==============================] - 58s 184ms/step - loss: 0.9857 - accuracy: 0.6647 - val_loss: 1.1833 - val_accuracy: 0.6046\n",
            "Epoch 14/50\n",
            "313/313 [==============================] - 58s 185ms/step - loss: 0.9624 - accuracy: 0.6742 - val_loss: 0.9934 - val_accuracy: 0.6746\n",
            "Epoch 15/50\n",
            "313/313 [==============================] - 57s 181ms/step - loss: 0.9306 - accuracy: 0.6841 - val_loss: 0.9173 - val_accuracy: 0.6896\n",
            "Epoch 16/50\n",
            "313/313 [==============================] - 59s 188ms/step - loss: 0.8965 - accuracy: 0.6976 - val_loss: 1.0834 - val_accuracy: 0.6323\n",
            "Epoch 17/50\n",
            "313/313 [==============================] - 57s 181ms/step - loss: 0.8822 - accuracy: 0.7022 - val_loss: 1.1623 - val_accuracy: 0.5929\n",
            "Epoch 18/50\n",
            "313/313 [==============================] - 58s 186ms/step - loss: 0.8569 - accuracy: 0.7115 - val_loss: 1.0521 - val_accuracy: 0.6476\n",
            "Epoch 19/50\n",
            "313/313 [==============================] - 58s 185ms/step - loss: 0.8491 - accuracy: 0.7164 - val_loss: 1.0308 - val_accuracy: 0.6548\n",
            "Epoch 20/50\n",
            "313/313 [==============================] - 58s 187ms/step - loss: 0.8260 - accuracy: 0.7246 - val_loss: 0.9982 - val_accuracy: 0.6651\n",
            "Epoch 21/50\n",
            "313/313 [==============================] - 57s 181ms/step - loss: 0.8135 - accuracy: 0.7306 - val_loss: 0.9995 - val_accuracy: 0.6882\n",
            "Epoch 22/50\n",
            "313/313 [==============================] - 59s 189ms/step - loss: 0.7949 - accuracy: 0.7358 - val_loss: 1.2278 - val_accuracy: 0.6271\n",
            "Epoch 23/50\n",
            "313/313 [==============================] - 57s 182ms/step - loss: 0.7788 - accuracy: 0.7425 - val_loss: 1.0193 - val_accuracy: 0.6461\n",
            "Epoch 24/50\n",
            "313/313 [==============================] - 59s 187ms/step - loss: 0.7682 - accuracy: 0.7448 - val_loss: 1.2111 - val_accuracy: 0.5882\n",
            "Epoch 25/50\n",
            "313/313 [==============================] - 65s 208ms/step - loss: 0.7576 - accuracy: 0.7500 - val_loss: 0.9459 - val_accuracy: 0.6932\n",
            "Epoch 26/50\n",
            "313/313 [==============================] - 59s 187ms/step - loss: 0.7478 - accuracy: 0.7540 - val_loss: 1.0545 - val_accuracy: 0.6630\n",
            "Epoch 27/50\n",
            "313/313 [==============================] - 59s 189ms/step - loss: 0.7343 - accuracy: 0.7599 - val_loss: 0.9543 - val_accuracy: 0.6875\n",
            "Epoch 28/50\n",
            "313/313 [==============================] - 57s 181ms/step - loss: 0.7284 - accuracy: 0.7623 - val_loss: 0.9621 - val_accuracy: 0.6874\n",
            "Epoch 29/50\n",
            "313/313 [==============================] - 59s 188ms/step - loss: 0.7156 - accuracy: 0.7638 - val_loss: 1.2735 - val_accuracy: 0.6093\n",
            "Epoch 30/50\n",
            "313/313 [==============================] - 60s 191ms/step - loss: 0.7091 - accuracy: 0.7679 - val_loss: 1.0042 - val_accuracy: 0.6662\n",
            "Epoch 31/50\n",
            "313/313 [==============================] - 58s 185ms/step - loss: 0.7062 - accuracy: 0.7709 - val_loss: 1.0467 - val_accuracy: 0.6953\n",
            "Epoch 32/50\n",
            "313/313 [==============================] - 59s 188ms/step - loss: 0.6968 - accuracy: 0.7756 - val_loss: 1.0672 - val_accuracy: 0.6723\n",
            "Epoch 33/50\n",
            "313/313 [==============================] - 61s 194ms/step - loss: 0.6892 - accuracy: 0.7782 - val_loss: 1.0742 - val_accuracy: 0.6801\n",
            "Epoch 34/50\n",
            "313/313 [==============================] - 59s 188ms/step - loss: 0.6761 - accuracy: 0.7835 - val_loss: 1.0275 - val_accuracy: 0.6840\n",
            "Epoch 35/50\n",
            "313/313 [==============================] - 59s 188ms/step - loss: 0.6755 - accuracy: 0.7839 - val_loss: 1.0976 - val_accuracy: 0.6775\n",
            "Epoch 36/50\n",
            "313/313 [==============================] - 60s 193ms/step - loss: 0.6734 - accuracy: 0.7861 - val_loss: 1.0552 - val_accuracy: 0.7095\n",
            "Epoch 37/50\n",
            "313/313 [==============================] - 57s 183ms/step - loss: 0.6579 - accuracy: 0.7883 - val_loss: 1.0615 - val_accuracy: 0.7064\n",
            "Epoch 38/50\n",
            "313/313 [==============================] - 59s 188ms/step - loss: 0.6675 - accuracy: 0.7879 - val_loss: 1.0629 - val_accuracy: 0.6910\n",
            "Epoch 39/50\n",
            "313/313 [==============================] - 58s 187ms/step - loss: 0.6580 - accuracy: 0.7894 - val_loss: 1.1068 - val_accuracy: 0.6413\n",
            "Epoch 40/50\n",
            "313/313 [==============================] - 58s 185ms/step - loss: 0.6511 - accuracy: 0.7911 - val_loss: 1.0351 - val_accuracy: 0.6932\n",
            "Epoch 41/50\n",
            "313/313 [==============================] - 59s 190ms/step - loss: 0.6349 - accuracy: 0.7987 - val_loss: 1.0227 - val_accuracy: 0.7117\n",
            "Epoch 42/50\n",
            "313/313 [==============================] - 60s 192ms/step - loss: 0.6294 - accuracy: 0.7977 - val_loss: 1.1111 - val_accuracy: 0.6620\n",
            "Epoch 43/50\n",
            "313/313 [==============================] - 62s 197ms/step - loss: 0.6402 - accuracy: 0.7976 - val_loss: 1.0737 - val_accuracy: 0.6665\n",
            "Epoch 44/50\n",
            "313/313 [==============================] - 58s 185ms/step - loss: 0.6293 - accuracy: 0.8008 - val_loss: 1.1653 - val_accuracy: 0.6378\n",
            "Epoch 45/50\n",
            "313/313 [==============================] - 60s 191ms/step - loss: 0.6282 - accuracy: 0.8007 - val_loss: 1.2838 - val_accuracy: 0.6595\n",
            "Epoch 46/50\n",
            "313/313 [==============================] - 59s 188ms/step - loss: 0.6316 - accuracy: 0.8023 - val_loss: 1.0254 - val_accuracy: 0.6953\n",
            "Epoch 47/50\n",
            "313/313 [==============================] - 58s 185ms/step - loss: 0.6206 - accuracy: 0.8054 - val_loss: 0.9756 - val_accuracy: 0.6847\n",
            "Epoch 48/50\n",
            "313/313 [==============================] - 58s 186ms/step - loss: 0.6132 - accuracy: 0.8069 - val_loss: 1.1119 - val_accuracy: 0.7014\n",
            "Epoch 49/50\n",
            "313/313 [==============================] - 58s 187ms/step - loss: 0.6101 - accuracy: 0.8096 - val_loss: 1.2353 - val_accuracy: 0.6157\n",
            "Epoch 50/50\n",
            "313/313 [==============================] - 57s 184ms/step - loss: 0.6100 - accuracy: 0.8106 - val_loss: 1.1052 - val_accuracy: 0.6668\n"
          ]
        }
      ]
    },
    {
      "cell_type": "code",
      "source": [
        "# Plot the loss curve\n",
        "import matplotlib.pyplot as plt\n",
        "%matplotlib inline\n",
        "\n",
        "epochs = range(50)\n",
        "train_acc = history3.history['accuracy']\n",
        "valid_acc = history3.history['val_accuracy']\n",
        "plt.plot(epochs, train_acc, 'bo', label=\"Training Accuracy\")\n",
        "plt.plot(epochs, valid_acc, 'r', label=\"Validation Accuracy\")\n",
        "plt.xlabel('Epochs')\n",
        "plt.ylabel('Accuracy')\n",
        "plt.legend()\n",
        "plt.title(\"Model 3\")\n",
        "plt.show()"
      ],
      "metadata": {
        "colab": {
          "base_uri": "https://localhost:8080/",
          "height": 472
        },
        "id": "OU4wMYIuCutM",
        "outputId": "1ddfb7ce-78f8-442d-9763-a28b0e5cfb5c"
      },
      "execution_count": null,
      "outputs": [
        {
          "output_type": "display_data",
          "data": {
            "text/plain": [
              "<Figure size 640x480 with 1 Axes>"
            ],
            "image/png": "[encoded data removed]"
          },
          "metadata": {}
        }
      ]
    },
    {
      "cell_type": "code",
      "source": [
        "# Evaluate your model performance (testing accuracy) on testing data.\n",
        "loss_and_acc = model3.evaluate(x_test, y_test_vec)\n",
        "print(\"loss: \", str(loss_and_acc[0]))\n",
        "print(\"accuracy: \", str(loss_and_acc[1]))"
      ],
      "metadata": {
        "colab": {
          "base_uri": "https://localhost:8080/"
        },
        "id": "Aa80XjuN-UPP",
        "outputId": "28c2c21e-7c72-4f76-b7d2-4c5643b0ef0b"
      },
      "execution_count": null,
      "outputs": [
        {
          "output_type": "stream",
          "name": "stdout",
          "text": [
            "313/313 [==============================] - 5s 14ms/step - loss: 1.1041 - accuracy: 0.6747\n",
            "loss:  1.1041247844696045\n",
            "accuracy:  0.6747000217437744\n"
          ]
        }
      ]
    },
    {
      "cell_type": "code",
      "source": [
        "from keras.models import Sequential\n",
        "from keras.layers import Conv2D, MaxPooling2D, Flatten, Dense, Dropout\n",
        "from keras.preprocessing.image import ImageDataGenerator\n",
        "from keras import optimizers\n",
        "\n",
        "model4 = Sequential()\n",
        "model4.add(Conv2D(32, (3,3), activation='relu', input_shape=(32,32,3)))\n",
        "model4.add(MaxPooling2D((2,2)))\n",
        "model4.add(Conv2D(64, (3,3), activation='relu'))\n",
        "model4.add(MaxPooling2D((2,2)))\n",
        "model4.add(Conv2D(128, (3,3), activation='relu'))\n",
        "model4.add(MaxPooling2D((2,2)))\n",
        "model4.add(Flatten())\n",
        "model4.add(Dropout(0.5))\n",
        "model4.add(Dense(256, activation='relu'))\n",
        "model4.add(Dense(10, activation='softmax'))\n",
        "\n"
      ],
      "metadata": {
        "id": "URcIvgn-DP8U"
      },
      "execution_count": null,
      "outputs": []
    },
    {
      "cell_type": "code",
      "source": [
        "model4.compile(optimizers.Nadam(learning_rate=0.001, beta_1=0.9, beta_2=0.999),\n",
        "               loss='categorical_crossentropy',\n",
        "               metrics=['accuracy'])"
      ],
      "metadata": {
        "id": "YUE8GYaLEkJQ"
      },
      "execution_count": null,
      "outputs": []
    },
    {
      "cell_type": "code",
      "source": [
        "model4.summary()"
      ],
      "metadata": {
        "colab": {
          "base_uri": "https://localhost:8080/"
        },
        "id": "OnuTLhT2E3Lb",
        "outputId": "489f303b-ad9b-4cb9-eb13-b4c2b5dcfdb0"
      },
      "execution_count": null,
      "outputs": [
        {
          "output_type": "stream",
          "name": "stdout",
          "text": [
            "Model: \"sequential_3\"\n",
            "_________________________________________________________________\n",
            " Layer (type)                Output Shape              Param #   \n",
            "=================================================================\n",
            " conv2d_6 (Conv2D)           (None, 30, 30, 32)        896       \n",
            "                                                                 \n",
            " max_pooling2d_6 (MaxPoolin  (None, 15, 15, 32)        0         \n",
            " g2D)                                                            \n",
            "                                                                 \n",
            " conv2d_7 (Conv2D)           (None, 13, 13, 64)        18496     \n",
            "                                                                 \n",
            " max_pooling2d_7 (MaxPoolin  (None, 6, 6, 64)          0         \n",
            " g2D)                                                            \n",
            "                                                                 \n",
            " conv2d_8 (Conv2D)           (None, 4, 4, 128)         73856     \n",
            "                                                                 \n",
            " max_pooling2d_8 (MaxPoolin  (None, 2, 2, 128)         0         \n",
            " g2D)                                                            \n",
            "                                                                 \n",
            " flatten_3 (Flatten)         (None, 512)               0         \n",
            "                                                                 \n",
            " dropout_1 (Dropout)         (None, 512)               0         \n",
            "                                                                 \n",
            " dense_6 (Dense)             (None, 256)               131328    \n",
            "                                                                 \n",
            " dense_7 (Dense)             (None, 10)                2570      \n",
            "                                                                 \n",
            "=================================================================\n",
            "Total params: 227146 (887.29 KB)\n",
            "Trainable params: 227146 (887.29 KB)\n",
            "Non-trainable params: 0 (0.00 Byte)\n",
            "_________________________________________________________________\n"
          ]
        }
      ]
    },
    {
      "cell_type": "code",
      "source": [
        "x_train_more = x_train.astype('float32') / 255\n",
        "x_test_more = x_test.astype('float32') / 255\n",
        "\n",
        "# Create an instance of ImageDataGenerator for data augmentation\n",
        "datagen = ImageDataGenerator(\n",
        "    rotation_range=20,\n",
        "    width_shift_range=0.2,\n",
        "    height_shift_range=0.2,\n",
        "    shear_range=0.2,\n",
        "    zoom_range=0.2,\n",
        "    horizontal_flip=True,\n",
        "    fill_mode='nearest'\n",
        ")\n",
        "\n",
        "# Fit the ImageDataGenerator to the training data\n",
        "datagen.fit(x_train_more)\n",
        "\n",
        "\n",
        "batch_size = 32\n",
        "epochs = 50\n",
        "\n",
        "# Create the generator for training data\n",
        "train_generator = datagen.flow(x_train_more, y_train_vec, batch_size=batch_size)\n",
        "\n",
        "# Create the generator for validation data (optional)\n",
        "validation_generator = datagen.flow(x_test_more, y_test_vec, batch_size=batch_size)\n",
        "\n",
        "\n",
        "\n",
        "# Train the model using the generator\n",
        "model4.fit(\n",
        "    train_generator,\n",
        "    steps_per_epoch=len(x_train) // batch_size,\n",
        "    epochs=epochs,\n",
        "    validation_data=validation_generator,\n",
        "    validation_steps=len(x_test) // batch_size\n",
        ")"
      ],
      "metadata": {
        "colab": {
          "base_uri": "https://localhost:8080/"
        },
        "id": "RI42zZsCIY4e",
        "outputId": "89932bca-95e4-4803-c74b-dfe5f70050d3"
      },
      "execution_count": null,
      "outputs": [
        {
          "output_type": "stream",
          "name": "stdout",
          "text": [
            "Epoch 1/50\n",
            "1562/1562 [==============================] - 115s 72ms/step - loss: 1.7965 - accuracy: 0.3309 - val_loss: 1.5841 - val_accuracy: 0.4185\n",
            "Epoch 2/50\n",
            "1562/1562 [==============================] - 112s 72ms/step - loss: 1.5426 - accuracy: 0.4378 - val_loss: 1.3950 - val_accuracy: 0.4953\n",
            "Epoch 3/50\n",
            "1562/1562 [==============================] - 112s 72ms/step - loss: 1.4332 - accuracy: 0.4829 - val_loss: 1.3169 - val_accuracy: 0.5270\n",
            "Epoch 4/50\n",
            " 257/1562 [===>..........................] - ETA: 1:24 - loss: 1.3934 - accuracy: 0.4987"
          ]
        }
      ]
    },
    {
      "cell_type": "code",
      "source": [
        "# Evaluate your model performance (testing accuracy) on testing data.\n",
        "loss_and_acc = model4.evaluate(x_test, y_test_vec)\n",
        "print(\"loss: \", str(loss_and_acc[0]))\n",
        "print(\"accuracy: \", str(loss_and_acc[1]))"
      ],
      "metadata": {
        "id": "ogFnUUYnaBGL"
      },
      "execution_count": null,
      "outputs": []
    }
  ],
  "metadata": {
    "colab": {
      "provenance": []
    },
    "kernelspec": {
      "display_name": "Python 3",
      "language": "python",
      "name": "python3"
    },
    "language_info": {
      "codemirror_mode": {
        "name": "ipython",
        "version": 3
      },
      "file_extension": ".py",
      "mimetype": "text/x-python",
      "name": "python",
      "nbconvert_exporter": "python",
      "pygments_lexer": "ipython3",
      "version": "3.10.7"
    }
  },
  "nbformat": 4,
  "nbformat_minor": 0
}