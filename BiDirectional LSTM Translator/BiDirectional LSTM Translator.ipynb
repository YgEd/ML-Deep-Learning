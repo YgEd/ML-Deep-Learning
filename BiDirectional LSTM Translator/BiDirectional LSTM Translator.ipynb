{
  "cells": [
    {
      "cell_type": "markdown",
      "metadata": {
        "id": "-N8XuizLedCc"
      },
      "source": [
        "# Assignment 3: Build a seq2seq model for machine translation.\n",
        "\n",
        "### Name: Joshua Meharg\n",
        "\n",
        "### Task: Change LSTM model to Bidirectional LSTM Model and Translate English to Spanish\n",
        "\n",
        "### Due Date: Wednesday, April 17th, 11:59PM"
      ]
    },
    {
      "cell_type": "markdown",
      "metadata": {
        "id": "hpqnzXTVedCd"
      },
      "source": [
        "## 0. You will do the following:\n",
        "\n",
        "1. Read and run the code. Please make sure you have installed keras or tensorflow.Running the script on colab will speed up the training process and also prevent package loading issue.\n",
        "2. Complete the code in Section 1.1, you may fill in your data directory.\n",
        "3. Directly modify the code in Section 3. Change the current LSTM layer to a Bidirectional LSTM Model.\n",
        "4. Training your model and translate English to Spanish in Section 4.2. You could try translating other languages.\n",
        "5. Complete the code in Section 5."
      ]
    },
    {
      "cell_type": "markdown",
      "metadata": {
        "id": "kJssi6rnedCe"
      },
      "source": [
        "### Hint:\n",
        "\n",
        "To implement ```Bi-LSTM```, you will need the following code to build the encoder **in Section 3**. Do NOT use Bi-LSTM for the decoder. But there are other codes **you need to modify** to make it work."
      ]
    },
    {
      "cell_type": "code",
      "execution_count": 1,
      "metadata": {
        "id": "dglRX36aedCe"
      },
      "outputs": [],
      "source": [
        "# from keras.layers import Bidirectional, Concatenate\n",
        "\n",
        "# encoder_bilstm = Bidirectional(LSTM(latent_dim, return_state=True,\n",
        "#                                   dropout=0.5, name='encoder_lstm'))\n",
        "# _, forward_h, forward_c, backward_h, backward_c = encoder_bilstm(encoder_inputs)\n",
        "\n",
        "# state_h = Concatenate()([forward_h, backward_h])\n",
        "# state_c = Concatenate()([forward_c, backward_c])"
      ]
    },
    {
      "cell_type": "markdown",
      "metadata": {
        "id": "7-Ep4HhDedCe"
      },
      "source": [
        "## 1. Data preparation (10 points)\n",
        "\n",
        "1. Download spanish-english data from http://www.manythings.org/anki/\n",
        "2. You may try to use other languages.\n",
        "3. Unzip the .ZIP file.\n",
        "4. Put the .TXT file (e.g., \"deu.txt\") in the directory \"./Data/\".\n",
        "5. Fill in your data directory in section 1.1."
      ]
    },
    {
      "cell_type": "markdown",
      "metadata": {
        "id": "ZuzKbIFBedCe"
      },
      "source": [
        "### 1.1. Load and clean text\n"
      ]
    },
    {
      "cell_type": "code",
      "execution_count": 2,
      "metadata": {
        "id": "rcInT6gmedCf"
      },
      "outputs": [],
      "source": [
        "import re\n",
        "import string\n",
        "from unicodedata import normalize\n",
        "import numpy\n",
        "\n",
        "# load doc into memory\n",
        "def load_doc(filename):\n",
        "    # open the file as read only\n",
        "    file = open(filename, mode='rt', encoding='utf-8')\n",
        "    # read all text\n",
        "    text = file.read()\n",
        "    # close the file\n",
        "    file.close()\n",
        "    return text\n",
        "\n",
        "\n",
        "# split a loaded document into sentences\n",
        "def to_pairs(doc):\n",
        "    lines = doc.strip().split('\\n')\n",
        "    pairs = [line.split('\\t') for line in  lines]\n",
        "    return pairs\n",
        "\n",
        "def clean_data(lines):\n",
        "    cleaned = list()\n",
        "    # prepare regex for char filtering\n",
        "    re_print = re.compile('[^%s]' % re.escape(string.printable))\n",
        "    # prepare translation table for removing punctuation\n",
        "    table = str.maketrans('', '', string.punctuation)\n",
        "    for pair in lines:\n",
        "        clean_pair = list()\n",
        "        for line in pair:\n",
        "            # normalize unicode characters\n",
        "            line = normalize('NFD', line).encode('ascii', 'ignore')\n",
        "            line = line.decode('UTF-8')\n",
        "            # tokenize on white space\n",
        "            line = line.split()\n",
        "            # convert to lowercase\n",
        "            line = [word.lower() for word in line]\n",
        "            # remove punctuation from each token\n",
        "            line = [word.translate(table) for word in line]\n",
        "            # remove non-printable chars form each token\n",
        "            line = [re_print.sub('', w) for w in line]\n",
        "            # remove tokens with numbers in them\n",
        "            line = [word for word in line if word.isalpha()]\n",
        "            # store as string\n",
        "            clean_pair.append(' '.join(line))\n",
        "        cleaned.append(clean_pair)\n",
        "    return numpy.array(cleaned)"
      ]
    },
    {
      "cell_type": "markdown",
      "metadata": {
        "id": "ChJPgfZBedCf"
      },
      "source": [
        "#### Fill the following blanks:"
      ]
    },
    {
      "cell_type": "code",
      "execution_count": 3,
      "metadata": {
        "id": "pCoHNXwYedCf"
      },
      "outputs": [],
      "source": [
        "# e.g., filename = 'Data/deu.txt'\n",
        "filename = '/content/Data/spa.txt'\n",
        "\n",
        "# e.g., n_train = 20000\n",
        "n_train = 20000"
      ]
    },
    {
      "cell_type": "code",
      "execution_count": 4,
      "metadata": {
        "id": "pWqZ2Ul5edCf"
      },
      "outputs": [],
      "source": [
        "# load dataset\n",
        "doc = load_doc(filename)\n",
        "\n",
        "# split into Language1-Language2 pairs\n",
        "pairs = to_pairs(doc)\n",
        "\n",
        "# clean sentences\n",
        "clean_pairs = clean_data(pairs)[0:n_train, :]"
      ]
    },
    {
      "cell_type": "code",
      "execution_count": 5,
      "metadata": {
        "colab": {
          "base_uri": "https://localhost:8080/"
        },
        "id": "Ox-E_ypqedCf",
        "outputId": "7dad510f-da99-46c1-ebe0-ea235a08d52e"
      },
      "outputs": [
        {
          "output_type": "stream",
          "name": "stdout",
          "text": [
            "[we are here] => [estamos aqui]\n",
            "[we ate eggs] => [hemos comido huevos]\n",
            "[we ate eggs] => [comimos huevos]\n",
            "[we broke up] => [nos separamos]\n",
            "[we broke up] => [lo dejamos]\n",
            "[we broke up] => [rompimos]\n",
            "[we can help] => [podemos ayudar]\n",
            "[we can help] => [nosotros podemos ayudar]\n",
            "[we can meet] => [podemos encontrarnos]\n",
            "[we can meet] => [podemos vernos]\n"
          ]
        }
      ],
      "source": [
        "for i in range(3000, 3010):\n",
        "    print('[' + clean_pairs[i, 0] + '] => [' + clean_pairs[i, 1] + ']')"
      ]
    },
    {
      "cell_type": "code",
      "execution_count": 6,
      "metadata": {
        "colab": {
          "base_uri": "https://localhost:8080/"
        },
        "id": "JU0LP76redCf",
        "outputId": "fb3a61b1-4845-45a6-a95e-8e5c7698f373"
      },
      "outputs": [
        {
          "output_type": "stream",
          "name": "stdout",
          "text": [
            "['go' 'go' 'go' ... 'dont fall please' 'dont feed the dog'\n",
            " 'dont get it wrong']\n",
            "Length of input_texts:  (20000,)\n",
            "Length of target_texts: (20000,)\n"
          ]
        }
      ],
      "source": [
        "input_texts = clean_pairs[:, 0]\n",
        "target_texts = ['\\t' + text + '\\n' for text in clean_pairs[:, 1]]\n",
        "\n",
        "print(input_texts)\n",
        "print('Length of input_texts:  ' + str(input_texts.shape))\n",
        "print('Length of target_texts: ' + str(input_texts.shape))"
      ]
    },
    {
      "cell_type": "code",
      "execution_count": 7,
      "metadata": {
        "colab": {
          "base_uri": "https://localhost:8080/"
        },
        "id": "_dCvkueqedCf",
        "outputId": "9fd3c64b-34b9-4835-f675-eb2f487878fc"
      },
      "outputs": [
        {
          "output_type": "stream",
          "name": "stdout",
          "text": [
            "max length of input  sentences: 18\n",
            "max length of target sentences: 48\n"
          ]
        }
      ],
      "source": [
        "max_encoder_seq_length = max(len(line) for line in input_texts)\n",
        "max_decoder_seq_length = max(len(line) for line in target_texts)\n",
        "\n",
        "print('max length of input  sentences: %d' % (max_encoder_seq_length))\n",
        "print('max length of target sentences: %d' % (max_decoder_seq_length))"
      ]
    },
    {
      "cell_type": "markdown",
      "metadata": {
        "id": "yE04yw06edCf"
      },
      "source": [
        "**Remark:** To this end, you have two lists of sentences: input_texts and target_texts"
      ]
    },
    {
      "cell_type": "markdown",
      "metadata": {
        "id": "z6YdrJhTedCg"
      },
      "source": [
        "## 2. Text processing\n",
        "\n",
        "### 2.1. Convert texts to sequences\n",
        "\n",
        "- Input: A list of $n$ sentences (with max length $t$).\n",
        "- It is represented by a $n\\times t$ matrix after the tokenization and zero-padding."
      ]
    },
    {
      "cell_type": "code",
      "execution_count": 8,
      "metadata": {
        "colab": {
          "base_uri": "https://localhost:8080/"
        },
        "id": "xT3e3qEXedCg",
        "outputId": "91fc290a-3641-4280-b5eb-bf7259450fde"
      },
      "outputs": [
        {
          "output_type": "stream",
          "name": "stdout",
          "text": [
            "shape of encoder_input_seq: (20000, 18)\n",
            "shape of input_token_index: 27\n",
            "shape of decoder_input_seq: (20000, 48)\n",
            "shape of target_token_index: 29\n"
          ]
        }
      ],
      "source": [
        "from tensorflow.keras.preprocessing.text import Tokenizer\n",
        "from tensorflow.keras.preprocessing.sequence import pad_sequences\n",
        "\n",
        "# encode and pad sequences\n",
        "def text2sequences(max_len, lines):\n",
        "    tokenizer = Tokenizer(char_level=True, filters='')\n",
        "    tokenizer.fit_on_texts(lines)\n",
        "    seqs = tokenizer.texts_to_sequences(lines)\n",
        "    seqs_pad = pad_sequences(seqs, maxlen=max_len, padding='post')\n",
        "    return seqs_pad, tokenizer.word_index\n",
        "\n",
        "\n",
        "encoder_input_seq, input_token_index = text2sequences(max_encoder_seq_length,\n",
        "                                                      input_texts)\n",
        "decoder_input_seq, target_token_index = text2sequences(max_decoder_seq_length,\n",
        "                                                       target_texts)\n",
        "\n",
        "print('shape of encoder_input_seq: ' + str(encoder_input_seq.shape))\n",
        "print('shape of input_token_index: ' + str(len(input_token_index)))\n",
        "print('shape of decoder_input_seq: ' + str(decoder_input_seq.shape))\n",
        "print('shape of target_token_index: ' + str(len(target_token_index)))"
      ]
    },
    {
      "cell_type": "code",
      "execution_count": 9,
      "metadata": {
        "colab": {
          "base_uri": "https://localhost:8080/"
        },
        "id": "tcPKeQRqedCg",
        "outputId": "cf5892d8-9a67-4363-84e4-9c52cf9cbfcc"
      },
      "outputs": [
        {
          "output_type": "stream",
          "name": "stdout",
          "text": [
            "num_encoder_tokens: 28\n",
            "num_decoder_tokens: 30\n"
          ]
        }
      ],
      "source": [
        "num_encoder_tokens = len(input_token_index) + 1\n",
        "num_decoder_tokens = len(target_token_index) + 1\n",
        "\n",
        "print('num_encoder_tokens: ' + str(num_encoder_tokens))\n",
        "print('num_decoder_tokens: ' + str(num_decoder_tokens))"
      ]
    },
    {
      "cell_type": "markdown",
      "metadata": {
        "id": "dhoKzMHJedCg"
      },
      "source": [
        "**Remark:** To this end, the input language and target language texts are converted to 2 matrices.\n",
        "\n",
        "- Their number of rows are both n_train.\n",
        "- Their number of columns are respective max_encoder_seq_length and max_decoder_seq_length."
      ]
    },
    {
      "cell_type": "markdown",
      "metadata": {
        "id": "ER0xZXj0edCg"
      },
      "source": [
        "The followings print a sentence and its representation as a sequence."
      ]
    },
    {
      "cell_type": "code",
      "execution_count": 10,
      "metadata": {
        "colab": {
          "base_uri": "https://localhost:8080/",
          "height": 35
        },
        "id": "c-kHFy8fedCg",
        "outputId": "9340feac-a9b8-43a7-8e13-38032cbfcf06"
      },
      "outputs": [
        {
          "output_type": "execute_result",
          "data": {
            "text/plain": [
              "'\\tentendiste\\n'"
            ],
            "application/vnd.google.colaboratory.intrinsic+json": {
              "type": "string"
            }
          },
          "metadata": {},
          "execution_count": 10
        }
      ],
      "source": [
        "target_texts[100]"
      ]
    },
    {
      "cell_type": "code",
      "execution_count": 11,
      "metadata": {
        "colab": {
          "base_uri": "https://localhost:8080/"
        },
        "id": "A-3MdSEjedCg",
        "outputId": "7bb71829-86f5-42a0-c769-2ac337db2911"
      },
      "outputs": [
        {
          "output_type": "execute_result",
          "data": {
            "text/plain": [
              "array([ 6,  2,  9,  8,  2,  9, 15, 11,  5,  8,  2,  7,  0,  0,  0,  0,  0,\n",
              "        0,  0,  0,  0,  0,  0,  0,  0,  0,  0,  0,  0,  0,  0,  0,  0,  0,\n",
              "        0,  0,  0,  0,  0,  0,  0,  0,  0,  0,  0,  0,  0,  0],\n",
              "      dtype=int32)"
            ]
          },
          "metadata": {},
          "execution_count": 11
        }
      ],
      "source": [
        "decoder_input_seq[100, :]"
      ]
    },
    {
      "cell_type": "markdown",
      "metadata": {
        "id": "ntQXp03iedCg"
      },
      "source": [
        "## 2.2. One-hot encode\n",
        "\n",
        "- Input: A list of $n$ sentences (with max length $t$).\n",
        "- It is represented by a $n\\times t$ matrix after the tokenization and zero-padding.\n",
        "- It is represented by a $n\\times t \\times v$ tensor ($t$ is the number of unique chars) after the one-hot encoding."
      ]
    },
    {
      "cell_type": "code",
      "execution_count": 12,
      "metadata": {
        "colab": {
          "base_uri": "https://localhost:8080/"
        },
        "id": "RSg79wQZedCg",
        "outputId": "c11f39f4-67b6-48a8-869a-714148d3d0e9"
      },
      "outputs": [
        {
          "output_type": "stream",
          "name": "stdout",
          "text": [
            "(20000, 18, 28)\n",
            "(20000, 48, 30)\n"
          ]
        }
      ],
      "source": [
        "from tensorflow.keras.utils import to_categorical\n",
        "\n",
        "# one hot encode target sequence\n",
        "def onehot_encode(sequences, max_len, vocab_size):\n",
        "    n = len(sequences)\n",
        "    data = numpy.zeros((n, max_len, vocab_size))\n",
        "    for i in range(n):\n",
        "        data[i, :, :] = to_categorical(sequences[i], num_classes=vocab_size)\n",
        "    return data\n",
        "\n",
        "encoder_input_data = onehot_encode(encoder_input_seq, max_encoder_seq_length, num_encoder_tokens)\n",
        "decoder_input_data = onehot_encode(decoder_input_seq, max_decoder_seq_length, num_decoder_tokens)\n",
        "\n",
        "decoder_target_seq = numpy.zeros(decoder_input_seq.shape)\n",
        "decoder_target_seq[:, 0:-1] = decoder_input_seq[:, 1:]\n",
        "decoder_target_data = onehot_encode(decoder_target_seq,\n",
        "                                    max_decoder_seq_length,\n",
        "                                    num_decoder_tokens)\n",
        "\n",
        "print(encoder_input_data.shape)\n",
        "print(decoder_input_data.shape)"
      ]
    },
    {
      "cell_type": "markdown",
      "metadata": {
        "id": "xsPca3ARedCg"
      },
      "source": [
        "## 3. Build the networks (for training) (20 points)\n",
        "\n",
        "- In this section, we have already implemented the LSTM model for you. You can run the code and see what the code is doing.  \n",
        "\n",
        "- **You need to change the existing LSTM model to a Bidirectional LSTM model. Just modify the network structure and do not change the training cell in section 3.4.**\n",
        "\n",
        "- Build encoder, decoder, and connect the two modules to get \"model\".\n",
        "\n",
        "- Fit the model on the bilingual data to train the parameters in the encoder and decoder.\n",
        "\n"
      ]
    },
    {
      "cell_type": "markdown",
      "metadata": {
        "id": "nXA8VeQTedCg"
      },
      "source": [
        "### 3.1. Encoder network\n",
        "\n",
        "- Input:  one-hot encode of the input language\n",
        "\n",
        "- Return:\n",
        "\n",
        "    -- output (all the hidden states   $h_1, \\cdots , h_t$) are always discarded\n",
        "    \n",
        "    -- the final hidden state  $h_t$\n",
        "    \n",
        "    -- the final conveyor belt $c_t$"
      ]
    },
    {
      "cell_type": "code",
      "execution_count": 13,
      "metadata": {
        "id": "I8uR5Tz1P7nR"
      },
      "outputs": [],
      "source": [
        "# from keras.layers import Bidirectional, Concatenate\n",
        "\n",
        "# encoder_bilstm = Bidirectional(LSTM(latent_dim, return_state=True,\n",
        "#                                   dropout=0.5, name='encoder_lstm'))\n",
        "# _, forward_h, forward_c, backward_h, backward_c = encoder_bilstm(encoder_inputs)\n",
        "\n",
        "# state_h = Concatenate()([forward_h, backward_h])\n",
        "# state_c = Concatenate()([forward_c, backward_c])"
      ]
    },
    {
      "cell_type": "code",
      "execution_count": 14,
      "metadata": {
        "id": "iWSGCibbedCh"
      },
      "outputs": [],
      "source": [
        "from tensorflow.keras.layers import Input, LSTM, Bidirectional, Concatenate\n",
        "from tensorflow.keras.models import Model\n",
        "\n",
        "latent_dim = 256\n",
        "\n",
        "# inputs of the encoder network\n",
        "encoder_inputs = Input(shape=(None, num_encoder_tokens),\n",
        "                       name='encoder_inputs')\n",
        "\n",
        "# set the BiLSTM layer\n",
        "# encoder_lstm = LSTM(latent_dim, return_state=True,\n",
        "#                     dropout=0.5, name='encoder_lstm')\n",
        "# _, state_h, state_c = encoder_lstm(encoder_inputs)\n",
        "encoder_bilstm = Bidirectional(LSTM(latent_dim, return_state=True,\n",
        "                                  dropout=0.5, name='encoder_lstm'))\n",
        "_, forward_h, forward_c, backward_h, backward_c = encoder_bilstm(encoder_inputs)\n",
        "\n",
        "state_h = Concatenate()([forward_h, backward_h])\n",
        "state_c = Concatenate()([forward_c, backward_c])\n",
        "\n",
        "# build the encoder network model\n",
        "# Changed outputs to backward_h and backward_c\n",
        "encoder_model = Model(inputs=encoder_inputs,\n",
        "                      outputs=[backward_h, backward_c],\n",
        "                      name='encoder')"
      ]
    },
    {
      "cell_type": "markdown",
      "metadata": {
        "id": "SBBFxciGedCh"
      },
      "source": [
        "Print a summary and save the encoder network structure to \"./encoder.pdf\""
      ]
    },
    {
      "cell_type": "code",
      "execution_count": 15,
      "metadata": {
        "colab": {
          "base_uri": "https://localhost:8080/"
        },
        "id": "S-0dROLFedCh",
        "outputId": "61a6ceaa-1d43-4eac-9c0f-e093dcdfd79d"
      },
      "outputs": [
        {
          "output_type": "stream",
          "name": "stdout",
          "text": [
            "Model: \"encoder\"\n",
            "_________________________________________________________________\n",
            " Layer (type)                Output Shape              Param #   \n",
            "=================================================================\n",
            " encoder_inputs (InputLayer  [(None, None, 28)]        0         \n",
            " )                                                               \n",
            "                                                                 \n",
            " bidirectional (Bidirection  [(None, 512),             583680    \n",
            " al)                          (None, 256),                       \n",
            "                              (None, 256),                       \n",
            "                              (None, 256),                       \n",
            "                              (None, 256)]                       \n",
            "                                                                 \n",
            "=================================================================\n",
            "Total params: 583680 (2.23 MB)\n",
            "Trainable params: 583680 (2.23 MB)\n",
            "Non-trainable params: 0 (0.00 Byte)\n",
            "_________________________________________________________________\n"
          ]
        }
      ],
      "source": [
        "from IPython.display import SVG\n",
        "from keras.utils import model_to_dot, plot_model\n",
        "\n",
        "SVG(model_to_dot(encoder_model, show_shapes=False).create(prog='dot', format='svg'))\n",
        "\n",
        "plot_model(\n",
        "    model=encoder_model, show_shapes=False,\n",
        "    to_file='encoder.pdf'\n",
        ")\n",
        "\n",
        "encoder_model.summary()"
      ]
    },
    {
      "cell_type": "markdown",
      "metadata": {
        "id": "Bu24I0tIedCh"
      },
      "source": [
        "### 3.2. Decoder network\n",
        "\n",
        "- Inputs:  \n",
        "\n",
        "    -- one-hot encode of the target language\n",
        "    \n",
        "    -- The initial hidden state $h_t$\n",
        "    \n",
        "    -- The initial conveyor belt $c_t$\n",
        "\n",
        "- Return:\n",
        "\n",
        "    -- output (all the hidden states) $h_1, \\cdots , h_t$\n",
        "\n",
        "    -- the final hidden state  $h_t$ (discarded in the training and used in the prediction)\n",
        "    \n",
        "    -- the final conveyor belt $c_t$ (discarded in the training and used in the prediction)"
      ]
    },
    {
      "cell_type": "code",
      "execution_count": 16,
      "metadata": {
        "id": "PaiRZWG9edCh"
      },
      "outputs": [],
      "source": [
        "from tensorflow.keras.layers import Input, LSTM, Dense\n",
        "from tensorflow.keras.models import Model\n",
        "\n",
        "# inputs of the decoder network\n",
        "decoder_input_h = Input(shape=(latent_dim,), name='decoder_input_h')\n",
        "decoder_input_c = Input(shape=(latent_dim,), name='decoder_input_c')\n",
        "decoder_input_x = Input(shape=(None, num_decoder_tokens), name='decoder_input_x')\n",
        "\n",
        "# set the LSTM layer\n",
        "decoder_lstm = LSTM(latent_dim, return_sequences=True,\n",
        "                    return_state=True, dropout=0.5, name='decoder_lstm')\n",
        "decoder_lstm_outputs, state_h, state_c = decoder_lstm(decoder_input_x,\n",
        "                                                      initial_state=[decoder_input_h, decoder_input_c])\n",
        "\n",
        "# set the dense layer\n",
        "decoder_dense = Dense(num_decoder_tokens, activation='softmax', name='decoder_dense')\n",
        "decoder_outputs = decoder_dense(decoder_lstm_outputs)\n",
        "\n",
        "# build the decoder network model\n",
        "decoder_model = Model(inputs=[decoder_input_x, decoder_input_h, decoder_input_c],\n",
        "                      outputs=[decoder_outputs, state_h, state_c],\n",
        "                      name='decoder')"
      ]
    },
    {
      "cell_type": "markdown",
      "metadata": {
        "id": "1vDWdyNtedCh"
      },
      "source": [
        "Print a summary and save the encoder network structure to \"./decoder.pdf\""
      ]
    },
    {
      "cell_type": "code",
      "execution_count": 17,
      "metadata": {
        "colab": {
          "base_uri": "https://localhost:8080/"
        },
        "id": "B2Jo7bPyedCh",
        "outputId": "d6468c02-7327-41ed-8643-d548d43d2f05"
      },
      "outputs": [
        {
          "output_type": "stream",
          "name": "stdout",
          "text": [
            "Model: \"decoder\"\n",
            "__________________________________________________________________________________________________\n",
            " Layer (type)                Output Shape                 Param #   Connected to                  \n",
            "==================================================================================================\n",
            " decoder_input_x (InputLaye  [(None, None, 30)]           0         []                            \n",
            " r)                                                                                               \n",
            "                                                                                                  \n",
            " decoder_input_h (InputLaye  [(None, 256)]                0         []                            \n",
            " r)                                                                                               \n",
            "                                                                                                  \n",
            " decoder_input_c (InputLaye  [(None, 256)]                0         []                            \n",
            " r)                                                                                               \n",
            "                                                                                                  \n",
            " decoder_lstm (LSTM)         [(None, None, 256),          293888    ['decoder_input_x[0][0]',     \n",
            "                              (None, 256),                           'decoder_input_h[0][0]',     \n",
            "                              (None, 256)]                           'decoder_input_c[0][0]']     \n",
            "                                                                                                  \n",
            " decoder_dense (Dense)       (None, None, 30)             7710      ['decoder_lstm[0][0]']        \n",
            "                                                                                                  \n",
            "==================================================================================================\n",
            "Total params: 301598 (1.15 MB)\n",
            "Trainable params: 301598 (1.15 MB)\n",
            "Non-trainable params: 0 (0.00 Byte)\n",
            "__________________________________________________________________________________________________\n"
          ]
        }
      ],
      "source": [
        "from IPython.display import SVG\n",
        "from keras.utils import model_to_dot, plot_model\n",
        "\n",
        "SVG(model_to_dot(decoder_model, show_shapes=False).create(prog='dot', format='svg'))\n",
        "\n",
        "plot_model(\n",
        "    model=decoder_model, show_shapes=False,\n",
        "    to_file='decoder.pdf'\n",
        ")\n",
        "\n",
        "decoder_model.summary()"
      ]
    },
    {
      "cell_type": "markdown",
      "metadata": {
        "id": "wOtU5CtEedCh"
      },
      "source": [
        "### 3.3. Connect the encoder and decoder"
      ]
    },
    {
      "cell_type": "code",
      "execution_count": 18,
      "metadata": {
        "id": "wkDfv0W6edCi"
      },
      "outputs": [],
      "source": [
        "# input layers\n",
        "encoder_input_x = Input(shape=(None, num_encoder_tokens), name='encoder_input_x')\n",
        "decoder_input_x = Input(shape=(None, num_decoder_tokens), name='decoder_input_x')\n",
        "\n",
        "# connect encoder to decoder\n",
        "encoder_final_states = encoder_model([encoder_input_x])\n",
        "decoder_lstm_output, _, _ = decoder_lstm(decoder_input_x, initial_state=encoder_final_states)\n",
        "decoder_pred = decoder_dense(decoder_lstm_output)\n",
        "\n",
        "model = Model(inputs=[encoder_input_x, decoder_input_x],\n",
        "              outputs=decoder_pred,\n",
        "              name='model_training')"
      ]
    },
    {
      "cell_type": "code",
      "execution_count": 19,
      "metadata": {
        "colab": {
          "base_uri": "https://localhost:8080/"
        },
        "id": "ZiFx6us1edCi",
        "outputId": "8ba93936-8a53-491b-ef18-ba80ab486413"
      },
      "outputs": [
        {
          "output_type": "stream",
          "name": "stdout",
          "text": [
            "Model: \"model_training\"\n",
            "__________________________________________________________________________________________________\n",
            " Layer (type)                Output Shape                 Param #   Connected to                  \n",
            "==================================================================================================\n",
            " encoder_input_x (InputLaye  [(None, None, 28)]           0         []                            \n",
            " r)                                                                                               \n",
            "                                                                                                  \n",
            " decoder_input_x (InputLaye  [(None, None, 30)]           0         []                            \n",
            " r)                                                                                               \n",
            "                                                                                                  \n",
            " encoder (Functional)        [(None, 256),                583680    ['encoder_input_x[0][0]']     \n",
            "                              (None, 256)]                                                        \n",
            "                                                                                                  \n",
            " decoder_lstm (LSTM)         [(None, None, 256),          293888    ['decoder_input_x[0][0]',     \n",
            "                              (None, 256),                           'encoder[0][0]',             \n",
            "                              (None, 256)]                           'encoder[0][1]']             \n",
            "                                                                                                  \n",
            " decoder_dense (Dense)       (None, None, 30)             7710      ['decoder_lstm[1][0]']        \n",
            "                                                                                                  \n",
            "==================================================================================================\n",
            "Total params: 885278 (3.38 MB)\n",
            "Trainable params: 885278 (3.38 MB)\n",
            "Non-trainable params: 0 (0.00 Byte)\n",
            "__________________________________________________________________________________________________\n"
          ]
        }
      ],
      "source": [
        "from IPython.display import SVG\n",
        "from keras.utils import model_to_dot, plot_model\n",
        "\n",
        "SVG(model_to_dot(model, show_shapes=False).create(prog='dot', format='svg'))\n",
        "\n",
        "plot_model(\n",
        "    model=model, show_shapes=False,\n",
        "    to_file='model_training.pdf'\n",
        ")\n",
        "\n",
        "model.summary()"
      ]
    },
    {
      "cell_type": "markdown",
      "metadata": {
        "id": "q8EfV2uWedCi"
      },
      "source": [
        "### 3.4. Fit the model on the bilingual dataset\n",
        "\n",
        "- encoder_input_data: one-hot encode of the input language\n",
        "\n",
        "- decoder_input_data: one-hot encode of the input language\n",
        "\n",
        "- decoder_target_data: labels (left shift of decoder_input_data)\n",
        "\n",
        "- tune the hyper-parameters\n",
        "\n",
        "- stop when the validation loss stop decreasing."
      ]
    },
    {
      "cell_type": "code",
      "execution_count": 20,
      "metadata": {
        "colab": {
          "base_uri": "https://localhost:8080/"
        },
        "id": "QodbY073edCi",
        "outputId": "820add6f-3381-40b9-e6a3-157d9c24baf1"
      },
      "outputs": [
        {
          "output_type": "stream",
          "name": "stdout",
          "text": [
            "shape of encoder_input_data(20000, 18, 28)\n",
            "shape of decoder_input_data(20000, 48, 30)\n",
            "shape of decoder_target_data(20000, 48, 30)\n"
          ]
        }
      ],
      "source": [
        "print('shape of encoder_input_data' + str(encoder_input_data.shape))\n",
        "print('shape of decoder_input_data' + str(decoder_input_data.shape))\n",
        "print('shape of decoder_target_data' + str(decoder_target_data.shape))"
      ]
    },
    {
      "cell_type": "code",
      "execution_count": 21,
      "metadata": {
        "colab": {
          "base_uri": "https://localhost:8080/"
        },
        "id": "aq-ljb-TedCi",
        "outputId": "d72164f0-f692-4036-fc31-cc8047523052"
      },
      "outputs": [
        {
          "output_type": "stream",
          "name": "stdout",
          "text": [
            "Epoch 1/50\n"
          ]
        },
        {
          "output_type": "stream",
          "name": "stderr",
          "text": [
            "WARNING:tensorflow:Gradients do not exist for variables ['bidirectional/forward_encoder_lstm/lstm_cell/kernel:0', 'bidirectional/forward_encoder_lstm/lstm_cell/recurrent_kernel:0', 'bidirectional/forward_encoder_lstm/lstm_cell/bias:0'] when minimizing the loss. If you're using `model.compile()`, did you forget to provide a `loss` argument?\n",
            "WARNING:tensorflow:Gradients do not exist for variables ['bidirectional/forward_encoder_lstm/lstm_cell/kernel:0', 'bidirectional/forward_encoder_lstm/lstm_cell/recurrent_kernel:0', 'bidirectional/forward_encoder_lstm/lstm_cell/bias:0'] when minimizing the loss. If you're using `model.compile()`, did you forget to provide a `loss` argument?\n",
            "WARNING:tensorflow:Gradients do not exist for variables ['bidirectional/forward_encoder_lstm/lstm_cell/kernel:0', 'bidirectional/forward_encoder_lstm/lstm_cell/recurrent_kernel:0', 'bidirectional/forward_encoder_lstm/lstm_cell/bias:0'] when minimizing the loss. If you're using `model.compile()`, did you forget to provide a `loss` argument?\n",
            "WARNING:tensorflow:Gradients do not exist for variables ['bidirectional/forward_encoder_lstm/lstm_cell/kernel:0', 'bidirectional/forward_encoder_lstm/lstm_cell/recurrent_kernel:0', 'bidirectional/forward_encoder_lstm/lstm_cell/bias:0'] when minimizing the loss. If you're using `model.compile()`, did you forget to provide a `loss` argument?\n"
          ]
        },
        {
          "output_type": "stream",
          "name": "stdout",
          "text": [
            "250/250 [==============================] - 10s 15ms/step - loss: 1.0773 - accuracy: 0.7002 - val_loss: 1.1046 - val_accuracy: 0.6777\n",
            "Epoch 2/50\n",
            "250/250 [==============================] - 2s 9ms/step - loss: 0.8958 - accuracy: 0.7335 - val_loss: 0.9501 - val_accuracy: 0.7099\n",
            "Epoch 3/50\n",
            "250/250 [==============================] - 3s 10ms/step - loss: 0.8422 - accuracy: 0.7448 - val_loss: 0.8907 - val_accuracy: 0.7288\n",
            "Epoch 4/50\n",
            "250/250 [==============================] - 4s 17ms/step - loss: 0.8237 - accuracy: 0.7490 - val_loss: 0.8650 - val_accuracy: 0.7311\n",
            "Epoch 5/50\n",
            "250/250 [==============================] - 3s 13ms/step - loss: 0.8102 - accuracy: 0.7533 - val_loss: 0.8420 - val_accuracy: 0.7406\n",
            "Epoch 6/50\n",
            "250/250 [==============================] - 2s 8ms/step - loss: 0.7986 - accuracy: 0.7565 - val_loss: 0.8224 - val_accuracy: 0.7430\n",
            "Epoch 7/50\n",
            "250/250 [==============================] - 3s 12ms/step - loss: 0.7882 - accuracy: 0.7591 - val_loss: 0.8105 - val_accuracy: 0.7503\n",
            "Epoch 8/50\n",
            "250/250 [==============================] - 3s 11ms/step - loss: 0.7781 - accuracy: 0.7619 - val_loss: 0.7958 - val_accuracy: 0.7537\n",
            "Epoch 9/50\n",
            "250/250 [==============================] - 2s 9ms/step - loss: 0.7700 - accuracy: 0.7645 - val_loss: 0.7787 - val_accuracy: 0.7574\n",
            "Epoch 10/50\n",
            "250/250 [==============================] - 2s 8ms/step - loss: 0.7606 - accuracy: 0.7676 - val_loss: 0.7714 - val_accuracy: 0.7605\n",
            "Epoch 11/50\n",
            "250/250 [==============================] - 2s 8ms/step - loss: 0.7546 - accuracy: 0.7697 - val_loss: 0.7619 - val_accuracy: 0.7606\n",
            "Epoch 12/50\n",
            "250/250 [==============================] - 2s 8ms/step - loss: 0.7479 - accuracy: 0.7720 - val_loss: 0.7471 - val_accuracy: 0.7683\n",
            "Epoch 13/50\n",
            "250/250 [==============================] - 2s 10ms/step - loss: 0.7403 - accuracy: 0.7745 - val_loss: 0.7356 - val_accuracy: 0.7708\n",
            "Epoch 14/50\n",
            "250/250 [==============================] - 3s 10ms/step - loss: 0.7339 - accuracy: 0.7761 - val_loss: 0.7302 - val_accuracy: 0.7713\n",
            "Epoch 15/50\n",
            "250/250 [==============================] - 2s 8ms/step - loss: 0.7289 - accuracy: 0.7779 - val_loss: 0.7173 - val_accuracy: 0.7761\n",
            "Epoch 16/50\n",
            "250/250 [==============================] - 2s 8ms/step - loss: 0.7237 - accuracy: 0.7794 - val_loss: 0.7121 - val_accuracy: 0.7796\n",
            "Epoch 17/50\n",
            "250/250 [==============================] - 2s 9ms/step - loss: 0.7182 - accuracy: 0.7808 - val_loss: 0.7106 - val_accuracy: 0.7789\n",
            "Epoch 18/50\n",
            "250/250 [==============================] - 2s 8ms/step - loss: 0.7141 - accuracy: 0.7823 - val_loss: 0.6973 - val_accuracy: 0.7830\n",
            "Epoch 19/50\n",
            "250/250 [==============================] - 3s 11ms/step - loss: 0.7092 - accuracy: 0.7836 - val_loss: 0.6920 - val_accuracy: 0.7863\n",
            "Epoch 20/50\n",
            "250/250 [==============================] - 2s 9ms/step - loss: 0.7040 - accuracy: 0.7852 - val_loss: 0.6853 - val_accuracy: 0.7872\n",
            "Epoch 21/50\n",
            "250/250 [==============================] - 2s 9ms/step - loss: 0.6990 - accuracy: 0.7865 - val_loss: 0.6832 - val_accuracy: 0.7869\n",
            "Epoch 22/50\n",
            "250/250 [==============================] - 2s 9ms/step - loss: 0.6971 - accuracy: 0.7874 - val_loss: 0.6729 - val_accuracy: 0.7926\n",
            "Epoch 23/50\n",
            "250/250 [==============================] - 3s 11ms/step - loss: 0.6922 - accuracy: 0.7892 - val_loss: 0.6686 - val_accuracy: 0.7939\n",
            "Epoch 24/50\n",
            "250/250 [==============================] - 3s 12ms/step - loss: 0.6880 - accuracy: 0.7900 - val_loss: 0.6616 - val_accuracy: 0.7955\n",
            "Epoch 25/50\n",
            "250/250 [==============================] - 2s 9ms/step - loss: 0.6849 - accuracy: 0.7913 - val_loss: 0.6561 - val_accuracy: 0.7973\n",
            "Epoch 26/50\n",
            "250/250 [==============================] - 2s 9ms/step - loss: 0.6810 - accuracy: 0.7928 - val_loss: 0.6519 - val_accuracy: 0.7988\n",
            "Epoch 27/50\n",
            "250/250 [==============================] - 2s 9ms/step - loss: 0.6779 - accuracy: 0.7934 - val_loss: 0.6501 - val_accuracy: 0.7995\n",
            "Epoch 28/50\n",
            "250/250 [==============================] - 2s 9ms/step - loss: 0.6738 - accuracy: 0.7950 - val_loss: 0.6431 - val_accuracy: 0.8003\n",
            "Epoch 29/50\n",
            "250/250 [==============================] - 3s 10ms/step - loss: 0.6701 - accuracy: 0.7959 - val_loss: 0.6395 - val_accuracy: 0.8032\n",
            "Epoch 30/50\n",
            "250/250 [==============================] - 3s 10ms/step - loss: 0.6671 - accuracy: 0.7968 - val_loss: 0.6359 - val_accuracy: 0.8033\n",
            "Epoch 31/50\n",
            "250/250 [==============================] - 2s 9ms/step - loss: 0.6647 - accuracy: 0.7979 - val_loss: 0.6331 - val_accuracy: 0.8048\n",
            "Epoch 32/50\n",
            "250/250 [==============================] - 2s 9ms/step - loss: 0.6603 - accuracy: 0.7990 - val_loss: 0.6289 - val_accuracy: 0.8052\n",
            "Epoch 33/50\n",
            "250/250 [==============================] - 2s 10ms/step - loss: 0.6556 - accuracy: 0.8000 - val_loss: 0.6213 - val_accuracy: 0.8079\n",
            "Epoch 34/50\n",
            "250/250 [==============================] - 3s 10ms/step - loss: 0.6565 - accuracy: 0.7998 - val_loss: 0.6180 - val_accuracy: 0.8094\n",
            "Epoch 35/50\n",
            "250/250 [==============================] - 3s 11ms/step - loss: 0.6513 - accuracy: 0.8013 - val_loss: 0.6187 - val_accuracy: 0.8084\n",
            "Epoch 36/50\n",
            "250/250 [==============================] - 2s 8ms/step - loss: 0.6477 - accuracy: 0.8029 - val_loss: 0.6152 - val_accuracy: 0.8100\n",
            "Epoch 37/50\n",
            "250/250 [==============================] - 2s 9ms/step - loss: 0.6465 - accuracy: 0.8033 - val_loss: 0.6148 - val_accuracy: 0.8093\n",
            "Epoch 38/50\n",
            "250/250 [==============================] - 2s 9ms/step - loss: 0.6425 - accuracy: 0.8047 - val_loss: 0.6122 - val_accuracy: 0.8109\n",
            "Epoch 39/50\n",
            "250/250 [==============================] - 2s 9ms/step - loss: 0.6418 - accuracy: 0.8048 - val_loss: 0.6046 - val_accuracy: 0.8128\n",
            "Epoch 40/50\n",
            "250/250 [==============================] - 3s 12ms/step - loss: 0.6378 - accuracy: 0.8057 - val_loss: 0.6023 - val_accuracy: 0.8133\n",
            "Epoch 41/50\n",
            "250/250 [==============================] - 2s 9ms/step - loss: 0.6335 - accuracy: 0.8072 - val_loss: 0.5994 - val_accuracy: 0.8141\n",
            "Epoch 42/50\n",
            "250/250 [==============================] - 2s 9ms/step - loss: 0.6336 - accuracy: 0.8072 - val_loss: 0.5978 - val_accuracy: 0.8146\n",
            "Epoch 43/50\n",
            "250/250 [==============================] - 2s 9ms/step - loss: 0.6309 - accuracy: 0.8078 - val_loss: 0.5948 - val_accuracy: 0.8164\n",
            "Epoch 44/50\n",
            "250/250 [==============================] - 2s 9ms/step - loss: 0.6276 - accuracy: 0.8090 - val_loss: 0.5937 - val_accuracy: 0.8163\n",
            "Epoch 45/50\n",
            "250/250 [==============================] - 3s 11ms/step - loss: 0.6256 - accuracy: 0.8097 - val_loss: 0.5924 - val_accuracy: 0.8160\n",
            "Epoch 46/50\n",
            "250/250 [==============================] - 2s 10ms/step - loss: 0.6230 - accuracy: 0.8103 - val_loss: 0.5936 - val_accuracy: 0.8172\n",
            "Epoch 47/50\n",
            "250/250 [==============================] - 2s 9ms/step - loss: 0.6231 - accuracy: 0.8104 - val_loss: 0.5871 - val_accuracy: 0.8191\n",
            "Epoch 48/50\n",
            "250/250 [==============================] - 2s 9ms/step - loss: 0.6185 - accuracy: 0.8119 - val_loss: 0.5832 - val_accuracy: 0.8192\n",
            "Epoch 49/50\n",
            "250/250 [==============================] - 2s 9ms/step - loss: 0.6179 - accuracy: 0.8119 - val_loss: 0.5822 - val_accuracy: 0.8200\n",
            "Epoch 50/50\n",
            "250/250 [==============================] - 2s 10ms/step - loss: 0.6147 - accuracy: 0.8128 - val_loss: 0.5818 - val_accuracy: 0.8204\n"
          ]
        },
        {
          "output_type": "stream",
          "name": "stderr",
          "text": [
            "/usr/local/lib/python3.10/dist-packages/keras/src/engine/training.py:3103: UserWarning: You are saving your model as an HDF5 file via `model.save()`. This file format is considered legacy. We recommend using instead the native Keras format, e.g. `model.save('my_model.keras')`.\n",
            "  saving_api.save_model(\n"
          ]
        }
      ],
      "source": [
        "model.compile(optimizer='rmsprop', loss='categorical_crossentropy', metrics=['accuracy'])\n",
        "\n",
        "model.fit([encoder_input_data, decoder_input_data],  # training data\n",
        "          decoder_target_data,                       # labels (left shift of the target sequences)\n",
        "          batch_size=64, epochs=50, validation_split=0.2)\n",
        "\n",
        "model.save('seq2seq.h5')"
      ]
    },
    {
      "cell_type": "markdown",
      "metadata": {
        "id": "yIHRh9L3edCi"
      },
      "source": [
        "## 4. Make predictions\n",
        "\n",
        "- In this section, you need to complete section 4.2 to translate English to the target language.\n",
        "\n",
        "\n",
        "### 4.1. Translate English to XXX\n",
        "\n",
        "1. Encoder read a sentence (source language) and output its final states, $h_t$ and $c_t$.\n",
        "2. Take the [star] sign \"\\t\" and the final state $h_t$ and $c_t$ as input and run the decoder.\n",
        "3. Get the new states and predicted probability distribution.\n",
        "4. sample a char from the predicted probability distribution\n",
        "5. take the sampled char and the new states as input and repeat the process (stop if reach the [stop] sign \"\\n\")."
      ]
    },
    {
      "cell_type": "code",
      "execution_count": 22,
      "metadata": {
        "id": "Jaq68T6EedCi"
      },
      "outputs": [],
      "source": [
        "# Reverse-lookup token index to decode sequences back to something readable.\n",
        "reverse_input_char_index = dict((i, char) for char, i in input_token_index.items())\n",
        "reverse_target_char_index = dict((i, char) for char, i in target_token_index.items())"
      ]
    },
    {
      "cell_type": "code",
      "execution_count": 23,
      "metadata": {
        "id": "-tjCXNCredCj"
      },
      "outputs": [],
      "source": [
        "def decode_sequence(input_seq):\n",
        "    states_value = encoder_model.predict(input_seq)\n",
        "\n",
        "    target_seq = numpy.zeros((1, 1, num_decoder_tokens))\n",
        "    target_seq[0, 0, target_token_index['\\t']] = 1.\n",
        "\n",
        "    stop_condition = False\n",
        "    decoded_sentence = ''\n",
        "    while not stop_condition:\n",
        "        output_tokens, h, c = decoder_model.predict([target_seq] + states_value)\n",
        "\n",
        "        # this line of code is greedy selection\n",
        "        # try to use multinomial sampling instead (with temperature)\n",
        "        sampled_token_index = numpy.argmax(output_tokens[0, -1, :])\n",
        "\n",
        "        sampled_char = reverse_target_char_index[sampled_token_index]\n",
        "        decoded_sentence += sampled_char\n",
        "\n",
        "        if (sampled_char == '\\n' or\n",
        "           len(decoded_sentence) > max_decoder_seq_length):\n",
        "            stop_condition = True\n",
        "\n",
        "        target_seq = numpy.zeros((1, 1, num_decoder_tokens))\n",
        "        target_seq[0, 0, sampled_token_index] = 1.\n",
        "\n",
        "        states_value = [h, c]\n",
        "\n",
        "    return decoded_sentence\n"
      ]
    },
    {
      "cell_type": "code",
      "execution_count": 24,
      "metadata": {
        "colab": {
          "base_uri": "https://localhost:8080/"
        },
        "id": "_OzAQb9FedCj",
        "outputId": "7665093e-3d64-4dc8-a847-7d17d57ddd8e"
      },
      "outputs": [
        {
          "output_type": "stream",
          "name": "stdout",
          "text": [
            "1/1 [==============================] - 1s 879ms/step\n",
            "1/1 [==============================] - 0s 349ms/step\n",
            "1/1 [==============================] - 0s 19ms/step\n",
            "1/1 [==============================] - 0s 18ms/step\n",
            "1/1 [==============================] - 0s 19ms/step\n",
            "1/1 [==============================] - 0s 28ms/step\n",
            "1/1 [==============================] - 0s 18ms/step\n",
            "1/1 [==============================] - 0s 18ms/step\n",
            "1/1 [==============================] - 0s 19ms/step\n",
            "1/1 [==============================] - 0s 19ms/step\n",
            "1/1 [==============================] - 0s 20ms/step\n",
            "1/1 [==============================] - 0s 18ms/step\n",
            "-\n",
            "English:        come see me\n",
            "Spanish (true):  venid a verme\n",
            "Spanish (pred):  ven a aqui\n",
            "1/1 [==============================] - 0s 15ms/step\n",
            "1/1 [==============================] - 0s 18ms/step\n",
            "1/1 [==============================] - 0s 20ms/step\n",
            "1/1 [==============================] - 0s 18ms/step\n",
            "1/1 [==============================] - 0s 18ms/step\n",
            "1/1 [==============================] - 0s 18ms/step\n",
            "1/1 [==============================] - 0s 18ms/step\n",
            "1/1 [==============================] - 0s 19ms/step\n",
            "1/1 [==============================] - 0s 35ms/step\n",
            "1/1 [==============================] - 0s 20ms/step\n",
            "1/1 [==============================] - 0s 19ms/step\n",
            "1/1 [==============================] - 0s 21ms/step\n",
            "-\n",
            "English:        come see me\n",
            "Spanish (true):  vengan a verme\n",
            "Spanish (pred):  ven a aqui\n",
            "1/1 [==============================] - 0s 18ms/step\n",
            "1/1 [==============================] - 0s 18ms/step\n",
            "1/1 [==============================] - 0s 20ms/step\n",
            "1/1 [==============================] - 0s 24ms/step\n",
            "1/1 [==============================] - 0s 20ms/step\n",
            "1/1 [==============================] - 0s 18ms/step\n",
            "1/1 [==============================] - 0s 19ms/step\n",
            "1/1 [==============================] - 0s 22ms/step\n",
            "1/1 [==============================] - 0s 18ms/step\n",
            "1/1 [==============================] - 0s 21ms/step\n",
            "1/1 [==============================] - 0s 18ms/step\n",
            "1/1 [==============================] - 0s 18ms/step\n",
            "-\n",
            "English:        come see me\n",
            "Spanish (true):  venga a verme\n",
            "Spanish (pred):  ven a aqui\n",
            "1/1 [==============================] - 0s 18ms/step\n",
            "1/1 [==============================] - 0s 18ms/step\n",
            "1/1 [==============================] - 0s 19ms/step\n",
            "1/1 [==============================] - 0s 17ms/step\n",
            "1/1 [==============================] - 0s 18ms/step\n",
            "1/1 [==============================] - 0s 19ms/step\n",
            "1/1 [==============================] - 0s 19ms/step\n",
            "1/1 [==============================] - 0s 19ms/step\n",
            "1/1 [==============================] - 0s 18ms/step\n",
            "1/1 [==============================] - 0s 26ms/step\n",
            "1/1 [==============================] - 0s 31ms/step\n",
            "1/1 [==============================] - 0s 27ms/step\n",
            "1/1 [==============================] - 0s 28ms/step\n",
            "-\n",
            "English:        comfort tom\n",
            "Spanish (true):  consuela a tom\n",
            "Spanish (pred):  lo hace tom\n",
            "1/1 [==============================] - 0s 36ms/step\n",
            "1/1 [==============================] - 0s 27ms/step\n",
            "1/1 [==============================] - 0s 29ms/step\n",
            "1/1 [==============================] - 0s 35ms/step\n",
            "1/1 [==============================] - 0s 31ms/step\n",
            "1/1 [==============================] - 0s 26ms/step\n",
            "1/1 [==============================] - 0s 27ms/step\n",
            "1/1 [==============================] - 0s 26ms/step\n",
            "1/1 [==============================] - 0s 28ms/step\n",
            "1/1 [==============================] - 0s 26ms/step\n",
            "1/1 [==============================] - 0s 29ms/step\n",
            "1/1 [==============================] - 0s 30ms/step\n",
            "1/1 [==============================] - 0s 30ms/step\n",
            "1/1 [==============================] - 0s 27ms/step\n",
            "-\n",
            "English:        contact tom\n",
            "Spanish (true):  ponte en contacto con tom\n",
            "Spanish (pred):  pondes a tom\n",
            "1/1 [==============================] - 0s 36ms/step\n",
            "1/1 [==============================] - 0s 31ms/step\n",
            "1/1 [==============================] - 0s 32ms/step\n",
            "1/1 [==============================] - 0s 28ms/step\n",
            "1/1 [==============================] - 0s 29ms/step\n",
            "1/1 [==============================] - 0s 32ms/step\n",
            "1/1 [==============================] - 0s 18ms/step\n",
            "1/1 [==============================] - 0s 24ms/step\n",
            "1/1 [==============================] - 0s 18ms/step\n",
            "1/1 [==============================] - 0s 18ms/step\n",
            "1/1 [==============================] - 0s 18ms/step\n",
            "1/1 [==============================] - 0s 19ms/step\n",
            "1/1 [==============================] - 0s 20ms/step\n",
            "1/1 [==============================] - 0s 19ms/step\n",
            "1/1 [==============================] - 0s 18ms/step\n",
            "-\n",
            "English:        cook for me\n",
            "Spanish (true):  cociname\n",
            "Spanish (pred):  venga a un mi\n",
            "1/1 [==============================] - 0s 16ms/step\n",
            "1/1 [==============================] - 0s 17ms/step\n",
            "1/1 [==============================] - 0s 18ms/step\n",
            "1/1 [==============================] - 0s 18ms/step\n",
            "1/1 [==============================] - 0s 18ms/step\n",
            "1/1 [==============================] - 0s 19ms/step\n",
            "1/1 [==============================] - 0s 18ms/step\n",
            "1/1 [==============================] - 0s 27ms/step\n",
            "1/1 [==============================] - 0s 20ms/step\n",
            "1/1 [==============================] - 0s 18ms/step\n",
            "1/1 [==============================] - 0s 18ms/step\n",
            "1/1 [==============================] - 0s 18ms/step\n",
            "1/1 [==============================] - 0s 19ms/step\n",
            "1/1 [==============================] - 0s 19ms/step\n",
            "1/1 [==============================] - 0s 19ms/step\n",
            "-\n",
            "English:        cook for me\n",
            "Spanish (true):  cocina para mi\n",
            "Spanish (pred):  venga a un mi\n",
            "1/1 [==============================] - 0s 17ms/step\n",
            "1/1 [==============================] - 0s 18ms/step\n",
            "1/1 [==============================] - 0s 20ms/step\n",
            "1/1 [==============================] - 0s 19ms/step\n",
            "1/1 [==============================] - 0s 19ms/step\n",
            "1/1 [==============================] - 0s 18ms/step\n",
            "1/1 [==============================] - 0s 19ms/step\n",
            "1/1 [==============================] - 0s 20ms/step\n",
            "1/1 [==============================] - 0s 19ms/step\n",
            "1/1 [==============================] - 0s 18ms/step\n",
            "1/1 [==============================] - 0s 18ms/step\n",
            "-\n",
            "English:        count me in\n",
            "Spanish (true):  cuenta conmigo\n",
            "Spanish (pred):  no pereis\n",
            "1/1 [==============================] - 0s 17ms/step\n",
            "1/1 [==============================] - 0s 19ms/step\n",
            "1/1 [==============================] - 0s 18ms/step\n",
            "1/1 [==============================] - 0s 20ms/step\n",
            "1/1 [==============================] - 0s 20ms/step\n",
            "1/1 [==============================] - 0s 20ms/step\n",
            "1/1 [==============================] - 0s 18ms/step\n",
            "1/1 [==============================] - 0s 19ms/step\n",
            "1/1 [==============================] - 0s 19ms/step\n",
            "1/1 [==============================] - 0s 18ms/step\n",
            "1/1 [==============================] - 0s 17ms/step\n",
            "1/1 [==============================] - 0s 19ms/step\n",
            "1/1 [==============================] - 0s 18ms/step\n",
            "1/1 [==============================] - 0s 18ms/step\n",
            "1/1 [==============================] - 0s 18ms/step\n",
            "1/1 [==============================] - 0s 18ms/step\n",
            "1/1 [==============================] - 0s 19ms/step\n",
            "-\n",
            "English:        count on it\n",
            "Spanish (true):  cuenta con eso\n",
            "Spanish (pred):  pores lo pierta\n",
            "1/1 [==============================] - 0s 18ms/step\n",
            "1/1 [==============================] - 0s 18ms/step\n",
            "1/1 [==============================] - 0s 19ms/step\n",
            "1/1 [==============================] - 0s 18ms/step\n",
            "1/1 [==============================] - 0s 18ms/step\n",
            "1/1 [==============================] - 0s 19ms/step\n",
            "1/1 [==============================] - 0s 18ms/step\n",
            "1/1 [==============================] - 0s 18ms/step\n",
            "1/1 [==============================] - 0s 22ms/step\n",
            "1/1 [==============================] - 0s 19ms/step\n",
            "1/1 [==============================] - 0s 26ms/step\n",
            "1/1 [==============================] - 0s 18ms/step\n",
            "1/1 [==============================] - 0s 20ms/step\n",
            "1/1 [==============================] - 0s 20ms/step\n",
            "1/1 [==============================] - 0s 18ms/step\n",
            "1/1 [==============================] - 0s 19ms/step\n",
            "1/1 [==============================] - 0s 18ms/step\n",
            "-\n",
            "English:        count on it\n",
            "Spanish (true):  cuente con eso\n",
            "Spanish (pred):  pores lo pierta\n",
            "1/1 [==============================] - 0s 16ms/step\n",
            "1/1 [==============================] - 0s 18ms/step\n",
            "1/1 [==============================] - 0s 19ms/step\n",
            "1/1 [==============================] - 0s 19ms/step\n",
            "1/1 [==============================] - 0s 23ms/step\n",
            "1/1 [==============================] - 0s 18ms/step\n",
            "1/1 [==============================] - 0s 23ms/step\n",
            "1/1 [==============================] - 0s 21ms/step\n",
            "1/1 [==============================] - 0s 27ms/step\n",
            "1/1 [==============================] - 0s 19ms/step\n",
            "1/1 [==============================] - 0s 18ms/step\n",
            "1/1 [==============================] - 0s 19ms/step\n",
            "1/1 [==============================] - 0s 21ms/step\n",
            "1/1 [==============================] - 0s 19ms/step\n",
            "1/1 [==============================] - 0s 21ms/step\n",
            "-\n",
            "English:        count on me\n",
            "Spanish (true):  cuenta conmigo\n",
            "Spanish (pred):  no pares a ui\n",
            "1/1 [==============================] - 0s 16ms/step\n",
            "1/1 [==============================] - 0s 18ms/step\n",
            "1/1 [==============================] - 0s 19ms/step\n",
            "1/1 [==============================] - 0s 18ms/step\n",
            "1/1 [==============================] - 0s 18ms/step\n",
            "1/1 [==============================] - 0s 19ms/step\n",
            "1/1 [==============================] - 0s 19ms/step\n",
            "1/1 [==============================] - 0s 18ms/step\n",
            "1/1 [==============================] - 0s 27ms/step\n",
            "1/1 [==============================] - 0s 19ms/step\n",
            "1/1 [==============================] - 0s 21ms/step\n",
            "1/1 [==============================] - 0s 19ms/step\n",
            "1/1 [==============================] - 0s 21ms/step\n",
            "-\n",
            "English:        did tom die\n",
            "Spanish (true):  ha muerto tom\n",
            "Spanish (pred):  lo hice tom\n",
            "1/1 [==============================] - 0s 19ms/step\n",
            "1/1 [==============================] - 0s 21ms/step\n",
            "1/1 [==============================] - 0s 18ms/step\n",
            "1/1 [==============================] - 0s 20ms/step\n",
            "1/1 [==============================] - 0s 18ms/step\n",
            "1/1 [==============================] - 0s 18ms/step\n",
            "1/1 [==============================] - 0s 18ms/step\n",
            "1/1 [==============================] - 0s 20ms/step\n",
            "1/1 [==============================] - 0s 19ms/step\n",
            "1/1 [==============================] - 0s 19ms/step\n",
            "1/1 [==============================] - 0s 19ms/step\n",
            "1/1 [==============================] - 0s 20ms/step\n",
            "-\n",
            "English:        did tom run\n",
            "Spanish (true):  corrio tom\n",
            "Spanish (pred):  lo ha esto\n",
            "1/1 [==============================] - 0s 19ms/step\n",
            "1/1 [==============================] - 0s 19ms/step\n",
            "1/1 [==============================] - 0s 21ms/step\n",
            "1/1 [==============================] - 0s 20ms/step\n",
            "1/1 [==============================] - 0s 18ms/step\n",
            "1/1 [==============================] - 0s 18ms/step\n",
            "1/1 [==============================] - 0s 18ms/step\n",
            "1/1 [==============================] - 0s 19ms/step\n",
            "1/1 [==============================] - 0s 18ms/step\n",
            "1/1 [==============================] - 0s 17ms/step\n",
            "1/1 [==============================] - 0s 24ms/step\n",
            "1/1 [==============================] - 0s 18ms/step\n",
            "-\n",
            "English:        did tom try\n",
            "Spanish (true):  lo ha probado tom\n",
            "Spanish (pred):  lo ha esto\n",
            "1/1 [==============================] - 0s 18ms/step\n",
            "1/1 [==============================] - 0s 20ms/step\n",
            "1/1 [==============================] - 0s 19ms/step\n",
            "1/1 [==============================] - 0s 20ms/step\n",
            "1/1 [==============================] - 0s 20ms/step\n",
            "1/1 [==============================] - 0s 17ms/step\n",
            "1/1 [==============================] - 0s 19ms/step\n",
            "1/1 [==============================] - 0s 18ms/step\n",
            "1/1 [==============================] - 0s 18ms/step\n",
            "1/1 [==============================] - 0s 18ms/step\n",
            "1/1 [==============================] - 0s 21ms/step\n",
            "1/1 [==============================] - 0s 18ms/step\n",
            "-\n",
            "English:        did tom try\n",
            "Spanish (true):  al final lo probo tom o no\n",
            "Spanish (pred):  lo ha esto\n",
            "1/1 [==============================] - 0s 16ms/step\n",
            "1/1 [==============================] - 0s 20ms/step\n",
            "1/1 [==============================] - 0s 21ms/step\n",
            "1/1 [==============================] - 0s 18ms/step\n",
            "1/1 [==============================] - 0s 18ms/step\n",
            "1/1 [==============================] - 0s 19ms/step\n",
            "1/1 [==============================] - 0s 19ms/step\n",
            "1/1 [==============================] - 0s 19ms/step\n",
            "1/1 [==============================] - 0s 21ms/step\n",
            "1/1 [==============================] - 0s 19ms/step\n",
            "1/1 [==============================] - 0s 18ms/step\n",
            "1/1 [==============================] - 0s 18ms/step\n",
            "-\n",
            "English:        did tom try\n",
            "Spanish (true):  lo probo tom\n",
            "Spanish (pred):  lo ha esto\n",
            "1/1 [==============================] - 0s 16ms/step\n",
            "1/1 [==============================] - 0s 18ms/step\n",
            "1/1 [==============================] - 0s 18ms/step\n",
            "1/1 [==============================] - 0s 29ms/step\n",
            "1/1 [==============================] - 0s 28ms/step\n",
            "1/1 [==============================] - 0s 30ms/step\n",
            "1/1 [==============================] - 0s 41ms/step\n",
            "1/1 [==============================] - 0s 28ms/step\n",
            "1/1 [==============================] - 0s 30ms/step\n",
            "-\n",
            "English:        did tom win\n",
            "Spanish (true):  gano tom\n",
            "Spanish (pred):  lo hame\n",
            "1/1 [==============================] - 0s 24ms/step\n",
            "1/1 [==============================] - 0s 26ms/step\n",
            "1/1 [==============================] - 0s 27ms/step\n",
            "1/1 [==============================] - 0s 29ms/step\n",
            "1/1 [==============================] - 0s 26ms/step\n",
            "1/1 [==============================] - 0s 30ms/step\n",
            "1/1 [==============================] - 0s 28ms/step\n",
            "1/1 [==============================] - 0s 28ms/step\n",
            "1/1 [==============================] - 0s 31ms/step\n",
            "1/1 [==============================] - 0s 31ms/step\n",
            "-\n",
            "English:        did you win\n",
            "Spanish (true):  ganaste\n",
            "Spanish (pred):  lo vista\n",
            "1/1 [==============================] - 0s 32ms/step\n",
            "1/1 [==============================] - 0s 27ms/step\n",
            "1/1 [==============================] - 0s 33ms/step\n",
            "1/1 [==============================] - 0s 28ms/step\n",
            "1/1 [==============================] - 0s 35ms/step\n",
            "1/1 [==============================] - 0s 29ms/step\n",
            "1/1 [==============================] - 0s 29ms/step\n",
            "1/1 [==============================] - 0s 37ms/step\n",
            "1/1 [==============================] - 0s 25ms/step\n",
            "1/1 [==============================] - 0s 18ms/step\n",
            "1/1 [==============================] - 0s 18ms/step\n",
            "1/1 [==============================] - 0s 19ms/step\n",
            "1/1 [==============================] - 0s 19ms/step\n",
            "1/1 [==============================] - 0s 19ms/step\n",
            "1/1 [==============================] - 0s 19ms/step\n",
            "1/1 [==============================] - 0s 19ms/step\n",
            "1/1 [==============================] - 0s 21ms/step\n",
            "-\n",
            "English:        dig quickly\n",
            "Spanish (true):  cava rapido\n",
            "Spanish (pred):  manta el cuerto\n",
            "1/1 [==============================] - 0s 19ms/step\n",
            "1/1 [==============================] - 0s 21ms/step\n",
            "1/1 [==============================] - 0s 18ms/step\n",
            "1/1 [==============================] - 0s 22ms/step\n",
            "1/1 [==============================] - 0s 19ms/step\n",
            "1/1 [==============================] - 0s 29ms/step\n",
            "1/1 [==============================] - 0s 18ms/step\n",
            "1/1 [==============================] - 0s 22ms/step\n",
            "1/1 [==============================] - 0s 19ms/step\n",
            "1/1 [==============================] - 0s 18ms/step\n",
            "1/1 [==============================] - 0s 19ms/step\n",
            "1/1 [==============================] - 0s 21ms/step\n",
            "1/1 [==============================] - 0s 18ms/step\n",
            "1/1 [==============================] - 0s 19ms/step\n",
            "1/1 [==============================] - 0s 19ms/step\n",
            "1/1 [==============================] - 0s 25ms/step\n",
            "1/1 [==============================] - 0s 19ms/step\n",
            "-\n",
            "English:        dig quickly\n",
            "Spanish (true):  cavad rapido\n",
            "Spanish (pred):  manta el cuerto\n"
          ]
        }
      ],
      "source": [
        "for seq_index in range(2100, 2120):\n",
        "    # Take one sequence (part of the training set)\n",
        "    # for trying out decoding.\n",
        "    input_seq = encoder_input_data[seq_index: seq_index + 1]\n",
        "    decoded_sentence = decode_sequence(input_seq)\n",
        "    print('-')\n",
        "    print('English:       ', input_texts[seq_index])\n",
        "    print('Spanish (true): ', target_texts[seq_index][1:-1])\n",
        "    print('Spanish (pred): ', decoded_sentence[0:-1])\n"
      ]
    },
    {
      "cell_type": "markdown",
      "metadata": {
        "id": "PbJ49Be7edCj"
      },
      "source": [
        "### 4.2. Translate an English sentence to the target language （20 points）\n",
        "\n",
        "1. Tokenization\n",
        "2. One-hot encode\n",
        "3. Translate"
      ]
    },
    {
      "cell_type": "code",
      "execution_count": 25,
      "metadata": {
        "colab": {
          "base_uri": "https://localhost:8080/"
        },
        "id": "UPhY6DtxedCj",
        "outputId": "bc19424b-8a0c-4aa8-8bc5-ce76838326ab"
      },
      "outputs": [
        {
          "output_type": "stream",
          "name": "stdout",
          "text": [
            "['I love you']\n",
            "(1, 10)\n",
            "shape of input_token_index: 8\n",
            "1/1 [==============================] - 1s 595ms/step\n",
            "1/1 [==============================] - 0s 20ms/step\n",
            "1/1 [==============================] - 0s 18ms/step\n",
            "1/1 [==============================] - 0s 19ms/step\n",
            "1/1 [==============================] - 0s 20ms/step\n",
            "1/1 [==============================] - 0s 19ms/step\n",
            "source sentence is: I love you\n",
            "translated sentence is: esta\n",
            "\n"
          ]
        }
      ],
      "source": [
        "input_sentence = 'I love you'\n",
        "\n",
        "input_texts = [input_sentence]\n",
        "\n",
        "print(input_texts)\n",
        "\n",
        "input_sequence, input_token_index = text2sequences(len(input_sentence),\n",
        "                                                      input_texts)\n",
        "\n",
        "print(str(input_sequence.shape))\n",
        "print('shape of input_token_index: ' + str(len(input_token_index)))\n",
        "\n",
        "num_encoder_tokens = len(input_token_index) + 1\n",
        "\n",
        "input_x = onehot_encode(input_sequence, len(input_sentence), num_encoder_tokens)\n",
        "\n",
        "translated_sentence = decode_sequence(input_x)\n",
        "\n",
        "print('source sentence is: ' + input_sentence)\n",
        "print('translated sentence is: ' + translated_sentence)"
      ]
    },
    {
      "cell_type": "markdown",
      "metadata": {
        "id": "URAfpeZ9edCj"
      },
      "source": [
        "# 5. Evaluate the translation using BLEU score\n",
        "\n",
        "- We have already translated from English to target language, but how can we evaluate the performance of our model quantitatively?\n",
        "\n",
        "- In this section, you need to re-train the model we built in section 3 and then evaluate the bleu score on testing dataset.\n",
        "\n",
        "Reference:\n",
        "\n",
        "https://machinelearningmastery.com/calculate-bleu-score-for-text-python/\n",
        "\n",
        "https://en.wikipedia.org/wiki/BLEU\n",
        "\n",
        "#### Hint:\n",
        "\n",
        "- Randomly partition the dataset to training, validation, and test.\n",
        "\n",
        "- Evaluate the BLEU score using the test set. Report the average.\n",
        "\n",
        "- You may use packages to calculate bleu score, e.g., sentence_bleu() from nltk package."
      ]
    },
    {
      "cell_type": "markdown",
      "metadata": {
        "id": "wGsGGy8tedCj"
      },
      "source": [
        "### 5.1. Partition the dataset to training, validation, and test. Build new token index. (10 points)\n",
        "\n",
        "1. You may try to load more data/lines from text file.\n",
        "2. Convert text to sequences and build token index using training data.\n",
        "3. One-hot encode your training and validation text sequences."
      ]
    },
    {
      "cell_type": "code",
      "execution_count": 26,
      "metadata": {
        "id": "8KSF8LkeedCj"
      },
      "outputs": [],
      "source": [
        "# e.g., filename = 'Data/deu.txt'\n",
        "filename = '/content/Data/spa.txt'\n",
        "\n",
        "# Get 50,000 sentences this time\n",
        "n_train = 50000"
      ]
    },
    {
      "cell_type": "code",
      "execution_count": 27,
      "metadata": {
        "id": "0fiyS-MLYWqT"
      },
      "outputs": [],
      "source": [
        "# load dataset\n",
        "doc = load_doc(filename)\n",
        "\n",
        "# split into Language1-Language2 pairs\n",
        "pairs = to_pairs(doc)\n",
        "\n",
        "# clean sentences\n",
        "clean_pairs = clean_data(pairs)[0:n_train, :]"
      ]
    },
    {
      "cell_type": "code",
      "execution_count": 28,
      "metadata": {
        "colab": {
          "base_uri": "https://localhost:8080/"
        },
        "id": "Il5yKMXaYh9p",
        "outputId": "8869dc7b-f1fd-4b2d-a927-993b08083baf"
      },
      "outputs": [
        {
          "output_type": "stream",
          "name": "stdout",
          "text": [
            "max length of input  sentences: 24\n",
            "max length of target sentences: 68\n"
          ]
        }
      ],
      "source": [
        "from sklearn.model_selection import train_test_split\n",
        "\n",
        "input_texts = clean_pairs[:, 0]\n",
        "target_texts = ['\\t' + text + '\\n' for text in clean_pairs[:, 1]]\n",
        "\n",
        "max_encoder_seq_length = max(len(line) for line in input_texts)\n",
        "max_decoder_seq_length = max(len(line) for line in target_texts)\n",
        "\n",
        "print('max length of input  sentences: %d' % (max_encoder_seq_length))\n",
        "print('max length of target sentences: %d' % (max_decoder_seq_length))\n",
        "\n",
        "# X_train, X_test, y_train, y_test = train_test_split(input_texts, target_texts, test_size=0.2, train_size=0.8, random_state=42)\n"
      ]
    },
    {
      "cell_type": "code",
      "execution_count": 29,
      "metadata": {
        "colab": {
          "base_uri": "https://localhost:8080/"
        },
        "id": "vCTYXb4WZQTp",
        "outputId": "f32c18e7-cc1b-426e-c791-1915c2b00846"
      },
      "outputs": [
        {
          "output_type": "stream",
          "name": "stdout",
          "text": [
            "shape of encoder_input_seq: (50000, 24)\n",
            "shape of input_token_index: 27\n",
            "shape of decoder_input_seq: (50000, 68)\n",
            "shape of target_token_index: 29\n"
          ]
        }
      ],
      "source": [
        "encoder_input_seq, input_token_index = text2sequences(max_encoder_seq_length,\n",
        "                                                      input_texts)\n",
        "decoder_input_seq, target_token_index = text2sequences(max_decoder_seq_length,\n",
        "                                                       target_texts)\n",
        "\n",
        "print('shape of encoder_input_seq: ' + str(encoder_input_seq.shape))\n",
        "print('shape of input_token_index: ' + str(len(input_token_index)))\n",
        "print('shape of decoder_input_seq: ' + str(decoder_input_seq.shape))\n",
        "print('shape of target_token_index: ' + str(len(target_token_index)))"
      ]
    },
    {
      "cell_type": "code",
      "execution_count": 30,
      "metadata": {
        "colab": {
          "base_uri": "https://localhost:8080/"
        },
        "id": "9PP0Kn-AZ66M",
        "outputId": "0acef784-3a73-4caf-d292-18230d25e3d2"
      },
      "outputs": [
        {
          "output_type": "stream",
          "name": "stdout",
          "text": [
            "num_encoder_tokens: 28\n",
            "num_decoder_tokens: 30\n"
          ]
        }
      ],
      "source": [
        "num_encoder_tokens = len(input_token_index) + 1\n",
        "num_decoder_tokens = len(target_token_index) + 1\n",
        "\n",
        "print('num_encoder_tokens: ' + str(num_encoder_tokens))\n",
        "print('num_decoder_tokens: ' + str(num_decoder_tokens))"
      ]
    },
    {
      "cell_type": "code",
      "execution_count": 31,
      "metadata": {
        "id": "GvHhskqoZ-aR"
      },
      "outputs": [],
      "source": [
        "encoder_input_data = onehot_encode(encoder_input_seq, max_encoder_seq_length, num_encoder_tokens)\n",
        "decoder_input_data = onehot_encode(decoder_input_seq, max_decoder_seq_length, num_decoder_tokens)\n",
        "\n",
        "decoder_target_seq = numpy.zeros(decoder_input_seq.shape)\n",
        "decoder_target_seq[:, 0:-1] = decoder_input_seq[:, 1:]\n",
        "decoder_target_data = onehot_encode(decoder_target_seq,\n",
        "                                    max_decoder_seq_length,\n",
        "                                    num_decoder_tokens)\n"
      ]
    },
    {
      "cell_type": "code",
      "execution_count": 32,
      "metadata": {
        "id": "GBYsKH4zaCfh"
      },
      "outputs": [],
      "source": [
        "from tensorflow.keras.layers import Input, LSTM, Bidirectional, Concatenate\n",
        "from tensorflow.keras.models import Model\n",
        "\n",
        "latent_dim = 256\n",
        "\n",
        "# inputs of the encoder network\n",
        "encoder_inputs = Input(shape=(None, num_encoder_tokens),\n",
        "                       name='encoder_inputs')\n",
        "\n",
        "# set the BiLSTM layer\n",
        "# encoder_lstm = LSTM(latent_dim, return_state=True,\n",
        "#                     dropout=0.5, name='encoder_lstm')\n",
        "# _, state_h, state_c = encoder_lstm(encoder_inputs)\n",
        "encoder_bilstm = Bidirectional(LSTM(latent_dim, return_state=True,\n",
        "                                  dropout=0.5, name='encoder_lstm'))\n",
        "_, forward_h, forward_c, backward_h, backward_c = encoder_bilstm(encoder_inputs)\n",
        "\n",
        "state_h = Concatenate()([forward_h, backward_h])\n",
        "state_c = Concatenate()([forward_c, backward_c])\n",
        "\n",
        "# build the encoder network model\n",
        "# Changed outputs to backward_h and backward_c\n",
        "encoder_model = Model(inputs=encoder_inputs,\n",
        "                      outputs=[backward_h, backward_c],\n",
        "                      name='encoder')"
      ]
    },
    {
      "cell_type": "code",
      "execution_count": 33,
      "metadata": {
        "id": "3SY5cpbnaK2s"
      },
      "outputs": [],
      "source": [
        "from tensorflow.keras.layers import Input, LSTM, Dense\n",
        "from tensorflow.keras.models import Model\n",
        "\n",
        "# inputs of the decoder network\n",
        "decoder_input_h = Input(shape=(latent_dim,), name='decoder_input_h')\n",
        "decoder_input_c = Input(shape=(latent_dim,), name='decoder_input_c')\n",
        "decoder_input_x = Input(shape=(None, num_decoder_tokens), name='decoder_input_x')\n",
        "\n",
        "# set the LSTM layer\n",
        "decoder_lstm = LSTM(latent_dim, return_sequences=True,\n",
        "                    return_state=True, dropout=0.5, name='decoder_lstm')\n",
        "decoder_lstm_outputs, state_h, state_c = decoder_lstm(decoder_input_x,\n",
        "                                                      initial_state=[decoder_input_h, decoder_input_c])\n",
        "\n",
        "# set the dense layer\n",
        "decoder_dense = Dense(num_decoder_tokens, activation='softmax', name='decoder_dense')\n",
        "decoder_outputs = decoder_dense(decoder_lstm_outputs)\n",
        "\n",
        "# build the decoder network model\n",
        "decoder_model = Model(inputs=[decoder_input_x, decoder_input_h, decoder_input_c],\n",
        "                      outputs=[decoder_outputs, state_h, state_c],\n",
        "                      name='decoder')"
      ]
    },
    {
      "cell_type": "code",
      "execution_count": 34,
      "metadata": {
        "id": "IBS9tLYIaNiT"
      },
      "outputs": [],
      "source": [
        "# input layers\n",
        "encoder_input_x = Input(shape=(None, num_encoder_tokens), name='encoder_input_x')\n",
        "decoder_input_x = Input(shape=(None, num_decoder_tokens), name='decoder_input_x')\n",
        "\n",
        "# connect encoder to decoder\n",
        "encoder_final_states = encoder_model([encoder_input_x])\n",
        "decoder_lstm_output, _, _ = decoder_lstm(decoder_input_x, initial_state=encoder_final_states)\n",
        "decoder_pred = decoder_dense(decoder_lstm_output)\n",
        "\n",
        "model = Model(inputs=[encoder_input_x, decoder_input_x],\n",
        "              outputs=decoder_pred,\n",
        "              name='model_training')"
      ]
    },
    {
      "cell_type": "code",
      "execution_count": 35,
      "metadata": {
        "id": "1imnyJhhaZze"
      },
      "outputs": [],
      "source": [
        "en_train, en_test, dec_train, dec_test = train_test_split(encoder_input_data, decoder_input_data, test_size=0.2, train_size=0.8, random_state=42)\n",
        "\n",
        "decoder_target_train, decoder_target_test = train_test_split(decoder_target_data,\n",
        "                                                              test_size=0.2,\n",
        "                                                              random_state=42)\n"
      ]
    },
    {
      "cell_type": "markdown",
      "metadata": {
        "id": "zCJp-yHpedCj"
      },
      "source": [
        "### 5.2 Retrain your previous Bidirectional LSTM model with training and validation data and tune the parameters (learning rate, optimizer, etc) based on validation score. (25 points)\n",
        "\n",
        "1. Use the model structure in section 3 to train a new model with new training and validation datasets.\n",
        "2. Based on validation BLEU score or loss to tune parameters."
      ]
    },
    {
      "cell_type": "code",
      "execution_count": 36,
      "metadata": {
        "colab": {
          "base_uri": "https://localhost:8080/"
        },
        "id": "OYQeYr8oaYZo",
        "outputId": "9f8bfc72-67e9-4ba6-9769-c122a0d7ce45"
      },
      "outputs": [
        {
          "output_type": "stream",
          "name": "stdout",
          "text": [
            "Epoch 1/50\n"
          ]
        },
        {
          "output_type": "stream",
          "name": "stderr",
          "text": [
            "WARNING:tensorflow:Gradients do not exist for variables ['bidirectional_1/forward_encoder_lstm/lstm_cell/kernel:0', 'bidirectional_1/forward_encoder_lstm/lstm_cell/recurrent_kernel:0', 'bidirectional_1/forward_encoder_lstm/lstm_cell/bias:0'] when minimizing the loss. If you're using `model.compile()`, did you forget to provide a `loss` argument?\n",
            "WARNING:tensorflow:Gradients do not exist for variables ['bidirectional_1/forward_encoder_lstm/lstm_cell/kernel:0', 'bidirectional_1/forward_encoder_lstm/lstm_cell/recurrent_kernel:0', 'bidirectional_1/forward_encoder_lstm/lstm_cell/bias:0'] when minimizing the loss. If you're using `model.compile()`, did you forget to provide a `loss` argument?\n",
            "WARNING:tensorflow:Gradients do not exist for variables ['bidirectional_1/forward_encoder_lstm/lstm_cell/kernel:0', 'bidirectional_1/forward_encoder_lstm/lstm_cell/recurrent_kernel:0', 'bidirectional_1/forward_encoder_lstm/lstm_cell/bias:0'] when minimizing the loss. If you're using `model.compile()`, did you forget to provide a `loss` argument?\n",
            "WARNING:tensorflow:Gradients do not exist for variables ['bidirectional_1/forward_encoder_lstm/lstm_cell/kernel:0', 'bidirectional_1/forward_encoder_lstm/lstm_cell/recurrent_kernel:0', 'bidirectional_1/forward_encoder_lstm/lstm_cell/bias:0'] when minimizing the loss. If you're using `model.compile()`, did you forget to provide a `loss` argument?\n"
          ]
        },
        {
          "output_type": "stream",
          "name": "stdout",
          "text": [
            "500/500 [==============================] - 10s 14ms/step - loss: 0.8502 - accuracy: 0.7545 - val_loss: 0.6196 - val_accuracy: 0.8048\n",
            "Epoch 2/50\n",
            "500/500 [==============================] - 5s 10ms/step - loss: 0.7104 - accuracy: 0.7809 - val_loss: 0.5726 - val_accuracy: 0.8185\n",
            "Epoch 3/50\n",
            "500/500 [==============================] - 6s 11ms/step - loss: 0.6842 - accuracy: 0.7891 - val_loss: 0.5402 - val_accuracy: 0.8285\n",
            "Epoch 4/50\n",
            "500/500 [==============================] - 5s 10ms/step - loss: 0.6633 - accuracy: 0.7959 - val_loss: 0.5122 - val_accuracy: 0.8384\n",
            "Epoch 5/50\n",
            "500/500 [==============================] - 6s 11ms/step - loss: 0.6455 - accuracy: 0.8018 - val_loss: 0.4883 - val_accuracy: 0.8484\n",
            "Epoch 6/50\n",
            "500/500 [==============================] - 5s 11ms/step - loss: 0.6306 - accuracy: 0.8067 - val_loss: 0.4803 - val_accuracy: 0.8497\n",
            "Epoch 7/50\n",
            "500/500 [==============================] - 5s 10ms/step - loss: 0.6181 - accuracy: 0.8104 - val_loss: 0.4593 - val_accuracy: 0.8579\n",
            "Epoch 8/50\n",
            "500/500 [==============================] - 6s 11ms/step - loss: 0.6069 - accuracy: 0.8143 - val_loss: 0.4467 - val_accuracy: 0.8623\n",
            "Epoch 9/50\n",
            "500/500 [==============================] - 5s 10ms/step - loss: 0.5971 - accuracy: 0.8173 - val_loss: 0.4367 - val_accuracy: 0.8647\n",
            "Epoch 10/50\n",
            "500/500 [==============================] - 6s 11ms/step - loss: 0.5883 - accuracy: 0.8204 - val_loss: 0.4249 - val_accuracy: 0.8687\n",
            "Epoch 11/50\n",
            "500/500 [==============================] - 6s 12ms/step - loss: 0.5797 - accuracy: 0.8228 - val_loss: 0.4169 - val_accuracy: 0.8715\n",
            "Epoch 12/50\n",
            "500/500 [==============================] - 6s 11ms/step - loss: 0.5731 - accuracy: 0.8247 - val_loss: 0.4086 - val_accuracy: 0.8737\n",
            "Epoch 13/50\n",
            "500/500 [==============================] - 5s 10ms/step - loss: 0.5671 - accuracy: 0.8268 - val_loss: 0.4023 - val_accuracy: 0.8759\n",
            "Epoch 14/50\n",
            "500/500 [==============================] - 6s 12ms/step - loss: 0.5603 - accuracy: 0.8289 - val_loss: 0.3936 - val_accuracy: 0.8795\n",
            "Epoch 15/50\n",
            "500/500 [==============================] - 5s 11ms/step - loss: 0.5542 - accuracy: 0.8307 - val_loss: 0.3886 - val_accuracy: 0.8797\n",
            "Epoch 16/50\n",
            "500/500 [==============================] - 5s 10ms/step - loss: 0.5501 - accuracy: 0.8320 - val_loss: 0.3858 - val_accuracy: 0.8821\n",
            "Epoch 17/50\n",
            "500/500 [==============================] - 6s 12ms/step - loss: 0.5444 - accuracy: 0.8339 - val_loss: 0.3790 - val_accuracy: 0.8835\n",
            "Epoch 18/50\n",
            "500/500 [==============================] - 5s 10ms/step - loss: 0.5403 - accuracy: 0.8352 - val_loss: 0.3753 - val_accuracy: 0.8845\n",
            "Epoch 19/50\n",
            "500/500 [==============================] - 6s 11ms/step - loss: 0.5375 - accuracy: 0.8359 - val_loss: 0.3725 - val_accuracy: 0.8854\n",
            "Epoch 20/50\n",
            "500/500 [==============================] - 5s 10ms/step - loss: 0.5343 - accuracy: 0.8372 - val_loss: 0.3690 - val_accuracy: 0.8869\n",
            "Epoch 21/50\n",
            "500/500 [==============================] - 6s 12ms/step - loss: 0.5332 - accuracy: 0.8373 - val_loss: 0.3700 - val_accuracy: 0.8866\n",
            "Epoch 22/50\n",
            "500/500 [==============================] - 5s 10ms/step - loss: 0.5299 - accuracy: 0.8385 - val_loss: 0.3638 - val_accuracy: 0.8882\n",
            "Epoch 23/50\n",
            "500/500 [==============================] - 6s 12ms/step - loss: 0.5253 - accuracy: 0.8400 - val_loss: 0.3612 - val_accuracy: 0.8889\n",
            "Epoch 24/50\n",
            "500/500 [==============================] - 5s 10ms/step - loss: 0.5223 - accuracy: 0.8407 - val_loss: 0.3596 - val_accuracy: 0.8895\n",
            "Epoch 25/50\n",
            "500/500 [==============================] - 5s 10ms/step - loss: 0.5198 - accuracy: 0.8415 - val_loss: 0.3565 - val_accuracy: 0.8903\n",
            "Epoch 26/50\n",
            "500/500 [==============================] - 6s 11ms/step - loss: 0.5177 - accuracy: 0.8422 - val_loss: 0.3507 - val_accuracy: 0.8927\n",
            "Epoch 27/50\n",
            "500/500 [==============================] - 5s 10ms/step - loss: 0.5162 - accuracy: 0.8428 - val_loss: 0.3506 - val_accuracy: 0.8926\n",
            "Epoch 28/50\n",
            "500/500 [==============================] - 6s 11ms/step - loss: 0.5144 - accuracy: 0.8431 - val_loss: 0.3498 - val_accuracy: 0.8922\n",
            "Epoch 29/50\n",
            "500/500 [==============================] - 5s 10ms/step - loss: 0.5102 - accuracy: 0.8447 - val_loss: 0.3475 - val_accuracy: 0.8932\n",
            "Epoch 30/50\n",
            "500/500 [==============================] - 6s 12ms/step - loss: 0.5087 - accuracy: 0.8450 - val_loss: 0.3450 - val_accuracy: 0.8939\n",
            "Epoch 31/50\n",
            "500/500 [==============================] - 5s 10ms/step - loss: 0.5079 - accuracy: 0.8452 - val_loss: 0.3438 - val_accuracy: 0.8941\n",
            "Epoch 32/50\n",
            "500/500 [==============================] - 5s 11ms/step - loss: 0.5059 - accuracy: 0.8458 - val_loss: 0.3410 - val_accuracy: 0.8949\n",
            "Epoch 33/50\n",
            "500/500 [==============================] - 6s 11ms/step - loss: 0.5050 - accuracy: 0.8461 - val_loss: 0.3411 - val_accuracy: 0.8957\n",
            "Epoch 34/50\n",
            "500/500 [==============================] - 5s 10ms/step - loss: 0.5021 - accuracy: 0.8470 - val_loss: 0.3395 - val_accuracy: 0.8956\n",
            "Epoch 35/50\n",
            "500/500 [==============================] - 6s 11ms/step - loss: 0.5021 - accuracy: 0.8470 - val_loss: 0.3390 - val_accuracy: 0.8961\n",
            "Epoch 36/50\n",
            "500/500 [==============================] - 5s 10ms/step - loss: 0.4995 - accuracy: 0.8477 - val_loss: 0.3344 - val_accuracy: 0.8975\n",
            "Epoch 37/50\n",
            "500/500 [==============================] - 6s 11ms/step - loss: 0.4978 - accuracy: 0.8483 - val_loss: 0.3360 - val_accuracy: 0.8965\n",
            "Epoch 38/50\n",
            "500/500 [==============================] - 5s 10ms/step - loss: 0.4976 - accuracy: 0.8481 - val_loss: 0.3348 - val_accuracy: 0.8972\n",
            "Epoch 39/50\n",
            "500/500 [==============================] - 5s 11ms/step - loss: 0.4960 - accuracy: 0.8490 - val_loss: 0.3324 - val_accuracy: 0.8978\n",
            "Epoch 40/50\n",
            "500/500 [==============================] - 5s 11ms/step - loss: 0.4941 - accuracy: 0.8495 - val_loss: 0.3318 - val_accuracy: 0.8984\n",
            "Epoch 41/50\n",
            "500/500 [==============================] - 5s 10ms/step - loss: 0.4940 - accuracy: 0.8495 - val_loss: 0.3297 - val_accuracy: 0.8988\n",
            "Epoch 42/50\n",
            "500/500 [==============================] - 6s 11ms/step - loss: 0.4914 - accuracy: 0.8501 - val_loss: 0.3309 - val_accuracy: 0.8986\n",
            "Epoch 43/50\n",
            "500/500 [==============================] - 5s 10ms/step - loss: 0.4923 - accuracy: 0.8498 - val_loss: 0.3287 - val_accuracy: 0.8993\n",
            "Epoch 44/50\n",
            "500/500 [==============================] - 6s 12ms/step - loss: 0.4906 - accuracy: 0.8503 - val_loss: 0.3263 - val_accuracy: 0.8997\n",
            "Epoch 45/50\n",
            "500/500 [==============================] - 5s 10ms/step - loss: 0.4879 - accuracy: 0.8511 - val_loss: 0.3264 - val_accuracy: 0.8999\n",
            "Epoch 46/50\n",
            "500/500 [==============================] - 6s 12ms/step - loss: 0.4877 - accuracy: 0.8513 - val_loss: 0.3252 - val_accuracy: 0.8997\n",
            "Epoch 47/50\n",
            "500/500 [==============================] - 5s 10ms/step - loss: 0.4863 - accuracy: 0.8517 - val_loss: 0.3237 - val_accuracy: 0.9007\n",
            "Epoch 48/50\n",
            "500/500 [==============================] - 6s 12ms/step - loss: 0.4858 - accuracy: 0.8517 - val_loss: 0.3251 - val_accuracy: 0.9002\n",
            "Epoch 49/50\n",
            "500/500 [==============================] - 5s 11ms/step - loss: 0.4849 - accuracy: 0.8521 - val_loss: 0.3219 - val_accuracy: 0.9014\n",
            "Epoch 50/50\n",
            "500/500 [==============================] - 6s 12ms/step - loss: 0.4844 - accuracy: 0.8523 - val_loss: 0.3233 - val_accuracy: 0.9008\n"
          ]
        },
        {
          "output_type": "stream",
          "name": "stderr",
          "text": [
            "/usr/local/lib/python3.10/dist-packages/keras/src/engine/training.py:3103: UserWarning: You are saving your model as an HDF5 file via `model.save()`. This file format is considered legacy. We recommend using instead the native Keras format, e.g. `model.save('my_model.keras')`.\n",
            "  saving_api.save_model(\n"
          ]
        }
      ],
      "source": [
        "\n",
        "from tensorflow.keras.optimizers import RMSprop\n",
        "\n",
        "# Define your desired learning rate\n",
        "# Increased learning_rate as model was plateauing at certain loss values\n",
        "learning_rate = 0.01  # For example, set your desired learning rate here\n",
        "\n",
        "# Create the optimizer instance with the desired learning rate\n",
        "optimizer = RMSprop(learning_rate=learning_rate)\n",
        "\n",
        "model.compile(optimizer=optimizer, loss='categorical_crossentropy', metrics=['accuracy'])\n",
        "\n",
        "model.fit([en_train, dec_train],  # training data\n",
        "          decoder_target_train,                       # labels (left shift of the target sequences)\n",
        "          batch_size=64, epochs=50, validation_split=0.2)\n",
        "\n",
        "model.save('seq2seq.h5')"
      ]
    },
    {
      "cell_type": "markdown",
      "metadata": {
        "id": "FSuz_DicedCk"
      },
      "source": [
        "### 5.3 Evaluate the BLEU score using the test set. (15 points)\n",
        "\n",
        "1. Use trained model above to calculate the BLEU score with testing dataset.\n",
        "2. A reasonable value should be 0.1-0.3. The higher, the better."
      ]
    },
    {
      "cell_type": "code",
      "execution_count": 37,
      "metadata": {
        "id": "GLucE8FQ-7lY"
      },
      "outputs": [],
      "source": [
        "reverse_input_char_index = dict((i, char) for char, i in input_token_index.items())\n",
        "reverse_target_char_index = dict((i, char) for char, i in target_token_index.items())"
      ]
    },
    {
      "cell_type": "code",
      "execution_count": 38,
      "metadata": {
        "id": "ebmG_Gr6jM10"
      },
      "outputs": [],
      "source": [
        "# print(target_texts)\n",
        "from tqdm import tqdm\n",
        "import time\n",
        "import random\n",
        "\n",
        "\n",
        "\n",
        "\n",
        "def make_target_and_generated(generateds, num_samples):\n",
        "  # Randomly samples indexes of target and generated sentences and processing them\n",
        "  # By trimming starting and ending symbolss\n",
        "  start_index = 0\n",
        "  end_index = 10000\n",
        "\n",
        "  sampled_indexes = random.sample(range(start_index, end_index-1), num_samples)\n",
        "\n",
        "  # targets_output = []\n",
        "  # for e in tqdm(range(0, len(sampled_indexes))):\n",
        "  #   temp = (decode_sequence(targets[e:e+1]))\n",
        "  #   targets_output.append(temp[0:-1])\n",
        "\n",
        "  generateds_output = []\n",
        "  for e in tqdm(range(0, len(sampled_indexes))):\n",
        "    index = sampled_indexes[e]\n",
        "    temp = (decode_sequence(generateds[index:index+1]))\n",
        "    generateds_output.append(temp[0:-1])\n",
        "\n",
        "  return sampled_indexes, generateds_output\n"
      ]
    },
    {
      "cell_type": "code",
      "execution_count": 39,
      "metadata": {
        "colab": {
          "base_uri": "https://localhost:8080/"
        },
        "id": "g7agYbFpn7wv",
        "outputId": "4c0236f7-536f-4a7e-a511-224fd3245460"
      },
      "outputs": [
        {
          "output_type": "stream",
          "name": "stdout",
          "text": [
            "(10000, 24, 28)\n"
          ]
        },
        {
          "output_type": "stream",
          "name": "stderr",
          "text": [
            "\r  0%|          | 0/100 [00:00<?, ?it/s]"
          ]
        },
        {
          "output_type": "stream",
          "name": "stdout",
          "text": [
            "1/1 [==============================] - 1s 1s/step\n",
            "1/1 [==============================] - 0s 357ms/step\n",
            "1/1 [==============================] - 0s 19ms/step\n",
            "1/1 [==============================] - 0s 19ms/step\n",
            "1/1 [==============================] - 0s 19ms/step\n",
            "1/1 [==============================] - 0s 20ms/step\n",
            "1/1 [==============================] - 0s 20ms/step\n",
            "1/1 [==============================] - 0s 19ms/step\n",
            "1/1 [==============================] - 0s 20ms/step\n",
            "1/1 [==============================] - 0s 19ms/step\n",
            "1/1 [==============================] - 0s 20ms/step\n",
            "1/1 [==============================] - 0s 20ms/step\n",
            "1/1 [==============================] - 0s 21ms/step\n",
            "1/1 [==============================] - 0s 18ms/step\n",
            "1/1 [==============================] - 0s 26ms/step\n",
            "1/1 [==============================] - 0s 21ms/step\n",
            "1/1 [==============================] - 0s 20ms/step\n"
          ]
        },
        {
          "output_type": "stream",
          "name": "stderr",
          "text": [
            "\r  1%|          | 1/100 [00:02<04:17,  2.60s/it]"
          ]
        },
        {
          "output_type": "stream",
          "name": "stdout",
          "text": [
            "1/1 [==============================] - 0s 17ms/step\n",
            "1/1 [==============================] - 0s 20ms/step\n",
            "1/1 [==============================] - 0s 20ms/step\n",
            "1/1 [==============================] - 0s 20ms/step\n",
            "1/1 [==============================] - 0s 20ms/step\n",
            "1/1 [==============================] - 0s 18ms/step\n",
            "1/1 [==============================] - 0s 19ms/step\n",
            "1/1 [==============================] - 0s 19ms/step\n",
            "1/1 [==============================] - 0s 22ms/step\n",
            "1/1 [==============================] - 0s 22ms/step\n",
            "1/1 [==============================] - 0s 19ms/step\n",
            "1/1 [==============================] - 0s 19ms/step\n",
            "1/1 [==============================] - 0s 20ms/step\n",
            "1/1 [==============================] - 0s 20ms/step\n",
            "1/1 [==============================] - 0s 19ms/step\n",
            "1/1 [==============================] - 0s 21ms/step\n",
            "1/1 [==============================] - 0s 21ms/step\n",
            "1/1 [==============================] - 0s 22ms/step\n",
            "1/1 [==============================] - 0s 20ms/step\n",
            "1/1 [==============================] - 0s 20ms/step\n",
            "1/1 [==============================] - 0s 22ms/step\n",
            "1/1 [==============================] - 0s 21ms/step\n",
            "1/1 [==============================] - 0s 20ms/step\n",
            "1/1 [==============================] - 0s 24ms/step\n",
            "1/1 [==============================] - 0s 22ms/step\n",
            "1/1 [==============================] - 0s 25ms/step\n"
          ]
        },
        {
          "output_type": "stream",
          "name": "stderr",
          "text": [
            "\r  2%|▏         | 2/100 [00:04<03:33,  2.18s/it]"
          ]
        },
        {
          "output_type": "stream",
          "name": "stdout",
          "text": [
            "1/1 [==============================] - 0s 19ms/step\n",
            "1/1 [==============================] - 0s 23ms/step\n",
            "1/1 [==============================] - 0s 19ms/step\n",
            "1/1 [==============================] - 0s 19ms/step\n",
            "1/1 [==============================] - 0s 19ms/step\n",
            "1/1 [==============================] - 0s 19ms/step\n",
            "1/1 [==============================] - 0s 21ms/step\n",
            "1/1 [==============================] - 0s 19ms/step\n",
            "1/1 [==============================] - 0s 18ms/step\n",
            "1/1 [==============================] - 0s 21ms/step\n",
            "1/1 [==============================] - 0s 19ms/step\n",
            "1/1 [==============================] - 0s 20ms/step\n",
            "1/1 [==============================] - 0s 20ms/step\n",
            "1/1 [==============================] - 0s 18ms/step\n",
            "1/1 [==============================] - 0s 25ms/step\n",
            "1/1 [==============================] - 0s 19ms/step\n",
            "1/1 [==============================] - 0s 18ms/step\n",
            "1/1 [==============================] - 0s 19ms/step\n",
            "1/1 [==============================] - 0s 28ms/step\n",
            "1/1 [==============================] - 0s 19ms/step\n",
            "1/1 [==============================] - 0s 19ms/step\n",
            "1/1 [==============================] - 0s 19ms/step\n"
          ]
        },
        {
          "output_type": "stream",
          "name": "stderr",
          "text": [
            "\r  3%|▎         | 3/100 [00:06<03:03,  1.90s/it]"
          ]
        },
        {
          "output_type": "stream",
          "name": "stdout",
          "text": [
            "1/1 [==============================] - 0s 16ms/step\n",
            "1/1 [==============================] - 0s 20ms/step\n",
            "1/1 [==============================] - 0s 19ms/step\n",
            "1/1 [==============================] - 0s 19ms/step\n",
            "1/1 [==============================] - 0s 19ms/step\n",
            "1/1 [==============================] - 0s 19ms/step\n",
            "1/1 [==============================] - 0s 19ms/step\n",
            "1/1 [==============================] - 0s 23ms/step\n",
            "1/1 [==============================] - 0s 19ms/step\n",
            "1/1 [==============================] - 0s 20ms/step\n",
            "1/1 [==============================] - 0s 20ms/step\n",
            "1/1 [==============================] - 0s 19ms/step\n",
            "1/1 [==============================] - 0s 20ms/step\n",
            "1/1 [==============================] - 0s 21ms/step\n",
            "1/1 [==============================] - 0s 23ms/step\n",
            "1/1 [==============================] - 0s 22ms/step\n",
            "1/1 [==============================] - 0s 18ms/step\n",
            "1/1 [==============================] - 0s 19ms/step\n",
            "1/1 [==============================] - 0s 19ms/step\n"
          ]
        },
        {
          "output_type": "stream",
          "name": "stderr",
          "text": [
            "\r  4%|▍         | 4/100 [00:07<02:40,  1.67s/it]"
          ]
        },
        {
          "output_type": "stream",
          "name": "stdout",
          "text": [
            "1/1 [==============================] - 0s 17ms/step\n",
            "1/1 [==============================] - 0s 19ms/step\n",
            "1/1 [==============================] - 0s 19ms/step\n",
            "1/1 [==============================] - 0s 19ms/step\n",
            "1/1 [==============================] - 0s 22ms/step\n",
            "1/1 [==============================] - 0s 18ms/step\n",
            "1/1 [==============================] - 0s 19ms/step\n",
            "1/1 [==============================] - 0s 19ms/step\n",
            "1/1 [==============================] - 0s 18ms/step\n",
            "1/1 [==============================] - 0s 19ms/step\n",
            "1/1 [==============================] - 0s 18ms/step\n",
            "1/1 [==============================] - 0s 19ms/step\n",
            "1/1 [==============================] - 0s 19ms/step\n",
            "1/1 [==============================] - 0s 19ms/step\n",
            "1/1 [==============================] - 0s 18ms/step\n",
            "1/1 [==============================] - 0s 21ms/step\n",
            "1/1 [==============================] - 0s 19ms/step\n",
            "1/1 [==============================] - 0s 20ms/step\n",
            "1/1 [==============================] - 0s 20ms/step\n",
            "1/1 [==============================] - 0s 19ms/step\n",
            "1/1 [==============================] - 0s 19ms/step\n",
            "1/1 [==============================] - 0s 19ms/step\n",
            "1/1 [==============================] - 0s 21ms/step\n",
            "1/1 [==============================] - 0s 20ms/step\n",
            "1/1 [==============================] - 0s 23ms/step\n"
          ]
        },
        {
          "output_type": "stream",
          "name": "stderr",
          "text": [
            "\r  5%|▌         | 5/100 [00:09<02:39,  1.68s/it]"
          ]
        },
        {
          "output_type": "stream",
          "name": "stdout",
          "text": [
            "1/1 [==============================] - 0s 17ms/step\n",
            "1/1 [==============================] - 0s 19ms/step\n",
            "1/1 [==============================] - 0s 20ms/step\n",
            "1/1 [==============================] - 0s 18ms/step\n",
            "1/1 [==============================] - 0s 19ms/step\n",
            "1/1 [==============================] - 0s 19ms/step\n",
            "1/1 [==============================] - 0s 20ms/step\n",
            "1/1 [==============================] - 0s 19ms/step\n",
            "1/1 [==============================] - 0s 19ms/step\n",
            "1/1 [==============================] - 0s 19ms/step\n",
            "1/1 [==============================] - 0s 22ms/step\n",
            "1/1 [==============================] - 0s 21ms/step\n",
            "1/1 [==============================] - 0s 19ms/step\n",
            "1/1 [==============================] - 0s 32ms/step\n",
            "1/1 [==============================] - 0s 28ms/step\n",
            "1/1 [==============================] - 0s 30ms/step\n",
            "1/1 [==============================] - 0s 28ms/step\n",
            "1/1 [==============================] - 0s 28ms/step\n",
            "1/1 [==============================] - 0s 33ms/step\n",
            "1/1 [==============================] - 0s 31ms/step\n",
            "1/1 [==============================] - 0s 33ms/step\n",
            "1/1 [==============================] - 0s 32ms/step\n",
            "1/1 [==============================] - 0s 30ms/step\n",
            "1/1 [==============================] - 0s 31ms/step\n"
          ]
        },
        {
          "output_type": "stream",
          "name": "stderr",
          "text": [
            "\r  6%|▌         | 6/100 [00:11<02:49,  1.80s/it]"
          ]
        },
        {
          "output_type": "stream",
          "name": "stdout",
          "text": [
            "1/1 [==============================] - 0s 25ms/step\n",
            "1/1 [==============================] - 0s 32ms/step\n",
            "1/1 [==============================] - 0s 38ms/step\n",
            "1/1 [==============================] - 0s 29ms/step\n",
            "1/1 [==============================] - 0s 31ms/step\n",
            "1/1 [==============================] - 0s 34ms/step\n",
            "1/1 [==============================] - 0s 33ms/step\n",
            "1/1 [==============================] - 0s 32ms/step\n",
            "1/1 [==============================] - 0s 31ms/step\n",
            "1/1 [==============================] - 0s 32ms/step\n",
            "1/1 [==============================] - 0s 31ms/step\n",
            "1/1 [==============================] - 0s 33ms/step\n",
            "1/1 [==============================] - 0s 18ms/step\n",
            "1/1 [==============================] - 0s 22ms/step\n",
            "1/1 [==============================] - 0s 21ms/step\n",
            "1/1 [==============================] - 0s 23ms/step\n",
            "1/1 [==============================] - 0s 20ms/step\n",
            "1/1 [==============================] - 0s 20ms/step\n",
            "1/1 [==============================] - 0s 20ms/step\n",
            "1/1 [==============================] - 0s 21ms/step\n",
            "1/1 [==============================] - 0s 19ms/step\n",
            "1/1 [==============================] - 0s 18ms/step\n"
          ]
        },
        {
          "output_type": "stream",
          "name": "stderr",
          "text": [
            "\r  7%|▋         | 7/100 [00:13<02:51,  1.84s/it]"
          ]
        },
        {
          "output_type": "stream",
          "name": "stdout",
          "text": [
            "1/1 [==============================] - 0s 20ms/step\n",
            "1/1 [==============================] - 0s 20ms/step\n",
            "1/1 [==============================] - 0s 22ms/step\n",
            "1/1 [==============================] - 0s 19ms/step\n",
            "1/1 [==============================] - 0s 21ms/step\n",
            "1/1 [==============================] - 0s 19ms/step\n",
            "1/1 [==============================] - 0s 19ms/step\n",
            "1/1 [==============================] - 0s 19ms/step\n",
            "1/1 [==============================] - 0s 19ms/step\n",
            "1/1 [==============================] - 0s 18ms/step\n",
            "1/1 [==============================] - 0s 20ms/step\n",
            "1/1 [==============================] - 0s 20ms/step\n",
            "1/1 [==============================] - 0s 24ms/step\n",
            "1/1 [==============================] - 0s 20ms/step\n",
            "1/1 [==============================] - 0s 19ms/step\n",
            "1/1 [==============================] - 0s 22ms/step\n",
            "1/1 [==============================] - 0s 20ms/step\n",
            "1/1 [==============================] - 0s 20ms/step\n",
            "1/1 [==============================] - 0s 19ms/step\n",
            "1/1 [==============================] - 0s 20ms/step\n",
            "1/1 [==============================] - 0s 23ms/step\n",
            "1/1 [==============================] - 0s 20ms/step\n",
            "1/1 [==============================] - 0s 20ms/step\n",
            "1/1 [==============================] - 0s 23ms/step\n"
          ]
        },
        {
          "output_type": "stream",
          "name": "stderr",
          "text": [
            "\r  8%|▊         | 8/100 [00:14<02:45,  1.79s/it]"
          ]
        },
        {
          "output_type": "stream",
          "name": "stdout",
          "text": [
            "1/1 [==============================] - 0s 20ms/step\n",
            "1/1 [==============================] - 0s 20ms/step\n",
            "1/1 [==============================] - 0s 20ms/step\n",
            "1/1 [==============================] - 0s 20ms/step\n",
            "1/1 [==============================] - 0s 19ms/step\n",
            "1/1 [==============================] - 0s 21ms/step\n",
            "1/1 [==============================] - 0s 19ms/step\n",
            "1/1 [==============================] - 0s 19ms/step\n",
            "1/1 [==============================] - 0s 21ms/step\n",
            "1/1 [==============================] - 0s 20ms/step\n",
            "1/1 [==============================] - 0s 20ms/step\n",
            "1/1 [==============================] - 0s 23ms/step\n",
            "1/1 [==============================] - 0s 19ms/step\n",
            "1/1 [==============================] - 0s 19ms/step\n",
            "1/1 [==============================] - 0s 19ms/step\n",
            "1/1 [==============================] - 0s 19ms/step\n",
            "1/1 [==============================] - 0s 21ms/step\n",
            "1/1 [==============================] - 0s 19ms/step\n",
            "1/1 [==============================] - 0s 19ms/step\n",
            "1/1 [==============================] - 0s 20ms/step\n",
            "1/1 [==============================] - 0s 19ms/step\n",
            "1/1 [==============================] - 0s 19ms/step\n",
            "1/1 [==============================] - 0s 19ms/step\n",
            "1/1 [==============================] - 0s 19ms/step\n",
            "1/1 [==============================] - 0s 22ms/step\n",
            "1/1 [==============================] - 0s 20ms/step\n",
            "1/1 [==============================] - 0s 23ms/step\n",
            "1/1 [==============================] - 0s 19ms/step\n",
            "1/1 [==============================] - 0s 27ms/step\n",
            "1/1 [==============================] - 0s 30ms/step\n",
            "1/1 [==============================] - 0s 21ms/step\n",
            "1/1 [==============================] - 0s 19ms/step\n"
          ]
        },
        {
          "output_type": "stream",
          "name": "stderr",
          "text": [
            "\r  9%|▉         | 9/100 [00:16<02:56,  1.94s/it]"
          ]
        },
        {
          "output_type": "stream",
          "name": "stdout",
          "text": [
            "1/1 [==============================] - 0s 17ms/step\n",
            "1/1 [==============================] - 0s 19ms/step\n",
            "1/1 [==============================] - 0s 21ms/step\n",
            "1/1 [==============================] - 0s 23ms/step\n",
            "1/1 [==============================] - 0s 19ms/step\n",
            "1/1 [==============================] - 0s 20ms/step\n",
            "1/1 [==============================] - 0s 19ms/step\n",
            "1/1 [==============================] - 0s 19ms/step\n",
            "1/1 [==============================] - 0s 19ms/step\n",
            "1/1 [==============================] - 0s 20ms/step\n",
            "1/1 [==============================] - 0s 22ms/step\n",
            "1/1 [==============================] - 0s 20ms/step\n",
            "1/1 [==============================] - 0s 20ms/step\n",
            "1/1 [==============================] - 0s 20ms/step\n",
            "1/1 [==============================] - 0s 19ms/step\n",
            "1/1 [==============================] - 0s 19ms/step\n",
            "1/1 [==============================] - 0s 19ms/step\n",
            "1/1 [==============================] - 0s 23ms/step\n",
            "1/1 [==============================] - 0s 24ms/step\n",
            "1/1 [==============================] - 0s 23ms/step\n"
          ]
        },
        {
          "output_type": "stream",
          "name": "stderr",
          "text": [
            "\r 10%|█         | 10/100 [00:18<02:39,  1.77s/it]"
          ]
        },
        {
          "output_type": "stream",
          "name": "stdout",
          "text": [
            "1/1 [==============================] - 0s 18ms/step\n",
            "1/1 [==============================] - 0s 20ms/step\n",
            "1/1 [==============================] - 0s 20ms/step\n",
            "1/1 [==============================] - 0s 19ms/step\n",
            "1/1 [==============================] - 0s 19ms/step\n",
            "1/1 [==============================] - 0s 20ms/step\n",
            "1/1 [==============================] - 0s 31ms/step\n",
            "1/1 [==============================] - 0s 22ms/step\n",
            "1/1 [==============================] - 0s 22ms/step\n",
            "1/1 [==============================] - 0s 20ms/step\n",
            "1/1 [==============================] - 0s 20ms/step\n",
            "1/1 [==============================] - 0s 19ms/step\n",
            "1/1 [==============================] - 0s 22ms/step\n",
            "1/1 [==============================] - 0s 20ms/step\n",
            "1/1 [==============================] - 0s 19ms/step\n",
            "1/1 [==============================] - 0s 21ms/step\n",
            "1/1 [==============================] - 0s 21ms/step\n",
            "1/1 [==============================] - 0s 20ms/step\n",
            "1/1 [==============================] - 0s 21ms/step\n",
            "1/1 [==============================] - 0s 20ms/step\n"
          ]
        },
        {
          "output_type": "stream",
          "name": "stderr",
          "text": [
            "\r 11%|█         | 11/100 [00:19<02:29,  1.68s/it]"
          ]
        },
        {
          "output_type": "stream",
          "name": "stdout",
          "text": [
            "1/1 [==============================] - 0s 26ms/step\n",
            "1/1 [==============================] - 0s 23ms/step\n",
            "1/1 [==============================] - 0s 20ms/step\n",
            "1/1 [==============================] - 0s 19ms/step\n",
            "1/1 [==============================] - 0s 23ms/step\n",
            "1/1 [==============================] - 0s 22ms/step\n",
            "1/1 [==============================] - 0s 19ms/step\n",
            "1/1 [==============================] - 0s 18ms/step\n",
            "1/1 [==============================] - 0s 19ms/step\n",
            "1/1 [==============================] - 0s 20ms/step\n",
            "1/1 [==============================] - 0s 21ms/step\n",
            "1/1 [==============================] - 0s 21ms/step\n",
            "1/1 [==============================] - 0s 20ms/step\n",
            "1/1 [==============================] - 0s 19ms/step\n",
            "1/1 [==============================] - 0s 33ms/step\n",
            "1/1 [==============================] - 0s 22ms/step\n",
            "1/1 [==============================] - 0s 21ms/step\n"
          ]
        },
        {
          "output_type": "stream",
          "name": "stderr",
          "text": [
            "\r 12%|█▏        | 12/100 [00:21<02:16,  1.55s/it]"
          ]
        },
        {
          "output_type": "stream",
          "name": "stdout",
          "text": [
            "1/1 [==============================] - 0s 24ms/step\n",
            "1/1 [==============================] - 0s 20ms/step\n",
            "1/1 [==============================] - 0s 20ms/step\n",
            "1/1 [==============================] - 0s 21ms/step\n",
            "1/1 [==============================] - 0s 23ms/step\n",
            "1/1 [==============================] - 0s 21ms/step\n",
            "1/1 [==============================] - 0s 21ms/step\n",
            "1/1 [==============================] - 0s 20ms/step\n",
            "1/1 [==============================] - 0s 21ms/step\n",
            "1/1 [==============================] - 0s 28ms/step\n",
            "1/1 [==============================] - 0s 21ms/step\n",
            "1/1 [==============================] - 0s 21ms/step\n",
            "1/1 [==============================] - 0s 22ms/step\n",
            "1/1 [==============================] - 0s 19ms/step\n",
            "1/1 [==============================] - 0s 19ms/step\n",
            "1/1 [==============================] - 0s 19ms/step\n"
          ]
        },
        {
          "output_type": "stream",
          "name": "stderr",
          "text": [
            "\r 13%|█▎        | 13/100 [00:22<02:05,  1.44s/it]"
          ]
        },
        {
          "output_type": "stream",
          "name": "stdout",
          "text": [
            "1/1 [==============================] - 0s 28ms/step\n",
            "1/1 [==============================] - 0s 30ms/step\n",
            "1/1 [==============================] - 0s 29ms/step\n",
            "1/1 [==============================] - 0s 30ms/step\n",
            "1/1 [==============================] - 0s 38ms/step\n",
            "1/1 [==============================] - 0s 30ms/step\n",
            "1/1 [==============================] - 0s 40ms/step\n",
            "1/1 [==============================] - 0s 29ms/step\n",
            "1/1 [==============================] - 0s 35ms/step\n",
            "1/1 [==============================] - 0s 39ms/step\n",
            "1/1 [==============================] - 0s 31ms/step\n",
            "1/1 [==============================] - 0s 29ms/step\n",
            "1/1 [==============================] - 0s 43ms/step\n",
            "1/1 [==============================] - 0s 28ms/step\n",
            "1/1 [==============================] - 0s 40ms/step\n",
            "1/1 [==============================] - 0s 86ms/step\n",
            "1/1 [==============================] - 0s 50ms/step\n",
            "1/1 [==============================] - 0s 34ms/step\n",
            "1/1 [==============================] - 0s 37ms/step\n",
            "1/1 [==============================] - 0s 31ms/step\n",
            "1/1 [==============================] - 0s 33ms/step\n",
            "1/1 [==============================] - 0s 33ms/step\n",
            "1/1 [==============================] - 0s 22ms/step\n"
          ]
        },
        {
          "output_type": "stream",
          "name": "stderr",
          "text": [
            "\r 14%|█▍        | 14/100 [00:25<02:37,  1.83s/it]"
          ]
        },
        {
          "output_type": "stream",
          "name": "stdout",
          "text": [
            "1/1 [==============================] - 0s 32ms/step\n",
            "1/1 [==============================] - 0s 20ms/step\n",
            "1/1 [==============================] - 0s 19ms/step\n",
            "1/1 [==============================] - 0s 24ms/step\n",
            "1/1 [==============================] - 0s 45ms/step\n",
            "1/1 [==============================] - 0s 25ms/step\n",
            "1/1 [==============================] - 0s 46ms/step\n",
            "1/1 [==============================] - 0s 20ms/step\n",
            "1/1 [==============================] - 0s 20ms/step\n",
            "1/1 [==============================] - 0s 20ms/step\n",
            "1/1 [==============================] - 0s 74ms/step\n",
            "1/1 [==============================] - 0s 23ms/step\n",
            "1/1 [==============================] - 0s 19ms/step\n",
            "1/1 [==============================] - 0s 82ms/step\n",
            "1/1 [==============================] - 0s 20ms/step\n",
            "1/1 [==============================] - 0s 23ms/step\n",
            "1/1 [==============================] - 0s 19ms/step\n",
            "1/1 [==============================] - 0s 33ms/step\n",
            "1/1 [==============================] - 0s 19ms/step\n",
            "1/1 [==============================] - 0s 62ms/step\n",
            "1/1 [==============================] - 0s 32ms/step\n",
            "1/1 [==============================] - 0s 19ms/step\n",
            "1/1 [==============================] - 0s 24ms/step\n",
            "1/1 [==============================] - 0s 72ms/step\n",
            "1/1 [==============================] - 0s 46ms/step\n",
            "1/1 [==============================] - 0s 21ms/step\n",
            "1/1 [==============================] - 0s 21ms/step\n",
            "1/1 [==============================] - 0s 21ms/step\n"
          ]
        },
        {
          "output_type": "stream",
          "name": "stderr",
          "text": [
            "\r 15%|█▌        | 15/100 [00:27<03:04,  2.17s/it]"
          ]
        },
        {
          "output_type": "stream",
          "name": "stdout",
          "text": [
            "1/1 [==============================] - 0s 25ms/step\n",
            "1/1 [==============================] - 0s 58ms/step\n",
            "1/1 [==============================] - 0s 34ms/step\n",
            "1/1 [==============================] - 0s 99ms/step\n",
            "1/1 [==============================] - 0s 21ms/step\n",
            "1/1 [==============================] - 0s 19ms/step\n",
            "1/1 [==============================] - 0s 31ms/step\n",
            "1/1 [==============================] - 0s 25ms/step\n",
            "1/1 [==============================] - 0s 20ms/step\n",
            "1/1 [==============================] - 0s 27ms/step\n",
            "1/1 [==============================] - 0s 22ms/step\n",
            "1/1 [==============================] - 0s 20ms/step\n",
            "1/1 [==============================] - 0s 20ms/step\n",
            "1/1 [==============================] - 0s 30ms/step\n",
            "1/1 [==============================] - 0s 20ms/step\n",
            "1/1 [==============================] - 0s 22ms/step\n",
            "1/1 [==============================] - 0s 22ms/step\n",
            "1/1 [==============================] - 0s 43ms/step\n",
            "1/1 [==============================] - 0s 20ms/step\n",
            "1/1 [==============================] - 0s 21ms/step\n",
            "1/1 [==============================] - 0s 20ms/step\n",
            "1/1 [==============================] - 0s 20ms/step\n",
            "1/1 [==============================] - 0s 19ms/step\n",
            "1/1 [==============================] - 0s 19ms/step\n",
            "1/1 [==============================] - 0s 21ms/step\n",
            "1/1 [==============================] - 0s 20ms/step\n",
            "1/1 [==============================] - 0s 45ms/step\n",
            "1/1 [==============================] - 0s 20ms/step\n",
            "1/1 [==============================] - 0s 23ms/step\n",
            "1/1 [==============================] - 0s 19ms/step\n",
            "1/1 [==============================] - 0s 19ms/step\n"
          ]
        },
        {
          "output_type": "stream",
          "name": "stderr",
          "text": [
            "\r 16%|█▌        | 16/100 [00:30<03:22,  2.41s/it]"
          ]
        },
        {
          "output_type": "stream",
          "name": "stdout",
          "text": [
            "1/1 [==============================] - 0s 26ms/step\n",
            "1/1 [==============================] - 0s 21ms/step\n",
            "1/1 [==============================] - 0s 34ms/step\n",
            "1/1 [==============================] - 0s 24ms/step\n",
            "1/1 [==============================] - 0s 20ms/step\n",
            "1/1 [==============================] - 0s 20ms/step\n",
            "1/1 [==============================] - 0s 20ms/step\n",
            "1/1 [==============================] - 0s 87ms/step\n",
            "1/1 [==============================] - 0s 19ms/step\n",
            "1/1 [==============================] - 0s 20ms/step\n",
            "1/1 [==============================] - 0s 20ms/step\n",
            "1/1 [==============================] - 0s 31ms/step\n",
            "1/1 [==============================] - 0s 20ms/step\n",
            "1/1 [==============================] - 0s 22ms/step\n",
            "1/1 [==============================] - 0s 21ms/step\n",
            "1/1 [==============================] - 0s 20ms/step\n",
            "1/1 [==============================] - 0s 23ms/step\n",
            "1/1 [==============================] - 0s 22ms/step\n",
            "1/1 [==============================] - 0s 19ms/step\n"
          ]
        },
        {
          "output_type": "stream",
          "name": "stderr",
          "text": [
            "\r 17%|█▋        | 17/100 [00:32<03:01,  2.19s/it]"
          ]
        },
        {
          "output_type": "stream",
          "name": "stdout",
          "text": [
            "1/1 [==============================] - 0s 20ms/step\n",
            "1/1 [==============================] - 0s 20ms/step\n",
            "1/1 [==============================] - 0s 20ms/step\n",
            "1/1 [==============================] - 0s 34ms/step\n",
            "1/1 [==============================] - 0s 29ms/step\n",
            "1/1 [==============================] - 0s 19ms/step\n",
            "1/1 [==============================] - 0s 23ms/step\n",
            "1/1 [==============================] - 0s 31ms/step\n",
            "1/1 [==============================] - 0s 22ms/step\n",
            "1/1 [==============================] - 0s 30ms/step\n",
            "1/1 [==============================] - 0s 34ms/step\n",
            "1/1 [==============================] - 0s 39ms/step\n",
            "1/1 [==============================] - 0s 22ms/step\n",
            "1/1 [==============================] - 0s 49ms/step\n",
            "1/1 [==============================] - 0s 20ms/step\n",
            "1/1 [==============================] - 0s 19ms/step\n",
            "1/1 [==============================] - 0s 19ms/step\n",
            "1/1 [==============================] - 0s 19ms/step\n",
            "1/1 [==============================] - 0s 19ms/step\n",
            "1/1 [==============================] - 0s 45ms/step\n",
            "1/1 [==============================] - 0s 21ms/step\n"
          ]
        },
        {
          "output_type": "stream",
          "name": "stderr",
          "text": [
            "\r 18%|█▊        | 18/100 [00:34<02:53,  2.12s/it]"
          ]
        },
        {
          "output_type": "stream",
          "name": "stdout",
          "text": [
            "1/1 [==============================] - 0s 18ms/step\n",
            "1/1 [==============================] - 0s 20ms/step\n",
            "1/1 [==============================] - 0s 21ms/step\n",
            "1/1 [==============================] - 0s 21ms/step\n",
            "1/1 [==============================] - 0s 24ms/step\n",
            "1/1 [==============================] - 0s 76ms/step\n",
            "1/1 [==============================] - 0s 32ms/step\n",
            "1/1 [==============================] - 0s 40ms/step\n",
            "1/1 [==============================] - 0s 47ms/step\n",
            "1/1 [==============================] - 0s 28ms/step\n",
            "1/1 [==============================] - 0s 50ms/step\n",
            "1/1 [==============================] - 0s 80ms/step\n",
            "1/1 [==============================] - 0s 39ms/step\n",
            "1/1 [==============================] - 0s 45ms/step\n",
            "1/1 [==============================] - 0s 32ms/step\n",
            "1/1 [==============================] - 0s 54ms/step\n",
            "1/1 [==============================] - 0s 48ms/step\n",
            "1/1 [==============================] - 0s 28ms/step\n",
            "1/1 [==============================] - 0s 32ms/step\n",
            "1/1 [==============================] - 0s 32ms/step\n",
            "1/1 [==============================] - 0s 34ms/step\n",
            "1/1 [==============================] - 0s 31ms/step\n",
            "1/1 [==============================] - 0s 35ms/step\n"
          ]
        },
        {
          "output_type": "stream",
          "name": "stderr",
          "text": [
            "\r 19%|█▉        | 19/100 [00:37<03:14,  2.40s/it]"
          ]
        },
        {
          "output_type": "stream",
          "name": "stdout",
          "text": [
            "1/1 [==============================] - 0s 26ms/step\n",
            "1/1 [==============================] - 0s 20ms/step\n",
            "1/1 [==============================] - 0s 19ms/step\n",
            "1/1 [==============================] - 0s 19ms/step\n",
            "1/1 [==============================] - 0s 21ms/step\n",
            "1/1 [==============================] - 0s 19ms/step\n",
            "1/1 [==============================] - 0s 20ms/step\n",
            "1/1 [==============================] - 0s 45ms/step\n",
            "1/1 [==============================] - 0s 64ms/step\n",
            "1/1 [==============================] - 0s 44ms/step\n",
            "1/1 [==============================] - 0s 19ms/step\n",
            "1/1 [==============================] - 0s 18ms/step\n"
          ]
        },
        {
          "output_type": "stream",
          "name": "stderr",
          "text": [
            "\r 20%|██        | 20/100 [00:38<02:40,  2.01s/it]"
          ]
        },
        {
          "output_type": "stream",
          "name": "stdout",
          "text": [
            "1/1 [==============================] - 0s 20ms/step\n",
            "1/1 [==============================] - 0s 21ms/step\n",
            "1/1 [==============================] - 0s 24ms/step\n",
            "1/1 [==============================] - 0s 20ms/step\n",
            "1/1 [==============================] - 0s 28ms/step\n",
            "1/1 [==============================] - 0s 20ms/step\n",
            "1/1 [==============================] - 0s 19ms/step\n",
            "1/1 [==============================] - 0s 19ms/step\n",
            "1/1 [==============================] - 0s 36ms/step\n",
            "1/1 [==============================] - 0s 22ms/step\n",
            "1/1 [==============================] - 0s 30ms/step\n",
            "1/1 [==============================] - 0s 30ms/step\n",
            "1/1 [==============================] - 0s 22ms/step\n",
            "1/1 [==============================] - 0s 20ms/step\n"
          ]
        },
        {
          "output_type": "stream",
          "name": "stderr",
          "text": [
            "\r 21%|██        | 21/100 [00:39<02:20,  1.77s/it]"
          ]
        },
        {
          "output_type": "stream",
          "name": "stdout",
          "text": [
            "1/1 [==============================] - 0s 18ms/step\n",
            "1/1 [==============================] - 0s 20ms/step\n",
            "1/1 [==============================] - 0s 21ms/step\n",
            "1/1 [==============================] - 0s 26ms/step\n",
            "1/1 [==============================] - 0s 20ms/step\n",
            "1/1 [==============================] - 0s 20ms/step\n",
            "1/1 [==============================] - 0s 20ms/step\n",
            "1/1 [==============================] - 0s 35ms/step\n",
            "1/1 [==============================] - 0s 19ms/step\n",
            "1/1 [==============================] - 0s 20ms/step\n",
            "1/1 [==============================] - 0s 22ms/step\n",
            "1/1 [==============================] - 0s 23ms/step\n",
            "1/1 [==============================] - 0s 74ms/step\n",
            "1/1 [==============================] - 0s 19ms/step\n",
            "1/1 [==============================] - 0s 19ms/step\n",
            "1/1 [==============================] - 0s 19ms/step\n",
            "1/1 [==============================] - 0s 23ms/step\n",
            "1/1 [==============================] - 0s 19ms/step\n",
            "1/1 [==============================] - 0s 33ms/step\n",
            "1/1 [==============================] - 0s 20ms/step\n"
          ]
        },
        {
          "output_type": "stream",
          "name": "stderr",
          "text": [
            "\r 22%|██▏       | 22/100 [00:41<02:15,  1.74s/it]"
          ]
        },
        {
          "output_type": "stream",
          "name": "stdout",
          "text": [
            "1/1 [==============================] - 0s 17ms/step\n",
            "1/1 [==============================] - 0s 20ms/step\n",
            "1/1 [==============================] - 0s 24ms/step\n",
            "1/1 [==============================] - 0s 20ms/step\n",
            "1/1 [==============================] - 0s 24ms/step\n",
            "1/1 [==============================] - 0s 19ms/step\n",
            "1/1 [==============================] - 0s 19ms/step\n",
            "1/1 [==============================] - 0s 21ms/step\n",
            "1/1 [==============================] - 0s 64ms/step\n",
            "1/1 [==============================] - 0s 31ms/step\n",
            "1/1 [==============================] - 0s 19ms/step\n",
            "1/1 [==============================] - 0s 33ms/step\n",
            "1/1 [==============================] - 0s 19ms/step\n",
            "1/1 [==============================] - 0s 33ms/step\n",
            "1/1 [==============================] - 0s 27ms/step\n",
            "1/1 [==============================] - 0s 21ms/step\n",
            "1/1 [==============================] - 0s 23ms/step\n",
            "1/1 [==============================] - 0s 20ms/step\n",
            "1/1 [==============================] - 0s 19ms/step\n",
            "1/1 [==============================] - 0s 77ms/step\n",
            "1/1 [==============================] - 0s 20ms/step\n",
            "1/1 [==============================] - 0s 19ms/step\n",
            "1/1 [==============================] - 0s 31ms/step\n",
            "1/1 [==============================] - 0s 23ms/step\n",
            "1/1 [==============================] - 0s 22ms/step\n",
            "1/1 [==============================] - 0s 20ms/step\n",
            "1/1 [==============================] - 0s 20ms/step\n",
            "1/1 [==============================] - 0s 19ms/step\n",
            "1/1 [==============================] - 0s 22ms/step\n",
            "1/1 [==============================] - 0s 29ms/step\n"
          ]
        },
        {
          "output_type": "stream",
          "name": "stderr",
          "text": [
            "\r 23%|██▎       | 23/100 [00:44<02:32,  1.97s/it]"
          ]
        },
        {
          "output_type": "stream",
          "name": "stdout",
          "text": [
            "1/1 [==============================] - 0s 17ms/step\n",
            "1/1 [==============================] - 0s 21ms/step\n",
            "1/1 [==============================] - 0s 20ms/step\n",
            "1/1 [==============================] - 0s 20ms/step\n",
            "1/1 [==============================] - 0s 36ms/step\n",
            "1/1 [==============================] - 0s 165ms/step\n",
            "1/1 [==============================] - 0s 20ms/step\n",
            "1/1 [==============================] - 0s 54ms/step\n",
            "1/1 [==============================] - 0s 69ms/step\n",
            "1/1 [==============================] - 0s 31ms/step\n",
            "1/1 [==============================] - 0s 129ms/step\n",
            "1/1 [==============================] - 0s 140ms/step\n",
            "1/1 [==============================] - 0s 36ms/step\n",
            "1/1 [==============================] - 0s 24ms/step\n"
          ]
        },
        {
          "output_type": "stream",
          "name": "stderr",
          "text": [
            "\r 24%|██▍       | 24/100 [00:46<02:36,  2.06s/it]"
          ]
        },
        {
          "output_type": "stream",
          "name": "stdout",
          "text": [
            "1/1 [==============================] - 0s 19ms/step\n",
            "1/1 [==============================] - 0s 19ms/step\n",
            "1/1 [==============================] - 0s 20ms/step\n",
            "1/1 [==============================] - 0s 20ms/step\n",
            "1/1 [==============================] - 0s 23ms/step\n",
            "1/1 [==============================] - 0s 20ms/step\n",
            "1/1 [==============================] - 0s 20ms/step\n",
            "1/1 [==============================] - 0s 20ms/step\n",
            "1/1 [==============================] - 0s 20ms/step\n",
            "1/1 [==============================] - 0s 20ms/step\n",
            "1/1 [==============================] - 0s 20ms/step\n",
            "1/1 [==============================] - 0s 19ms/step\n",
            "1/1 [==============================] - 0s 20ms/step\n",
            "1/1 [==============================] - 0s 23ms/step\n",
            "1/1 [==============================] - 0s 20ms/step\n",
            "1/1 [==============================] - 0s 21ms/step\n",
            "1/1 [==============================] - 0s 20ms/step\n",
            "1/1 [==============================] - 0s 35ms/step\n",
            "1/1 [==============================] - 0s 28ms/step\n",
            "1/1 [==============================] - 0s 30ms/step\n",
            "1/1 [==============================] - 0s 35ms/step\n"
          ]
        },
        {
          "output_type": "stream",
          "name": "stderr",
          "text": [
            "\r 25%|██▌       | 25/100 [00:48<02:26,  1.95s/it]"
          ]
        },
        {
          "output_type": "stream",
          "name": "stdout",
          "text": [
            "1/1 [==============================] - 0s 25ms/step\n",
            "1/1 [==============================] - 0s 28ms/step\n",
            "1/1 [==============================] - 0s 28ms/step\n",
            "1/1 [==============================] - 0s 28ms/step\n",
            "1/1 [==============================] - 0s 38ms/step\n",
            "1/1 [==============================] - 0s 28ms/step\n",
            "1/1 [==============================] - 0s 49ms/step\n",
            "1/1 [==============================] - 0s 33ms/step\n",
            "1/1 [==============================] - 0s 31ms/step\n",
            "1/1 [==============================] - 0s 29ms/step\n",
            "1/1 [==============================] - 0s 33ms/step\n",
            "1/1 [==============================] - 0s 33ms/step\n",
            "1/1 [==============================] - 0s 29ms/step\n",
            "1/1 [==============================] - 0s 33ms/step\n",
            "1/1 [==============================] - 0s 34ms/step\n",
            "1/1 [==============================] - 0s 30ms/step\n",
            "1/1 [==============================] - 0s 31ms/step\n",
            "1/1 [==============================] - 0s 27ms/step\n"
          ]
        },
        {
          "output_type": "stream",
          "name": "stderr",
          "text": [
            "\r 26%|██▌       | 26/100 [00:50<02:23,  1.94s/it]"
          ]
        },
        {
          "output_type": "stream",
          "name": "stdout",
          "text": [
            "1/1 [==============================] - 0s 21ms/step\n",
            "1/1 [==============================] - 0s 19ms/step\n",
            "1/1 [==============================] - 0s 20ms/step\n",
            "1/1 [==============================] - 0s 19ms/step\n",
            "1/1 [==============================] - 0s 19ms/step\n",
            "1/1 [==============================] - 0s 22ms/step\n",
            "1/1 [==============================] - 0s 19ms/step\n",
            "1/1 [==============================] - 0s 19ms/step\n",
            "1/1 [==============================] - 0s 20ms/step\n",
            "1/1 [==============================] - 0s 21ms/step\n",
            "1/1 [==============================] - 0s 21ms/step\n",
            "1/1 [==============================] - 0s 20ms/step\n",
            "1/1 [==============================] - 0s 19ms/step\n",
            "1/1 [==============================] - 0s 19ms/step\n",
            "1/1 [==============================] - 0s 20ms/step\n",
            "1/1 [==============================] - 0s 20ms/step\n",
            "1/1 [==============================] - 0s 22ms/step\n",
            "1/1 [==============================] - 0s 26ms/step\n",
            "1/1 [==============================] - 0s 22ms/step\n",
            "1/1 [==============================] - 0s 21ms/step\n",
            "1/1 [==============================] - 0s 25ms/step\n",
            "1/1 [==============================] - 0s 20ms/step\n",
            "1/1 [==============================] - 0s 25ms/step\n",
            "1/1 [==============================] - 0s 21ms/step\n",
            "1/1 [==============================] - 0s 19ms/step\n"
          ]
        },
        {
          "output_type": "stream",
          "name": "stderr",
          "text": [
            "\r 27%|██▋       | 27/100 [00:51<02:19,  1.91s/it]"
          ]
        },
        {
          "output_type": "stream",
          "name": "stdout",
          "text": [
            "1/1 [==============================] - 0s 26ms/step\n",
            "1/1 [==============================] - 0s 19ms/step\n",
            "1/1 [==============================] - 0s 19ms/step\n",
            "1/1 [==============================] - 0s 20ms/step\n",
            "1/1 [==============================] - 0s 23ms/step\n",
            "1/1 [==============================] - 0s 20ms/step\n",
            "1/1 [==============================] - 0s 19ms/step\n",
            "1/1 [==============================] - 0s 21ms/step\n",
            "1/1 [==============================] - 0s 20ms/step\n",
            "1/1 [==============================] - 0s 21ms/step\n",
            "1/1 [==============================] - 0s 19ms/step\n",
            "1/1 [==============================] - 0s 20ms/step\n",
            "1/1 [==============================] - 0s 22ms/step\n",
            "1/1 [==============================] - 0s 20ms/step\n",
            "1/1 [==============================] - 0s 25ms/step\n",
            "1/1 [==============================] - 0s 20ms/step\n"
          ]
        },
        {
          "output_type": "stream",
          "name": "stderr",
          "text": [
            "\r 28%|██▊       | 28/100 [00:52<02:00,  1.68s/it]"
          ]
        },
        {
          "output_type": "stream",
          "name": "stdout",
          "text": [
            "1/1 [==============================] - 0s 17ms/step\n",
            "1/1 [==============================] - 0s 21ms/step\n",
            "1/1 [==============================] - 0s 20ms/step\n",
            "1/1 [==============================] - 0s 19ms/step\n",
            "1/1 [==============================] - 0s 19ms/step\n",
            "1/1 [==============================] - 0s 19ms/step\n",
            "1/1 [==============================] - 0s 21ms/step\n",
            "1/1 [==============================] - 0s 24ms/step\n",
            "1/1 [==============================] - 0s 19ms/step\n",
            "1/1 [==============================] - 0s 19ms/step\n",
            "1/1 [==============================] - 0s 19ms/step\n",
            "1/1 [==============================] - 0s 19ms/step\n",
            "1/1 [==============================] - 0s 19ms/step\n",
            "1/1 [==============================] - 0s 28ms/step\n",
            "1/1 [==============================] - 0s 19ms/step\n",
            "1/1 [==============================] - 0s 20ms/step\n",
            "1/1 [==============================] - 0s 22ms/step\n",
            "1/1 [==============================] - 0s 19ms/step\n",
            "1/1 [==============================] - 0s 22ms/step\n",
            "1/1 [==============================] - 0s 21ms/step\n",
            "1/1 [==============================] - 0s 20ms/step\n",
            "1/1 [==============================] - 0s 25ms/step\n",
            "1/1 [==============================] - 0s 19ms/step\n",
            "1/1 [==============================] - 0s 24ms/step\n",
            "1/1 [==============================] - 0s 20ms/step\n",
            "1/1 [==============================] - 0s 22ms/step\n"
          ]
        },
        {
          "output_type": "stream",
          "name": "stderr",
          "text": [
            "\r 29%|██▉       | 29/100 [00:54<02:02,  1.73s/it]"
          ]
        },
        {
          "output_type": "stream",
          "name": "stdout",
          "text": [
            "1/1 [==============================] - 0s 18ms/step\n",
            "1/1 [==============================] - 0s 29ms/step\n",
            "1/1 [==============================] - 0s 19ms/step\n",
            "1/1 [==============================] - 0s 19ms/step\n",
            "1/1 [==============================] - 0s 21ms/step\n",
            "1/1 [==============================] - 0s 20ms/step\n",
            "1/1 [==============================] - 0s 20ms/step\n",
            "1/1 [==============================] - 0s 21ms/step\n",
            "1/1 [==============================] - 0s 21ms/step\n",
            "1/1 [==============================] - 0s 24ms/step\n",
            "1/1 [==============================] - 0s 19ms/step\n",
            "1/1 [==============================] - 0s 19ms/step\n",
            "1/1 [==============================] - 0s 20ms/step\n",
            "1/1 [==============================] - 0s 20ms/step\n",
            "1/1 [==============================] - 0s 19ms/step\n"
          ]
        },
        {
          "output_type": "stream",
          "name": "stderr",
          "text": [
            "\r 30%|███       | 30/100 [00:55<01:47,  1.54s/it]"
          ]
        },
        {
          "output_type": "stream",
          "name": "stdout",
          "text": [
            "1/1 [==============================] - 0s 22ms/step\n",
            "1/1 [==============================] - 0s 20ms/step\n",
            "1/1 [==============================] - 0s 21ms/step\n",
            "1/1 [==============================] - 0s 19ms/step\n",
            "1/1 [==============================] - 0s 21ms/step\n",
            "1/1 [==============================] - 0s 19ms/step\n",
            "1/1 [==============================] - 0s 21ms/step\n",
            "1/1 [==============================] - 0s 20ms/step\n",
            "1/1 [==============================] - 0s 22ms/step\n",
            "1/1 [==============================] - 0s 21ms/step\n",
            "1/1 [==============================] - 0s 20ms/step\n",
            "1/1 [==============================] - 0s 20ms/step\n",
            "1/1 [==============================] - 0s 19ms/step\n",
            "1/1 [==============================] - 0s 21ms/step\n",
            "1/1 [==============================] - 0s 21ms/step\n",
            "1/1 [==============================] - 0s 23ms/step\n",
            "1/1 [==============================] - 0s 20ms/step\n",
            "1/1 [==============================] - 0s 19ms/step\n",
            "1/1 [==============================] - 0s 19ms/step\n",
            "1/1 [==============================] - 0s 19ms/step\n",
            "1/1 [==============================] - 0s 20ms/step\n",
            "1/1 [==============================] - 0s 21ms/step\n",
            "1/1 [==============================] - 0s 22ms/step\n"
          ]
        },
        {
          "output_type": "stream",
          "name": "stderr",
          "text": [
            "\r 31%|███       | 31/100 [00:57<01:48,  1.57s/it]"
          ]
        },
        {
          "output_type": "stream",
          "name": "stdout",
          "text": [
            "1/1 [==============================] - 0s 18ms/step\n",
            "1/1 [==============================] - 0s 19ms/step\n",
            "1/1 [==============================] - 0s 19ms/step\n",
            "1/1 [==============================] - 0s 19ms/step\n",
            "1/1 [==============================] - 0s 20ms/step\n",
            "1/1 [==============================] - 0s 19ms/step\n",
            "1/1 [==============================] - 0s 27ms/step\n",
            "1/1 [==============================] - 0s 21ms/step\n",
            "1/1 [==============================] - 0s 20ms/step\n",
            "1/1 [==============================] - 0s 20ms/step\n",
            "1/1 [==============================] - 0s 19ms/step\n",
            "1/1 [==============================] - 0s 21ms/step\n",
            "1/1 [==============================] - 0s 24ms/step\n",
            "1/1 [==============================] - 0s 24ms/step\n",
            "1/1 [==============================] - 0s 20ms/step\n",
            "1/1 [==============================] - 0s 20ms/step\n",
            "1/1 [==============================] - 0s 20ms/step\n",
            "1/1 [==============================] - 0s 22ms/step\n",
            "1/1 [==============================] - 0s 20ms/step\n",
            "1/1 [==============================] - 0s 24ms/step\n",
            "1/1 [==============================] - 0s 29ms/step\n",
            "1/1 [==============================] - 0s 19ms/step\n",
            "1/1 [==============================] - 0s 19ms/step\n"
          ]
        },
        {
          "output_type": "stream",
          "name": "stderr",
          "text": [
            "\r 32%|███▏      | 32/100 [00:59<01:48,  1.60s/it]"
          ]
        },
        {
          "output_type": "stream",
          "name": "stdout",
          "text": [
            "1/1 [==============================] - 0s 17ms/step\n",
            "1/1 [==============================] - 0s 21ms/step\n",
            "1/1 [==============================] - 0s 21ms/step\n",
            "1/1 [==============================] - 0s 22ms/step\n",
            "1/1 [==============================] - 0s 21ms/step\n",
            "1/1 [==============================] - 0s 20ms/step\n",
            "1/1 [==============================] - 0s 21ms/step\n",
            "1/1 [==============================] - 0s 20ms/step\n",
            "1/1 [==============================] - 0s 20ms/step\n",
            "1/1 [==============================] - 0s 19ms/step\n",
            "1/1 [==============================] - 0s 34ms/step\n",
            "1/1 [==============================] - 0s 44ms/step\n",
            "1/1 [==============================] - 0s 29ms/step\n",
            "1/1 [==============================] - 0s 30ms/step\n",
            "1/1 [==============================] - 0s 28ms/step\n",
            "1/1 [==============================] - 0s 27ms/step\n",
            "1/1 [==============================] - 0s 28ms/step\n",
            "1/1 [==============================] - 0s 33ms/step\n",
            "1/1 [==============================] - 0s 37ms/step\n",
            "1/1 [==============================] - 0s 28ms/step\n",
            "1/1 [==============================] - 0s 28ms/step\n",
            "1/1 [==============================] - 0s 32ms/step\n",
            "1/1 [==============================] - 0s 32ms/step\n",
            "1/1 [==============================] - 0s 27ms/step\n",
            "1/1 [==============================] - 0s 37ms/step\n"
          ]
        },
        {
          "output_type": "stream",
          "name": "stderr",
          "text": [
            "\r 33%|███▎      | 33/100 [01:01<01:59,  1.79s/it]"
          ]
        },
        {
          "output_type": "stream",
          "name": "stdout",
          "text": [
            "1/1 [==============================] - 0s 28ms/step\n",
            "1/1 [==============================] - 0s 29ms/step\n",
            "1/1 [==============================] - 0s 30ms/step\n",
            "1/1 [==============================] - 0s 39ms/step\n",
            "1/1 [==============================] - 0s 30ms/step\n",
            "1/1 [==============================] - 0s 35ms/step\n",
            "1/1 [==============================] - 0s 31ms/step\n",
            "1/1 [==============================] - 0s 30ms/step\n",
            "1/1 [==============================] - 0s 32ms/step\n",
            "1/1 [==============================] - 0s 20ms/step\n",
            "1/1 [==============================] - 0s 22ms/step\n",
            "1/1 [==============================] - 0s 19ms/step\n",
            "1/1 [==============================] - 0s 21ms/step\n",
            "1/1 [==============================] - 0s 21ms/step\n",
            "1/1 [==============================] - 0s 23ms/step\n",
            "1/1 [==============================] - 0s 19ms/step\n",
            "1/1 [==============================] - 0s 20ms/step\n",
            "1/1 [==============================] - 0s 20ms/step\n"
          ]
        },
        {
          "output_type": "stream",
          "name": "stderr",
          "text": [
            "\r 34%|███▍      | 34/100 [01:03<01:55,  1.74s/it]"
          ]
        },
        {
          "output_type": "stream",
          "name": "stdout",
          "text": [
            "1/1 [==============================] - 0s 18ms/step\n",
            "1/1 [==============================] - 0s 20ms/step\n",
            "1/1 [==============================] - 0s 19ms/step\n",
            "1/1 [==============================] - 0s 20ms/step\n",
            "1/1 [==============================] - 0s 19ms/step\n",
            "1/1 [==============================] - 0s 19ms/step\n",
            "1/1 [==============================] - 0s 20ms/step\n",
            "1/1 [==============================] - 0s 21ms/step\n",
            "1/1 [==============================] - 0s 21ms/step\n",
            "1/1 [==============================] - 0s 19ms/step\n",
            "1/1 [==============================] - 0s 20ms/step\n",
            "1/1 [==============================] - 0s 19ms/step\n",
            "1/1 [==============================] - 0s 19ms/step\n",
            "1/1 [==============================] - 0s 20ms/step\n",
            "1/1 [==============================] - 0s 26ms/step\n",
            "1/1 [==============================] - 0s 20ms/step\n",
            "1/1 [==============================] - 0s 20ms/step\n",
            "1/1 [==============================] - 0s 31ms/step\n"
          ]
        },
        {
          "output_type": "stream",
          "name": "stderr",
          "text": [
            "\r 35%|███▌      | 35/100 [01:04<01:45,  1.62s/it]"
          ]
        },
        {
          "output_type": "stream",
          "name": "stdout",
          "text": [
            "1/1 [==============================] - 0s 22ms/step\n",
            "1/1 [==============================] - 0s 20ms/step\n",
            "1/1 [==============================] - 0s 20ms/step\n",
            "1/1 [==============================] - 0s 19ms/step\n",
            "1/1 [==============================] - 0s 21ms/step\n",
            "1/1 [==============================] - 0s 20ms/step\n",
            "1/1 [==============================] - 0s 20ms/step\n",
            "1/1 [==============================] - 0s 21ms/step\n",
            "1/1 [==============================] - 0s 21ms/step\n",
            "1/1 [==============================] - 0s 19ms/step\n",
            "1/1 [==============================] - 0s 20ms/step\n",
            "1/1 [==============================] - 0s 22ms/step\n",
            "1/1 [==============================] - 0s 19ms/step\n",
            "1/1 [==============================] - 0s 21ms/step\n",
            "1/1 [==============================] - 0s 19ms/step\n",
            "1/1 [==============================] - 0s 22ms/step\n",
            "1/1 [==============================] - 0s 20ms/step\n",
            "1/1 [==============================] - 0s 19ms/step\n",
            "1/1 [==============================] - 0s 20ms/step\n",
            "1/1 [==============================] - 0s 21ms/step\n",
            "1/1 [==============================] - 0s 21ms/step\n",
            "1/1 [==============================] - 0s 24ms/step\n",
            "1/1 [==============================] - 0s 19ms/step\n",
            "1/1 [==============================] - 0s 23ms/step\n"
          ]
        },
        {
          "output_type": "stream",
          "name": "stderr",
          "text": [
            "\r 36%|███▌      | 36/100 [01:06<01:46,  1.67s/it]"
          ]
        },
        {
          "output_type": "stream",
          "name": "stdout",
          "text": [
            "1/1 [==============================] - 0s 18ms/step\n",
            "1/1 [==============================] - 0s 20ms/step\n",
            "1/1 [==============================] - 0s 20ms/step\n",
            "1/1 [==============================] - 0s 21ms/step\n",
            "1/1 [==============================] - 0s 20ms/step\n",
            "1/1 [==============================] - 0s 20ms/step\n",
            "1/1 [==============================] - 0s 21ms/step\n",
            "1/1 [==============================] - 0s 20ms/step\n",
            "1/1 [==============================] - 0s 20ms/step\n",
            "1/1 [==============================] - 0s 20ms/step\n",
            "1/1 [==============================] - 0s 19ms/step\n",
            "1/1 [==============================] - 0s 19ms/step\n",
            "1/1 [==============================] - 0s 20ms/step\n",
            "1/1 [==============================] - 0s 21ms/step\n",
            "1/1 [==============================] - 0s 21ms/step\n",
            "1/1 [==============================] - 0s 20ms/step\n",
            "1/1 [==============================] - 0s 19ms/step\n",
            "1/1 [==============================] - 0s 20ms/step\n",
            "1/1 [==============================] - 0s 20ms/step\n",
            "1/1 [==============================] - 0s 19ms/step\n",
            "1/1 [==============================] - 0s 21ms/step\n",
            "1/1 [==============================] - 0s 21ms/step\n"
          ]
        },
        {
          "output_type": "stream",
          "name": "stderr",
          "text": [
            "\r 37%|███▋      | 37/100 [01:07<01:43,  1.64s/it]"
          ]
        },
        {
          "output_type": "stream",
          "name": "stdout",
          "text": [
            "1/1 [==============================] - 0s 20ms/step\n",
            "1/1 [==============================] - 0s 19ms/step\n",
            "1/1 [==============================] - 0s 20ms/step\n",
            "1/1 [==============================] - 0s 20ms/step\n",
            "1/1 [==============================] - 0s 22ms/step\n",
            "1/1 [==============================] - 0s 22ms/step\n",
            "1/1 [==============================] - 0s 19ms/step\n",
            "1/1 [==============================] - 0s 20ms/step\n",
            "1/1 [==============================] - 0s 21ms/step\n",
            "1/1 [==============================] - 0s 20ms/step\n",
            "1/1 [==============================] - 0s 20ms/step\n",
            "1/1 [==============================] - 0s 20ms/step\n",
            "1/1 [==============================] - 0s 21ms/step\n",
            "1/1 [==============================] - 0s 20ms/step\n",
            "1/1 [==============================] - 0s 20ms/step\n",
            "1/1 [==============================] - 0s 20ms/step\n",
            "1/1 [==============================] - 0s 20ms/step\n",
            "1/1 [==============================] - 0s 21ms/step\n",
            "1/1 [==============================] - 0s 21ms/step\n",
            "1/1 [==============================] - 0s 19ms/step\n",
            "1/1 [==============================] - 0s 19ms/step\n"
          ]
        },
        {
          "output_type": "stream",
          "name": "stderr",
          "text": [
            "\r 38%|███▊      | 38/100 [01:09<01:39,  1.60s/it]"
          ]
        },
        {
          "output_type": "stream",
          "name": "stdout",
          "text": [
            "1/1 [==============================] - 0s 22ms/step\n",
            "1/1 [==============================] - 0s 20ms/step\n",
            "1/1 [==============================] - 0s 23ms/step\n",
            "1/1 [==============================] - 0s 21ms/step\n",
            "1/1 [==============================] - 0s 20ms/step\n",
            "1/1 [==============================] - 0s 20ms/step\n",
            "1/1 [==============================] - 0s 20ms/step\n",
            "1/1 [==============================] - 0s 22ms/step\n",
            "1/1 [==============================] - 0s 19ms/step\n",
            "1/1 [==============================] - 0s 21ms/step\n",
            "1/1 [==============================] - 0s 19ms/step\n",
            "1/1 [==============================] - 0s 19ms/step\n",
            "1/1 [==============================] - 0s 19ms/step\n",
            "1/1 [==============================] - 0s 21ms/step\n",
            "1/1 [==============================] - 0s 27ms/step\n",
            "1/1 [==============================] - 0s 22ms/step\n",
            "1/1 [==============================] - 0s 24ms/step\n",
            "1/1 [==============================] - 0s 20ms/step\n",
            "1/1 [==============================] - 0s 19ms/step\n",
            "1/1 [==============================] - 0s 24ms/step\n",
            "1/1 [==============================] - 0s 22ms/step\n",
            "1/1 [==============================] - 0s 20ms/step\n",
            "1/1 [==============================] - 0s 19ms/step\n"
          ]
        },
        {
          "output_type": "stream",
          "name": "stderr",
          "text": [
            "\r 39%|███▉      | 39/100 [01:10<01:39,  1.63s/it]"
          ]
        },
        {
          "output_type": "stream",
          "name": "stdout",
          "text": [
            "1/1 [==============================] - 0s 18ms/step\n",
            "1/1 [==============================] - 0s 19ms/step\n",
            "1/1 [==============================] - 0s 20ms/step\n",
            "1/1 [==============================] - 0s 19ms/step\n",
            "1/1 [==============================] - 0s 18ms/step\n",
            "1/1 [==============================] - 0s 26ms/step\n",
            "1/1 [==============================] - 0s 20ms/step\n",
            "1/1 [==============================] - 0s 21ms/step\n",
            "1/1 [==============================] - 0s 29ms/step\n",
            "1/1 [==============================] - 0s 19ms/step\n",
            "1/1 [==============================] - 0s 20ms/step\n",
            "1/1 [==============================] - 0s 20ms/step\n",
            "1/1 [==============================] - 0s 19ms/step\n",
            "1/1 [==============================] - 0s 23ms/step\n",
            "1/1 [==============================] - 0s 21ms/step\n"
          ]
        },
        {
          "output_type": "stream",
          "name": "stderr",
          "text": [
            "\r 40%|████      | 40/100 [01:12<01:28,  1.47s/it]"
          ]
        },
        {
          "output_type": "stream",
          "name": "stdout",
          "text": [
            "1/1 [==============================] - 0s 19ms/step\n",
            "1/1 [==============================] - 0s 21ms/step\n",
            "1/1 [==============================] - 0s 20ms/step\n",
            "1/1 [==============================] - 0s 19ms/step\n",
            "1/1 [==============================] - 0s 23ms/step\n",
            "1/1 [==============================] - 0s 27ms/step\n",
            "1/1 [==============================] - 0s 32ms/step\n",
            "1/1 [==============================] - 0s 29ms/step\n",
            "1/1 [==============================] - 0s 31ms/step\n",
            "1/1 [==============================] - 0s 29ms/step\n",
            "1/1 [==============================] - 0s 27ms/step\n",
            "1/1 [==============================] - 0s 27ms/step\n",
            "1/1 [==============================] - 0s 27ms/step\n",
            "1/1 [==============================] - 0s 26ms/step\n",
            "1/1 [==============================] - 0s 27ms/step\n",
            "1/1 [==============================] - 0s 27ms/step\n",
            "1/1 [==============================] - 0s 27ms/step\n",
            "1/1 [==============================] - 0s 27ms/step\n",
            "1/1 [==============================] - 0s 28ms/step\n",
            "1/1 [==============================] - 0s 31ms/step\n",
            "1/1 [==============================] - 0s 29ms/step\n",
            "1/1 [==============================] - 0s 30ms/step\n"
          ]
        },
        {
          "output_type": "stream",
          "name": "stderr",
          "text": [
            "\r 41%|████      | 41/100 [01:14<01:36,  1.64s/it]"
          ]
        },
        {
          "output_type": "stream",
          "name": "stdout",
          "text": [
            "1/1 [==============================] - 0s 27ms/step\n",
            "1/1 [==============================] - 0s 32ms/step\n",
            "1/1 [==============================] - 0s 33ms/step\n",
            "1/1 [==============================] - 0s 30ms/step\n",
            "1/1 [==============================] - 0s 30ms/step\n",
            "1/1 [==============================] - 0s 35ms/step\n",
            "1/1 [==============================] - 0s 19ms/step\n",
            "1/1 [==============================] - 0s 18ms/step\n",
            "1/1 [==============================] - 0s 18ms/step\n",
            "1/1 [==============================] - 0s 20ms/step\n",
            "1/1 [==============================] - 0s 19ms/step\n",
            "1/1 [==============================] - 0s 18ms/step\n",
            "1/1 [==============================] - 0s 18ms/step\n",
            "1/1 [==============================] - 0s 18ms/step\n",
            "1/1 [==============================] - 0s 18ms/step\n",
            "1/1 [==============================] - 0s 18ms/step\n",
            "1/1 [==============================] - 0s 25ms/step\n",
            "1/1 [==============================] - 0s 20ms/step\n",
            "1/1 [==============================] - 0s 19ms/step\n",
            "1/1 [==============================] - 0s 22ms/step\n"
          ]
        },
        {
          "output_type": "stream",
          "name": "stderr",
          "text": [
            "\r 42%|████▏     | 42/100 [01:15<01:34,  1.63s/it]"
          ]
        },
        {
          "output_type": "stream",
          "name": "stdout",
          "text": [
            "1/1 [==============================] - 0s 17ms/step\n",
            "1/1 [==============================] - 0s 25ms/step\n",
            "1/1 [==============================] - 0s 19ms/step\n",
            "1/1 [==============================] - 0s 18ms/step\n",
            "1/1 [==============================] - 0s 19ms/step\n",
            "1/1 [==============================] - 0s 18ms/step\n",
            "1/1 [==============================] - 0s 19ms/step\n",
            "1/1 [==============================] - 0s 19ms/step\n",
            "1/1 [==============================] - 0s 19ms/step\n",
            "1/1 [==============================] - 0s 18ms/step\n",
            "1/1 [==============================] - 0s 19ms/step\n",
            "1/1 [==============================] - 0s 22ms/step\n",
            "1/1 [==============================] - 0s 19ms/step\n",
            "1/1 [==============================] - 0s 20ms/step\n",
            "1/1 [==============================] - 0s 19ms/step\n",
            "1/1 [==============================] - 0s 18ms/step\n",
            "1/1 [==============================] - 0s 19ms/step\n",
            "1/1 [==============================] - 0s 21ms/step\n",
            "1/1 [==============================] - 0s 21ms/step\n",
            "1/1 [==============================] - 0s 19ms/step\n",
            "1/1 [==============================] - 0s 22ms/step\n",
            "1/1 [==============================] - 0s 21ms/step\n"
          ]
        },
        {
          "output_type": "stream",
          "name": "stderr",
          "text": [
            "\r 43%|████▎     | 43/100 [01:17<01:31,  1.60s/it]"
          ]
        },
        {
          "output_type": "stream",
          "name": "stdout",
          "text": [
            "1/1 [==============================] - 0s 19ms/step\n",
            "1/1 [==============================] - 0s 18ms/step\n",
            "1/1 [==============================] - 0s 18ms/step\n",
            "1/1 [==============================] - 0s 18ms/step\n",
            "1/1 [==============================] - 0s 25ms/step\n",
            "1/1 [==============================] - 0s 18ms/step\n",
            "1/1 [==============================] - 0s 18ms/step\n",
            "1/1 [==============================] - 0s 19ms/step\n",
            "1/1 [==============================] - 0s 19ms/step\n",
            "1/1 [==============================] - 0s 22ms/step\n",
            "1/1 [==============================] - 0s 18ms/step\n",
            "1/1 [==============================] - 0s 19ms/step\n",
            "1/1 [==============================] - 0s 19ms/step\n",
            "1/1 [==============================] - 0s 20ms/step\n",
            "1/1 [==============================] - 0s 18ms/step\n",
            "1/1 [==============================] - 0s 19ms/step\n",
            "1/1 [==============================] - 0s 19ms/step\n"
          ]
        },
        {
          "output_type": "stream",
          "name": "stderr",
          "text": [
            "\r 44%|████▍     | 44/100 [01:18<01:21,  1.46s/it]"
          ]
        },
        {
          "output_type": "stream",
          "name": "stdout",
          "text": [
            "1/1 [==============================] - 0s 19ms/step\n",
            "1/1 [==============================] - 0s 19ms/step\n",
            "1/1 [==============================] - 0s 21ms/step\n",
            "1/1 [==============================] - 0s 19ms/step\n",
            "1/1 [==============================] - 0s 19ms/step\n",
            "1/1 [==============================] - 0s 18ms/step\n",
            "1/1 [==============================] - 0s 23ms/step\n",
            "1/1 [==============================] - 0s 21ms/step\n",
            "1/1 [==============================] - 0s 20ms/step\n",
            "1/1 [==============================] - 0s 20ms/step\n",
            "1/1 [==============================] - 0s 20ms/step\n",
            "1/1 [==============================] - 0s 22ms/step\n",
            "1/1 [==============================] - 0s 19ms/step\n",
            "1/1 [==============================] - 0s 18ms/step\n",
            "1/1 [==============================] - 0s 18ms/step\n",
            "1/1 [==============================] - 0s 21ms/step\n",
            "1/1 [==============================] - 0s 19ms/step\n",
            "1/1 [==============================] - 0s 20ms/step\n"
          ]
        },
        {
          "output_type": "stream",
          "name": "stderr",
          "text": [
            "\r 45%|████▌     | 45/100 [01:19<01:17,  1.41s/it]"
          ]
        },
        {
          "output_type": "stream",
          "name": "stdout",
          "text": [
            "1/1 [==============================] - 0s 17ms/step\n",
            "1/1 [==============================] - 0s 18ms/step\n",
            "1/1 [==============================] - 0s 21ms/step\n",
            "1/1 [==============================] - 0s 18ms/step\n",
            "1/1 [==============================] - 0s 19ms/step\n",
            "1/1 [==============================] - 0s 18ms/step\n",
            "1/1 [==============================] - 0s 18ms/step\n",
            "1/1 [==============================] - 0s 20ms/step\n",
            "1/1 [==============================] - 0s 18ms/step\n",
            "1/1 [==============================] - 0s 20ms/step\n",
            "1/1 [==============================] - 0s 18ms/step\n",
            "1/1 [==============================] - 0s 19ms/step\n",
            "1/1 [==============================] - 0s 19ms/step\n",
            "1/1 [==============================] - 0s 21ms/step\n",
            "1/1 [==============================] - 0s 19ms/step\n",
            "1/1 [==============================] - 0s 19ms/step\n",
            "1/1 [==============================] - 0s 20ms/step\n",
            "1/1 [==============================] - 0s 19ms/step\n"
          ]
        },
        {
          "output_type": "stream",
          "name": "stderr",
          "text": [
            "\r 46%|████▌     | 46/100 [01:20<01:13,  1.35s/it]"
          ]
        },
        {
          "output_type": "stream",
          "name": "stdout",
          "text": [
            "1/1 [==============================] - 0s 17ms/step\n",
            "1/1 [==============================] - 0s 18ms/step\n",
            "1/1 [==============================] - 0s 18ms/step\n",
            "1/1 [==============================] - 0s 21ms/step\n",
            "1/1 [==============================] - 0s 18ms/step\n",
            "1/1 [==============================] - 0s 18ms/step\n",
            "1/1 [==============================] - 0s 19ms/step\n",
            "1/1 [==============================] - 0s 18ms/step\n",
            "1/1 [==============================] - 0s 19ms/step\n",
            "1/1 [==============================] - 0s 21ms/step\n",
            "1/1 [==============================] - 0s 18ms/step\n",
            "1/1 [==============================] - 0s 22ms/step\n",
            "1/1 [==============================] - 0s 23ms/step\n",
            "1/1 [==============================] - 0s 21ms/step\n",
            "1/1 [==============================] - 0s 20ms/step\n",
            "1/1 [==============================] - 0s 18ms/step\n",
            "1/1 [==============================] - 0s 21ms/step\n",
            "1/1 [==============================] - 0s 18ms/step\n",
            "1/1 [==============================] - 0s 18ms/step\n",
            "1/1 [==============================] - 0s 19ms/step\n",
            "1/1 [==============================] - 0s 19ms/step\n",
            "1/1 [==============================] - 0s 18ms/step\n"
          ]
        },
        {
          "output_type": "stream",
          "name": "stderr",
          "text": [
            "\r 47%|████▋     | 47/100 [01:22<01:14,  1.40s/it]"
          ]
        },
        {
          "output_type": "stream",
          "name": "stdout",
          "text": [
            "1/1 [==============================] - 0s 19ms/step\n",
            "1/1 [==============================] - 0s 26ms/step\n",
            "1/1 [==============================] - 0s 19ms/step\n",
            "1/1 [==============================] - 0s 25ms/step\n",
            "1/1 [==============================] - 0s 20ms/step\n",
            "1/1 [==============================] - 0s 20ms/step\n",
            "1/1 [==============================] - 0s 19ms/step\n",
            "1/1 [==============================] - 0s 19ms/step\n",
            "1/1 [==============================] - 0s 19ms/step\n",
            "1/1 [==============================] - 0s 18ms/step\n",
            "1/1 [==============================] - 0s 20ms/step\n",
            "1/1 [==============================] - 0s 19ms/step\n",
            "1/1 [==============================] - 0s 21ms/step\n",
            "1/1 [==============================] - 0s 19ms/step\n",
            "1/1 [==============================] - 0s 22ms/step\n",
            "1/1 [==============================] - 0s 20ms/step\n",
            "1/1 [==============================] - 0s 20ms/step\n",
            "1/1 [==============================] - 0s 18ms/step\n",
            "1/1 [==============================] - 0s 27ms/step\n",
            "1/1 [==============================] - 0s 20ms/step\n",
            "1/1 [==============================] - 0s 19ms/step\n",
            "1/1 [==============================] - 0s 18ms/step\n"
          ]
        },
        {
          "output_type": "stream",
          "name": "stderr",
          "text": [
            "\r 48%|████▊     | 48/100 [01:23<01:14,  1.44s/it]"
          ]
        },
        {
          "output_type": "stream",
          "name": "stdout",
          "text": [
            "1/1 [==============================] - 0s 16ms/step\n",
            "1/1 [==============================] - 0s 19ms/step\n",
            "1/1 [==============================] - 0s 20ms/step\n",
            "1/1 [==============================] - 0s 19ms/step\n",
            "1/1 [==============================] - 0s 18ms/step\n",
            "1/1 [==============================] - 0s 18ms/step\n",
            "1/1 [==============================] - 0s 19ms/step\n",
            "1/1 [==============================] - 0s 20ms/step\n",
            "1/1 [==============================] - 0s 20ms/step\n",
            "1/1 [==============================] - 0s 19ms/step\n",
            "1/1 [==============================] - 0s 20ms/step\n",
            "1/1 [==============================] - 0s 24ms/step\n",
            "1/1 [==============================] - 0s 35ms/step\n",
            "1/1 [==============================] - 0s 29ms/step\n",
            "1/1 [==============================] - 0s 27ms/step\n",
            "1/1 [==============================] - 0s 29ms/step\n",
            "1/1 [==============================] - 0s 30ms/step\n",
            "1/1 [==============================] - 0s 27ms/step\n",
            "1/1 [==============================] - 0s 33ms/step\n",
            "1/1 [==============================] - 0s 27ms/step\n",
            "1/1 [==============================] - 0s 29ms/step\n"
          ]
        },
        {
          "output_type": "stream",
          "name": "stderr",
          "text": [
            "\r 49%|████▉     | 49/100 [01:25<01:18,  1.53s/it]"
          ]
        },
        {
          "output_type": "stream",
          "name": "stdout",
          "text": [
            "1/1 [==============================] - 0s 43ms/step\n",
            "1/1 [==============================] - 0s 29ms/step\n",
            "1/1 [==============================] - 0s 27ms/step\n",
            "1/1 [==============================] - 0s 29ms/step\n",
            "1/1 [==============================] - 0s 32ms/step\n",
            "1/1 [==============================] - 0s 31ms/step\n",
            "1/1 [==============================] - 0s 30ms/step\n",
            "1/1 [==============================] - 0s 35ms/step\n",
            "1/1 [==============================] - 0s 28ms/step\n",
            "1/1 [==============================] - 0s 29ms/step\n",
            "1/1 [==============================] - 0s 32ms/step\n",
            "1/1 [==============================] - 0s 29ms/step\n",
            "1/1 [==============================] - 0s 34ms/step\n",
            "1/1 [==============================] - 0s 19ms/step\n",
            "1/1 [==============================] - 0s 19ms/step\n",
            "1/1 [==============================] - 0s 18ms/step\n",
            "1/1 [==============================] - 0s 18ms/step\n",
            "1/1 [==============================] - 0s 18ms/step\n",
            "1/1 [==============================] - 0s 19ms/step\n",
            "1/1 [==============================] - 0s 18ms/step\n",
            "1/1 [==============================] - 0s 19ms/step\n",
            "1/1 [==============================] - 0s 19ms/step\n"
          ]
        },
        {
          "output_type": "stream",
          "name": "stderr",
          "text": [
            "\r 50%|█████     | 50/100 [01:27<01:23,  1.66s/it]"
          ]
        },
        {
          "output_type": "stream",
          "name": "stdout",
          "text": [
            "1/1 [==============================] - 0s 19ms/step\n",
            "1/1 [==============================] - 0s 20ms/step\n",
            "1/1 [==============================] - 0s 25ms/step\n",
            "1/1 [==============================] - 0s 19ms/step\n",
            "1/1 [==============================] - 0s 19ms/step\n",
            "1/1 [==============================] - 0s 20ms/step\n",
            "1/1 [==============================] - 0s 31ms/step\n",
            "1/1 [==============================] - 0s 22ms/step\n",
            "1/1 [==============================] - 0s 22ms/step\n",
            "1/1 [==============================] - 0s 32ms/step\n",
            "1/1 [==============================] - 0s 21ms/step\n",
            "1/1 [==============================] - 0s 19ms/step\n",
            "1/1 [==============================] - 0s 21ms/step\n",
            "1/1 [==============================] - 0s 21ms/step\n",
            "1/1 [==============================] - 0s 56ms/step\n",
            "1/1 [==============================] - 0s 19ms/step\n",
            "1/1 [==============================] - 0s 21ms/step\n",
            "1/1 [==============================] - 0s 20ms/step\n",
            "1/1 [==============================] - 0s 22ms/step\n",
            "1/1 [==============================] - 0s 23ms/step\n",
            "1/1 [==============================] - 0s 19ms/step\n",
            "1/1 [==============================] - 0s 19ms/step\n"
          ]
        },
        {
          "output_type": "stream",
          "name": "stderr",
          "text": [
            "\r 51%|█████     | 51/100 [01:29<01:29,  1.84s/it]"
          ]
        },
        {
          "output_type": "stream",
          "name": "stdout",
          "text": [
            "1/1 [==============================] - 0s 26ms/step\n",
            "1/1 [==============================] - 0s 20ms/step\n",
            "1/1 [==============================] - 0s 20ms/step\n",
            "1/1 [==============================] - 0s 19ms/step\n",
            "1/1 [==============================] - 0s 20ms/step\n",
            "1/1 [==============================] - 0s 19ms/step\n",
            "1/1 [==============================] - 0s 21ms/step\n",
            "1/1 [==============================] - 0s 19ms/step\n",
            "1/1 [==============================] - 0s 21ms/step\n",
            "1/1 [==============================] - 0s 20ms/step\n",
            "1/1 [==============================] - 0s 20ms/step\n",
            "1/1 [==============================] - 0s 19ms/step\n",
            "1/1 [==============================] - 0s 26ms/step\n",
            "1/1 [==============================] - 0s 20ms/step\n",
            "1/1 [==============================] - 0s 19ms/step\n",
            "1/1 [==============================] - 0s 21ms/step\n",
            "1/1 [==============================] - 0s 23ms/step\n",
            "1/1 [==============================] - 0s 19ms/step\n",
            "1/1 [==============================] - 0s 19ms/step\n",
            "1/1 [==============================] - 0s 20ms/step\n",
            "1/1 [==============================] - 0s 20ms/step\n",
            "1/1 [==============================] - 0s 20ms/step\n",
            "1/1 [==============================] - 0s 20ms/step\n",
            "1/1 [==============================] - 0s 19ms/step\n"
          ]
        },
        {
          "output_type": "stream",
          "name": "stderr",
          "text": [
            "\r 52%|█████▏    | 52/100 [01:31<01:27,  1.83s/it]"
          ]
        },
        {
          "output_type": "stream",
          "name": "stdout",
          "text": [
            "1/1 [==============================] - 0s 22ms/step\n",
            "1/1 [==============================] - 0s 21ms/step\n",
            "1/1 [==============================] - 0s 21ms/step\n",
            "1/1 [==============================] - 0s 21ms/step\n",
            "1/1 [==============================] - 0s 20ms/step\n",
            "1/1 [==============================] - 0s 20ms/step\n",
            "1/1 [==============================] - 0s 20ms/step\n",
            "1/1 [==============================] - 0s 22ms/step\n",
            "1/1 [==============================] - 0s 19ms/step\n",
            "1/1 [==============================] - 0s 20ms/step\n",
            "1/1 [==============================] - 0s 20ms/step\n",
            "1/1 [==============================] - 0s 20ms/step\n",
            "1/1 [==============================] - 0s 20ms/step\n",
            "1/1 [==============================] - 0s 22ms/step\n",
            "1/1 [==============================] - 0s 19ms/step\n",
            "1/1 [==============================] - 0s 22ms/step\n"
          ]
        },
        {
          "output_type": "stream",
          "name": "stderr",
          "text": [
            "\r 53%|█████▎    | 53/100 [01:32<01:16,  1.63s/it]"
          ]
        },
        {
          "output_type": "stream",
          "name": "stdout",
          "text": [
            "1/1 [==============================] - 0s 17ms/step\n",
            "1/1 [==============================] - 0s 20ms/step\n",
            "1/1 [==============================] - 0s 19ms/step\n",
            "1/1 [==============================] - 0s 20ms/step\n",
            "1/1 [==============================] - 0s 20ms/step\n",
            "1/1 [==============================] - 0s 19ms/step\n",
            "1/1 [==============================] - 0s 19ms/step\n",
            "1/1 [==============================] - 0s 19ms/step\n",
            "1/1 [==============================] - 0s 21ms/step\n",
            "1/1 [==============================] - 0s 20ms/step\n",
            "1/1 [==============================] - 0s 19ms/step\n",
            "1/1 [==============================] - 0s 19ms/step\n",
            "1/1 [==============================] - 0s 20ms/step\n",
            "1/1 [==============================] - 0s 19ms/step\n",
            "1/1 [==============================] - 0s 19ms/step\n",
            "1/1 [==============================] - 0s 23ms/step\n",
            "1/1 [==============================] - 0s 19ms/step\n",
            "1/1 [==============================] - 0s 20ms/step\n",
            "1/1 [==============================] - 0s 19ms/step\n",
            "1/1 [==============================] - 0s 19ms/step\n",
            "1/1 [==============================] - 0s 21ms/step\n",
            "1/1 [==============================] - 0s 18ms/step\n",
            "1/1 [==============================] - 0s 25ms/step\n",
            "1/1 [==============================] - 0s 20ms/step\n"
          ]
        },
        {
          "output_type": "stream",
          "name": "stderr",
          "text": [
            "\r 54%|█████▍    | 54/100 [01:34<01:15,  1.65s/it]"
          ]
        },
        {
          "output_type": "stream",
          "name": "stdout",
          "text": [
            "1/1 [==============================] - 0s 18ms/step\n",
            "1/1 [==============================] - 0s 20ms/step\n",
            "1/1 [==============================] - 0s 21ms/step\n",
            "1/1 [==============================] - 0s 21ms/step\n",
            "1/1 [==============================] - 0s 21ms/step\n",
            "1/1 [==============================] - 0s 28ms/step\n",
            "1/1 [==============================] - 0s 19ms/step\n",
            "1/1 [==============================] - 0s 20ms/step\n",
            "1/1 [==============================] - 0s 19ms/step\n",
            "1/1 [==============================] - 0s 22ms/step\n",
            "1/1 [==============================] - 0s 19ms/step\n",
            "1/1 [==============================] - 0s 19ms/step\n",
            "1/1 [==============================] - 0s 22ms/step\n",
            "1/1 [==============================] - 0s 18ms/step\n",
            "1/1 [==============================] - 0s 21ms/step\n",
            "1/1 [==============================] - 0s 20ms/step\n",
            "1/1 [==============================] - 0s 20ms/step\n",
            "1/1 [==============================] - 0s 19ms/step\n",
            "1/1 [==============================] - 0s 19ms/step\n",
            "1/1 [==============================] - 0s 25ms/step\n",
            "1/1 [==============================] - 0s 19ms/step\n",
            "1/1 [==============================] - 0s 22ms/step\n",
            "1/1 [==============================] - 0s 20ms/step\n"
          ]
        },
        {
          "output_type": "stream",
          "name": "stderr",
          "text": [
            "\r 55%|█████▌    | 55/100 [01:36<01:14,  1.65s/it]"
          ]
        },
        {
          "output_type": "stream",
          "name": "stdout",
          "text": [
            "1/1 [==============================] - 0s 17ms/step\n",
            "1/1 [==============================] - 0s 19ms/step\n",
            "1/1 [==============================] - 0s 19ms/step\n",
            "1/1 [==============================] - 0s 20ms/step\n",
            "1/1 [==============================] - 0s 20ms/step\n",
            "1/1 [==============================] - 0s 18ms/step\n",
            "1/1 [==============================] - 0s 21ms/step\n",
            "1/1 [==============================] - 0s 21ms/step\n",
            "1/1 [==============================] - 0s 20ms/step\n",
            "1/1 [==============================] - 0s 19ms/step\n",
            "1/1 [==============================] - 0s 22ms/step\n",
            "1/1 [==============================] - 0s 19ms/step\n",
            "1/1 [==============================] - 0s 32ms/step\n",
            "1/1 [==============================] - 0s 34ms/step\n",
            "1/1 [==============================] - 0s 33ms/step\n",
            "1/1 [==============================] - 0s 31ms/step\n",
            "1/1 [==============================] - 0s 32ms/step\n",
            "1/1 [==============================] - 0s 27ms/step\n",
            "1/1 [==============================] - 0s 32ms/step\n",
            "1/1 [==============================] - 0s 29ms/step\n",
            "1/1 [==============================] - 0s 28ms/step\n",
            "1/1 [==============================] - 0s 28ms/step\n",
            "1/1 [==============================] - 0s 32ms/step\n",
            "1/1 [==============================] - 0s 32ms/step\n",
            "1/1 [==============================] - 0s 29ms/step\n"
          ]
        },
        {
          "output_type": "stream",
          "name": "stderr",
          "text": [
            "\r 56%|█████▌    | 56/100 [01:38<01:19,  1.80s/it]"
          ]
        },
        {
          "output_type": "stream",
          "name": "stdout",
          "text": [
            "1/1 [==============================] - 0s 26ms/step\n",
            "1/1 [==============================] - 0s 33ms/step\n",
            "1/1 [==============================] - 0s 30ms/step\n",
            "1/1 [==============================] - 0s 29ms/step\n",
            "1/1 [==============================] - 0s 35ms/step\n",
            "1/1 [==============================] - 0s 35ms/step\n",
            "1/1 [==============================] - 0s 32ms/step\n",
            "1/1 [==============================] - 0s 34ms/step\n",
            "1/1 [==============================] - 0s 35ms/step\n",
            "1/1 [==============================] - 0s 33ms/step\n",
            "1/1 [==============================] - 0s 22ms/step\n",
            "1/1 [==============================] - 0s 22ms/step\n",
            "1/1 [==============================] - 0s 19ms/step\n",
            "1/1 [==============================] - 0s 19ms/step\n"
          ]
        },
        {
          "output_type": "stream",
          "name": "stderr",
          "text": [
            "\r 57%|█████▋    | 57/100 [01:39<01:11,  1.67s/it]"
          ]
        },
        {
          "output_type": "stream",
          "name": "stdout",
          "text": [
            "1/1 [==============================] - 0s 18ms/step\n",
            "1/1 [==============================] - 0s 19ms/step\n",
            "1/1 [==============================] - 0s 19ms/step\n",
            "1/1 [==============================] - 0s 18ms/step\n",
            "1/1 [==============================] - 0s 19ms/step\n",
            "1/1 [==============================] - 0s 19ms/step\n",
            "1/1 [==============================] - 0s 23ms/step\n",
            "1/1 [==============================] - 0s 19ms/step\n",
            "1/1 [==============================] - 0s 20ms/step\n",
            "1/1 [==============================] - 0s 19ms/step\n",
            "1/1 [==============================] - 0s 19ms/step\n",
            "1/1 [==============================] - 0s 22ms/step\n",
            "1/1 [==============================] - 0s 19ms/step\n",
            "1/1 [==============================] - 0s 19ms/step\n",
            "1/1 [==============================] - 0s 22ms/step\n",
            "1/1 [==============================] - 0s 19ms/step\n",
            "1/1 [==============================] - 0s 19ms/step\n",
            "1/1 [==============================] - 0s 21ms/step\n",
            "1/1 [==============================] - 0s 18ms/step\n",
            "1/1 [==============================] - 0s 24ms/step\n",
            "1/1 [==============================] - 0s 19ms/step\n",
            "1/1 [==============================] - 0s 19ms/step\n"
          ]
        },
        {
          "output_type": "stream",
          "name": "stderr",
          "text": [
            "\r 58%|█████▊    | 58/100 [01:41<01:08,  1.63s/it]"
          ]
        },
        {
          "output_type": "stream",
          "name": "stdout",
          "text": [
            "1/1 [==============================] - 0s 19ms/step\n",
            "1/1 [==============================] - 0s 19ms/step\n",
            "1/1 [==============================] - 0s 18ms/step\n",
            "1/1 [==============================] - 0s 20ms/step\n",
            "1/1 [==============================] - 0s 19ms/step\n",
            "1/1 [==============================] - 0s 19ms/step\n",
            "1/1 [==============================] - 0s 19ms/step\n",
            "1/1 [==============================] - 0s 18ms/step\n",
            "1/1 [==============================] - 0s 20ms/step\n",
            "1/1 [==============================] - 0s 19ms/step\n",
            "1/1 [==============================] - 0s 21ms/step\n",
            "1/1 [==============================] - 0s 20ms/step\n",
            "1/1 [==============================] - 0s 23ms/step\n",
            "1/1 [==============================] - 0s 20ms/step\n",
            "1/1 [==============================] - 0s 19ms/step\n",
            "1/1 [==============================] - 0s 20ms/step\n",
            "1/1 [==============================] - 0s 19ms/step\n",
            "1/1 [==============================] - 0s 20ms/step\n",
            "1/1 [==============================] - 0s 20ms/step\n",
            "1/1 [==============================] - 0s 20ms/step\n",
            "1/1 [==============================] - 0s 19ms/step\n",
            "1/1 [==============================] - 0s 19ms/step\n",
            "1/1 [==============================] - 0s 21ms/step\n",
            "1/1 [==============================] - 0s 19ms/step\n",
            "1/1 [==============================] - 0s 18ms/step\n",
            "1/1 [==============================] - 0s 19ms/step\n",
            "1/1 [==============================] - 0s 21ms/step\n",
            "1/1 [==============================] - 0s 19ms/step\n",
            "1/1 [==============================] - 0s 28ms/step\n"
          ]
        },
        {
          "output_type": "stream",
          "name": "stderr",
          "text": [
            "\r 59%|█████▉    | 59/100 [01:43<01:11,  1.75s/it]"
          ]
        },
        {
          "output_type": "stream",
          "name": "stdout",
          "text": [
            "1/1 [==============================] - 0s 21ms/step\n",
            "1/1 [==============================] - 0s 18ms/step\n",
            "1/1 [==============================] - 0s 20ms/step\n",
            "1/1 [==============================] - 0s 20ms/step\n",
            "1/1 [==============================] - 0s 19ms/step\n",
            "1/1 [==============================] - 0s 18ms/step\n",
            "1/1 [==============================] - 0s 19ms/step\n",
            "1/1 [==============================] - 0s 18ms/step\n",
            "1/1 [==============================] - 0s 19ms/step\n",
            "1/1 [==============================] - 0s 19ms/step\n",
            "1/1 [==============================] - 0s 21ms/step\n",
            "1/1 [==============================] - 0s 20ms/step\n",
            "1/1 [==============================] - 0s 20ms/step\n",
            "1/1 [==============================] - 0s 19ms/step\n",
            "1/1 [==============================] - 0s 19ms/step\n",
            "1/1 [==============================] - 0s 19ms/step\n",
            "1/1 [==============================] - 0s 21ms/step\n"
          ]
        },
        {
          "output_type": "stream",
          "name": "stderr",
          "text": [
            "\r 60%|██████    | 60/100 [01:44<01:03,  1.59s/it]"
          ]
        },
        {
          "output_type": "stream",
          "name": "stdout",
          "text": [
            "1/1 [==============================] - 0s 19ms/step\n",
            "1/1 [==============================] - 0s 20ms/step\n",
            "1/1 [==============================] - 0s 21ms/step\n",
            "1/1 [==============================] - 0s 20ms/step\n",
            "1/1 [==============================] - 0s 23ms/step\n",
            "1/1 [==============================] - 0s 22ms/step\n",
            "1/1 [==============================] - 0s 19ms/step\n",
            "1/1 [==============================] - 0s 19ms/step\n",
            "1/1 [==============================] - 0s 20ms/step\n",
            "1/1 [==============================] - 0s 19ms/step\n",
            "1/1 [==============================] - 0s 23ms/step\n",
            "1/1 [==============================] - 0s 18ms/step\n",
            "1/1 [==============================] - 0s 20ms/step\n",
            "1/1 [==============================] - 0s 19ms/step\n",
            "1/1 [==============================] - 0s 19ms/step\n",
            "1/1 [==============================] - 0s 18ms/step\n",
            "1/1 [==============================] - 0s 18ms/step\n",
            "1/1 [==============================] - 0s 18ms/step\n",
            "1/1 [==============================] - 0s 19ms/step\n",
            "1/1 [==============================] - 0s 19ms/step\n",
            "1/1 [==============================] - 0s 20ms/step\n",
            "1/1 [==============================] - 0s 19ms/step\n",
            "1/1 [==============================] - 0s 18ms/step\n",
            "1/1 [==============================] - 0s 18ms/step\n",
            "1/1 [==============================] - 0s 19ms/step\n",
            "1/1 [==============================] - 0s 22ms/step\n",
            "1/1 [==============================] - 0s 19ms/step\n",
            "1/1 [==============================] - 0s 19ms/step\n",
            "1/1 [==============================] - 0s 29ms/step\n",
            "1/1 [==============================] - 0s 19ms/step\n",
            "1/1 [==============================] - 0s 20ms/step\n"
          ]
        },
        {
          "output_type": "stream",
          "name": "stderr",
          "text": [
            "\r 61%|██████    | 61/100 [01:46<01:09,  1.77s/it]"
          ]
        },
        {
          "output_type": "stream",
          "name": "stdout",
          "text": [
            "1/1 [==============================] - 0s 17ms/step\n",
            "1/1 [==============================] - 0s 19ms/step\n",
            "1/1 [==============================] - 0s 22ms/step\n",
            "1/1 [==============================] - 0s 20ms/step\n",
            "1/1 [==============================] - 0s 21ms/step\n",
            "1/1 [==============================] - 0s 19ms/step\n",
            "1/1 [==============================] - 0s 19ms/step\n",
            "1/1 [==============================] - 0s 20ms/step\n",
            "1/1 [==============================] - 0s 19ms/step\n",
            "1/1 [==============================] - 0s 19ms/step\n",
            "1/1 [==============================] - 0s 18ms/step\n",
            "1/1 [==============================] - 0s 20ms/step\n",
            "1/1 [==============================] - 0s 19ms/step\n",
            "1/1 [==============================] - 0s 21ms/step\n",
            "1/1 [==============================] - 0s 19ms/step\n",
            "1/1 [==============================] - 0s 21ms/step\n",
            "1/1 [==============================] - 0s 18ms/step\n",
            "1/1 [==============================] - 0s 22ms/step\n",
            "1/1 [==============================] - 0s 19ms/step\n"
          ]
        },
        {
          "output_type": "stream",
          "name": "stderr",
          "text": [
            "\r 62%|██████▏   | 62/100 [01:48<01:02,  1.64s/it]"
          ]
        },
        {
          "output_type": "stream",
          "name": "stdout",
          "text": [
            "1/1 [==============================] - 0s 17ms/step\n",
            "1/1 [==============================] - 0s 19ms/step\n",
            "1/1 [==============================] - 0s 22ms/step\n",
            "1/1 [==============================] - 0s 18ms/step\n",
            "1/1 [==============================] - 0s 19ms/step\n",
            "1/1 [==============================] - 0s 19ms/step\n",
            "1/1 [==============================] - 0s 19ms/step\n",
            "1/1 [==============================] - 0s 18ms/step\n",
            "1/1 [==============================] - 0s 20ms/step\n",
            "1/1 [==============================] - 0s 22ms/step\n",
            "1/1 [==============================] - 0s 21ms/step\n",
            "1/1 [==============================] - 0s 23ms/step\n",
            "1/1 [==============================] - 0s 19ms/step\n",
            "1/1 [==============================] - 0s 20ms/step\n",
            "1/1 [==============================] - 0s 18ms/step\n",
            "1/1 [==============================] - 0s 19ms/step\n",
            "1/1 [==============================] - 0s 18ms/step\n"
          ]
        },
        {
          "output_type": "stream",
          "name": "stderr",
          "text": [
            "\r 63%|██████▎   | 63/100 [01:49<00:55,  1.50s/it]"
          ]
        },
        {
          "output_type": "stream",
          "name": "stdout",
          "text": [
            "1/1 [==============================] - 0s 18ms/step\n",
            "1/1 [==============================] - 0s 19ms/step\n",
            "1/1 [==============================] - 0s 26ms/step\n",
            "1/1 [==============================] - 0s 43ms/step\n",
            "1/1 [==============================] - 0s 29ms/step\n",
            "1/1 [==============================] - 0s 31ms/step\n",
            "1/1 [==============================] - 0s 27ms/step\n",
            "1/1 [==============================] - 0s 33ms/step\n",
            "1/1 [==============================] - 0s 28ms/step\n"
          ]
        },
        {
          "output_type": "stream",
          "name": "stderr",
          "text": [
            "\r 64%|██████▍   | 64/100 [01:50<00:47,  1.31s/it]"
          ]
        },
        {
          "output_type": "stream",
          "name": "stdout",
          "text": [
            "1/1 [==============================] - 0s 26ms/step\n",
            "1/1 [==============================] - 0s 27ms/step\n",
            "1/1 [==============================] - 0s 30ms/step\n",
            "1/1 [==============================] - 0s 44ms/step\n",
            "1/1 [==============================] - 0s 27ms/step\n",
            "1/1 [==============================] - 0s 28ms/step\n",
            "1/1 [==============================] - 0s 27ms/step\n",
            "1/1 [==============================] - 0s 33ms/step\n",
            "1/1 [==============================] - 0s 30ms/step\n",
            "1/1 [==============================] - 0s 27ms/step\n",
            "1/1 [==============================] - 0s 30ms/step\n",
            "1/1 [==============================] - 0s 32ms/step\n",
            "1/1 [==============================] - 0s 31ms/step\n",
            "1/1 [==============================] - 0s 34ms/step\n",
            "1/1 [==============================] - 0s 30ms/step\n",
            "1/1 [==============================] - 0s 38ms/step\n",
            "1/1 [==============================] - 0s 19ms/step\n",
            "1/1 [==============================] - 0s 20ms/step\n"
          ]
        },
        {
          "output_type": "stream",
          "name": "stderr",
          "text": [
            "\r 65%|██████▌   | 65/100 [01:51<00:51,  1.46s/it]"
          ]
        },
        {
          "output_type": "stream",
          "name": "stdout",
          "text": [
            "1/1 [==============================] - 0s 20ms/step\n",
            "1/1 [==============================] - 0s 20ms/step\n",
            "1/1 [==============================] - 0s 20ms/step\n",
            "1/1 [==============================] - 0s 20ms/step\n",
            "1/1 [==============================] - 0s 20ms/step\n",
            "1/1 [==============================] - 0s 21ms/step\n",
            "1/1 [==============================] - 0s 22ms/step\n",
            "1/1 [==============================] - 0s 19ms/step\n",
            "1/1 [==============================] - 0s 31ms/step\n",
            "1/1 [==============================] - 0s 20ms/step\n",
            "1/1 [==============================] - 0s 19ms/step\n",
            "1/1 [==============================] - 0s 20ms/step\n",
            "1/1 [==============================] - 0s 20ms/step\n",
            "1/1 [==============================] - 0s 21ms/step\n",
            "1/1 [==============================] - 0s 20ms/step\n",
            "1/1 [==============================] - 0s 20ms/step\n",
            "1/1 [==============================] - 0s 18ms/step\n",
            "1/1 [==============================] - 0s 19ms/step\n",
            "1/1 [==============================] - 0s 18ms/step\n",
            "1/1 [==============================] - 0s 19ms/step\n",
            "1/1 [==============================] - 0s 18ms/step\n",
            "1/1 [==============================] - 0s 19ms/step\n",
            "1/1 [==============================] - 0s 19ms/step\n",
            "1/1 [==============================] - 0s 18ms/step\n",
            "1/1 [==============================] - 0s 18ms/step\n",
            "1/1 [==============================] - 0s 18ms/step\n"
          ]
        },
        {
          "output_type": "stream",
          "name": "stderr",
          "text": [
            "\r 66%|██████▌   | 66/100 [01:53<00:53,  1.58s/it]"
          ]
        },
        {
          "output_type": "stream",
          "name": "stdout",
          "text": [
            "1/1 [==============================] - 0s 17ms/step\n",
            "1/1 [==============================] - 0s 20ms/step\n",
            "1/1 [==============================] - 0s 21ms/step\n",
            "1/1 [==============================] - 0s 18ms/step\n",
            "1/1 [==============================] - 0s 19ms/step\n",
            "1/1 [==============================] - 0s 19ms/step\n",
            "1/1 [==============================] - 0s 19ms/step\n",
            "1/1 [==============================] - 0s 18ms/step\n",
            "1/1 [==============================] - 0s 18ms/step\n",
            "1/1 [==============================] - 0s 18ms/step\n",
            "1/1 [==============================] - 0s 20ms/step\n",
            "1/1 [==============================] - 0s 22ms/step\n",
            "1/1 [==============================] - 0s 20ms/step\n",
            "1/1 [==============================] - 0s 24ms/step\n"
          ]
        },
        {
          "output_type": "stream",
          "name": "stderr",
          "text": [
            "\r 67%|██████▋   | 67/100 [01:54<00:46,  1.40s/it]"
          ]
        },
        {
          "output_type": "stream",
          "name": "stdout",
          "text": [
            "1/1 [==============================] - 0s 17ms/step\n",
            "1/1 [==============================] - 0s 21ms/step\n",
            "1/1 [==============================] - 0s 20ms/step\n",
            "1/1 [==============================] - 0s 18ms/step\n",
            "1/1 [==============================] - 0s 19ms/step\n",
            "1/1 [==============================] - 0s 19ms/step\n",
            "1/1 [==============================] - 0s 19ms/step\n",
            "1/1 [==============================] - 0s 19ms/step\n",
            "1/1 [==============================] - 0s 19ms/step\n",
            "1/1 [==============================] - 0s 18ms/step\n",
            "1/1 [==============================] - 0s 19ms/step\n",
            "1/1 [==============================] - 0s 22ms/step\n",
            "1/1 [==============================] - 0s 19ms/step\n",
            "1/1 [==============================] - 0s 21ms/step\n",
            "1/1 [==============================] - 0s 19ms/step\n",
            "1/1 [==============================] - 0s 18ms/step\n",
            "1/1 [==============================] - 0s 19ms/step\n"
          ]
        },
        {
          "output_type": "stream",
          "name": "stderr",
          "text": [
            "\r 68%|██████▊   | 68/100 [01:55<00:42,  1.34s/it]"
          ]
        },
        {
          "output_type": "stream",
          "name": "stdout",
          "text": [
            "1/1 [==============================] - 0s 17ms/step\n",
            "1/1 [==============================] - 0s 19ms/step\n",
            "1/1 [==============================] - 0s 18ms/step\n",
            "1/1 [==============================] - 0s 21ms/step\n",
            "1/1 [==============================] - 0s 19ms/step\n",
            "1/1 [==============================] - 0s 20ms/step\n",
            "1/1 [==============================] - 0s 18ms/step\n",
            "1/1 [==============================] - 0s 19ms/step\n",
            "1/1 [==============================] - 0s 21ms/step\n",
            "1/1 [==============================] - 0s 19ms/step\n",
            "1/1 [==============================] - 0s 19ms/step\n",
            "1/1 [==============================] - 0s 19ms/step\n",
            "1/1 [==============================] - 0s 21ms/step\n",
            "1/1 [==============================] - 0s 21ms/step\n",
            "1/1 [==============================] - 0s 20ms/step\n",
            "1/1 [==============================] - 0s 21ms/step\n"
          ]
        },
        {
          "output_type": "stream",
          "name": "stderr",
          "text": [
            "\r 69%|██████▉   | 69/100 [01:57<00:39,  1.27s/it]"
          ]
        },
        {
          "output_type": "stream",
          "name": "stdout",
          "text": [
            "1/1 [==============================] - 0s 18ms/step\n",
            "1/1 [==============================] - 0s 19ms/step\n",
            "1/1 [==============================] - 0s 19ms/step\n",
            "1/1 [==============================] - 0s 19ms/step\n",
            "1/1 [==============================] - 0s 24ms/step\n",
            "1/1 [==============================] - 0s 19ms/step\n",
            "1/1 [==============================] - 0s 21ms/step\n",
            "1/1 [==============================] - 0s 19ms/step\n",
            "1/1 [==============================] - 0s 28ms/step\n",
            "1/1 [==============================] - 0s 23ms/step\n",
            "1/1 [==============================] - 0s 19ms/step\n",
            "1/1 [==============================] - 0s 23ms/step\n",
            "1/1 [==============================] - 0s 18ms/step\n",
            "1/1 [==============================] - 0s 20ms/step\n",
            "1/1 [==============================] - 0s 19ms/step\n",
            "1/1 [==============================] - 0s 19ms/step\n",
            "1/1 [==============================] - 0s 23ms/step\n",
            "1/1 [==============================] - 0s 19ms/step\n",
            "1/1 [==============================] - 0s 22ms/step\n",
            "1/1 [==============================] - 0s 18ms/step\n",
            "1/1 [==============================] - 0s 18ms/step\n",
            "1/1 [==============================] - 0s 19ms/step\n",
            "1/1 [==============================] - 0s 19ms/step\n"
          ]
        },
        {
          "output_type": "stream",
          "name": "stderr",
          "text": [
            "\r 70%|███████   | 70/100 [01:58<00:41,  1.38s/it]"
          ]
        },
        {
          "output_type": "stream",
          "name": "stdout",
          "text": [
            "1/1 [==============================] - 0s 20ms/step\n",
            "1/1 [==============================] - 0s 19ms/step\n",
            "1/1 [==============================] - 0s 20ms/step\n",
            "1/1 [==============================] - 0s 19ms/step\n",
            "1/1 [==============================] - 0s 19ms/step\n",
            "1/1 [==============================] - 0s 21ms/step\n",
            "1/1 [==============================] - 0s 20ms/step\n",
            "1/1 [==============================] - 0s 18ms/step\n",
            "1/1 [==============================] - 0s 19ms/step\n",
            "1/1 [==============================] - 0s 18ms/step\n",
            "1/1 [==============================] - 0s 21ms/step\n",
            "1/1 [==============================] - 0s 20ms/step\n",
            "1/1 [==============================] - 0s 21ms/step\n",
            "1/1 [==============================] - 0s 18ms/step\n",
            "1/1 [==============================] - 0s 23ms/step\n",
            "1/1 [==============================] - 0s 19ms/step\n",
            "1/1 [==============================] - 0s 19ms/step\n",
            "1/1 [==============================] - 0s 19ms/step\n"
          ]
        },
        {
          "output_type": "stream",
          "name": "stderr",
          "text": [
            "\r 71%|███████   | 71/100 [01:59<00:39,  1.34s/it]"
          ]
        },
        {
          "output_type": "stream",
          "name": "stdout",
          "text": [
            "1/1 [==============================] - 0s 19ms/step\n",
            "1/1 [==============================] - 0s 19ms/step\n",
            "1/1 [==============================] - 0s 18ms/step\n",
            "1/1 [==============================] - 0s 19ms/step\n",
            "1/1 [==============================] - 0s 18ms/step\n",
            "1/1 [==============================] - 0s 19ms/step\n",
            "1/1 [==============================] - 0s 19ms/step\n",
            "1/1 [==============================] - 0s 18ms/step\n",
            "1/1 [==============================] - 0s 19ms/step\n",
            "1/1 [==============================] - 0s 20ms/step\n",
            "1/1 [==============================] - 0s 18ms/step\n",
            "1/1 [==============================] - 0s 21ms/step\n",
            "1/1 [==============================] - 0s 19ms/step\n",
            "1/1 [==============================] - 0s 20ms/step\n",
            "1/1 [==============================] - 0s 21ms/step\n",
            "1/1 [==============================] - 0s 19ms/step\n",
            "1/1 [==============================] - 0s 19ms/step\n",
            "1/1 [==============================] - 0s 19ms/step\n",
            "1/1 [==============================] - 0s 18ms/step\n",
            "1/1 [==============================] - 0s 19ms/step\n",
            "1/1 [==============================] - 0s 18ms/step\n",
            "1/1 [==============================] - 0s 20ms/step\n",
            "1/1 [==============================] - 0s 20ms/step\n",
            "1/1 [==============================] - 0s 20ms/step\n",
            "1/1 [==============================] - 0s 19ms/step\n"
          ]
        },
        {
          "output_type": "stream",
          "name": "stderr",
          "text": [
            "\r 72%|███████▏  | 72/100 [02:01<00:41,  1.46s/it]"
          ]
        },
        {
          "output_type": "stream",
          "name": "stdout",
          "text": [
            "1/1 [==============================] - 0s 17ms/step\n",
            "1/1 [==============================] - 0s 30ms/step\n",
            "1/1 [==============================] - 0s 30ms/step\n",
            "1/1 [==============================] - 0s 29ms/step\n",
            "1/1 [==============================] - 0s 28ms/step\n",
            "1/1 [==============================] - 0s 27ms/step\n",
            "1/1 [==============================] - 0s 27ms/step\n",
            "1/1 [==============================] - 0s 28ms/step\n",
            "1/1 [==============================] - 0s 35ms/step\n",
            "1/1 [==============================] - 0s 27ms/step\n",
            "1/1 [==============================] - 0s 28ms/step\n",
            "1/1 [==============================] - 0s 27ms/step\n",
            "1/1 [==============================] - 0s 37ms/step\n",
            "1/1 [==============================] - 0s 27ms/step\n",
            "1/1 [==============================] - 0s 28ms/step\n",
            "1/1 [==============================] - 0s 29ms/step\n",
            "1/1 [==============================] - 0s 27ms/step\n",
            "1/1 [==============================] - 0s 33ms/step\n",
            "1/1 [==============================] - 0s 31ms/step\n",
            "1/1 [==============================] - 0s 31ms/step\n",
            "1/1 [==============================] - 0s 36ms/step\n",
            "1/1 [==============================] - 0s 32ms/step\n",
            "1/1 [==============================] - 0s 32ms/step\n",
            "1/1 [==============================] - 0s 19ms/step\n",
            "1/1 [==============================] - 0s 19ms/step\n",
            "1/1 [==============================] - 0s 18ms/step\n",
            "1/1 [==============================] - 0s 19ms/step\n",
            "1/1 [==============================] - 0s 19ms/step\n",
            "1/1 [==============================] - 0s 21ms/step\n",
            "1/1 [==============================] - 0s 22ms/step\n",
            "1/1 [==============================] - 0s 20ms/step\n",
            "1/1 [==============================] - 0s 20ms/step\n",
            "1/1 [==============================] - 0s 19ms/step\n"
          ]
        },
        {
          "output_type": "stream",
          "name": "stderr",
          "text": [
            "\r 73%|███████▎  | 73/100 [02:04<00:52,  1.96s/it]"
          ]
        },
        {
          "output_type": "stream",
          "name": "stdout",
          "text": [
            "1/1 [==============================] - 0s 19ms/step\n",
            "1/1 [==============================] - 0s 20ms/step\n",
            "1/1 [==============================] - 0s 18ms/step\n",
            "1/1 [==============================] - 0s 19ms/step\n",
            "1/1 [==============================] - 0s 19ms/step\n",
            "1/1 [==============================] - 0s 19ms/step\n",
            "1/1 [==============================] - 0s 18ms/step\n",
            "1/1 [==============================] - 0s 18ms/step\n",
            "1/1 [==============================] - 0s 18ms/step\n",
            "1/1 [==============================] - 0s 19ms/step\n",
            "1/1 [==============================] - 0s 21ms/step\n",
            "1/1 [==============================] - 0s 20ms/step\n",
            "1/1 [==============================] - 0s 19ms/step\n",
            "1/1 [==============================] - 0s 23ms/step\n",
            "1/1 [==============================] - 0s 19ms/step\n",
            "1/1 [==============================] - 0s 37ms/step\n",
            "1/1 [==============================] - 0s 19ms/step\n",
            "1/1 [==============================] - 0s 20ms/step\n",
            "1/1 [==============================] - 0s 22ms/step\n",
            "1/1 [==============================] - 0s 24ms/step\n",
            "1/1 [==============================] - 0s 18ms/step\n",
            "1/1 [==============================] - 0s 20ms/step\n",
            "1/1 [==============================] - 0s 19ms/step\n",
            "1/1 [==============================] - 0s 19ms/step\n",
            "1/1 [==============================] - 0s 21ms/step\n",
            "1/1 [==============================] - 0s 18ms/step\n"
          ]
        },
        {
          "output_type": "stream",
          "name": "stderr",
          "text": [
            "\r 74%|███████▍  | 74/100 [02:06<00:49,  1.92s/it]"
          ]
        },
        {
          "output_type": "stream",
          "name": "stdout",
          "text": [
            "1/1 [==============================] - 0s 20ms/step\n",
            "1/1 [==============================] - 0s 19ms/step\n",
            "1/1 [==============================] - 0s 18ms/step\n",
            "1/1 [==============================] - 0s 20ms/step\n",
            "1/1 [==============================] - 0s 18ms/step\n",
            "1/1 [==============================] - 0s 19ms/step\n",
            "1/1 [==============================] - 0s 21ms/step\n",
            "1/1 [==============================] - 0s 18ms/step\n",
            "1/1 [==============================] - 0s 18ms/step\n",
            "1/1 [==============================] - 0s 17ms/step\n",
            "1/1 [==============================] - 0s 19ms/step\n",
            "1/1 [==============================] - 0s 19ms/step\n",
            "1/1 [==============================] - 0s 20ms/step\n",
            "1/1 [==============================] - 0s 22ms/step\n",
            "1/1 [==============================] - 0s 18ms/step\n",
            "1/1 [==============================] - 0s 18ms/step\n",
            "1/1 [==============================] - 0s 18ms/step\n",
            "1/1 [==============================] - 0s 18ms/step\n",
            "1/1 [==============================] - 0s 29ms/step\n",
            "1/1 [==============================] - 0s 19ms/step\n",
            "1/1 [==============================] - 0s 19ms/step\n",
            "1/1 [==============================] - 0s 20ms/step\n",
            "1/1 [==============================] - 0s 20ms/step\n",
            "1/1 [==============================] - 0s 18ms/step\n",
            "1/1 [==============================] - 0s 18ms/step\n",
            "1/1 [==============================] - 0s 18ms/step\n",
            "1/1 [==============================] - 0s 19ms/step\n",
            "1/1 [==============================] - 0s 18ms/step\n"
          ]
        },
        {
          "output_type": "stream",
          "name": "stderr",
          "text": [
            "\r 75%|███████▌  | 75/100 [02:08<00:48,  1.93s/it]"
          ]
        },
        {
          "output_type": "stream",
          "name": "stdout",
          "text": [
            "1/1 [==============================] - 0s 17ms/step\n",
            "1/1 [==============================] - 0s 20ms/step\n",
            "1/1 [==============================] - 0s 18ms/step\n",
            "1/1 [==============================] - 0s 22ms/step\n",
            "1/1 [==============================] - 0s 19ms/step\n",
            "1/1 [==============================] - 0s 20ms/step\n",
            "1/1 [==============================] - 0s 19ms/step\n",
            "1/1 [==============================] - 0s 20ms/step\n",
            "1/1 [==============================] - 0s 19ms/step\n",
            "1/1 [==============================] - 0s 19ms/step\n",
            "1/1 [==============================] - 0s 18ms/step\n",
            "1/1 [==============================] - 0s 18ms/step\n",
            "1/1 [==============================] - 0s 20ms/step\n",
            "1/1 [==============================] - 0s 20ms/step\n",
            "1/1 [==============================] - 0s 19ms/step\n",
            "1/1 [==============================] - 0s 18ms/step\n",
            "1/1 [==============================] - 0s 21ms/step\n",
            "1/1 [==============================] - 0s 18ms/step\n",
            "1/1 [==============================] - 0s 19ms/step\n",
            "1/1 [==============================] - 0s 20ms/step\n",
            "1/1 [==============================] - 0s 19ms/step\n",
            "1/1 [==============================] - 0s 18ms/step\n",
            "1/1 [==============================] - 0s 19ms/step\n",
            "1/1 [==============================] - 0s 18ms/step\n",
            "1/1 [==============================] - 0s 19ms/step\n",
            "1/1 [==============================] - 0s 18ms/step\n"
          ]
        },
        {
          "output_type": "stream",
          "name": "stderr",
          "text": [
            "\r 76%|███████▌  | 76/100 [02:10<00:45,  1.90s/it]"
          ]
        },
        {
          "output_type": "stream",
          "name": "stdout",
          "text": [
            "1/1 [==============================] - 0s 17ms/step\n",
            "1/1 [==============================] - 0s 22ms/step\n",
            "1/1 [==============================] - 0s 18ms/step\n",
            "1/1 [==============================] - 0s 18ms/step\n",
            "1/1 [==============================] - 0s 18ms/step\n",
            "1/1 [==============================] - 0s 18ms/step\n",
            "1/1 [==============================] - 0s 18ms/step\n",
            "1/1 [==============================] - 0s 18ms/step\n",
            "1/1 [==============================] - 0s 22ms/step\n",
            "1/1 [==============================] - 0s 19ms/step\n",
            "1/1 [==============================] - 0s 18ms/step\n",
            "1/1 [==============================] - 0s 18ms/step\n",
            "1/1 [==============================] - 0s 18ms/step\n",
            "1/1 [==============================] - 0s 21ms/step\n",
            "1/1 [==============================] - 0s 18ms/step\n",
            "1/1 [==============================] - 0s 20ms/step\n",
            "1/1 [==============================] - 0s 19ms/step\n",
            "1/1 [==============================] - 0s 19ms/step\n",
            "1/1 [==============================] - 0s 18ms/step\n",
            "1/1 [==============================] - 0s 24ms/step\n",
            "1/1 [==============================] - 0s 19ms/step\n",
            "1/1 [==============================] - 0s 19ms/step\n",
            "1/1 [==============================] - 0s 19ms/step\n",
            "1/1 [==============================] - 0s 27ms/step\n",
            "1/1 [==============================] - 0s 18ms/step\n",
            "1/1 [==============================] - 0s 19ms/step\n",
            "1/1 [==============================] - 0s 18ms/step\n"
          ]
        },
        {
          "output_type": "stream",
          "name": "stderr",
          "text": [
            "\r 77%|███████▋  | 77/100 [02:12<00:43,  1.89s/it]"
          ]
        },
        {
          "output_type": "stream",
          "name": "stdout",
          "text": [
            "1/1 [==============================] - 0s 18ms/step\n",
            "1/1 [==============================] - 0s 18ms/step\n",
            "1/1 [==============================] - 0s 19ms/step\n",
            "1/1 [==============================] - 0s 19ms/step\n",
            "1/1 [==============================] - 0s 18ms/step\n",
            "1/1 [==============================] - 0s 20ms/step\n",
            "1/1 [==============================] - 0s 20ms/step\n",
            "1/1 [==============================] - 0s 21ms/step\n",
            "1/1 [==============================] - 0s 19ms/step\n",
            "1/1 [==============================] - 0s 21ms/step\n",
            "1/1 [==============================] - 0s 19ms/step\n",
            "1/1 [==============================] - 0s 20ms/step\n",
            "1/1 [==============================] - 0s 18ms/step\n",
            "1/1 [==============================] - 0s 21ms/step\n",
            "1/1 [==============================] - 0s 18ms/step\n",
            "1/1 [==============================] - 0s 19ms/step\n",
            "1/1 [==============================] - 0s 18ms/step\n"
          ]
        },
        {
          "output_type": "stream",
          "name": "stderr",
          "text": [
            "\r 78%|███████▊  | 78/100 [02:13<00:36,  1.68s/it]"
          ]
        },
        {
          "output_type": "stream",
          "name": "stdout",
          "text": [
            "1/1 [==============================] - 0s 16ms/step\n",
            "1/1 [==============================] - 0s 18ms/step\n",
            "1/1 [==============================] - 0s 18ms/step\n",
            "1/1 [==============================] - 0s 18ms/step\n",
            "1/1 [==============================] - 0s 19ms/step\n",
            "1/1 [==============================] - 0s 21ms/step\n",
            "1/1 [==============================] - 0s 18ms/step\n",
            "1/1 [==============================] - 0s 21ms/step\n",
            "1/1 [==============================] - 0s 19ms/step\n",
            "1/1 [==============================] - 0s 34ms/step\n",
            "1/1 [==============================] - 0s 29ms/step\n",
            "1/1 [==============================] - 0s 33ms/step\n",
            "1/1 [==============================] - 0s 30ms/step\n",
            "1/1 [==============================] - 0s 29ms/step\n",
            "1/1 [==============================] - 0s 33ms/step\n",
            "1/1 [==============================] - 0s 27ms/step\n",
            "1/1 [==============================] - 0s 33ms/step\n",
            "1/1 [==============================] - 0s 27ms/step\n",
            "1/1 [==============================] - 0s 26ms/step\n",
            "1/1 [==============================] - 0s 33ms/step\n",
            "1/1 [==============================] - 0s 30ms/step\n",
            "1/1 [==============================] - 0s 27ms/step\n",
            "1/1 [==============================] - 0s 30ms/step\n"
          ]
        },
        {
          "output_type": "stream",
          "name": "stderr",
          "text": [
            "\r 79%|███████▉  | 79/100 [02:15<00:37,  1.77s/it]"
          ]
        },
        {
          "output_type": "stream",
          "name": "stdout",
          "text": [
            "1/1 [==============================] - 0s 29ms/step\n",
            "1/1 [==============================] - 0s 30ms/step\n",
            "1/1 [==============================] - 0s 27ms/step\n",
            "1/1 [==============================] - 0s 28ms/step\n",
            "1/1 [==============================] - 0s 27ms/step\n",
            "1/1 [==============================] - 0s 33ms/step\n",
            "1/1 [==============================] - 0s 30ms/step\n",
            "1/1 [==============================] - 0s 30ms/step\n",
            "1/1 [==============================] - 0s 30ms/step\n",
            "1/1 [==============================] - 0s 27ms/step\n",
            "1/1 [==============================] - 0s 19ms/step\n",
            "1/1 [==============================] - 0s 19ms/step\n",
            "1/1 [==============================] - 0s 19ms/step\n",
            "1/1 [==============================] - 0s 26ms/step\n",
            "1/1 [==============================] - 0s 19ms/step\n",
            "1/1 [==============================] - 0s 19ms/step\n",
            "1/1 [==============================] - 0s 18ms/step\n",
            "1/1 [==============================] - 0s 19ms/step\n",
            "1/1 [==============================] - 0s 19ms/step\n",
            "1/1 [==============================] - 0s 19ms/step\n",
            "1/1 [==============================] - 0s 22ms/step\n",
            "1/1 [==============================] - 0s 18ms/step\n",
            "1/1 [==============================] - 0s 19ms/step\n"
          ]
        },
        {
          "output_type": "stream",
          "name": "stderr",
          "text": [
            "\r 80%|████████  | 80/100 [02:17<00:36,  1.82s/it]"
          ]
        },
        {
          "output_type": "stream",
          "name": "stdout",
          "text": [
            "1/1 [==============================] - 0s 16ms/step\n",
            "1/1 [==============================] - 0s 21ms/step\n",
            "1/1 [==============================] - 0s 18ms/step\n",
            "1/1 [==============================] - 0s 19ms/step\n",
            "1/1 [==============================] - 0s 18ms/step\n",
            "1/1 [==============================] - 0s 19ms/step\n",
            "1/1 [==============================] - 0s 19ms/step\n",
            "1/1 [==============================] - 0s 21ms/step\n",
            "1/1 [==============================] - 0s 18ms/step\n",
            "1/1 [==============================] - 0s 18ms/step\n",
            "1/1 [==============================] - 0s 19ms/step\n",
            "1/1 [==============================] - 0s 21ms/step\n",
            "1/1 [==============================] - 0s 24ms/step\n",
            "1/1 [==============================] - 0s 19ms/step\n",
            "1/1 [==============================] - 0s 18ms/step\n"
          ]
        },
        {
          "output_type": "stream",
          "name": "stderr",
          "text": [
            "\r 81%|████████  | 81/100 [02:18<00:30,  1.59s/it]"
          ]
        },
        {
          "output_type": "stream",
          "name": "stdout",
          "text": [
            "1/1 [==============================] - 0s 17ms/step\n",
            "1/1 [==============================] - 0s 19ms/step\n",
            "1/1 [==============================] - 0s 20ms/step\n",
            "1/1 [==============================] - 0s 19ms/step\n",
            "1/1 [==============================] - 0s 20ms/step\n",
            "1/1 [==============================] - 0s 21ms/step\n",
            "1/1 [==============================] - 0s 21ms/step\n",
            "1/1 [==============================] - 0s 20ms/step\n",
            "1/1 [==============================] - 0s 19ms/step\n",
            "1/1 [==============================] - 0s 20ms/step\n",
            "1/1 [==============================] - 0s 21ms/step\n",
            "1/1 [==============================] - 0s 19ms/step\n",
            "1/1 [==============================] - 0s 20ms/step\n",
            "1/1 [==============================] - 0s 18ms/step\n",
            "1/1 [==============================] - 0s 24ms/step\n",
            "1/1 [==============================] - 0s 19ms/step\n",
            "1/1 [==============================] - 0s 19ms/step\n",
            "1/1 [==============================] - 0s 20ms/step\n"
          ]
        },
        {
          "output_type": "stream",
          "name": "stderr",
          "text": [
            "\r 82%|████████▏ | 82/100 [02:19<00:26,  1.50s/it]"
          ]
        },
        {
          "output_type": "stream",
          "name": "stdout",
          "text": [
            "1/1 [==============================] - 0s 18ms/step\n",
            "1/1 [==============================] - 0s 18ms/step\n",
            "1/1 [==============================] - 0s 21ms/step\n",
            "1/1 [==============================] - 0s 19ms/step\n",
            "1/1 [==============================] - 0s 18ms/step\n",
            "1/1 [==============================] - 0s 22ms/step\n",
            "1/1 [==============================] - 0s 18ms/step\n",
            "1/1 [==============================] - 0s 18ms/step\n",
            "1/1 [==============================] - 0s 25ms/step\n",
            "1/1 [==============================] - 0s 19ms/step\n",
            "1/1 [==============================] - 0s 18ms/step\n",
            "1/1 [==============================] - 0s 19ms/step\n",
            "1/1 [==============================] - 0s 21ms/step\n",
            "1/1 [==============================] - 0s 21ms/step\n",
            "1/1 [==============================] - 0s 19ms/step\n",
            "1/1 [==============================] - 0s 23ms/step\n",
            "1/1 [==============================] - 0s 18ms/step\n"
          ]
        },
        {
          "output_type": "stream",
          "name": "stderr",
          "text": [
            "\r 83%|████████▎ | 83/100 [02:20<00:23,  1.41s/it]"
          ]
        },
        {
          "output_type": "stream",
          "name": "stdout",
          "text": [
            "1/1 [==============================] - 0s 18ms/step\n",
            "1/1 [==============================] - 0s 19ms/step\n",
            "1/1 [==============================] - 0s 19ms/step\n",
            "1/1 [==============================] - 0s 19ms/step\n",
            "1/1 [==============================] - 0s 18ms/step\n",
            "1/1 [==============================] - 0s 18ms/step\n",
            "1/1 [==============================] - 0s 20ms/step\n",
            "1/1 [==============================] - 0s 21ms/step\n",
            "1/1 [==============================] - 0s 19ms/step\n",
            "1/1 [==============================] - 0s 19ms/step\n",
            "1/1 [==============================] - 0s 18ms/step\n",
            "1/1 [==============================] - 0s 20ms/step\n",
            "1/1 [==============================] - 0s 20ms/step\n",
            "1/1 [==============================] - 0s 20ms/step\n",
            "1/1 [==============================] - 0s 19ms/step\n"
          ]
        },
        {
          "output_type": "stream",
          "name": "stderr",
          "text": [
            "\r 84%|████████▍ | 84/100 [02:21<00:20,  1.30s/it]"
          ]
        },
        {
          "output_type": "stream",
          "name": "stdout",
          "text": [
            "1/1 [==============================] - 0s 18ms/step\n",
            "1/1 [==============================] - 0s 18ms/step\n",
            "1/1 [==============================] - 0s 19ms/step\n",
            "1/1 [==============================] - 0s 18ms/step\n",
            "1/1 [==============================] - 0s 18ms/step\n",
            "1/1 [==============================] - 0s 24ms/step\n",
            "1/1 [==============================] - 0s 21ms/step\n",
            "1/1 [==============================] - 0s 21ms/step\n",
            "1/1 [==============================] - 0s 20ms/step\n",
            "1/1 [==============================] - 0s 19ms/step\n",
            "1/1 [==============================] - 0s 20ms/step\n",
            "1/1 [==============================] - 0s 20ms/step\n",
            "1/1 [==============================] - 0s 19ms/step\n",
            "1/1 [==============================] - 0s 21ms/step\n",
            "1/1 [==============================] - 0s 24ms/step\n",
            "1/1 [==============================] - 0s 18ms/step\n",
            "1/1 [==============================] - 0s 20ms/step\n",
            "1/1 [==============================] - 0s 18ms/step\n",
            "1/1 [==============================] - 0s 18ms/step\n",
            "1/1 [==============================] - 0s 20ms/step\n",
            "1/1 [==============================] - 0s 19ms/step\n"
          ]
        },
        {
          "output_type": "stream",
          "name": "stderr",
          "text": [
            "\r 85%|████████▌ | 85/100 [02:23<00:20,  1.36s/it]"
          ]
        },
        {
          "output_type": "stream",
          "name": "stdout",
          "text": [
            "1/1 [==============================] - 0s 17ms/step\n",
            "1/1 [==============================] - 0s 19ms/step\n",
            "1/1 [==============================] - 0s 19ms/step\n",
            "1/1 [==============================] - 0s 18ms/step\n",
            "1/1 [==============================] - 0s 19ms/step\n",
            "1/1 [==============================] - 0s 18ms/step\n",
            "1/1 [==============================] - 0s 18ms/step\n",
            "1/1 [==============================] - 0s 18ms/step\n",
            "1/1 [==============================] - 0s 20ms/step\n",
            "1/1 [==============================] - 0s 18ms/step\n",
            "1/1 [==============================] - 0s 19ms/step\n",
            "1/1 [==============================] - 0s 20ms/step\n",
            "1/1 [==============================] - 0s 19ms/step\n",
            "1/1 [==============================] - 0s 20ms/step\n",
            "1/1 [==============================] - 0s 20ms/step\n"
          ]
        },
        {
          "output_type": "stream",
          "name": "stderr",
          "text": [
            "\r 86%|████████▌ | 86/100 [02:24<00:17,  1.26s/it]"
          ]
        },
        {
          "output_type": "stream",
          "name": "stdout",
          "text": [
            "1/1 [==============================] - 0s 18ms/step\n",
            "1/1 [==============================] - 0s 19ms/step\n",
            "1/1 [==============================] - 0s 20ms/step\n",
            "1/1 [==============================] - 0s 20ms/step\n",
            "1/1 [==============================] - 0s 20ms/step\n",
            "1/1 [==============================] - 0s 20ms/step\n",
            "1/1 [==============================] - 0s 20ms/step\n",
            "1/1 [==============================] - 0s 20ms/step\n",
            "1/1 [==============================] - 0s 18ms/step\n",
            "1/1 [==============================] - 0s 18ms/step\n",
            "1/1 [==============================] - 0s 19ms/step\n",
            "1/1 [==============================] - 0s 19ms/step\n",
            "1/1 [==============================] - 0s 19ms/step\n",
            "1/1 [==============================] - 0s 18ms/step\n",
            "1/1 [==============================] - 0s 20ms/step\n",
            "1/1 [==============================] - 0s 19ms/step\n",
            "1/1 [==============================] - 0s 18ms/step\n",
            "1/1 [==============================] - 0s 21ms/step\n",
            "1/1 [==============================] - 0s 19ms/step\n",
            "1/1 [==============================] - 0s 18ms/step\n",
            "1/1 [==============================] - 0s 18ms/step\n",
            "1/1 [==============================] - 0s 18ms/step\n",
            "1/1 [==============================] - 0s 18ms/step\n"
          ]
        },
        {
          "output_type": "stream",
          "name": "stderr",
          "text": [
            "\r 87%|████████▋ | 87/100 [02:26<00:17,  1.36s/it]"
          ]
        },
        {
          "output_type": "stream",
          "name": "stdout",
          "text": [
            "1/1 [==============================] - 0s 18ms/step\n",
            "1/1 [==============================] - 0s 19ms/step\n",
            "1/1 [==============================] - 0s 18ms/step\n",
            "1/1 [==============================] - 0s 18ms/step\n",
            "1/1 [==============================] - 0s 18ms/step\n",
            "1/1 [==============================] - 0s 43ms/step\n",
            "1/1 [==============================] - 0s 30ms/step\n",
            "1/1 [==============================] - 0s 32ms/step\n",
            "1/1 [==============================] - 0s 29ms/step\n",
            "1/1 [==============================] - 0s 28ms/step\n",
            "1/1 [==============================] - 0s 28ms/step\n",
            "1/1 [==============================] - 0s 31ms/step\n",
            "1/1 [==============================] - 0s 32ms/step\n",
            "1/1 [==============================] - 0s 27ms/step\n",
            "1/1 [==============================] - 0s 28ms/step\n",
            "1/1 [==============================] - 0s 27ms/step\n",
            "1/1 [==============================] - 0s 28ms/step\n",
            "1/1 [==============================] - 0s 26ms/step\n",
            "1/1 [==============================] - 0s 27ms/step\n",
            "1/1 [==============================] - 0s 30ms/step\n",
            "1/1 [==============================] - 0s 36ms/step\n",
            "1/1 [==============================] - 0s 27ms/step\n",
            "1/1 [==============================] - 0s 33ms/step\n",
            "1/1 [==============================] - 0s 33ms/step\n",
            "1/1 [==============================] - 0s 34ms/step\n",
            "1/1 [==============================] - 0s 33ms/step\n",
            "1/1 [==============================] - 0s 30ms/step\n",
            "1/1 [==============================] - 0s 34ms/step\n",
            "1/1 [==============================] - 0s 20ms/step\n"
          ]
        },
        {
          "output_type": "stream",
          "name": "stderr",
          "text": [
            "\r 88%|████████▊ | 88/100 [02:28<00:21,  1.79s/it]"
          ]
        },
        {
          "output_type": "stream",
          "name": "stdout",
          "text": [
            "1/1 [==============================] - 0s 16ms/step\n",
            "1/1 [==============================] - 0s 18ms/step\n",
            "1/1 [==============================] - 0s 21ms/step\n",
            "1/1 [==============================] - 0s 18ms/step\n",
            "1/1 [==============================] - 0s 19ms/step\n",
            "1/1 [==============================] - 0s 18ms/step\n",
            "1/1 [==============================] - 0s 19ms/step\n",
            "1/1 [==============================] - 0s 18ms/step\n",
            "1/1 [==============================] - 0s 20ms/step\n",
            "1/1 [==============================] - 0s 20ms/step\n",
            "1/1 [==============================] - 0s 25ms/step\n",
            "1/1 [==============================] - 0s 20ms/step\n",
            "1/1 [==============================] - 0s 21ms/step\n",
            "1/1 [==============================] - 0s 18ms/step\n",
            "1/1 [==============================] - 0s 19ms/step\n",
            "1/1 [==============================] - 0s 21ms/step\n"
          ]
        },
        {
          "output_type": "stream",
          "name": "stderr",
          "text": [
            "\r 89%|████████▉ | 89/100 [02:30<00:17,  1.59s/it]"
          ]
        },
        {
          "output_type": "stream",
          "name": "stdout",
          "text": [
            "1/1 [==============================] - 0s 19ms/step\n",
            "1/1 [==============================] - 0s 21ms/step\n",
            "1/1 [==============================] - 0s 20ms/step\n",
            "1/1 [==============================] - 0s 109ms/step\n",
            "1/1 [==============================] - 0s 59ms/step\n",
            "1/1 [==============================] - 0s 20ms/step\n",
            "1/1 [==============================] - 0s 19ms/step\n",
            "1/1 [==============================] - 0s 19ms/step\n",
            "1/1 [==============================] - 0s 21ms/step\n",
            "1/1 [==============================] - 0s 20ms/step\n",
            "1/1 [==============================] - 0s 19ms/step\n",
            "1/1 [==============================] - 0s 19ms/step\n",
            "1/1 [==============================] - 0s 20ms/step\n",
            "1/1 [==============================] - 0s 18ms/step\n",
            "1/1 [==============================] - 0s 21ms/step\n",
            "1/1 [==============================] - 0s 19ms/step\n",
            "1/1 [==============================] - 0s 18ms/step\n",
            "1/1 [==============================] - 0s 21ms/step\n",
            "1/1 [==============================] - 0s 23ms/step\n",
            "1/1 [==============================] - 0s 19ms/step\n"
          ]
        },
        {
          "output_type": "stream",
          "name": "stderr",
          "text": [
            "\r 90%|█████████ | 90/100 [02:31<00:15,  1.60s/it]"
          ]
        },
        {
          "output_type": "stream",
          "name": "stdout",
          "text": [
            "1/1 [==============================] - 0s 23ms/step\n",
            "1/1 [==============================] - 0s 19ms/step\n",
            "1/1 [==============================] - 0s 18ms/step\n",
            "1/1 [==============================] - 0s 19ms/step\n",
            "1/1 [==============================] - 0s 20ms/step\n",
            "1/1 [==============================] - 0s 20ms/step\n",
            "1/1 [==============================] - 0s 19ms/step\n",
            "1/1 [==============================] - 0s 19ms/step\n",
            "1/1 [==============================] - 0s 21ms/step\n",
            "1/1 [==============================] - 0s 18ms/step\n",
            "1/1 [==============================] - 0s 20ms/step\n",
            "1/1 [==============================] - 0s 19ms/step\n",
            "1/1 [==============================] - 0s 18ms/step\n",
            "1/1 [==============================] - 0s 19ms/step\n",
            "1/1 [==============================] - 0s 18ms/step\n",
            "1/1 [==============================] - 0s 28ms/step\n",
            "1/1 [==============================] - 0s 20ms/step\n",
            "1/1 [==============================] - 0s 19ms/step\n",
            "1/1 [==============================] - 0s 19ms/step\n"
          ]
        },
        {
          "output_type": "stream",
          "name": "stderr",
          "text": [
            "\r 91%|█████████ | 91/100 [02:32<00:13,  1.52s/it]"
          ]
        },
        {
          "output_type": "stream",
          "name": "stdout",
          "text": [
            "1/1 [==============================] - 0s 16ms/step\n",
            "1/1 [==============================] - 0s 19ms/step\n",
            "1/1 [==============================] - 0s 23ms/step\n",
            "1/1 [==============================] - 0s 18ms/step\n",
            "1/1 [==============================] - 0s 19ms/step\n",
            "1/1 [==============================] - 0s 18ms/step\n",
            "1/1 [==============================] - 0s 18ms/step\n",
            "1/1 [==============================] - 0s 23ms/step\n",
            "1/1 [==============================] - 0s 19ms/step\n",
            "1/1 [==============================] - 0s 18ms/step\n",
            "1/1 [==============================] - 0s 19ms/step\n",
            "1/1 [==============================] - 0s 25ms/step\n",
            "1/1 [==============================] - 0s 19ms/step\n",
            "1/1 [==============================] - 0s 19ms/step\n",
            "1/1 [==============================] - 0s 19ms/step\n",
            "1/1 [==============================] - 0s 18ms/step\n"
          ]
        },
        {
          "output_type": "stream",
          "name": "stderr",
          "text": [
            "\r 92%|█████████▏| 92/100 [02:34<00:11,  1.39s/it]"
          ]
        },
        {
          "output_type": "stream",
          "name": "stdout",
          "text": [
            "1/1 [==============================] - 0s 18ms/step\n",
            "1/1 [==============================] - 0s 19ms/step\n",
            "1/1 [==============================] - 0s 18ms/step\n",
            "1/1 [==============================] - 0s 19ms/step\n",
            "1/1 [==============================] - 0s 18ms/step\n",
            "1/1 [==============================] - 0s 18ms/step\n",
            "1/1 [==============================] - 0s 22ms/step\n",
            "1/1 [==============================] - 0s 21ms/step\n",
            "1/1 [==============================] - 0s 19ms/step\n",
            "1/1 [==============================] - 0s 19ms/step\n",
            "1/1 [==============================] - 0s 22ms/step\n",
            "1/1 [==============================] - 0s 19ms/step\n",
            "1/1 [==============================] - 0s 19ms/step\n",
            "1/1 [==============================] - 0s 19ms/step\n",
            "1/1 [==============================] - 0s 18ms/step\n",
            "1/1 [==============================] - 0s 19ms/step\n",
            "1/1 [==============================] - 0s 18ms/step\n",
            "1/1 [==============================] - 0s 19ms/step\n",
            "1/1 [==============================] - 0s 20ms/step\n",
            "1/1 [==============================] - 0s 21ms/step\n",
            "1/1 [==============================] - 0s 18ms/step\n",
            "1/1 [==============================] - 0s 19ms/step\n",
            "1/1 [==============================] - 0s 19ms/step\n",
            "1/1 [==============================] - 0s 19ms/step\n",
            "1/1 [==============================] - 0s 19ms/step\n"
          ]
        },
        {
          "output_type": "stream",
          "name": "stderr",
          "text": [
            "\r 93%|█████████▎| 93/100 [02:35<00:10,  1.49s/it]"
          ]
        },
        {
          "output_type": "stream",
          "name": "stdout",
          "text": [
            "1/1 [==============================] - 0s 18ms/step\n",
            "1/1 [==============================] - 0s 22ms/step\n",
            "1/1 [==============================] - 0s 19ms/step\n",
            "1/1 [==============================] - 0s 21ms/step\n",
            "1/1 [==============================] - 0s 19ms/step\n",
            "1/1 [==============================] - 0s 19ms/step\n",
            "1/1 [==============================] - 0s 18ms/step\n",
            "1/1 [==============================] - 0s 18ms/step\n",
            "1/1 [==============================] - 0s 20ms/step\n",
            "1/1 [==============================] - 0s 19ms/step\n",
            "1/1 [==============================] - 0s 21ms/step\n",
            "1/1 [==============================] - 0s 18ms/step\n",
            "1/1 [==============================] - 0s 19ms/step\n",
            "1/1 [==============================] - 0s 19ms/step\n",
            "1/1 [==============================] - 0s 27ms/step\n",
            "1/1 [==============================] - 0s 18ms/step\n",
            "1/1 [==============================] - 0s 19ms/step\n",
            "1/1 [==============================] - 0s 20ms/step\n",
            "1/1 [==============================] - 0s 22ms/step\n"
          ]
        },
        {
          "output_type": "stream",
          "name": "stderr",
          "text": [
            "\r 94%|█████████▍| 94/100 [02:37<00:08,  1.45s/it]"
          ]
        },
        {
          "output_type": "stream",
          "name": "stdout",
          "text": [
            "1/1 [==============================] - 0s 17ms/step\n",
            "1/1 [==============================] - 0s 19ms/step\n",
            "1/1 [==============================] - 0s 18ms/step\n",
            "1/1 [==============================] - 0s 19ms/step\n",
            "1/1 [==============================] - 0s 18ms/step\n",
            "1/1 [==============================] - 0s 21ms/step\n",
            "1/1 [==============================] - 0s 19ms/step\n",
            "1/1 [==============================] - 0s 22ms/step\n",
            "1/1 [==============================] - 0s 18ms/step\n",
            "1/1 [==============================] - 0s 18ms/step\n",
            "1/1 [==============================] - 0s 22ms/step\n",
            "1/1 [==============================] - 0s 19ms/step\n",
            "1/1 [==============================] - 0s 18ms/step\n",
            "1/1 [==============================] - 0s 19ms/step\n",
            "1/1 [==============================] - 0s 19ms/step\n",
            "1/1 [==============================] - 0s 19ms/step\n",
            "1/1 [==============================] - 0s 19ms/step\n",
            "1/1 [==============================] - 0s 19ms/step\n",
            "1/1 [==============================] - 0s 18ms/step\n",
            "1/1 [==============================] - 0s 18ms/step\n",
            "1/1 [==============================] - 0s 19ms/step\n"
          ]
        },
        {
          "output_type": "stream",
          "name": "stderr",
          "text": [
            "\r 95%|█████████▌| 95/100 [02:38<00:07,  1.44s/it]"
          ]
        },
        {
          "output_type": "stream",
          "name": "stdout",
          "text": [
            "1/1 [==============================] - 0s 16ms/step\n",
            "1/1 [==============================] - 0s 20ms/step\n",
            "1/1 [==============================] - 0s 19ms/step\n",
            "1/1 [==============================] - 0s 20ms/step\n",
            "1/1 [==============================] - 0s 35ms/step\n",
            "1/1 [==============================] - 0s 26ms/step\n",
            "1/1 [==============================] - 0s 28ms/step\n",
            "1/1 [==============================] - 0s 27ms/step\n",
            "1/1 [==============================] - 0s 30ms/step\n",
            "1/1 [==============================] - 0s 26ms/step\n",
            "1/1 [==============================] - 0s 28ms/step\n",
            "1/1 [==============================] - 0s 27ms/step\n",
            "1/1 [==============================] - 0s 27ms/step\n",
            "1/1 [==============================] - 0s 29ms/step\n",
            "1/1 [==============================] - 0s 39ms/step\n",
            "1/1 [==============================] - 0s 34ms/step\n",
            "1/1 [==============================] - 0s 28ms/step\n",
            "1/1 [==============================] - 0s 26ms/step\n",
            "1/1 [==============================] - 0s 31ms/step\n",
            "1/1 [==============================] - 0s 33ms/step\n",
            "1/1 [==============================] - 0s 32ms/step\n",
            "1/1 [==============================] - 0s 27ms/step\n",
            "1/1 [==============================] - 0s 29ms/step\n",
            "1/1 [==============================] - 0s 28ms/step\n",
            "1/1 [==============================] - 0s 28ms/step\n",
            "1/1 [==============================] - 0s 29ms/step\n",
            "1/1 [==============================] - 0s 31ms/step\n",
            "1/1 [==============================] - 0s 18ms/step\n",
            "1/1 [==============================] - 0s 18ms/step\n",
            "1/1 [==============================] - 0s 18ms/step\n",
            "1/1 [==============================] - 0s 18ms/step\n",
            "1/1 [==============================] - 0s 20ms/step\n",
            "1/1 [==============================] - 0s 19ms/step\n",
            "1/1 [==============================] - 0s 18ms/step\n"
          ]
        },
        {
          "output_type": "stream",
          "name": "stderr",
          "text": [
            "\r 96%|█████████▌| 96/100 [02:41<00:07,  1.94s/it]"
          ]
        },
        {
          "output_type": "stream",
          "name": "stdout",
          "text": [
            "1/1 [==============================] - 0s 17ms/step\n",
            "1/1 [==============================] - 0s 20ms/step\n",
            "1/1 [==============================] - 0s 19ms/step\n",
            "1/1 [==============================] - 0s 20ms/step\n",
            "1/1 [==============================] - 0s 19ms/step\n",
            "1/1 [==============================] - 0s 18ms/step\n",
            "1/1 [==============================] - 0s 19ms/step\n",
            "1/1 [==============================] - 0s 18ms/step\n",
            "1/1 [==============================] - 0s 19ms/step\n",
            "1/1 [==============================] - 0s 25ms/step\n",
            "1/1 [==============================] - 0s 18ms/step\n",
            "1/1 [==============================] - 0s 24ms/step\n",
            "1/1 [==============================] - 0s 19ms/step\n",
            "1/1 [==============================] - 0s 18ms/step\n",
            "1/1 [==============================] - 0s 21ms/step\n",
            "1/1 [==============================] - 0s 20ms/step\n",
            "1/1 [==============================] - 0s 19ms/step\n",
            "1/1 [==============================] - 0s 29ms/step\n",
            "1/1 [==============================] - 0s 29ms/step\n",
            "1/1 [==============================] - 0s 28ms/step\n",
            "1/1 [==============================] - 0s 27ms/step\n",
            "1/1 [==============================] - 0s 28ms/step\n",
            "1/1 [==============================] - 0s 29ms/step\n"
          ]
        },
        {
          "output_type": "stream",
          "name": "stderr",
          "text": [
            "\r 97%|█████████▋| 97/100 [02:43<00:05,  1.89s/it]"
          ]
        },
        {
          "output_type": "stream",
          "name": "stdout",
          "text": [
            "1/1 [==============================] - 0s 27ms/step\n",
            "1/1 [==============================] - 0s 27ms/step\n",
            "1/1 [==============================] - 0s 36ms/step\n",
            "1/1 [==============================] - 0s 27ms/step\n",
            "1/1 [==============================] - 0s 26ms/step\n",
            "1/1 [==============================] - 0s 27ms/step\n",
            "1/1 [==============================] - 0s 28ms/step\n",
            "1/1 [==============================] - 0s 26ms/step\n",
            "1/1 [==============================] - 0s 26ms/step\n",
            "1/1 [==============================] - 0s 29ms/step\n",
            "1/1 [==============================] - 0s 31ms/step\n",
            "1/1 [==============================] - 0s 28ms/step\n",
            "1/1 [==============================] - 0s 32ms/step\n",
            "1/1 [==============================] - 0s 32ms/step\n",
            "1/1 [==============================] - 0s 30ms/step\n",
            "1/1 [==============================] - 0s 30ms/step\n",
            "1/1 [==============================] - 0s 30ms/step\n",
            "1/1 [==============================] - 0s 31ms/step\n",
            "1/1 [==============================] - 0s 19ms/step\n",
            "1/1 [==============================] - 0s 18ms/step\n",
            "1/1 [==============================] - 0s 21ms/step\n",
            "1/1 [==============================] - 0s 19ms/step\n",
            "1/1 [==============================] - 0s 18ms/step\n",
            "1/1 [==============================] - 0s 18ms/step\n",
            "1/1 [==============================] - 0s 18ms/step\n",
            "1/1 [==============================] - 0s 18ms/step\n",
            "1/1 [==============================] - 0s 18ms/step\n",
            "1/1 [==============================] - 0s 21ms/step\n",
            "1/1 [==============================] - 0s 20ms/step\n",
            "1/1 [==============================] - 0s 18ms/step\n",
            "1/1 [==============================] - 0s 28ms/step\n"
          ]
        },
        {
          "output_type": "stream",
          "name": "stderr",
          "text": [
            "\r 98%|█████████▊| 98/100 [02:46<00:04,  2.15s/it]"
          ]
        },
        {
          "output_type": "stream",
          "name": "stdout",
          "text": [
            "1/1 [==============================] - 0s 16ms/step\n",
            "1/1 [==============================] - 0s 19ms/step\n",
            "1/1 [==============================] - 0s 19ms/step\n",
            "1/1 [==============================] - 0s 18ms/step\n",
            "1/1 [==============================] - 0s 18ms/step\n",
            "1/1 [==============================] - 0s 21ms/step\n",
            "1/1 [==============================] - 0s 19ms/step\n",
            "1/1 [==============================] - 0s 19ms/step\n",
            "1/1 [==============================] - 0s 18ms/step\n",
            "1/1 [==============================] - 0s 20ms/step\n",
            "1/1 [==============================] - 0s 19ms/step\n",
            "1/1 [==============================] - 0s 18ms/step\n",
            "1/1 [==============================] - 0s 21ms/step\n",
            "1/1 [==============================] - 0s 19ms/step\n",
            "1/1 [==============================] - 0s 21ms/step\n",
            "1/1 [==============================] - 0s 18ms/step\n",
            "1/1 [==============================] - 0s 83ms/step\n",
            "1/1 [==============================] - 0s 21ms/step\n",
            "1/1 [==============================] - 0s 18ms/step\n",
            "1/1 [==============================] - 0s 22ms/step\n",
            "1/1 [==============================] - 0s 18ms/step\n",
            "1/1 [==============================] - 0s 18ms/step\n",
            "1/1 [==============================] - 0s 18ms/step\n",
            "1/1 [==============================] - 0s 18ms/step\n",
            "1/1 [==============================] - 0s 19ms/step\n",
            "1/1 [==============================] - 0s 19ms/step\n",
            "1/1 [==============================] - 0s 28ms/step\n",
            "1/1 [==============================] - 0s 19ms/step\n",
            "1/1 [==============================] - 0s 20ms/step\n",
            "1/1 [==============================] - 0s 18ms/step\n"
          ]
        },
        {
          "output_type": "stream",
          "name": "stderr",
          "text": [
            "\r 99%|█████████▉| 99/100 [02:48<00:02,  2.19s/it]"
          ]
        },
        {
          "output_type": "stream",
          "name": "stdout",
          "text": [
            "1/1 [==============================] - 0s 18ms/step\n",
            "1/1 [==============================] - 0s 19ms/step\n",
            "1/1 [==============================] - 0s 22ms/step\n",
            "1/1 [==============================] - 0s 18ms/step\n",
            "1/1 [==============================] - 0s 19ms/step\n",
            "1/1 [==============================] - 0s 21ms/step\n",
            "1/1 [==============================] - 0s 18ms/step\n",
            "1/1 [==============================] - 0s 19ms/step\n",
            "1/1 [==============================] - 0s 19ms/step\n",
            "1/1 [==============================] - 0s 19ms/step\n",
            "1/1 [==============================] - 0s 18ms/step\n",
            "1/1 [==============================] - 0s 19ms/step\n",
            "1/1 [==============================] - 0s 18ms/step\n",
            "1/1 [==============================] - 0s 18ms/step\n",
            "1/1 [==============================] - 0s 22ms/step\n",
            "1/1 [==============================] - 0s 18ms/step\n",
            "1/1 [==============================] - 0s 20ms/step\n",
            "1/1 [==============================] - 0s 21ms/step\n",
            "1/1 [==============================] - 0s 20ms/step\n",
            "1/1 [==============================] - 0s 22ms/step\n",
            "1/1 [==============================] - 0s 18ms/step\n",
            "1/1 [==============================] - 0s 20ms/step\n",
            "1/1 [==============================] - 0s 19ms/step\n",
            "1/1 [==============================] - 0s 18ms/step\n",
            "1/1 [==============================] - 0s 19ms/step\n"
          ]
        },
        {
          "output_type": "stream",
          "name": "stderr",
          "text": [
            "100%|██████████| 100/100 [02:50<00:00,  1.70s/it]\n"
          ]
        }
      ],
      "source": [
        "print(en_test.shape)\n",
        "# With the function above I randomly select 100 setences my model has predicted to test its BLEU score\n",
        "sampled_indexes, gens = make_target_and_generated(en_test, 100)\n",
        "\n",
        "\n"
      ]
    },
    {
      "cell_type": "code",
      "source": [
        "print(gens)"
      ],
      "metadata": {
        "colab": {
          "base_uri": "https://localhost:8080/"
        },
        "id": "RF6-MXOLQxwy",
        "outputId": "295ff390-e2ea-4c2a-93ae-f149913df0bc"
      },
      "execution_count": 40,
      "outputs": [
        {
          "output_type": "stream",
          "name": "stdout",
          "text": [
            "['no quiero verte', 'el casa esta en el cario', 'eres muy inteligente', 'lo lo me encontre', 'no puedo contar con tom', 'no le gusta esa comida', 'eres muy inteligente', 'cual es la casa de tom', 'tom no puede estar en el coche', 'dejame venir ahora', 'dejame entrar este', 'tom esta miento', 'no tienes pada', 'me pendi en la comida', 'donde puedo contar la casa', 'tom se dio un poco de la cara', 'debes detar a tom', 'no estoy confuntado', 'podemos pararte a tom', 'eso es mio', 'no soy carie', 'mi padre esta aqui', 'puedo contar un poco de casa', 'deja el casa', 'todos estan de casa', 'eso es un carien', 'cuando esta este tiempo', 'salte mi coche', 'por que estamos enfermos', 'estas enfermo', 'el es un buen peligro', 'no necesitamos amudar', 'necesitas algo de mismo', 'eso no es tanido', 'estas estudiando', 'no tenemos pueno a tom', 'era un poco de comer', 'era un buen pesigio', 'era un auen comiliano', 'estas consado', 'no me gusta el cocie', 'segamos en la cama', 'voy a todos los dias', 'nadie sabe nodo', 'fue un perictoro', 'estas confentado', 'no dejes dejar a tom', 'el se conto un coche', 'eso son muy canidos', 'no quiero este libro', 'que esta en el coche', 'estas bailando la cara', 'el es un amigo', 'no te lo di un trabajo', 'te puedes estar en el', 'vamos a casa a las alas', 'esta en casa', 'no tengo ningun agua', 'por que estas tan preparado', 'es este tu para', 'me gusta esta casa de la casa', 'eres muy galiente', 'es un primerero', 'lo hare', 'es esto estupado', 'el tiene un poco de casa', 'teme tu cama', 'quiero una cara', 'tom no ayudara', 'podemos estar enfermo', 'necesito un auto', 'estoy comiendo un coche', 'esta casa esta demasiado carado', 'tengo que dermir felices', 'a tom le gustan los perros', 'que tan esta en cantando', 'estoy comiendo un prabajo', 'no quiero verme', 'alguien esta comiendo', 'esto es lo que pijero', 'quieres verte', 'te gusta el sole', 'podria ser aqui', 'quien te rego', 'tom se ve de cantar', 'no se verdire', 'como lo hiciste a tom', 'ella estaba enferma de esto', 'haz a la parte', 'yo podria ser arto', 'tom compro a mary', 'debemos hablar', 'dejare estar en el cara', 'el se conto en el', 'todos lo lo sabemos', 'ella se puedo contar can el auto', 'donde esta el pelicio', 'como esta en contando el casa', 'ella tiene un poco de camina', 'el esta dasando en esta']\n"
          ]
        }
      ]
    },
    {
      "cell_type": "markdown",
      "metadata": {
        "id": "-nobdVdeInFP"
      },
      "source": [
        "#Because I was dumb and partioned the data after processing I have to transform the decoder_target_test processed data back into readable format and this is why I make the following functions"
      ]
    },
    {
      "cell_type": "code",
      "execution_count": 41,
      "metadata": {
        "id": "aq1n10-aG1_B"
      },
      "outputs": [],
      "source": [
        "import numpy as np\n",
        "\n",
        "def reverse_onehot(encoded_sequences):\n",
        "    decoded_sequences = np.argmax(encoded_sequences, axis=-1)\n",
        "    return decoded_sequences"
      ]
    },
    {
      "cell_type": "code",
      "execution_count": 42,
      "metadata": {
        "colab": {
          "base_uri": "https://localhost:8080/"
        },
        "id": "i2d7krixG2mP",
        "outputId": "a4cf95d2-4326-4725-badd-7ff6362f8ab9"
      },
      "outputs": [
        {
          "output_type": "stream",
          "name": "stdout",
          "text": [
            "[[ 7 11  2 ...  0  0  0]\n",
            " [ 2 10  2 ...  0  0  0]\n",
            " [19  2  7 ...  0  0  0]\n",
            " ...\n",
            " [ 7  4 14 ...  0  0  0]\n",
            " [ 7  4 14 ...  0  0  0]\n",
            " [ 2  5  1 ...  0  0  0]]\n"
          ]
        }
      ],
      "source": [
        "decoder_test = reverse_onehot(decoder_target_test)\n",
        "\n",
        "print(decoder_test)"
      ]
    },
    {
      "cell_type": "code",
      "execution_count": 43,
      "metadata": {
        "id": "Gv6IUsixH7zu"
      },
      "outputs": [],
      "source": [
        "from keras.preprocessing.sequence import pad_sequences\n",
        "from keras.preprocessing.text import Tokenizer\n",
        "\n",
        "def reverse_text2sequences(seqs_pad, word_index):\n",
        "    reverse_word_index = {index: char for char, index in word_index.items()}\n",
        "    decoded_lines = []\n",
        "    for seq in seqs_pad:\n",
        "        decoded_line = ''.join(reverse_word_index.get(index, '') for index in seq)\n",
        "        decoded_lines.append(decoded_line)\n",
        "\n",
        "    return decoded_lines\n"
      ]
    },
    {
      "cell_type": "code",
      "execution_count": 44,
      "metadata": {
        "id": "qDrgw-b_H9mn"
      },
      "outputs": [],
      "source": [
        "decoder_test = reverse_text2sequences(decoder_test, target_token_index)"
      ]
    },
    {
      "cell_type": "code",
      "execution_count": 45,
      "metadata": {
        "colab": {
          "base_uri": "https://localhost:8080/"
        },
        "id": "YxIzTJImIgQ1",
        "outputId": "e418ff07-2408-488a-eee3-72a422be470c"
      },
      "outputs": [
        {
          "output_type": "stream",
          "name": "stdout",
          "text": [
            "['tienen una bicicleta', 'eres casada', 'vete ya', 'puedo ir a trabajar', 'se de que se trata', 'cual fue el acuerdo', 'envuelvalo por favor', 'no le oi venir', 'hable frances', 'tom es un estudiante de arte', 'no me dejas eleccion', 'se rehuso a dar comentarios', 'se enfado', 'lo envidio', 'esto esta muy bueno', 'estaba en la ducha', 'tom estaba confundido', 'alcance el ultimo bus', 'te gustan los bichos', 'por que corriste', 'nadie sonrio', 'es usted olvidadiza', 'vivire', 'tom nunca hace trampa', 'perdi el colectivo', 'nuestro tiempo es limitado', 'tom nos condujo a una trampa', 'no estaba listo para ir', 'la premonicion de tom era correcta', 'te falta imaginacion', 'el tren iba lleno', 'puedo usar esta bicicleta', 'yo hice que el se fuera', 'se ve divertido', 'no cambies de idea', 'quisiera comermelo', 'hoy tengo muchas cosas que hacer', 'tom quiere ser abrazado', 'naciste en un establo', 'ella es una belleza', 'hay un patron aqui', 'ella hizo de mi una estrella', 'estas emocionado', 'suenas en frances', 'vuelvo a las seis y media', 'fue una gran fiesta', 'el hombre huyo', 'mary es mi hija', 'donde estan las cabras', 'hoy hizo calor', 'se fue inmediatamente', 'se parece a una manzana', 'yo tengo la culpa', 'fui ayer alli', 'riega las plantas', 'el participo en la carrera', 'rechace la oferta', 'nadie tenia linterna', 'pongame otro ejemplo', 'orare por tom', 'sed respetuosos', 'toma algo', 'tom dependia de mary', 'se donde vive', 'a tom no le permitian entrar', 'vive por aqui cerca', 'se aceptan cheques', 'la mujer esta desnuda', 'que adoras hacer', 'este libro es una novela policiaca', 'tom miro un raton', 'tom odia las aranas', 'ven a visitarme manana', 'ese chico esta corriendo', 'no puedo acostumbrarme a tom', 'sabemos que era tu deber', 'tom parece razonable', 'yo no soy timida', 'el amor vence todo', 'muchos peces murieron', 'tom parecia enojado', 'fui al colegio', 'es un club de militares', 'estoy justo detras de ti', 'ella tiene unos cuantos amigos', 'que hacemos aqui', 'tom lo hizo a proposito', 'siempre me has ayudado', 'el vive ahi solo', 'yo uso firefox', 'es demasiado pronto', 'tienes treinta segundos', 'se pusieron de pie', 'tomas nunca supo aquello', 'tengo jaqueca', 'yo no fui', 'no podemos esperar a tom', 'no pude matar a tom', 'debes irte a casa', 'no me gustan las aranas', 'sera un placer', 'vuelvo a las seis y media', 'lloraba de dolor', 'hay alguien alla', 'tengo muchos suenos', 'hace hoy muy buen dia', 'cual es el menu de hoy', 'y ahora que hacemos', 'no pudimos encontrarlo', 'vivo hacia el norte', 'tienes casa', 'no puedes estar tan seguro', 'es facil perderse', 'tom quiere abrazar a mary', 'tom no esta siendo cuidadoso', 'tom no tiene una visa', 'el tiene una raqueta', 'quiza venga manana', 'el es un pescadero', 'lo reconozco me equivoque', 'tom se monto en el coche', 'vamos hazlo', 'no te des por vencido a medio camino', 'entre en el bosque', 'apague la luz', 'tiene ojos verdes', 'deberia demandar a tom', 'pareces un idiota', 'la noticia la entristecio', 'estas en el trabajo', 'me gusta tu trabajo', 'bebimos cerveza', 'quien estropeo esto', 'se como manejarlo', 'ella alzo la voz', 'liberale', 'no sabes hablar frances', 'no quiero saber', 'por que es tan inseguro', 'tom salto de un precipicio', 'el hielo es muy espeso', 'empieza a cantar', 'yo necesitaba eso', 'me duelen los ojos', 'el ha estado ocupado', 'que dios se lo pague', 'deja de enganarte a ti mismo', 'sentate tomas', 'soy muy timida', 'llamare a tom por ti', 'yo me encargare de eso', 'dudo de que tomas conozca a maria', 'ella lo desea a el', 'tom charlo con mary', 'por que deberia estar celoso', 'notas el sabor de jengibre', 'esto no es tuyo', 'estuve casada', 'tom sabe esto', 'deje la llave', 'envie usted la carta por correo aereo', 'prueba leyendo esto', 'le visitare manana', 'deseame suerte por favor', 'preguntemosle a tom', 'esta detras de el', 'tom deberia hablar menos', 'continuen remando', 'nadie nos puede oir', 'llevate mi coche', 'tenemos todavia una hora', 'tengo tanta hambre', 'somos agentes del fbi', 'ni siquiera lo vi', 'se que no fue tom', 'empujadla', 'lo perdi todo', 'mi auto necesita lavarse', 'siga a la izquierda', 'mi madre me ama', 'ella tiene ganas de bailar', 'tengo que irme a casa', 'tom construyo esto', 'tienes que irte', 'ella le pego', 'alguien respondio', 'me encanta mirar beisbol', 'soy autonomo', 'ella tiene siete hijos', 'eso seria un problema', 'donde debemos ir', 'tengo buenas noticias', 'nunca perdonare a tom', 'tu crees', 'tus oes parecen aes', 'recoges lo que siembras', 'se esta nublando', 'mi madre se levanta temprano', 'yo hice una muneca a mary', 'ella postulo a una visa', 'eso es fascinante', 'no seas ridicula', 'pienso que tomas es estupido', 'ustedes creen en fantasmas', 'no toques el boton', 'en este cuarto hace demasiado calor', 'dije cierra la boca', 'ellos aceptaron la oferta', 'al rojo le queda bien el gris', 'haz que pare', 'acepto tu desafio', 'no reconozco a nadie', 'tom no lo vio', 'necesitas mas practica', 'esto no es importante', 'quieres ir de nuevo', 'es una trampa', 'no queda comida', 'ella se convirtio en doctora', 'eres como de la familia', 'mi mama me cocina', 'nadie le va a creer', 'de verdad viste a tom', 'no hay peligro', 'tom esta un poco resfriado', 'ella siguio trabajando', 'tom se veia bien el lunes', 'mi madre no esta en casa', 'te demandare', 'me voy a quedar en casa', 'seguid remando', 'tom era extranjero', 'huele a una trampa', 'creci en el campo', 'sos lista', 'esta es noticia vieja para mi', 'que estoy haciendo', 'el globo se va a reventar', 'puede abrirlo', 'vi la imagen', 'estuvo enfermo la semana pasada', 'tom todavia no esta seguro', 'canto bastante bien', 'los vere alla', 'soy una persona', 'charla con tus amigos', 'donde esta la otra', 'tom viene en camino para aca', 'se como me sentia', 'no son los mios', 'mi pasatiempo es la lectura', 'somos egoistas', 'quien escribio eso', 'ambas partes se oponian a la guerra', 'odio el invierno', 'pareces ocupado', 'nunca aprenderas', 'tenemos que ir a la escuela', 'el bebe esta gritando', 'esta botado', 'sos el mejor', 'los bancos cerraron sus puertas', 'que te ha pasado', 'el me imploro que me quedase', 'espero que los dos se diviertan', 'la precipitacion es poco probable', 'llamame esta tarde', 'preparame un huevo estrellado', 'traeme las gafas', 'todos tenemos pesadillas', 'nadie es infalible', 'tomas trabaja', 'la taza es preciosa', 'podria estar en cualquier lado', 'estoy demasiado ocupado como para ver a tom', 'eres demasiado joven para morir', 'ahora no puedes ayudar a tom', 'eres un medico', 'tom guino el ojo', 'gracias', 'he bebido de la canilla', 'actua acorde a tu edad', 'ya cenaste', 'me gusta eso', 'estos libros son mios', 'estamos aqui para ayudarte', 'estas completamente seguro', 'te vere en una hora', 'tom salio de la banera', 'traza una linea en el papel', 'perdieron el tren', 'soy geologo', 'fui ofendido', 'te duele esto', 'estan listos', 'el nos llevo al zoologico', 'expliquenmelo', 'se equivocan', 'que podria salir mal', 'donde esta el servicio', 'yo se lo que haria', 'nosotros ayudamos a tom', 'esta ahi', 'tom no ha muerto', 'donde lo vio a tomas', 'se esta quedando ciego', 'cual es su historia', 'eres un traidor', 'el solia levantarse temprano', 'oh lo obtuve', 'duele', 'pueden esperar', 'yo he bebido de la canilla', 'se que la empaque', 'alguien llego', 'tom es bombero', 'ayudame a ponerme de pie', 'debemos levantarnos al amanecer', 'es el no', 'soy tom', 'estoy un poco ocupada', 'solo pregunto', 'tom tiene piel oscura', 'cueza usted esas papas', 'viniste en tren', 'tengo que irme ahora', 'este empleo no paga', 'eres muy listo', 'no soy rico', 'tom se acaba de ir', 'interrumpia a todos', 'alli no habia nadie', 'queremos ayudarte', 'limitate a hacerlo rapido', 'habras terminado para entonces', 'tom estaba sentado leyendo', 'tom esta golpeando a mary', 'mira esa casa', 'esta loco de remate', 'tom podria estar equivocado', 'nevo', 'podeis desatar este nudo', 'ellos cavaron una tumba', 'que dijo', 'tom intento abrazar a mary', 'haz lo que sea necesario', 'quien sos', 'dejalo', 'sabes donde estoy', 'que deberiamos decir', 'quizas sea cierto', 'deja de resistirte', 'cierra la puerta', 'fue la gota que rebalso el vaso', 'tengo que levantarme temprano', 'el tiene unos anos', 'que tan rapido puedes caminar', 'deja de discutir', 'no estoy feliz', 've al grano', 'vayanse a dormir', 'tu conoces a la gente', 'esta carta es para mi', 'que esta pasando aqui', 'tu podrias resultar lastimado', 'te puedes quedar un minuto', 'este funciona', 'recuerdas esto', 'todos la conocen', 'se menciono tu nombre', 'lo quieren ustedes', 'se le ve feliz', 'esa no es la meta', 'tom encontro un trabajo', 'este perro esta grenudo', 'se pondra mas calido pronto', 'mi escritorio es de madera', 'tenia los pies dormidos', 'el espectaculo comienza a las dos y media', 'es muy corto', 'necesito algunos consejos', 'duermo en una cama grande', 'yo lo adquiri', 'atrapenlo', 'estas tentando al destino', 'eso es un gato', 'sacad ese perro de aqui', 'tom miro fijamente a mary', 'no te eches la culpa', 'a tomas le falta un dedo', 'conduce mas despacio', 'no se enoje', 'no se a ciencia cierta', 'lanza la pelota hacia tom', 'es dificil elegir', 'tom echo de menos a mary', 'tom y mary se besaron', 'ellos no saben nada', 'no vi sus caras', 'aprende a mantener los tiempos', 'estoy atrapado en boston', 'la chaqueta me queda grande', 'ya veras', 'estoy contento de que te acuerdes', 'no estabamos peleando', 'es ese tuyo', 'tengo el estomago lleno', 'pedi un recibo', 'uso gafas', 'tocas en una banda', 'conoce todo', 'donde esta mi peine', 'no me digas eso', 'quedate ahi', 'se que tom hizo trampas', 'que mas puede decir', 'ya tengo una familia', 'vas de compras a menudo', 'gracias por el consejo', 'intente hacerlo', 'venid a verme', 'donde estan las manzanas', 'para que es eso', 'quien se rie ahora', 'eso es una rana', 'tom tiene otro problema', 'el es inteligente', 'muchos marineros no saben nadar', 'acabo de oir de tom', 'me apresure a casa', 'cogere mis llaves', 'por que haria tom eso', 'por favor hable despacio', 'me siento muy mal', 'quedate en tu habitacion', 'te gusta verdad', 'cual es tu medida de cintura', 'nadie sabe', 'ponte de rodillas', 'tomas lo intenta', 'odio la politica', 'no hablaran', 'que te hace feliz', 'el edificio esta en llamas', 'se quienes son', 'podriamos leer', 'tengo mucha destreza', 'esta buena', 'tom es el heroe de mary', 'tom advirtio a mary', 'abre la puerta por favor', 'deja de evitarme', 'no me gusta boston', 'no le llega agua al tanque', 'son inteligentes', 'tom esta emocionado', 'imagino que ya saben por que', 'vendo mi coche', 'me gustaria saber por que', 'estamos construyendo un puente', 'que hay', 'el le tiene miedo a los perros', 'quiero ver mas', 'he avisado a tom', 'este es mi plan', 'tom estaba enfermo', 'el tiene dos perros', 'donde estan nuestros paraguas', 'nos gustan los arboles', 'el tocaba el piano', 'todavia estoy esperando', 'tom le dio una pistola a mary', 'se que estoy equivocado', 'estuvo tom en su equipo', 'nos peleabamos a todas horas', 'presione el boton por favor', 'tom se durmio', 'quien grito', 'estamos arruinados', 'supongo que estaras hambriento', 'a tom le gusta la pesca', 'mi casa es pequenita', 'caminemos hacia la ciudad', 'no tengo cancer', 'este es el fin', 'tengo que planchar mi camisa', 'que te aflige', 'queres sopa', 'de quien son esos libros', 'me duele la espalda', 'la semana proxima ya no trabajo', 'todavia estoy despierto', 'ella le encontro un asiento', 'el no temia la muerte', 'yo amo festejar', 'dimelo', 'este es nuestro carro', 'los corderos son bebes oveja', 'no la habia visto nunca', 'tom dejo de escribir', 'usted es muy valiente', 'tu sabes por que me fui', 'que desastre', 'agradezco el apoyo', 'soy agente', 'no respondas', 'el es un heroe mal reconocido', 'ya empezo', 'dame tu telefono', 'tom dejo de hablar', 'yo hice eso', 'si me necesitas llamame', 'esta esta rota', 'todo lo que bebia era cafe', 'tom apreto los dientes', 'donde esta mi ropa', 'le agradabas a todo el mundo', 'busquemos la solucion', 'voy a ser discreto', 'tambien hablo frances', 'era muy pequeno', 'realmente tengo que irme', 'tu comentario es absurdo', 'no los reconoces', 'baja el volumen', 'damelo', 'esperare afuera', 'mira atentamente', 'ambas estan muertas', 'eso es', 'tom es soltero', 'no hagas caso', 'ya se nos hizo tarde', 'tengo que irme ahora', 'yo estaba celoso de ella', 'es usted la madre de tom', 'tom rara vez se rie', 'vas a cocinar esta noche', 'ahora no estoy estudiando', 'usa energia solar', 'miren esto', 'es un buen consejo', 'oi a alguien silbar', 'no eres lo bastante rapido', 'tu eras mi amigo', 'mi padre fuma', 'el no puede venir con nosotros', 'tu debes subir la colina', 'que vas a llevar puesto', 'tom tuvo suerte', 'venid cuando querais', 'limitate a elegir', 'ya no somos jovenes', 'podemos volver a casa', 'tom es anticuado', 'eres quisquilloso', 'todos tienen lapices', 'aqui tienes', 'ya estas preparada', 'tom se esta escondiendo de mary', 'perdona', 'tom lo hizo sonar facil', 'el problema no es tom', 'te necesito a mi lado', 'puedo hacer una pregunta', 'tom nunca come quiche', 'tom es malicioso', 'partelo a la mitad', 'estaba bastante oscuro', 'como estan todos', 'estais despedidas', 'nunca te he odiado', 'deberia cortarme el pelo', 'todos lo creen asi', 'tenlo en mente', 'vuelve pronto', 'donde esta tu hijo', 'no puedes hipnotizarme', 'ahora es tu turno', 'podemos ayudar a tom', 'me gusta escribir poemas', 'ellas son lindas', 'cuanto cuesta eso', 'en el se puede confiar', 'que sorpresa', 'es un caracol', 'vamos a ir', 'tom llama todas las noches', 'los estudiantes se rieron', 'veo lo que estas haciendo', 'esto es vida', 'tengo un trabajo que terminar', 'mire abajo hacia el mar', 'ellos te abandonaron', 'quedatelo', 'yo buscaba la llave', 'tom va a perdonar a mary', 'necesito un auto nuevo', 'esta tom con mary', 'sonar no cuesta nada', 'se lo que oi', 'no he visto nada', 'miren aqui', 'tom parece inteligente', 'ya quisiera haber estado alla', 'no puedes usarlo', 'si que necesito ayuda', 'no tengo mucho que hacer', 'de verdad vendras', 'mi hogar es mi castillo', 'me apasiona el cine mudo', 'que mas hay ahi', 'vive un poco', 'estas saturado de trabajo', 'estas ahora cansado', 'te ves palido', 'solia vivir alli', 'el edificio se cayo', 'creo que no me gustas', 'tu lo averiguaras', 'como lo iba a saber', 'soy un nino', 'no estoy enojado con tom', 'hoy no tengo tarea', 'no necesito mas', 'toma mucha agua', 'encontre otro trabajo', 'tom me dio una llave', 'puede girarse hacia alla', 'de quien es esta carta', 'hola', 'siempre esta conmigo', 'preguntemosles', 'esto es muy cierto', 'me estaba riendo', 'no eres estupido', 'pagaremos por eso', 'ella escribe precioso', 'eso es repugnante', 'esta es mi hija', 'tom esta emocionado', 'no me decepciones', 'eres poli', 'quieres quedarte en mi casa', 'tom dice que soy vanidoso', 'voy camino al hotel', 'quen mas te ayudo', 'deme tiempo', 'estamos aprendiendo a nadar', 'el ha dejado a su familia', 'esas fotos son suyas', 'me quedo dormido en cualquier sitio', 'el tiempo se detuvo', 'no vayamos', 'anda con ellos', 'el es un hombre sencillo', 'todo el mundo entro en panico', 'tirasela a tom', 'por que no deberia hacer eso', 'a cuanto estan las naranjas', 'pasame el cuchillo', 'estos son los mios', 'yo se por que lo necesitas', 'le ayude a lavar la vajilla', 'me resfrio a menudo', 'se me antoja un helado', 'he estado una vez ahi', 'reconoci a tom', 'el a menudo ayuda a los demas', 'voy con ella', 'vinimos a recogerte', 'han ordenado el correo', 'pero que hacen aqui', 'no he comido durante dias', 'acepto vuestro desafio', 'no fue encontrado', 'no te puedo parar', 'tan solo soy curioso', 'de donde venis', 'afortunadamente estaba equivocado', 'ese hombre es peligroso', 'tom es de boston', 'he perdido mi billete', 'tom parecia intrigado', 'me escuchas', 'ese automovil es muy bueno', 'cuando termina', 'casi he terminado', 'pontelo', 'necesitabamos ayuda', 'por poco cometo un error', 'volvi a salir', 'le dije que no se inquietase', 'entonces le dire eso', 'traeme las revistas', 'esta manzana esta acida', 'tom intento sonreir', 'estoy cruzando mis dedos', 'ella fue mala con el', 'odio cuando pasa esto', 'yo soy tu padre', 'tom era un mal estudiante', 'se acabo la escuela', 'se ha acabado el conac', 'tengo que hacer el almuerzo', 'la proxima manejo yo', 'tengo un gran problema', 'tom se ensucio los pantalones', 'se que deberia quedarme', 'es un barco de carga', 'eso ya lo se', 'use esta', 'les gusta a ustedes el jengibre', 'el orden llego demasiado tarde', 'pocas personas piensan asi', 'tom es incorregible', 'pero que enorme perro', 'le estamos vigilando', 'tom no me echo la culpa', 'ahora tengo treinta anos', 'por que tom esta en la casa', 'nos gusta charlar', 'tom provoco el accidente', 'esto es aburrido', 'no me moleste', 'el teatro esta vacio', 'tomas era mayor', 'nos separamos', 'eres muy vaga', 'tom llego', 'daselos', 'preste a tom mi paraguas', 'no me gusta su cara', 'tom esta enamorado', 'el telon se levanto', 'tom es muy famoso', 'puedo pedir prestado esto', 'estabas mintiendo verdad', 'tengo sueno', 'la gente se burlo de tom', 'fue una noche oscura', 'mire a mi alrededor', 'soy de tokio', 'el boligrafo esta roto', 'hemos tenido suficiente', 'donde estan mis calcetines', 'estais motivados', 'el lunes fue un dia agitado', 'no tenemos seguro medico', 'prefiero llegar antes', 'puedo sentarme cerca de vosotros', 'ellos estaban satisfechos', 'viajar en el tiempo es posible', 'puede levantar esta pierna', 'tom gano la competencia', 'es alto', 'deja de condescender conmigo', 'no vayamos alla', 'hemos comido huevos', 'el fue testigo del asesinato', 'heri sus sentimientos', 'ha perdido usted', 'detesto ver la television', 'nos acordamos de tom', 'a ustedes les conocen', 'quiero una disculpa', 'puedo sentarme ahi', 'tom no tiene empleo', 'el me dio la mano', 'quisiera una ensalada', 'trabajas demasiado duro', 'me duele todo', 'dibujadlo', 'aqui estaras segura', 'sos muy listo', 'como es el clima alli', 'estaba equivocada', 'trabajo en boston', 'ellos son de poca confianza', 'ella esta cosiendo un vestido', 'no te muevas de aqui', 'simplemente sigue hablando', 'no tenemos frenos', 'estan malos', 'me gustan los idiomas', 'que altos que estan', 'la carrera estaba arreglada', 'no es eso maravilloso', 'necesito un favor mas', 'ya lo sabras', 'emiti un juicio a conciencia', 'yo lei un libro', 'cual es su nacionalidad', 'todavia quedan mas opciones', 'fue una pelicula terrible', 'el es mal conductor', 'ahora debo irme a la cama', 'cantemos una cancion', 'tomas dijo no ser un experto', 'dime cuando empezar', 'tienes hijos', 'un momento por favor', 'por favor adopte este cachorrito', 'no fue mi intencion golpearlo', 'siento tu dolor socio', 'entra y sentate', 'tuvieron una buena caceria', 'tomas odia a los extranjeros', 'no estas bromeando', 'no hay escapatoria', 'es solo una teoria', 'puedo quedarme a dormir', 'tomas se fue a la cama', 'la comida es terrible', 'debo hacer ejercicio', 'un auto atropello a tomas', 'eso tambien es cierto', 'sobrevivi', 'tom no ha llamado', 'adonde iras', 'querias algo', 'di patata', 'ninguno de nosotros es perfecto', 'tom esta hiperventilando', 'el bebio cerveza', 'acepto tus condiciones', 'me acabo de encontrar con el', 'ella lo idolatraba', 'alguien me salvo la vida', 'que hay aqui', 'tom falto a clases otra vez', 'donde esta el periodico', 'guarden silencio', 'son bonitos', 'tom cuenta con mi simpatia', 'anhelamos la paz', 'no me puedo quedar a cenar', 'no juegues aqui', 'sois libres', 'compre una bolsa', 'la victima fui yo', 'tomas se fue de boston', 'se sincero', 'estaba borracho y furioso', 'la pasaste bien', 'no fui al zoologico', 'era muy hermoso', 'a todos nos agrada el', 'no la quiero', 'yo podria votar por tom', 'que hacen', 'ella es mi madrina', 'el se cayo y se hizo dano en la pierna', 'guarda el secreto por favor', 'no digas mentiras se honesto', 'estos son reales', 'quiere ser rico', 'fue muy confuso', 'todo esta en tu cabeza', 'yo vine aqui a estudiar', 'me tomas el pelo', 'con quien estuvisteis', 'sabia que estarias aqui', 'estas bien', 'tom es un embustero', 'bebo para olvidar', 'necesito mas cobijas', 'llevas lentillas', 'en realidad el es un buen tipo', 'tengo tiempo', 'tu eres deshonesto', 'ellos estan regresando', 'necesito un nuevo ordenador', 'me encanta tu acento', 'se os acabo el tiempo', 'lo hizo mi hermano', 'puedo hacer que salgamos de esto', 'la noche estaba fresca', 'como fue el vuelo', 'hoy hace mucho frio', 'puedes descubrirlo', 'hay un monton en juego', 'teneis muchos amigos', 'los ninos son asi', 'estas son las mias', 'por que no vienen', 'todas estas son mias', 'el me salvo la vida', 'bailamos', 'deten la guerra por favor', 'veo la television', 'se lo que hare', 'hola por aqui', 'querian verme', 'el dinero no lo es todo', 'mastico chicle', 'que esta escondiendo', 'no quiero almorzar', 'tom tiene su propio dormitorio', 'me gusta caminar solo', 'quien esta a cargo aqui', 'va a llover', 'tomas es mi esposo', 'sentate por favor', 'le vi salir', 'acabo de ver una pantera', 'ahora ya lo se', 'el bote zozobro', 'comprendo los problemas', 'eso es una perdida de tiempo', 'el fue facilmente influenciado', 'me alegre de verlo', 'se que ella es mona', 'te vas o te quedas', 'por que no funciona esto', 'ahi viene el autobus', 'esperemos aqui', 'la habitacion estaba a oscuras', 'el oso comio una manzana', 'donde esta el dinero', 'yo dije levantate', 'espere usted un minuto', 'no es una buena idea', 'me puedes llamar tom', 'que hay de nosotros', 'puedo entrar ahora', 'no me llame mas', 'no tenemos ningun sitio donde escondernos', 'quede embarazada', 'odio a mi computadora', 'el esta en peligro', 'se que mientes', 'que hay en ese aparador', 'agarra de abajo', 'el se puso a llorar', 'ven entra', 'inflad los globos', 'gracias por la ayuda', 'tom estas ahi', 'yo si hice eso no es cierto', 'tom esta furioso con mary', 'respondi por el', 'es la respuesta correcta', 'a ver quien gana', 'no queda otra', 'tom me cree', 'es una emergencia', 'cuanto pesa tom', 'sali de aca rapidamente', 'el hombre estaba agonizando', 'enseneme otra camara', 'no le digas a mi mujer', 'odio los mapaches', 'no fuimos tan lejos', 'la gente ama a los perros', 'el dinero abre todas las puertas', 'simplemente lo ignoro a tomas', 'sera suficiente', 'el es poco hablador', 'sea bueno', 'ella estaba nadando', 'aquellos son los libros de ellos', 'alguien enveneno a tom', 'alguno se acerca', 'ya no me hace falta', 'a ella no le gusta el sushi', 'esta noche llovera', 'no estoy asustado', 'echo una mirada al libro', 'tienes un minuto', 'el posee esta tierra', 'tom es paciente', 'estoy sin aliento', 'quiza venzamos', 'me dijo tom que le pegaste', 'no me he olvidado de ustedes', 'tomas no estaba borracho', 'el rumor no es cierto', 'yo necesito una lampara', 'no hablo japones', 'le gusta el te', 'tom encendio el fuego', 'queres quedarte aca', 'me quede sin palabras', 'tom se ve sorprendido', 'me quede donde estaba', 'el delito es cada vez mayor', 'le gusta el jamon y los huevos', 'tom es mi invitado', 'por que estais enfadadas', 'necesitais ayuda', 'tienes tres lapices', 'podrias hacerme un favor', 'es dulce', 'tus bromas no son divertidas', 'el solto la cuerda', 'gracias por recibirme', 'estas tan cerca', 'tom queria conocerles', 'yo me ocupare de eso', 'el usa lentes', 'esta alfombra es hecha a mano', 'se acerca el verano', 'como has entrado', 'ellos hablan espanol', 'soy limpio', 'te debo diez dolares', 'casi me mato', 'ella dejo la habitacion', 'le mentiste a la fbi', 'ayudame a empujarlo', 'el cajon del escritorio esta abierto', 'no vayas sin sombrero', 'todos estan bien', 'tom tiene un ford', 'no es tu camisa', 'lo superaremos', 'hola hay alguien ahi', 'esto es una orden', 'el bano esta listo', 'me duele la guata', 'eso no es una palabra', 'tom no pedira ayuda', 'los ha visto', 'plega la hoja por la mitad', 'tom no puede ayudaros', 'esas manzanas son grandes', 'esta es mi ultima oferta', 'jugue tenis todo el dia', 'el hombre es mortal', 'donde puedo rezar', 'has hecho una promesa', 'no me dejes aqui', 'pedi muebles nuevos', 'son vuestros', 'ella encendio la luz', 'tom queria conoceros', 'es realmente una buena idea', 'la calle esta desierta', 'tu pareces poco formal', 'aquel es tu libro', 'era demasiado caro', 'al menos lo has intentado', 'asi es como fue', 'las viboras son reptiles', 'vamos despierta', 'ella tiene una tierna risita', 'mi hijo tiene un dolor de muelas', 'no tengo eleccion', 'estoy seguro que tom te extrana', 'vengo aqui todos los dias', 'ella es muy inteligente', 'todavia estas involucrado', 'te veo luego', 'el debe estar enojado', 'la cremallera esta atascada', 'se me hace agua la boca', 'voy a comprarlo', 'hola pasa adelante', 'nunca hablamos con ellos', 'claro que lo entiendo', 'necesito sus nombres', 'subase al bus', 'os estare vigilando', 'debo acostumbrarme a ello', 'ella trato de no llorar', 'quien esta al mando', 'le quieres', 'no admitas nada', 'logramos mucho', 'tom adora los rabanos', 'no se pondra celoso tom', 'este es el que mas me gusta', 'necesitamos vuestra ayuda', 'tom trabaja en boston', 'asi es como me gusta', 'tom coleccionaba sellos', 'ellos me conocen', 'el perro de tom ataco a mary', 'no hemos hecho nada', 'lo odio', 'tom es un maquinador', 'habla ingles', 'suena justo', 'donde esta la plata', 'tu me ensenarias', 'tom sabia que venia', 'mi mujer es vegetariana', 'por fortuna no murio nadie', 'el me golpeo en la cabeza', 'ese es el sombrero que me pertenece', 'he vuelto', 'estan seguros', 'ya basta de llorar', 'son inmaduros', 'esto es un lapiz', 'ellos ganaron', 'puedes usar mi auto nuevo', 'el mal siempre triunfa', 'dame solo un poco', 'dame un beso', 'me quede encerrado afuera', 'sois muy valientes', 'me siento tan feliz hoy', 'tienes muchos amigos', 'odio la musica', 'estudias', 'me case con un canadiense', 'la honestidad es una virtud', 'la vida es muy corta', 'el es mas fuerte que vos', 'yo no he conducido', 'a tom le gusta mary', 'el estaba terriblemente emocionado', 'estoy orgulloso de mi colegio', 'necesito que veas esto', 'hay alguien aca', 'ensename la fotografia', 'las respetamos', 'tomas nunca tuvo dudas', 'disculpe puedo entrar', 'estoy un poco mareado', 'basta de injurias', 'a quien estas mirando', 'a que hora es la comida', 'tuve que ir a boston', 'tom se ha montado en el coche', 'tuve que irme de boston', 'concuerdo con vosotros', 'yo se eso', 'yo nunca bebo te', 'el no puede comprarse un coche', 'abran sus libros', 'el volvio enseguida', 'dice que le gustan las flores', 'no estaban satisfechos', 'estas tomando vitaminas', 'todo el mundo se quedo', 'nadie puede detener a tom', 'el frances no es facil', 'esos son cucos', 'la gentileza no ha muerto', 'tengo una nueva escuter', 'soy soltero', 'el habla chino fluido', 'tom confia en mary', 'tom es mas alto que yo', 'quiero a mi familia de vuelta', 'tan solo se esto', 'nos casamos', 'alguien perdio una billetera', 'se mas flexible', 'jesus', 'sientate y quedate quieto', 'que plan para hoy', 'ese no era tom', 'bienvenido', 'tom se emborracho', 'no tomara mucho tiempo', 'cuando la viste', 'hazlo y punto', 'me senti invencible', 'que haremos esta noche', 'vino a buscarlo un hombre', 'no es asunto mio', 'por que no esperas aca', 'es mi cancion favorita', 'les gusta estudiar', 'fue en bicicleta', 'tom vio a mary', 'nunca tuvimos oportunidad', 'eso es realmente entristecedor', 'tom es muy inteligente', 'donde nos encontraremos', 'ama cantar', 'diles que tengan cuidado', 'te he comprado un coche', 'como se llama', 'el me beso el cuello', 'esta limpio', 'entendeis', 'el puede que no sea feliz', 'lo cambie', 'hipocrita', 'el esta justo detras de ti', 'el se retira la proxima primavera', 'mi plan fue rechazado', 'las vi', 'me gusta mucho leer', 'no puedo involucrarme', 'tom se burlo de mary', 'tom llego a su casa a las dos y media', 'puedo hablar con tom', 'esto es todo lo que puedo hacer', 'tienes que cerrar la boca', 'su silencio me sorprendio', 'tom esta en la oficina de maria', 'cuenta hasta cien', 'tienes miedo de los fantasmas', 'tom vino a visitar a mary', 'comprendo tu punto', 'hoy hace mucho frio', 'esta usted ciego', 'nadie vive conmigo', 'sigue hacia la izquierda', 'soy universitario', 'que buena idea', 'que noche maravillosa', 'donde te sentabas', 'estoy aqui', 'te llamo luego', 'no tengo ni pizca de miedo', 'siempre estabamos juntos', 'la bolsa de mary esta vacia', 'ella toca la guitarra', 'que es tan especial', 'viene alguno', 'acabo de mudarme a la ciudad', 'tom casi fue despedido', 'el es una persona grosera', 'no estoy sordo', 'de quien es esa casa', 'eso es suficiente', 'estoy muerto de hambre', 'alguien ataco a tom', 'el precio es correcto', 'somos jugadores de futbol', 'ya sabia del trabajo', 'yo no lo hice', 'estamos leyendo', 'ella habla demasiado', 'vaya usted primero', 'estabamos cerca', 'lo comprendemos', 'me querias', 'anduvimos mucho', 'yo senti lo mismo', 'quien quiere galletitas', 'puedes responder a ello', 'hace viento', 'sentios como en casa', 'deshazte del arma', 'necesitas el libro', 'tom vende computadoras', 'preguntemos si es verdad', 'la sangre es roja', 'el tuvo que llevar la bolsa', 'me gusta mas el rojo oscuro', 'todavia no me siento seguro', 'tomas cocina con gas', 'la vida es injusta', 'te tienes que ir', 'esto ayuda mucho', 'tenemos que vernos a mediodia', 'no nos subestimes', 'el no dijo nada', 'hoy hace un calor horrible', 'fue una mala eleccion', 'necesito muchos libros', 'necesitamos tu consejo', 'encera el piso', 'ahora vivo aqui', 'ella es una chica inteligente', 'no dejes que te asusten', 'se expresa bien', 'como esta el cuello de tom', 'recomencemos', 'tom dice que es canadiense', 'el besa muy bien', 'vete al hospital', 'el se ve enfermo', 'cuando se lo preguntaste a tom', 'oye para donde vas', 'decidi irme a dormir', 'se que tom no esta solo', 'has tomado una sabia decision', 'tom dio un discurso', 'hicieron muchas acusaciones', 'voy a coger la escoba', 'esos son sus libros', 'no me gusto eso', 'puedo hablar con vosotros', 'es inteligente', 'me puedo quedar', 'no soy tan rapido como ustedes', 'ella se durmio', 'las tortugas son reptiles', 'estas mentalizado', 'por favor ven otra vez', 'no me gusta el calor', 'necesito un lugar para quedarme', 'tom sigue en la carcel', 'como estudias', 'eso es verdad', 'no puedo seguirte', 'aun estas en boston', 'esa es la llave', 'los ninos no son bienvenidos', 'es una enfermedad del cuero cabelludo', 'oimos con nuestras orejas', 'estoy en la prision', 'repitelo', 'todos hemos estado ahi', 'el es nuestro profesor de ingles', 'nos sentamos en circulo', 'de quien es este portatil', 'quereis algo', 'lo hare', 'por que no estas trabajando', 'quisiera verlo', 'lo intentaste', 'tom se quedo dormido', 'tom comio palomitas', 'dividamonos la cuenta', 'la conozco bien', 'aguanta un segundo', 'ando escaso de tiempo', 'te has reunido ya con el', 'lo guardare', 'tom tartamudea', 'es un angel', 'lo demostrare', 'tom probo el estofado', 'puedo verlo', 'ella le esta ganando al cancer', 'tom engano a mary', 'puede que tenga razon', 'cuan hambriento estas', 'este coche es chico', 'me oiste', 'el escribio una carta', 'algunas personas son malignas', 'es de lisboa', 'el tren partio puntual', 'estaban muy confundidos', 'puedes negarte', 'vendes pilas', 'tom se odia a si mismo', 'podria podar el pasto', 'utilizad esta', 'un poco de agua por favor', 'tom se torcio el tobillo', 'el libro es blanco', 'estoy buscando la llave', 'estais cansadas', 'eso es increible', 'que puedo hacer al respecto', 'estoy mejor que el', 'tenga piedad de mi', 'ven', 'somos como una familia', 'solo se trata de dinero', 'el agua esta buena', 'espera un momento', 'soy fea', 'donde estan mis cosas', 'nunca visito a mi hermana', 'entonces que hiciste', 'eso es muy poco probable', 'tenes el dinero', 'tom se puso a cubierto', 'esperaba mas de vos', 'el volvio de canada', 'subete a la bascula', 'dile gracias a tom', 'me debes una cerveza', 'me gusta regatear', 'el tiene dos gatos', 'escuchamos musica', 'creo que estamos a salvo ahora', 'oi cerrarse la puerta', 'esta es mi casa', 'le voy a decir a los demas', 'ayer comi huevos', 'ayudamos a tom', 'me sentia mucho mejor', 'toco el violin', 'nunca habia notado eso', 'estan ellos aqui', 'se objetivo', 'que es aquel edificio', 'no eras tan malo', 'tengo que ir a hablar con tom', 'tom llego demasiado tarde', 'tu perro esta muy gordo', 'te dieron de comer', 'a tom le gusta el jazz', 'ella esta afuera ahora', 'no seas tacano', 'aquello es una locura', 'somos de segundo', 'entonces como ocurrio esto', 'no me queda dinero', 'tom pelo la manzana', 'tom es el sobrino de mary', 'el regimen ha caido', 'el usaba zapatos viejos', 'tom se quedo', 'tom comenzo a escavar', 'deja de sonar', 'no me gusta este chiste', 'veniamos a pedir perdon', 'fuimos a gifu', 'la hemos encontrado con vida', 'todavia no ha acabado el dia', 'voy a regar el jardin', 'no es un poco pequena', 'donde estabas ese dia', 'te vere el mes que viene', 'donde estan tus hermanas', 'he arado el campo', 'no podre trabajar manana', 'a ella le gusta dormir', 'no estoy triste', 'me he leido los dos libros', 'colecciono monedas raras', 'tom esta en la casa', 'has perdido algo', 'el jardin es pequeno', 'apagalo', 'este libro es viejo', 'somos como hermanos', 'necesitan un medico', 'me ayudo mi amigo', 'tom solo bebe cafe', 'mi hermana tiene unas largas piernas', 'que quiere', 'los sueldos estan bajando', 'no uso facebook', 'no puedo salir fuera', 'soy el abuelo de tom', 'alguien te vio', 'que mala pelicula', 'piensalo otra vez', 'tenemos que tener cuidado', 'apenas puedo nadar', 'tu eres arrogante', 'disculpe la tardanza', 'hoy estoy ocupado', 'la casa no esta fria', 'hablo mientras duermo', 'queria leerlos', 'te gusta perder', 'lo sabemos todo', 'no me preguntes', 'esto es real', 'soy bastante facilon', 'es hora de marcharse', 'ellos son aburridos', 'dejate de bromear', 'aquella casa es mia', 'que fascinante', 'cuido de tom', 'estoy tan cansado de todo esto', 'muchas gracias a todos', 'el llevaba una chaqueta azul', 'las aranas beben agua', 'todo cambiara', 'tengo los brazos cansados', 'le preste mi camara', 'el no le gusta a ella', 'por eso pregunte', 'llamame en cualquier momento', 'es viernes hoy', 'abre los ojos', 'llego tarde a cenar', 'sabes nadar verdad', 'es una ley estupida', 'el nunca me perdonara', 'la belleza es subjetiva', 'tenemos fotos', 'que conjunto tan feo', 'necesitas un abogado', 'las paredes tienen oidos', 'necesitamos que haya mas precipitaciones', 'trabaja en un banco', 'creo que es inocente', 'tom necesita una gauchada', 'me gusta mucho ese vestido', 'tengo que agradecerselo', 'se mantuvieron', 'yo me ofendo por eso', 'yo era feliz entonces', 'maria llevaba una blusa rosa', 'donde esta mi dinero', 'lamento haber sido tan rudo', 'el es odiado', 'tom le fruncio a mary', 'se monto en su coche', 'vale la pena', 'estoy un poco ido', 'tom le sonrio a mary', 'entra y mira esto', 'busca', 'cuan profunda es la piscina', 'se rompera', 'casi se me olvida', 'hemos tenido mucha lluvia', 'es abogado', 'espero que todos esten conformes', 'mucho gusto conocerte', 'le compre una bufanda a mary', 'en donde lo quieres', 'estan charlando', 'me carcajeo', 'ellos saben acerca de nosotros', 'deben de ser americanos', 'estoy desesperada', 'se que ustedes tambien estan ocupados', 'no fuma', 'la verdad es que yo tambien tengo sueno', 'tome mi decision', 'la gente esta hablando', 'esta ella en casa', 'baja aqui', 'saliste anoche', 'donde escuchaste eso', 'ella le obligo a hacerlo', 'nadie la animo', 'tengo que recuperarlo', 'en este momento estoy cocinando', 'la risa es contagiosa', 'nadie lo notara', 'tengo dos peces rojos', 'las ratas transmiten la epidemia', 'tom tiene planes', 'no te subas al muro', 'hace falta que yo vaya alla', 'me canso facilmente', 'tengo una peticion', 'me gusta mucho leer', 'mi casa esta aqui', 'ella le dijo que parase', 'le pedi ayuda a tom', 'estoy muy decepcionada', 'cuando vendras a casa', 'por que no hablo tom', 'era un juego fantastico', 'yo llame a casa', 'nos lo jugaremos a cara o cruz', 'donde esta el hospital', 'fue extremadamente extrano', 'tom es lucido', 'tom se quedo afuera', 'hablen despacio por favor', 'denme tiempo', 'yo me bajo aqui', 'adonde vais', 'puedo abrir la puerta', 'te interesa', 'amo este auto', 'supongo que no importa', 'supongo que puedo confiar en ti', 'vi al coche golpear a un hombre', 'sosten la puerta', 'espera a que vuelva', 'me tienen miedo', 'vete a dormir', 'lee esto ahorita mismo', 'asi es como sucedio', 'normalmente voy andando', 'ella le hizo un abrigo nuevo', 'por que es mejor este plan', 'dijiste que no doleria', 'me lastimas', 'tom es feliz otra vez', 'me apetece beber leche', 'me gusta la pizza fria', 'ella esta fuera de si', 'a que hora sales', 'esconde ese libro', 'el no llevaba sombrero', 'te gustan', 'esta gravemente herido', 'la he encontrado', 'la respuesta era facil', 'fijate en estos', 'donde estaban los demas', 'tom es muy olvidadizo', 'te recuperaras pronto', 'parece un poco cansado', 'ya se como suena', 'tom murio en batalla', 'los soldados abrieron fuego', 'salta tan alto como puedas', 'nunca me gusto la biologia', 'que emocionante', 'al final todo el mundo se muere', 'de verdad que necesito tu ayuda', 'tengo que hacer un examen', 'tom se quedara en casa', 'tom me hirio', 'tengo una bicicleta', 'tom anoto un gol', 'mis pies estan calientes', 'tom apunalo a mary', 'esta tom en casa', 'buenas tardes', 'tu que harias', 'me gusta hablar frances', 'no entres en mi habitacion', 'no puedo ir el sabado', 'tengo que comprar uno de estos', 'tengo un barco y un carro', 'esto es muy escalofriante', 'no me queda', 'esto no es seguro', 'eso seria asqueroso', 'le burle', 'como denuncio un robo', 'tus hijos son muy ricos', 'nada puede detenerte', 'me llevas alla', 'tus labios estan rojos', 'me estas confundiendo', 'sentate', 'debes ser un tonto', 'cual es la contrasena', 'no me gusta ese tipo', 'necesito unos dias mas', 'bien hecho', 'me he resfriado', 'es feliz', 'tom me enseno eso', 'a tom lo agarraron mintiendo', 'ese muchacho no mostro ningun temor', 'ves algo', 'estoy perdido', 'ese es nuestro castillo', 'tom trabajo', 'que estas tejiendo', 'hagamoslo otra vez', 'de quien es este vaso', 'el sera castigado', 'de cualquier manera tu pierdes', 'es jugador de beisbol', 'ponedlo donde querais', 'se me ha ido el dolor de cabeza', 'su alma estaba en el paraiso', 'valoramos la calidad', 'cual es el costo actual', 'no quiero perdermelo', 'tu macuto esta lleno', 'tom esta sonando', 'alguien pregunto por ti', 'es mas que suficiente', 'estoy vendiendo mis cabras', 'necesito tiempo para prepararme', 'saldre en un segundo', 'voy a estar trabajando', 'continuo nevando todo el dia', 'crees en dios', 'quedaos aqui con nosotras', 'usted lo cree', 'tom reanudo la lectura', 'no es patetico', 'los quiero', 'a ella le gusta', 'tiene los ojos marrones', 'quien gano hoy', 'tom le debia dinero a mary', 'tom gano tres carreras', 'ellos estan embriagados', 'haz caso de su consejo', 'quiero ir a patinar', 'les dimos comida', 'adivina donde estuve', 'donde estan los platos', 'peleamos una dura batalla', 'piensa en tu familia', 'tom dono sangre', 'estoy destrozado', 'a tom le funciono', 'quien tiene una idea mejor', 'puedo pedirte una cosita', 'nadie fue ahi', 'ella monto un camello', 'poneoslo', 'me encanta mi trabajo', 'asi ha sido siempre', 'estoy con diarrea', 'me rasure', 'eso es cruel', 'yo se por que tom esta feliz', 'no me temes', 'no puedo hablar con chicas', 'la noticia no puede ser cierta', 'tuve que dar el ejemplo', 'tom perdio el control', 'ya no le quiero', 'estoy solo aqui', 'el cielo se puso claro', 'tom podria desmayarse', 'esta a su lado', 'han pasado tantos anos', 'fui enganado por el', 'se lo que quieres', 'las leyes han cambiado', 'esto como se llama', 'aprendo coreano', 'los conejos se reproducen rapidamente', 'ella no es una buena persona', 'deja de cantar por favor', 'ella es una trabajadora autonoma', 'tom lo hizo voluntariamente', 'que viste', 'se inquietaban', 'ella lo admiraba', 'quien es aquel hombre', 'cuida de tom', 'que se logro', 'tomas digitalis', 'me gusta el helado', 'nosotros conduciremos', 'este sombrero es tuyo', 'tom ha roto con su novia', 'lo ha probado antes', 'no me malentiendas', 'me parece que estas muy alegre', 'me mentiste', 'conozco a la chica', 'date la vuelta', 'estaban justo aqui', 'mary llevaba una capa', 'estoy enfadado con todo el mundo', 'yo soy importante', 'creo que llevan razon', 'todo el mundo lo dice', 'la prisa es mala consejera', 'no le hagas perder tiempo a tom', 'esto es tan raro', 'es atractiva', 'por que el hielo flota', 'di la verdad', 'tom se ve estupendo', 'tom se jubilo a los', 'se que ella esta durmiendo', 'no sos dios', 'se me habia olvidado totalmente', 'echa las cortinas por favor', 'dejad sitio', 'tu lo descubriras', 'donde estan mis libros', 'que te hizo reir', 'le gusto', 'fue un gran error', 'voy de regreso', 'tom estaba avergonzado', 'intente correr rapido', 've a acostarte', 'necesito encontrar trabajo', 'hace un calor insoportable', 'eres duro', 'cuenta conmigo', 'me encanta tu jardin', 'espero que la encuentres', 'llamadme', 'voy a estar solo', 'por que esta con llave esta habitacion', 'quien te dijo que pararas', 'por que estas bostezando', 'las cebras tienen rayas', 'habia un perro corriendo', 'no me asustas', 'tu peticion es denegada', 'yo no sabia eso', 'no tenemos que ir', 'el llevaba gafas', 'tomas abrio la jaula', 'tom se olvido del ketchup', 'eres un gran fraude', 'la comida esta servida', 'tom reprimio una sonrisa burlona', 'los hijos de tom estan enfermos', 'es un poco celoso', 'esta lejos de ser rico', 'no es negro', 'decid guisqui', 'yo aprecio un desafio', 'atrapame si puedes', 'no me callare', 'son muchachos', 'hasta luego tom', 'sentite como en casa', 'cual es el mensaje', 'lo buscare', 'espera por mi abajo', 'pareces sorprendida', 'la pueden poner ahi', 'sone la campana', 'extrano mi pueblo natal', 'tuve cuidado', 'son listos', 'tom tiene mucho que perder', 'no tengo un companero', 'tom no es estupido', 'podria ser una trampa', 'juzga por ti mismo', 'fue divertido hacerlo', 'por favor habla mas fuerte', 'tom dijo que si', 'aprendi frances yo solo', 'tomas dijo que tenia miedo', 'estabamos muy unidos', 'el sabado estoy liado', 'tom se quedo en silencio', 'te extrane hoy', 'me he casado dos veces', 'todos estan de vacaciones', 'intentare hacerlo', 'agarre mi mano', 'ella tiene un rostro encantador', 'eso funciona', 'estas borracho', 'tom es un trabajolico', 'atornillalo firmemente', 'adoramos a nuestros clientes', 'tengo un hijo', 'tom esta viendo un video', 'lo estudie en profundidad', 'soy intolerante a la lactosa', 'no esta enfermo', 'soy tom el jardinero', 'abandonaron el barco', 'mentirias por mi', 'vengo por el dinero', 'tom gano la apuesta', 'tom es demasiado joven todavia', 'te toca intentalo', 'el no es idiota', 'despues del sabado viene el domingo', 'el la amara por siempre', 'siempre fracaso', 'no me gustan los conflictos', 'gritar no es cantar', 'retenga mis llamadas', 'ya estoy listo', 'ese es el libro de tom', 'no se hablar japones', 'esta ventoso', 'es lo mejor que tenemos', 'no me digas que me relaje', 'quebre tu cenicero', 'nunca bebo estando solo', 'ellos se negaron a ayudarnos', 'esta gordo tom', 'no podemos vivir asi', 'son profesores', 'a los ninos les gusta la nieve', 'tom envio un aviso a mary', 'pareces verdaderamente ocupado', 'es un diseno defectuoso', 'mary es una fiestera', 'lo explicare todo', 'estas embriagado', 'le diremos', 'tom yo te respeto', 'me quieres acompanar', 'estas acusando a tom', 'tom es el vecino de mary', 'deberia saberlo', 'estoy escribiendo un libro', 'limpiemos nuestra habitacion', 'no es esa la cuestion', 'miralo', 'la guerra parecia interminable', 'no me gusta estar sola', 'cual es la gran sorpresa', 'tom odia a las ninas', 'los marineros vieron tierra firme', 'mi hogar es tu hogar', 'como se siente hoy', 'ella esta hablando', 'mi celular esta sonando', 'no podia caminar', 'el rechazo duele', 'necesitaras una llave', 'aquellos son nuestros libros', 'solo lo vi una vez', 'tom es tonto', 'no salten', 'tom se golpeo su rodilla', 'lo sabemos', 'se va a las ocho', 'confio en ti', 'todos se pusieron en pie', 'tom me pidio ayuda', 'cual es vuestro consejo', 'soy tu vecino', 'ella decidio no ir', 'me encanta ser profesor', 'el no tiene hijos', 'muestreme otro bolso', 'recoja sus cosas', 'lo que tenemos es suficiente', 'esto sabe bien', 'estas cansada', 'por fin se ha acabado todo', 'el pan no es fresco', 'el tiene una camara', 'el ha perdido su reputacion', 'abandonaron', 'estas muy atrasado', 'la fe puede mover montanas', 'no estas ansioso', 'por que les importa', 'castigamos a tom', 'has vivido aqui', 'me pregunto por que', 'no juegues en esta habitacion', 'apestas', 'fijate en esos', 'no es asi como me siento', 'tomas se tino el pelo de azul', 'mantenete abrigado', 'hay una manera mejor', 'dejeme sola', 'el fue asesinado en la guerra', 'me he explicado con claridad', 'el frances no me resulta facil', 'cual es la hora exacta', 'no tengo iniciativa', 'por que sonamos', 'el sigue parado', 'eres demasiado idealista', 'necesito saber ahora', 'soy muy rudo', 'quien entro en panico', 'tom se lo conto', 'quiero una novia', 'ella esta en peligro', 'me gusta aquel joven', 'voy a morir', 'la sala esta desierta', 'no estaba atrapado', 'quedate conmigo', 'le dejaremos intentar', 'me gusta esa pelicula', 'ella se froto sus ojos', 'por favor cierre la puerta', 'el toco el timbre', 'tom cerro la puerta con llave', 'me aburro en casa', 'ojala te vaya bien', 'tom es tan solo un nino', 'no robe nada', 'no tengo talento', 'yo estornudo todo el tiempo', 'te extrane mucho', 'tom es cientifico', 'la pelicula me gusto', 'tengo que comprar uno', 'estaba orgulloso de tom', 'yo vivo aqui', 'hago muchas preguntas', 'usa lentes tom', 'me parezco a mi padre', 'me duele el pie', 'no hay sustituto', 'que hago', 'aqui hay una corona', 'puse la carnada en el anzuelo', 'necesito mis lentes', 'esta aumentando', 'puedo tomar su mensaje', 'esta preparado el desayuno', 'pareces estar muy animada', 'solamente lo utilice dos veces', 'es demasiado tarde para mi', 'lo lamentara', 'disfruto ser profesor', 'me gusta mucho esquiar', 'no podemos aceptar esto', 'oh no te preocupes', 'tom no es un adulto', 'intentalo tu puedes', 'dimelo a mi', 'sos demasiado borracho', 'que rollo', 'somos jardineros', 'se ve divertido', 'se terminaron las clases', 'no me odies', 'venden mandarinas', 'el dolor se ha ido', 'tom parece estar enamorado', 'no soy ningun mentiroso', 'no matamos a tom', 'siempre esta bromeando', 'mas vale tarde que nunca', 'hagalo manana', 'eres tu un abogado', 'quiero una escultura', 'no toquen las flores', 'no he venido con tom', 'te gusta el chocolate', 'esto es grave tom', 'puedes usar una computadora', 'el agua es pura', 'tu teclado esta sucio', 'funciona bien', 'eso realmente sucedio', 'fue tan excitante', 'estan peleando', 'los precios son altos', 'tengo apendicitis', 'le pedi a tom que se fuera', 'escribe a tom', 'eh esto esta riquisimo', 'arruinaste todos mis planes', 'que estas mirando', 'avancemos', 'bailemos de acuerdo', 'los bebes se caen a menudo', 'han informado a tom', 'yo vivo en este sector', 'por el momento ella esta de vacaciones', 'yo no soy de la india', 'feliz halloween', 'a tom no le quedaba dinero', 'me castigaron sin salir', 'no puedo ingresar', 'como se declara', 'sois mis amigos', 'tenemos que correr', 'tom ni siquiera lo quiso', 'no tiene calor', 'durara', 'tom se puso su bata', 'eres asqueroso', 'me veo viejo', 'te deseo exito', 'se declaro un alto al fuego', 'estoy calvo', 'odia correr', 'pueden nadar como tom', 'estaban casados', 'se que tom esta contento', 'el llevo una vida sobria', 'has visto mi lapicera', 'eres valiente', 'no puedo entender ni una palabra', 'puedes identificarlo', 'lo vi corriendo', 'alguien esta llamando', 'tom beso a mary', 'tom se preocupo', 'resulte enganado', 'he venido aqui para ver a tom', 'nunca te he querido', 'no se muevan', 'cuando llegaran', 'ella fue alli a nadar', 'haz lo que quieras', 'se que odias la escuela', 'tienen hasta medianoche', 'que tienen', 'necesito una tripulacion', 'luces muy palida', 'notas el sabor del jengibre', 'tu la puedes poner alli', 'puedo ver a tom un poco', 'querria vino', 'te metere en la carcel', 'es un libro nuevo', 'nadie te siguio', 'me alegra oirlo', 'dame un vaso de leche', 'estoy despierto', 'olvide mi llave', 'eres nuevo', 'acaba de salir', 'pon la mesa', 'le gusta la gelatina', 'revisaste tu este texto', 'se puede romper', 'que te trae por aqui', 'llamaste a tom', 'es bueno para el negocio', 'no te sientes mejor', 'ven para aca', 'no la rompan', 'hace mucho calor aqui', 'me acuesto temprano', 'ellas parecian muy felices', 'no quiero ser cruel', 'yo era muy pequeno', 'esta escribiendo un libro', 'estaba avergonzado', 'tom no tiene nada que perder', 'no tenemos otra alternativa', 'observanos', 'hablamos con toda franqueza', 'el embajador esta de vuelta', 'el equipo verde perdio', 'nadas todos los dias', 'donde estan tus llaves', 'la casa esta embrujada', 'ella me mostro su album', 'nos necesitais', 'otro paciente ha muerto', 'esta tom ayudando a mary', 'no me empujes', 'pareces contento', 'abandonen la nave', 'pense que podriamos charlar', 'dejadmelo a mi', 'todo parece ir bien', 'el estaba silbando una melodia', 'por que el no puede venir', 'esto es amor', 'explicamelo', 'el le envio un mensaje', 'gritar no es cantar', 'nunca estareis solos', 'todo el mundo esta borracho', 'vas a bailar conmigo', 'tom lo hizo a tu manera', 'es este su perro', 'ponme un ejemplo', 'no toque las flores', 'ahora puedes mirar', 'examina esto', 'ella lo perdono', 'estoy seguro de que el tendra exito', 'esta realmente enfadado', 'tom ama su trabajo', 'he sido amado', 'el tiene una nariz larga', 'me estas arruinando la vida', 'no pareces enfadado', 'ven yo te ayudo', 'no te deseo', 'llevate a tom para arriba', 'a ti no te puedo mentir', 'las ratas son portadoras de la enfermedad', 'no nos queda mas comida', 'peleen como hombres', 'tom esbozo una sonrisa lugubre', 'es tan bello', 'todos ustedes se ven tan felices', 'yo aprobe', 'estas ciego', 'me subestimas', 'lo hare para ti', 'me siento re mal', 'por que eres tan listo', 'se nos ha tendido una emboscada', 'debemos retirarnos', 'tenian buena quimica', 'vives sola', 'no echais eso en falta', 'yo como queso', 'tome de la canilla', 'tom es muy diferente', 'bebes vino', 'no estoy asustado', 'el lunes perdi mi trabajo', 'no me atrevi a hacerlo', 'estoy desconcertado', 'no tuvimos ninguna ayuda de tom', 'no puedo levantarme', 'eres un buen amigo', 'nunca me quedo dormido', 'me vino a la mente una buena idea', 'tom es mas alto que mary', 'el balon revento', 'el es un trabajador entusiasta', 'que es todo esto', 'parate aqui mismo', 'usted deberia haber estado aqui', 'tome del grifo', 'eso fue solo una suposicion', 'necesitas este libro', 'esto es extorsion', 'ustedes estan mintiendo', 'no habia bano', 'hay que cortar el pasto', 'eso fue magia', 'ten unas buenas vacaciones', 'lo estas haciendo bien', 'esos son osos', 'yo tambien soy principiante', 'yo toco oboe', 'donde esta mi botella', 'que coche es el suyo', 'tom tenia mucho sueno', 'tom es la unica esperanza de mary', 'eso no lo podemos prometer', 'soy su nueva asistente', 'estas en mi silla', 'tom es divertido', 'suelo despertarme a las seis', 'eso sucedio', 'ponte el sombrero', 'le dio un nuevo nombre', 'le conozco', 'no estare listo', 'no tengo empleo', 'habla ingles', 'ellos se compraron un auto nuevo', 'las luces estan apagadas', 'se necesita mas tiempo', 'la chica miro a su alrededor', 'usted esta entre amigos', 'creo que el amor existe', 'te lo adverti', 'no seria justo', 'hemos estado aqui antes', 'puedo sonar no', 'quieres una bebida', 'ellos trabajan para mi', 'por favor prendan la television', 'soy chino', 'como la pasaron en el fin de semana', 'estas sacando fotos', 'pasa adentro', 'tom abrio el sobre', 'quiza tom esta muerto', 'el crimen no compensa', 'puedo tomarle una foto', 'tom tiene razon', 'el lunes es dia de fiesta', 'te perdiste un monton', 'quien es tom', 'la vida es dura', 'la llama se extinguio', 'vas a ir', 'suelta la cuerda', 'soy tu padre', 'no me importa el frio', 'no sabia hablar frances', 'tengo un paquete para tom', 'yo solo quiero divertirme', 'se fueron', 'este es mi escritorio', 'eres muy linda', 'el cuarto de tom no estaba limpio', 'como llego a casa tom', 'dejen de pelear por favor', 'es realmente ventoso', 'estoy a cargo de los libros', 'espero que haya suerte', 'tienes razon', 'fue sin ninguna pega', 'no tengo malicia hacia el', 'mi hijo es demasiado flaco', 'tomas me escucho', 'tom estaba fuera de control', 'luces de tu edad', 'recuerdo haberla visto', 'sigues jugando al hockey', 'aqui esta mi recibo', 'no me gustan los licores', 'le voy a dar una mano a tomas', 'no lo he visto', 'tom siempre estaba ausente', 'por que no maduras', 'tal vez tom es estupido', 'de que color es esto', 'por favor bajen por las escaleras', 'que poco ha faltado', 'estaba sola estudiando', 'tenemos mas cerveza', 'tom se puso serio', 'ambas son mias', 'donde deberiamos escondernos', 'yo he llegado aqui antes que usted', 'corre', 'queres una manzana', 'por que deberia pagar', 'soy demasiado pequeno', 'gracias por esperar', 'no te gusto', 'no veo el auto de tomas', 'debes hacerselo', 'esto suena familiar', 'tom esta desnudo', 'tom juega al tenis', 'como funciona esto', 'tom fue ejecutado', 'ven a mi habitacion', 'el pan esta fresco', 'aparecio de la nada', 'sos demasiado modesto', 'tom es solo un nino', 'es un error comun', 'tu besaste a maria', 'estoy en la casa', 'todos estaban hambrientos', 'dale esta copia a tom', 'el cometio un gran error', 'a el le gusta el futbol', 'tu no puedes domesticar un lobo', 'pongo en peligro mi trabajo en ello', 'eso seria incomodo', 'se nos acabo el jabon', 'no le decepciones', 'este es mi bebe', 'llevaselo a tom', 'la fiesta es manana', 'ahora tengo que irme', 'deberias ir personalmente', 'me pica el bagre', 'piensa en ello', 'no tengo un mango', 'tom estaba muy borracho', 'ellos vivieron aqui', 'apurensen muchachos', 'el le indico el camino', 'normalmente los gatos odian a los perros', 'el amor existe', 'danos ese gato', 'hice mi trabajo', 'dare lo mejor', 'hablale de nosotros a tom', 'dijiste que si', 'te has vuelto loco', 'que afortunado soy', 'son fuertes', 'pedid refuerzos', 'yo he plantado un arbol', 'quien piensa eso', 'tres de estas son mias', 'creen que somos una banda', 'he decidido que me quedare aqui', 'no seas irresponsable', 'ella le odia', 'sera mejor si entras', 'todos se sentaron', 'venga pregunta', 'yo le he visto antes', 'tom esta perdiendo a mary', 'es una palabra francesa', 'vi un perro', 'los repuestos del coche son caros', 'cree en ti mismo', 'ellos cambiaron la norma', 'esa carta es para mi', 'me gusta tu optimismo', 'nos gusta', 'yo haria lo mismo', 'mary murio durante el parto', 'es esto un rio', 'el nos agrada', 'tom oyo algo', 'fue emocionante', 'gano tom', 'cuanto me pagara', 'tom es un chiflado', 'me estoy divirtiendo', 'a ella le gustan las minifaldas', 'el tiene hijos', 'hablanos sobre ellos', 'abran paso por favor', 'esto es de el', 'necesito un taxi', 'agite antes de usar', 'no hay opcion', 'no ha cambiado nada', 'dame una hora', 'no he encontrado nada', 'ella llamaba ayuda', 'nade en el rio', 'ya no es un nino', 'tom se ve fiero', 'mi habitacion sigue vacia', 'el alquiler es barato', 'el sol esta saliendo', 'tom se esta muriendo', 'ellos tambien vienen', 'que fiasco', 'estoy intentado disculparme', 'quiero un pancho', 'tom perdio la audicion', 'que deberia hacer tom', 'en serio', 'tuve que dejar ganar a tom', 'esta muerto de cansancio', 'esta en mi bolsillo', 'has engordado', 'el no puede ayudarte', 'por lo menos nos lo pasamos bien', 'tom salio corriendo del cuarto', 'estamos hambrientos', 'eso va contra las reglas', 'ven deprisa', 'estoy un poquito borracho', 'conoces todo', 'papa no esta en casa', 'ahora pon atencion', 'aqui hay un hotel', 'ayer estuve ocupada', 'tom se convirtio al islam', 'trabajo hasta muy tarde', 'pasenla bien', 'ella lo odia', 'soy la amiga de tom', 'que tipo mas extrano', 'se rieron de el', 'cuanta distancia hay hasta la ciudad', 'si queres llorar llora', 'agarrese de mi brazo', 'eso es hermoso', 'sentaos por favor', 'no quiero comer aqui', 'dejame arreglarlo', 'el tiene miedo de nadar', 'tengo que pagar la cuenta', 'como puede estar tan tranquilo', 'estais en casa', 'con el me siento relajado', 'por que te abstuviste', 'quien esta gritando', 'estoy feliz por vos', 'dios creo el mundo', 'espero ganar', 'tom saludo', 'no mires a la camara', 'que sea lo que dios quiera', 'ellos quieren irse a casa', 'rapido sal de aqui', 'el tambien es un vendedor', 'tu pagaras por eso', 'se me fueron las ganas de comer', 'que hombre tan digno', 'ellos pararon de besarse', 'por que estas sudando', 'hagamoslo despacito', 'tom te echo de menos', 'estuve ahi una vez', 'bajate de ahi', 'conozco todos los nombres de ellos', 'puedes teclear o no', 'voy de camino a casa', 'tom esta en la azotea', 'no juegas al tenis', 'ellos son ninos geniales', 'el empezo a cantar', 'tom comenzo a quejarse', 'haz click en el enlace', 'no es la primera vez', 'has visto mi camara de fotos', 'me voy a quedar aca', 'se tu misma', 'tom me pego por accidente', 'no hableis conmigo', 'tengo mis dudas', 'nada estaba mal', 'que mujer egoista', 'le gusta andar sola', 'estoy en el octavo piso', 'miralo', 'por que preocuparse', 'no podemos decirselo a tom', 'el descuida sus estudios', 'entrad', 'quien se puede permitir esto', 'el azucar es un veneno', 'ella se desperto sola', 'este tenedor esta sucio', 'mary perdio un pendiente', 'bebete tu leche', 'tuve mucha pero que mucha suerte', 'deme un martillo', 'un auto la choco', 'tom puede partir', 'tom comenzo a murmurar', 'aqui vamos', 'tienes una solucion', 'es la nuestra', 'mi madre es rica', 'me hice dano en el codo', 'ahora recuerdo', 'puede que sea importante', 'tengo un cuchillo afilado', 'no seas idiota', 'soy como vosotros', 'me gusta esta costumbre', 'quien gana', 'tom se sintio seguro', 'este es un libro viejo', 'tom no vive aqui', 'el es extremadamente pobre', 'eso no es culpa mia', 'es completamente falso', 'ellos se escondieron en el sotano', 'no te encantan los gatos', 'me gustaria verlo', 'esto esta muy salado', 'es un viejo manuscrito', 'la vida es demasiado corta', 'identificaos', 'eso es un murcielago', 'tom es culpable', 'soy mi propio jefe', 'por que estan todos tristes', 'el es mi tio', 'esta aqui para espiarnos', 'ven a casa a las seis', 'enseguida empiezo', 'ellos estaban enamorados', 'tengo una casa grande', 'nos vamos de paseo', 'ella le dejo', 'quiero divertirme', 'hemos ganado', 'soy paciente', 'prosperare', 'hace un poco de frio', 'estoy comiendo un pepino', 'tom podia hablar frances', 'trace usted una linea aqui', 'has visto mi camara', 'boston esta cambiando', 'soy peligroso', 'no me gusta estar solo', 'vayamos a despertar a tom', 'el tiempo empeoro', 'no le menti a tom', 'sos muy sabio', 'eres tan mentiroso', 'me castigaran', 'es totalmente normal', 'yo era un extrano', 'no estas bien', 'se parece a una casa', 'era mi mejor amigo', 'me voy el domingo', 'es una mala persona', 'todos quieren a tom', 'este libro es suyo', 'la cama de tom esta vacia', 'tom quiere ver a mary', 'tuve que irme a la casa a pie', 'estamos a la mitad del trabajo', 'pregunte cualquier cosa', 'debio haber sido rica', 'ella luce muy joven', 'tom durmio en el tren', 'no dejes que el celular se moje', 'me tiene a mi', 'quizas podria resultar desagradable', 'detesto los juegos de cartas', 'donde esta tu campera', 'puede que tom este equivocado', 'me lo creere', 'tiene hasta la medianoche', 'parecen contentas', 'anda y preguntale a tom', 'tom es rapido', 'a tom no le gusta esto', 'no hay problemas', 'tom sabe que soy canadiense', 'no me atrevo a hablarle', 'no le agrado a tom', 'el pajaro esta muerto', 'donde esta boston', 'por eso estas aqui', 'todos se durmieron', 'acercate', 'no escuchaste', 'quiero irme a dormir', 'es doctor', 'espero detalles', 'estamos aca', 'eso es problema nuestro', 'describilo a tomas', 'tiene una nariz grande', 'tom abatio un ciervo', 'este es tu destino', 'estabas ocupado ayer', 'sigo sin saber bailar', 'mis favoritas son las manzanas', 'tu puedes dejarlo reparado', 'los vi', 'el le apunto al pajaro', 'no los dejen escapar', 'tom le hablo a mary', 'quien va a pagar la cuenta', 'es un agujero negro', 'digo lo que pienso', 'desayunamos', 'tom no es raro', 'esta es tu habitacion', 'tom se chupaba los dedos', 'por que me escogiste', 'pareces estar enamorado', 'todo el mundo lo sabe', 'no les dije nada', 'no creo estar gordo', 'no olvidemos', 'el es un buen mentiroso', 'estamos de luna de miel', 'mandame un mensaje', 'su padre es alto', 'les va bien', 'yo no toque nada', 'no me voy a ir de aqui', 'se refiere a mi', 'el sabe leer y escribir', 'y ahora que', 'nadie va a lastimarte', 'deseo que salga bien', 'estoy enamorada de ti', 'existen realmente los fantasmas', 'lo puedo hacer solo', 'me puede llevar con usted', 'tienes cara de sueno', 'me sangra la nariz', 'que lleva este guiso', 'la fruta se echo a perder', 'ella se ve sola', 'no quiero presionarte', 'sal aqui', 'crees en los angeles', 'tom prendio su cigarro', 'pareces mas joven', 'me desnudo', 'nunca estuvieron solos', 'tu que estas haciendo aqui', 'por favor espere', 'ya son las once', 'conocimos un escritor', 'reescribi mi informe', 'el papel es blanco', 'dejame terminar vale', 'puedes reunirte con el', 'que es un ovni', 'los dos hermanos estaban alli', 'renunciemos', 'eso sucede mucho', 'ha muerto alguien', 'es eso un anillo', 'apenas puede hablar', 'vuelvo a las seis y media', 'este no es dinero', 'el saco unas monedas', 'todo el mundo se sintio seguro', 'siempre decis eso', 'tengo un poco de dinero', 'la vida es injusta', 'que vas a decir', 'no hables tonterias', 'tom estaba sumido en sus pensamientos', 'cuentame de tom', 'no se nadar', 'he pensado en ti', 'vendemos fruta', 'ya llegaron ellas', 'estoy enfadada con ella', 'puedes ver el bote de tom', 'vino tinto por favor', 'traed ayuda', 'que tragedia', 'no te lo estaba preguntando a ti', 'no puedo permitir esto', 'tiene vino', 'soy yo', 'tenemos testigos', 'no lo crees', 'ya has votado', 'tenemos un monton de tiempo', 'estoy borracho', 'ahi tienes razon', 'la chaqueta me queda grande', 'no me conoces', 'el tomo una foto', 'tom se comio tres completos', 'se que es lo que quieres', 'el es tom', 'a quien pertenece esto', 'algo va mal', 'estas en casa', 'podra ser cierta su historia', 'quiza bebi demasiado', 'has sido advertido', 'donde esta tu familia', 'las reglas se aplican a todos', 'tuve que quedarme en casa', 'tom empezo a conducir', 'necesito mirarlo ahora', 'has aprendido mucho', 'te extranamos', 'no vas a morir', 'esto me suena', 'me rompiste el corazon', 'ella le amenazo', 'que es lo que pasa', 'has detenido a tom', 'ha salido la luna', 'lo hizo de buena fe', 'casi se mueren', 'escribid a boligrafo', 'se lo raro que es esto', 'mire en el armario', 'necesito frances para mi trabajo', 'no tengo un duro', 'aqui todos somos profesores', 'creo que tom sabe el por que', 'sirvete otra copa', 'la atlantida es real', 'ganaron el caso', 'tom ha sido absuelto', 'por que hiciste esto', 'estamos almorzando', 'nos disgusta la violencia', 'ellos estan hambrientos', 'tom adora pescar', 'quien mando esto', 'me dieron', 'mantente fuerte', 'tomate tu sopa por favor', 'ustedes saben algo', 'con quien viven', 'por favor date prisa', 'esta es mi direccion de correo electronico', 'necesito pastillas para dormir', 'lo hare yo por ti', 'ella me sonrio timidamente', 'puedes empezar manana', 'he perdido la llave', 'se izo la bandera', 'soy mayor que tu', 'que dia es otra vez', 'ese hombre robo mi bolso', 'este debe ser tuyo', 'tom hizo todo lo que pudo', 'anadi agua', 'la podria matar', 'comunmente como afuera', 'salvaron a todo el mundo', 'no es mio', 'la carga de riesgo es demasiado grande', 'calmate', 'estoy gravemente herido', 'el no lo quiere', 'cuando comemos', 'el se quito el sombrero', 'te quiero abrazar', 'mary se limo las unas', 'incluye comidas', 'pon los faros', 'un lobo no puede ser domesticado', 'estoy viejo', 'espere por favor', 'deja que lo haga', 'tom es mayor', 'es dificil de decir', 'por favor ven antes de las dos y media', 'la fiesta estuvo aburrida', 'no se lo digas a tu madre', 'tom resbalo y se cayo', 'tom esta bastante aporreado', 'tom siguio nadando', 'alguien ayudeme por favor', 'ella no es pobre', 'no voy a leerlo', 'aun estas equivocado', 'tom estuvo en una rina', 'podemos regresar ahora', 'podria usar su telefono', 'todo el mundo llora', 'tenia demasiado para beber', 'vigila a tom', 'espero que vuelvas', 'tom se estrello', 'puedo tener un asiento de pasillo', 'tom es cirujano', 'de verdad no lo sabes', 'te lo acabas de perder', 'abra la boca', 'no me gusta este reloj', 'roma es una ciudad antigua', 'quien se paro', 'no me gusta ese nombre', 'que idea maravillosa', 'muevete sin hacer ruido', 'tom es un nombre comun', 'como se llega al banco', 'tom cerro la puerta', 'la madre de tomas esta muerta', 'el otono ha llegado', 'puede nadar muy rapido', 'no hice nada', 'es solo un sueno', 'deberias ser escritor', 'a tom le vino mucho trabajo', 'lo hice yo mismo', 'tomemos un taxi', 'lo sabemos', 'estas manzanas son grandes', 'no puede durar mucho', 'es un golpe bajo', 'es de ellos', 'tom empezo a llorar', 'ha parado de llover', 'lava y pela la fruta', 'no creo que funcione', 'yo queria estar ahi', 'actue sin pensar', 'largo', 'yo a usted le conozco', 'mary es vivaz', 'el sabe silbar', 'juego en el campo', 'tom es sonambulo', 'se lo que senti', 'supe que no era verdad', 'tienen una taradura importante', 'me siento indefenso', 'el es biologo', 'te vere pronto', 'juegan al baloncesto', 'todo lo que hacemos es estudiar', 'me estoy intentando acordar', 'te gusta eso', 'soy huerfano', 'el obtuvo el primer premio', 'tienen que dejar de beber', 'quien te lo dio', 'tom prometio su apoyo', 'conozco la solucion', 'cuanto cuesta esta raqueta', 'puedo abrir los ojos', 'que estaba haciendo el alli', 'se esta volviendo ridiculo', 'tom puede nadar o no', 'soy la mejor', 'quiero que me beses', 'quiero llorar', 'el es futbolista', 'lo se todo sobre el tema', 'tom estaba indeciso', 'no confien en el', 'puedo salir a caminar', 'lo haras', 'no tengo ni pizca de miedo', 'nosotros lo elegimos alcalde', 'no llores', 'fui a boston en coche', 'tom dio a mary algo de comida', 'esas son sus opciones', 'tom es un friki', 'estoy hambrienta y sedienta', 'ojala que te mueras', 'asumi que eran felices', 'ojo con las imitaciones', 'dame una chance', 'llevame con tom', 'esta un poco alegre', 'pinte mi coche', 'el bar esta cerrado', 'aun tengo trabajo por hacer', 'ella es mi esposa', 'es usted tan alto como yo', 'tom frecuentemente ayuda a mary', 'naci hace anos', 'soy biologo', 'su vida esta en peligro', 'tom ha perdido sus llaves', 'la calle esta inundada', 'confia en mi', 'la paciencia es la clave', 'no se hablar japones', 'lo unico que quiero es salud', 'estamos enamorados', 'todos se rieron de el', 'quien hizo este plan', 'por que no sabia yo esto', 'yo tambien recibi un premio', 'me gusta la pesca', 'odio leer', 'es contra las reglas', 'tom es el hijastro de mary', 'se cual es tu nombre', 'necesito una respuesta', 'todos tenian hambre', 'yo tambien fui', 'a el le gustan los tigres', 'esto es emocionante', 'bueno debo irme', 'el da clases de ingles', 'congela la sopa sobrante', 'soy tan feliz como una lombriz', 'la casa de tomas se estaba incendiando', 'a tom le ha dejado su novia', 'es un trabajo simple', 'en donde te quedaste', 'eso es un submarino', 'tom compro algunas zanahorias', 'no me gustan las naranjas', 'resuelva el problema', 'esta luz no me gusta', 'ellos miraron fijamente', 'me quiero lavar', 'eres cortes', 'me gusta el pollo', 'te vere el lunes', 'el bebe demasiada cerveza', 'tom no lo sabra nunca', 'aqui vas a estar seguro', 'el nombre de usuario puede cambiarse', 'no me llames de nuevo', 'su hijo se porta bien', 'se ha puesto el sol', 'mary esta resplandeciente', 'regresamos el lunes', 'el cumplio su promesa', 'ella dice que vendra', 'solo era un presentimiento', 'paso por casualidad', 'sabeis leer', 'oye basta de quejarse', 'esto es mahjongg', 'tom no es normal', 'ustedes son importantes', 'aqui estas', 'yo puedo explicar', 'son hermanos', 'esto no le va a gustar', 'solo es una expresion', 'mi hijo vino a mi cuarto', 'estas loco', 'es muy guapa', 'me acompanas tu', 'soy como ellos', 'esta jugando al golf', 'tom se cayo a la piscina', 'sujetaos de mi brazo', 'limitate a sentarte', 'no tomo vino', 'te llevare a casa', 'esto es buen cafe', 'ella es una mala persona', 'solo pruebatela', 'cultivamos arroz', 'son traidores', 'dime tu nombre', 'de quien es este ordenador', 'quitese la ropa', 'decidi hacerme abogado', 'este es', 'ella hablo bien japones', 'necesito ayuda medica', 'me pregunto a quien debo invitar', 'a tom le gusta el vino', 'conozco a tu madre', 'tom te esta mintiendo', 'tom tiene una linda sonrisa', 'estas bien', 'buen provecho', 'no comi nada', 'esta casa es bonita', 'solo estas celosa', 'tom es repugnante', 'tom resolvio el puzzle', 'he bebido leche', 'ponle azucar al te', 'alguien ha muerto', 'cuando ocurrio eso', 'un dolar es un dolar', 'he mejorado', 'esperad', 'te gustaria un banano', 'quien te dio esto', 'esto no es verdad', 'la gente no lo entiende', 'ayer estaba nublado', 'el era completamente honesto', 'eres una buena cocinera', 'el se sento a mi lado', 'quiere vasos rojos', 'tom es tu hermano', 'escribele a tu congresista', 'te estoy llamando', 'que flores mas bonitas', 'yo necesito que me lleven', 'es acaso un chico o una chica', 'alguien acaba de llamar', 'no puede haber dicho eso', 'me voy de boston', 'encuentra al gato', 'enseno frances', 'este perro obedece bien', 'nadie oyo gritar a tom', 'trabaje en un banco', 'eso es interesante', 'estoy llena', 'podes hablar en frances', 'mi pulso esta bajo', 'ordene comida china', 'tom tiene talento', 'cuanto cuesta este reloj', 'hay alguien en el cuarto', 'tom parpadeo', 'me alegro mucho de que hayas vuelto', 'atate los cordones', 'tom es muy habil', 'no tengo mucha plata', 'se lo agradezco mucho', 'puedes usar este lapiz', 'quiero salir', 'pude oir todo', 'el era mas bajo que yo', 'tom no puede ser tan ingenuo', 'encuentren a tom', 'esperas una reaccion violenta', 'me mude aqui ayer', 'ellos rodearon a tom', 'tom es un viejo amigo mio', 'no es efectivo', 'nos encontramos hoy', 'sencillamente no confio en tom', 'mis brazos se entumecieron', 'soy bastante progresista', 'no lo puedes vender', 'no puedes ayudarles', 'te gusta la nieve', 'estaba extremadamente frio', 'nada puede pararlos', 'esta novela es aburrida', 'no le eches a tomas la culpa de esto', 'es este tu perro', 'puedo verlos', 'tenemos prisa', 'tom perdio las llaves de su casa', 'el esta loco por vos', 'necesitas un novio', 'no chisto', 'me encanta el pollo', 'quiero jugar al futbol', 'tomatelo con soda', 'sone contigo', 'que te asusto', 'donde puedo comprar libros', 'soy diabetica', 'el es chofer de bus', 'odio contradecirle', 'tom tiende a exagerar', 'tom no te vio', 'vivo y trabajo aqui', 'yo te amaba', 'no siempre llego tarde', 'eres buena', 'vayamos a boston', 'preparate a morir', 'me sigues', 'no seas tan avaricioso', 'tom volvio al trabajo', 'pense que te habias ido a casa', 'estoy decepcionado', 'nadie me vio', 'me case', 'tom suele comer solo', 'respira normal', 'yo tambien me voy', 'mi brazo izquierdo esta dormido', 'cual es su maleta', 'por que preguntaste', 'necesito un lugar para vivir', 'no lo olvides', 'te he hecho esperar', 'la carretera sigue mojada', 'conozco a la hermana de tom', 'la olla esta hirviendo', 'yo no me movi', 'esta cansado de leer', 'estaban juntos', 'estudio ingles', 'vendras con nosotros', 'el motor no arranca', 'eres libre', 'lo hizo en el acto', 'ella tiene dos hermanas', 'necesito conseguir uno', 'estamos llorando', 'todo esto es real', 'accedi', 'naci en australia', 'alguien robo mi auto', 'ella me mostro su album', 'estais todos solos', 'mi camisa es naranja', 'continua sin mi', 'quiero hablar', 'me sentia como si estuviese muerto', 'puedo pasar la noche', 'se que estas ocupada', 'he visto un ovni', 'no puedo ver a tom', 'esta noche nos divertimos', 'vine por ti', 'me gusta coser', 'este es nuestro hogar', 'te toca a ti', 'saben donde estan mis llaves', 'quien estaba en el coche', 'tom llevaba puestos zapatos blancos', 'daselo a el', 'estoy quebrado', 'el conduce un camion', 'eso es un completo sinsentido', 'es una ciudad preciosa', 'me siento tan estupida', 'dijiste algo', 'el fue alli en persona', 'esa perra brinco', 'tom disparo al perro de mary', 'estoy acostumbrado al ruido', 'vayamonos antes', 'que mas ves', 'podria matarla', 'solo quiero ayudar', 'tom es un mal conductor', 'podemos quedarnos aqui', 've recto', 'tom lo hizo ver facil', 'no soy muy listo', 'es casi hora de ir a dormir', 'espero no perder', 'estoy cocinando', 'dimelo por favor', 'estuve alla una vez', 'nadie se lo explico', 'eso no era necesario', 'tom era un borracho', 'no soy sorda', 'mama estoy en casa', 'cualquiera logra hacer eso', 'te voy a extranar', 'ella es tan alta como tu', 'se que hablas frances', 'tu siempre llegas tarde', 'eso fue una insensatez de tom', 'cual es tu grupo sanguineo', 'habeis terminado de comer', 'tom esta besando a su esposa', 'eso no es frances', 'el cuarto esta muy limpio', 'ellos no escuchan', 'aun no esta listo', 'no encuentro mis guantes', 'ya no me importa', 'somos viejos amigos', 'la vuestra es peor', 'quiero verlos', 'eres bellisima', 'a usted le gusta la musica', 'tome asiento por favor', 'tom salio a almorzar', 'me gusta su coche', 'quiero mucho dinero', 'como estais vosotros dos', 'los valores de la bolsa cayeron', 'no deberia estar riendome', 'os queremos', 'el esta leyendo un libro', 'el traje le cae bien', 'mi gato es verdaderamente inteligente', 'no olvides el boleto', 'llamame esta tarde', 'tengo grietas en las manos', 'comparto tu idea', 'tom debe estar solo', 'dime que no es verdad', 'no voy a morir', 'teneis frio', 'como ahi todas las noches', 'los asesine a todos', 'tom va a lamentarlo', 'me alegra que tom este en casa', 'estaban jadeando', 'el amor es para adolescentes', 'no necesita saberlo', 'voy a encontrarme con tom', 'no me gusta estar solo', 'quitaos los calcetines', 'quien te enseno frances', 'vete de aqui', 'no se la causa', 'funciona eso', 'tengo una bicicleta nueva', 'tom quiere postre', 'creo que mi mama sabe', 'estoy con el', 'se parece a un papion', 'no me moleste', 'usted fuma', 'ella estudia arduamente', 'llamen a una ambulancia', 'estoy preocupado por tom', 'hazlo rapido', 'cual elegiste', 'quien mas usa este cuarto', 'puedo ver television hoy en la noche', 'que mas puedes hacer', 'compruebalo otra vez', 'tu tienes un tatuaje', 'por que no llamaron por telefono', 'el taxi ha llegado', 'estoy confusa', 'quiero que te comportes', 'oi un grito', 'tiene muchas amigas', 'me gusta mi nuevo trabajo', 'tailandia esta en asia', 'oyes algo', 'esa no es mi firma', 'a donde quieres ir', 'voy a estudiar mucho', 'de quien eres hijo', 'termine de comer', 'estos son tuyos', 'el doctor esta preocupado', 'hoy es miercoles', 'tom ama esto', 'no se mueva', 'se firmo el contrato', 'el se inclino ante la reina', 'nos rendimos', 'aprete el gatillo', 'tom se puso loco', 'te gusta', 'es bueno', 'habla mas claro', 'acabamos de llegar', 'suena el telefono', 'alejate de eso', 'todo el mundo hablo bajito', 'tom tiene deudas de juego', 'no puede ser verdad', 'donde esta el camion', 'no necesito tu dinero', 'que recuerdas', 'tom se oculto debajo de la cama', 'llovio', 'cual taza es la tuya', 'alguien cometio un error', 'ire cuando este listo', 'nos vamos al extranjero', 'todavia es lunes', 'era tan obvio', 'intentemoslo', 'nadie sabe cual es su nombre', 'por que somos pobres', 'este es el fin', 'tom es mi padrastro', 'el es mi hermano pequeno', 'repitemelo', 'muchas gracias', 'tomas esta llorando', 'persigue tus intereses', 'no lo haga', 'tom era contable', 'es adorable', 'imagino que ya sabe por que', 'me encanta la musica rock', 'el agua es un liquido', 'tom se atasco', 'la comida esta servida', 'su vestido parecia barato', 'lo pasaron mal', 'te mereces una medalla', 'no hay diferencia', 'ambos funcionan', 'necesitamos proteger a tom', 'es el japones', 'tom nacio en octubre', 'no se tocar la flauta', 'tiene experiencia', 'deci hola', 'ya estoy aqui', 'se me da bien el esqui', 'por poco cometo un error', 'me lo dijo un pajarito', 'quien hizo el muneco de nieve', 'ellas hacen un gran equipo', 'parece ser un estudiante', 'se te ha ido la cabeza', 'el me miro a los ojos', 'estoy totalmente de acuerdo', 'toco el violin', 'destraba la puerta', 'tenemos que ayudar a tom', 'tom parece estar enfermo', 'quiero empezar ahora', 'dije que iba a ayudarte', 'sostenedlo', 'no me malentienda', 'este sombrero le sentara bien a ella', 'es carne de rata', 'tom caminara', 'ahora tengo que encontrar a tom', 'que mas pueden decir', 'es uno de aquellos', 'lo que es mio es tuyo', 'eres inocente', 'no me das miedo', 'no estoy acostumbrado a eso', 'tom se regodeo', 'no te metas con tom', 'no lo compro nadie', 'que aprendiste', 'es secreto', 'tom parece un idiota', 'me gusta ensenar', 'soy tom y ella es maria', 'le gusta correr', 'debo levantarme temprano', 'me encantaria conocer a tom', 'cuidado con las imitaciones', 'el beisbol es muy divertido', 'vendre con tom', 'que haces aqui', 'nadie sabia por que', 'me llaman capitan', 'dejame dormir por favor', 'el es demasiado mayor para ella', 'tom no necesita esto', 'sera facil', 'no soy perezoso', 'lo hare como dices', 'usted esta entre amigos', 'te meteras en problemas', 'pruebate este', 'lo consegui gratis', 'volvi a escribir mi informe', 'soy doctor', 'el telefono es rojo', 'juzgalo tu mismo', 'tom esta completamente equivocado', 'toco el fagot', 'que comen las ballenas', 'tom solto una risita', 'su hijo es un genio', 'todo va a ir bien', 'quien abrio las ventanas', 'se maneja bien', 'que es el arte', 'te lo mereces', 'la gente hablara', 'tom es adulto', 'no te quiero ver', 'la tetera esta silbando', 'no olvides el dinero', 'el cambio su direccion', 'estos libros son nuevos', 'el se trago su orgullo', 'queria que tom se quedara', 'ella le engano', 'gritaremos', 'vosotras lo podeis poner alli', 'no estaba muy nervioso', 'yo vengo de japon', 'pasa un buen fin de semana', 'usalo o pierdelo', 'te mostrare', 'lo escribio a la carrera', 'a ella le falta sentido comun', 'tom tiene que estar aqui', 'sabemos lo que hiciste', 'tom dijo que es canadiense', 'vas a sentirte mejor', 'a todo el mundo le gusta el helado', 'tom no es mi novio', 'tom gimio', 'quiero un cachorro', 'ellos tienen frio', 'perdisteis', 'me arrepenti de hacer eso', 'tom es diferente', 'ustedes van tambien', 'la lluvia duro una semana', 'me gusta leer libros', 'no me gusta manejar', 'ella te va a prestar un libro', 'esta muy guay', 'no tenemos mas vino', 'manten tus manos limpias', 'de verdad que quieres ir', 'ire muy despacio', 'ella me dio un buen consejo', 'lo abofetee', 'no entiendo el arte', 'es venenoso', 'a menudo voy al cine', 'con quien estabas', 'quiero otra cerveza', 'ayer no estaba ocupada', 'a tom le dispararon', 'tome asiento por favor', 'el volvio a casa', 'dame un segundo', 'devuelveme mi mochila', 'como decidiste', 'yo soy libre', 'puede que no lo encuentres', 'tomas es extremadamente ingenuo', 'cual es su nombre senor', 'eso no te asusta', 'el tiene mas de treinta', 'dame un respiro', 'es una eleccion dificil', 'venga a pescar conmigo', 'tom era muy timido', 'nadie escapa a la muerte', 'ella esta comprometida con el', 'muchas gracias por adelantado', 'tom esta entrenando a su perro', 'solo el tiempo lo dira', 'por que miente la gente', 'ha dormido usted', 'esta bien', 'he bebido del grifo', 'por que dijiste eso', 'tom se esta debilitando', 'tu me ensenaste eso', 'quien mando las flores', 'tom podia haber ganado', 'te gusta la opera', 'nos hemos quedado sin gasolina', 'vayan a encontrar a tom', 'tu tienes que estudiar mas', 'ella habla demasiado', 'jugar es un vicio', 'el tren sale a las seis', 'bebeis te verde', 'ella puede hablar en frances', 'este es el mio', 'tenemos tarea', 'tosi', 'soy mejor que el', 'son muy listos', 'basta de corregirme', 'me concentre', 'ellos se apuntan', 'yo me siento aqui', 'la organizacion fracaso', 'tom es aun demasiado joven', 'hay un libro aqui', 'tom esta conduciendo demasiado lento', 'miralo tu mismo', 'se vende esto', 'tom tiene un dolor de estomago', 'el hizo un nuevo abrigo para ella', 'todavia no me siento segura', 'quien arreglo la ventana', 'no me deberia estar riendo', 'puedo tomar un recado', 'che deja de quejarte', 'necesito un coche de policia', 'sentirme asi me gusta', 'no conoces las reglas', 'nunca sere como vos', 'a mi no me mires', 'tom no lo nego', 'trata de no preocuparte', 'ella es torpe', 'estan afuera', 'ustedes vieron a tom', 'estoy llena de dudas', 'me sente a su lado', 'has vivido aqui antes', 'quiero jugar', 'finalmente encontre mis llaves', 'hay alguien afuera', 'eres un angel', 'los duraznos son dulces', 'hay alguna buena noticia', 'ella es una mujer rica', 'lo puedo oir', 'puedo sentarme a tu lado', 'tienes un movil', 'se fuerte', 'vuelve enseguida', 'puede que tom este despierto', 'estas tu calvo', 'tengo doce anos', 'necesito dormir', 'tom no es un tonto', 'no te gusta', 'no estoy seguro de estar preparado', 'es un diccionario', 'a tom le gusta beber', 'no me puedo quedar', 'lee esto primero', 'yo lo apoyare', 'tenedlo presente', 'solo el tiempo dara la respuesta', 'quiero un poco de leche', 'tom tiene ansias de atencion', 'cuentanos la verdad', 'tengo una pluma', 'no te he oido muy bien', 'quiero acostarme', 'prefiero no ir', 'su coche es realmente estupendo', 'aqui necesito ayuda', 'no quiero ponerme malo', 'ellas se estan escapando', 'tomas detesta a su vecino', 'nosotros deberiamos estar juntos', 'es posible que necesite tu ayuda', 'me alegro que estes de vuelta', 'he perdido la confianza en usted', 'eso aplica para el tambien', 'sabes algo de frances', 'la carretera se bifurca aqui', 'has ganado peso', 'asi es como tom lo hace', 'el esta acostumbrado a viajar', 'son ciertos estos datos', 'quien invento el karaoke', 'pareces loco', 'creo que ella tiene anos', 'subi la colina a pie', 'estamos intrigados', 'contigo me siento seguro', 'estoy aqui por ti tom', 'tom tiene alergias', 'ha sido confirmada', 'eres audaz', 'que puedo comer', 'adonde vamos', 'ellos estan viniendo por mi', 'deberias estar durmiendo', 'me levanto a las siete', 'protegere a tom', 'decidi ser medico', 'esta tom involucrado en esto', 'no se vayan', 'tom esta pelon', 'esos se ven bien', 'quiero huevos', 'no hay ningun problema', 'tom solto un grito ahogado', 'sos importante', 'lo digo como es', 'no lo has entendido', 'lo lamento tanto', 'tienen que haber fracasado', 'creo que me gustas', 'le di el lunes libre a tom', 'deten a tom', 'la manzana no es roja', 'yo herede su campo', 'las paredes oyen', 'disculpame como te llamas', 'has cometido un error', 'cerre mi paraguas', 'no mientas', 'quiero verlas', 'el se porto mal', 'puede ser vergonzoso', 'ella se quedo ciega', 'no puedo negarlo', 'revisa tu carpeta de entrada', 'ellos se aman', 'metete adentro', 'nego haberlo hecho', 'tom murio en australia', 'no estaba muy bueno', 'sigue sin mi', 'vino a verme', 'hoy estaba muy cansada', 'lei muchas novelas', 'la cuenta por favor', 'necesito aire', 'no puedo confiar en ti', 'eres un buen hombre', 'yo no soy ningun rebelde', 'los conozco', 'no sos normal', 'el me dio una manzana', 'puedo arreglar esto', 'hazlo como te digo', 'vuelve a casa', 'el vive cerca de mi casa', 'tom es nuevo', 'no la vi', 'listo para salir', 'traete el carnet de estudiante', 'no tengo blanca', 'es demasiado doloroso', 'tomas se quito la chaqueta', 'no fue ninguna coincidencia', 'estan molidos de la cabeza', 'cuento con tom', 'tentad esto', 'tom es un chef famoso', 'todavia eres mi hijo', 'no tenemos tanto tiempo', 'tom rechazo la oferta', 'quiero obtener mucho', 'vayamonos a beber algo', 'quien esta ahi', 'que hacias', 'yo desearia ser mas joven', 'el cafe esta caliente', 'mi mama me matara', 'aquel es el mio', 'es muy util', 'que quereis que haga', 'vas a hacer eso', 'lo odio', 'tengo que ayudar a tom', 'has engordado', 'que estaba diciendo', 'tom lleva peluca', 'estan amarillos', 'tom esta en peligro', 'estamos ilesos', 'a el le va bien', 'tom no es un mentiroso', 'no estaba ebrio', 'tom vino a casa', 'lo cosiste a mano', 'mi perro es grande', 'estas loco', 'estoy aqui', 'no amo a tom', 'no me gusto', 'me lo tienen que acortar', 'no lloro con facilidad', 'pasearon', 'creo que tom fue enganado', 'pasame el mando a distancia', 'tenemos compania', 'el enfermero me vacuno', 'esto es todo lo que tengo', 'que libro es el tuyo', 'hay que actuar', 'que perspicaz', 'lo negro entristece', 'tom se inclino cortesmente', 'besemonos', 'estan listos', 'soy una anciana', 'la vida no es facil', 'no quiero recordarlo', 'deja que te mire', 'recien me levante', 'son estudiantes', 'como lo averiguo tom', 'la habitacion esta muy fria', 'esto no fue nuestra culpa', 'estoy parado', 'dejame irme', 'somos guardeses', 'todavia no estoy casado', 'como te sientes', 'le gusta el te', 'esta es mermelada hecha en casa', 'necesito tu consejo', 'tom es un guerrero', 'estoy sonando', 'son americanos', 'ahora intenten dormir', 'admiro vuestro valor', 'por favor vete', 'compre el auto', 'tom se salto el almuerzo', 'nuestra heladera esta rota', 'sigue corriendo', 'coge un paraguas', 'sueltame o grito', 'se nadar', 'tengo que avisarles', 'tom provocaba a mary', 'soy tu medico', 'no hay nada erroneo', 'donde comio tom', 'puedo banarme en el lago', 'estoy nerviosa y emocionada', 'nosotros podemos pagar en metalico', 'soy un artista', 'quiero un tigre de mascota', 'odio las computadoras', 'me estan deteniendo', 'apaga la luz', 'tom no esta listo', 'puedo ver tu recibo', 'lo hicimos de buena fe', 'todo el mundo hablo sobre eso', 'me estoy quedando calvo', 'siempre fracaso', 'yo encontre estos', 'tome otro', 'estos son autenticos', 'tom necesita tiempo', 'nada quedo arruinado', 'salio bien', 'yo me siento mareado', 'por que no se paro tom', 'que dia tan hermoso', 'tom exagero', 'solia hacerlo', 'las flores se marchitaron', 'el verano se ha ido', 'permiteme hacer algo', 'teneis un carro', 'estoy comodo', 'el gato me espanto', 'odio la hipocresia', 'comiste algo', 'tom hablo demasiado', 'siento vuestra perdida', 'por que no le dijiste a tom', 'no me importa el calor', 'estar atento', 'quiza tengamos que decirlo', 'tom es energico', 'han venido todos', 'no necesito un abogado', 'los policias estan por todas partes', 'el suele saltarse las reuniones', 'tom esta aburrido', 'el sabe hablar ingles', 'a que hora va a venir tomas', 'el sabe jugar tenis', 'esta no es mi cartera', 'apoyanos', 'tom no estaba solo', 'eso es terrorifico', 'le di la mano', 'vale la pena', 'me gusta el perro', 'que fecha es hoy', 'el le robo a una anciana', 'lleva puesto un sombrero', 'charle', 'quien te lo enseno', 'yo regresare pronto', 'a tom le gusta el dinero', 'el era persistente', 'la guerra no le gusta a nadie', 'amo los animales', 'no habia vias ferreas', 'que estrechas son estas escaleras', 'como lo sabes', 'va a estar aqui pronto', 'por que estas tan ocupado', 'sientense alla', 'lo he encontrado', 'deje entrar al gato', 'sera mejor que nos vayamos preparando', 'no lo hagan', 'estaba descalzo', 'como esta tom', 'mire a mi alrededor', 'quien tiene hambre', 'todavia teneis tiempo', 'ella me dio unos buenos consejos', 'me extranaste', 'te ruego que me dejes vivir', 'esta ocurriendo esta noche', 'tom lo averiguara', 'tom se fue enseguida', 'debemos obedecer las reglas', 'queres venir', 'se levanto la niebla', 'en que ano nacio usted', 'el sol destine los colores', 'tom no queria decir eso', 'no me importa que hacer', 'de quien es este periodico', 'entraron', 'aguarda un segundo', 'me he leido el libro', 'puedes mirar', 'a quien esperan', 'mantente en contacto', 'vamos tocala', 'te lo habia advertido', 'un segundo', 'es sin embargo cierto', 'todos ustedes son racistas', 'aprendi a cocinar', 'tom y mary se abrazaron', 'eso es una amenaza', 'fue hecho a mano', 'esto es facil de hacer', 'presiona el boton', 'yo lance la moneda al aire', 'sientete como en casa', 'deja de hacerme cosquillas', 'soy un hombre libre', 'tom quiere atencion', 'puede que llueva', 'adivina', 'no lo haremos', 'traigo noticias', 'yo no duermo tanto', 'donde esta el buzon', 'tomas estaba mas que preparado', 'entraron sin meter ruido', 'se acerca una tormenta', 'hice todo lo que pude', 'tom vio a maria ayer', 'es un hombre barbaro', 'te veo manana', 'tom abofeteo a mary', 'eso es cuestion aparte', 'el es mi padre', 'eso esta mejor', 'tom tiene un periodico', 'el me presiono', 'se quien es', 'me faltan las palabras', 'nunca estuviste solo', 'tom perdio algo de peso', 'yo hubiera esperado', 'tienes vertigos', 'soy del fbi', 'yo quiero el mio', 'pongase sus zapatos', 'donde podemos ir a bailar', 'entiendo la norma', 'ayudame a imprimir esto', 'tom empezo a sonar', 'nadie aqui me conoce', 'me podeis llevar con vosotros', 'por que estas sangrando', 'tom salto a sus pies', 'se que usted puede hacer esto', 'fumar te perjudica', 'odio a las mujeres celosas', 'parecias agotado', 'sos mi heroe', 'se lo que era', 'he analizado los datos', 'yo pagare la cuenta', 'tienen algun cd de rock', 'comprendeis', 'cumple con su deber', 'todo el mundo esta de vacaciones', 'el once es un numero primo', 'mi camara es a prueba de agua', 'encontraste algo', 'lo quereis', 'tom es bueno esquiando', 'nadie quiere ser pobre', 'es rojo', 'lo hiciste a proposito', 'soy principiante', 'no es de los nuestros', 'no me amenaces', 'me voy a marchar', 'ella solia amarle', 'estas muy guapa', 'tu no deberias espiar', 'no tengo tanta suerte como tu', 'no fue culpa nuestra', 'eso salta a la vista', 'por favor no llores de nuevo', 'tomatelo con soda', 'este es tu dvd', 'rezamos juntos', 'estamos seguros de eso', 'tom no es como mary', 'no lleguen tarde', 'esa es mi escuela', 'esto es lo que queria', 'me estas arremedando', 'ahora tengo que irme', 'pero a papa no le gustara', 'tengo que venir el lunes', 'ella esta orgullosa de su hijo', 'no estoy en forma', 'esta ocupado tom', 'no perdere', 'como sucedio', 'como se aplica esto', 'soy tan alta como tom', 'su papa es japones', 'estas libre ahora', 'alguien puede contestar', 'tom no cedera', 'he estado en boston', 'donde habias estado', 'podemos comprarnos un coche nuevo', 'tengo los pantalones mojados', 'pense que el estaba enfermo', 'capture una anguila', 'fueron a boston', 'somos minuciosos', 'que son esos ruidos', 'tienes que estar bromeando', 'el no esta aqui verdad', 'es mi bebe', 'investiguemos', 'tom se quedo sin gas', 'que hacemos aqui', 'mary es una muchacha', 'no quiero nada mas', 'no estas todavia en casa', 'me gusta viajar en barco', 'soy alergica a los perros', 'no veo nada', 'has crecido', 'tom esta trabajando alli', 'a mi tambien me ha gustado', 'no esta tan lejos', 'entonces empecemos', 'mis calcetas siguen humedas', 'yo tambien la pase bien', 'te gusta comprar', 'es muy improbable', 'tom esta deshidratado', 'no puedo ingresar', 'para que correr el riesgo', 'tom necesita un cambio', 'vienes con nosotras', 'tom no ha vivido en el extranjero', 'fue solo un ejemplo', 'el bebe me sonrio', 'lo dejo', 'hay un nino perdido', 'por que no te quedas tranquilo', 'los quiero vivos', 'la seguridad es una ilusion', 'me gusta caminar', 'es inocente', 'se alcanzo un compromiso', 'ven tan rapido como te sea posible', 'te gustan las frutillas', 'consulte a su farmaceutico', 'no estoy seguro de por que', 'tuvieron exito', 'es raro', 'con eso vale chicos', 'vamos a ver television aqui', 'salgo', 'bajalo', 'se que esto es dificil', 'esto es demasiado brillante', 'creo que estais perdidas', 'la suma de y es', 'tomas se acuerda', 'me permite presentarme', 'agarre usted bien la cuerda', 'ya lo llame', 'tom siempre dice eso', 'no te quedes fuera demasiado tarde', 'ojala tuvieramos un auto', 'soy arqueologo', 'lo uso todos los dias', 'odio este lugar', 'visito al profesor', 'tom fue contable', 'era sofocantemente caliente', 'una vez vivi en roma', 'nunca golpearia a una mujer', 'hazmelo con cuidado', 'ellos van tarde', 'nos arrodillamos para rezar', 'estamos comprometidos', 'tom inhalo', 'damelas', 'tus zapatos apestan', 'tom dice que no va a venir', 'escriba con tinta', 'tom reprobo el examen', 'no puedo dar detalles', 'moderese usted', 'es trabajo', 'demostro ser honesto', 'ahora mismo no estoy seguro', 'queria que tom parara', 'tom se sento junto a mary', 'ella le rogo que se quedara', 'estoy despierto ahora', 'hablo estando dormido', 'recuerda esta regla', 'ese es el auto de tom', 'no puedo mentirte', 'todos sonrieron excepto tom', 'esta es mi ciudad ahora', 'tom nos trajo regalos', 'vives aqui', 'era una broma', 'no hay problema', 'tom lloro', 'todos estaban aplaudiendo', 'tocalo otra vez', 'tom tiene treinta anos', 'no vaya tan ligero', 'conocen a tom', 'tom dijo que era urgente', 'tengo tarea que hacer', 'puso una queja', 'el lo perdio todo', 'el esta almorzando ahora', 'no me rindo nunca', 'este libro es realmente viejo', 'vente ya mismo', 'no habia supervivientes', 'vine por vosotros', 'le di la teta a mi bebe', 'podemos hablar mas tarde', 'nadie me ha matado aun', 'tom queria la venganza', 'lo dejo', 'por favor apurate', 'de que color es el perro de tom', 'creo que tom esta mintiendo', 'cuatro mas tres son siete', 'puede que necesites esto', 'quiero un reproductor de', 'por que no ves a un doctor', 'te gusto verdad', 'quedaos sentados por favor', 'vaya con estos senores', 'la cierva es la hembra del ciervo', 'creo que puedes ayudarnos', 'ahorrate la saliva', 'hasta luego', 'todo estara bien', 'cuanto te debo', 'donde estan los chicos', 'no dejes que te enganen', 'gibraltar es un pais', 'es una idea ridicula', 'renuncia', 'se lo cuento todo a tom', 'van a ser las dos y media', 'fuera hace muchisimo calor', 'no miren', 'que hermoso lugar', 'tu primera', 'quien rompio la ventana', 'eso explica mucho', 'el decidio venir', 'por que no llamaste por telefono', 'tom se quedo atras', 'quien me ha robado las llaves', 'ellos lo quieren de vuelta', 'entonces donde esta el problema', 'estaba lloviendo aquel dia', 'quiere comer', 'deberias salir y comparar precios antes de comprar', 'en donde esta jugando', 'ven enseguida', 'dejame intentarlo', 'siguio trabajando', 'a quien viste', 'es una cancion de amor', 'descubrelo por ti mismo', 'no coman en su escritorio', 'me gusta su franqueza', 'japon esta en asia', 'llamalo por favor', 'como lo hacemos', 'lucha o muere', 'en cierto sentido tienes razon', 'tenemos una crisis', 'tom es bueno conmigo', 'que hermosa puesta de sol', 'por que estamos corriendo', 'puede que tom sea estupido', 'quien ha roto esta ventana', 'mis padres son geniales', 'ese libro es un libro nuevo', 'el tuyo es peor', 'tom emborracho a mary', 'usted se bana todos los dias', 'tom podria contratar a mary', 'quieres un poco de cerveza', 'estamos seguros de que podemos hacerlo', 'recogeme a las dos y media', 'eso no va a pasar', 'renuncie a mis planes', 'vienen a por nosotros', 'soy tu padre', 'tenemos un trabajo que hacer', 'no puedo culparos', 'soy muy olvidadizo', 'no me gustas nada', 'diselo a todos', 'tom solia jugar al golf', 'tom adivino mal', 'vete a la escuela', 'eres sordo', 'tom no quiere ir', 'sentate por favor', 'vimos algo', 'que vas a beber tom', 'tengo los ojos cansados', 'ese pescado no es comestible', 'no es mas que un nino', 'debo ir a casa', 'trasnoche', 'teniamos un vinculo especial', 'tiene eso algun sentido', 'a ellos realmente no les importa', 'como de cansado estas', 'es una historia real', 'no lo volvere a decir', 'puede que venga', 'le viste salir', 'eso depende de usted', 'tom no me dejo otra opcion', 'tengo el corazon en la boca', 'el pan esta hecho de trigo', 'te lo agradezco', 'tom nunca la volvio a ver', 'a ella le gustan los animales', 'hice cafe', 'tom anda encueroles', 'a ti te gustan los elefantes', 'no tenia otra alternativa', 'soy la hija de tom', 'estamos aqui', 'prometo que no voy a mirar', 'todos queremos ser felices', 'lo prometieron', 'que tal manana por la noche', 'te traje un regalo', 'agarrense a mi brazo', 'sientase libre de contactarme', 'voy al trabajo en autobus', 'con una vez es suficiente', 'la belleza no es importante', 'por que no estan preocupados', 'tom se lastimo la pierna', 'sabeis conducir', 'puede darme una de estas', 'llama a la policia', 'yo no pare', 'puedo oir el viento', 'incluso hice reir a tom', 'todo esto es culpa mia', 'tom lo intentara', 'tom no te va a morder', 'ya eres mio', 'vi a un perro', 'debo encontrarlo', 'a tomas le gusta la comida mexicana', 'sos un mentiroso', 'ella nos ayuda', 'use la palabra incorrecta', 'nuestra casa no es grande', 'tengo buenas noticias para ustedes', 'no soy mandon', 'quien eres tu para juzgar', 'es adicto a las drogas', 'acepto tu oferta', 'me gusta bailar', 'ahi esta tom', 'el olor era desagradable', 'que mas necesitas', 'aun tengo sueno', 'hagamoslo juntos', 'tom quiso que yo mintiera', 'manana es domingo', 'tom no me lo dijo', 'no me dejes nuevamente', 'lo entiendo', 'hoy no trabajo', 'el no paraba de hablar', 'tengo un regalo para ustedes', 'estabamos encallados', 'ella tiene un piano', 'vete de aqui', 'ahora resiste', 'el decia la verdad', 'trata de no ponerte tan tenso', 'que te ha pasado', 'tom arreglo todo', 'a usted le gusta cantar', 'tom se sabe mi numero', 'me da igual lo que haga', 'me gusta tanto', 'es hora de que nos vayamos', 'aqui hay un pedazo de papel', 'baja el volumen', 'no me gustan las espinacas', 'tengo un regalo para vos', 'tom lloraria', 'el ventilador hace ruido', 'te amo', 'cuidalos', 'la habitacion esta muy limpia', 'casi todos suspendieron', 'ellos estan despiertos', 'no tienes un boligrafo', 'puedo hacerlo sola', 'nos vemos el lunes', 'tienen que darse prisa', 'que estas escribiendo', 'tom se ve agotado', 'todos lo saben', 'eres incompetente', 'quieres que me espere', 'tomas rebosaba de alegria', 'no estoy orgulloso de ello', 'el escribe en arabe', 'has adelgazado', 'comprare un nuevo bloc de notas', 'estoy comiendo un emparedado', 'mataron al tigre', 'ya veremos', 'toma la medicina', 'haz tu tarea ya', 'vamos apura', 'se me dan mal los deportes', 'voy frecuentemente a boston', 'tom canto', 'lo comprare', 'toque el timbre', 'te contare mi historia', 'tom fue humilde', 'estoy muy cachondo', 'vamos a luchar', 'el te ama mucho', 'ella esta embarazada', 'hablo frances', 'terminemos', 'no fue hace mucho', 'todo hombre tiene sus defectos', 'es un hueso duro de roer', 'tom no puede ayudarte ahora', 'el antes vivia aqui', 'no me gusta el vino', 'no debes hacerlo ahora', 'el pastel esta exquisito', 'suena como tom', 'volvere mas tarde', 'aleja a tom de mi', 'te hice esperar', 'no cambies de canal', 'sabemos donde esta tom', 'tom esta silbando', 'ella se ruborizo', 'puede darme algunas de estas', 'venga prueba otra vez', 'tomas es banquero', 'el avion volo al este', 'compraste la medicina', 'yo queria ser libre', 'fijate en eso', 'yo ni voto', 'no duro mucho', 'quien ha dejado la puerta abierta', 'todo esto fue un error', 'me pongo los pantalones', 'pide mas dinero', 'yo preparare algo', 'el puede conducir un auto', 'fue culpa suya', 'estamos estupefactos', 'ese chico es inteligente', 'quiero uno de esos', 'escribeme alguna vez de acuerdo', 'cuanto te pago tom', 'se lo contaste a alguien', 'no estoy tan cansado', 'estate vigilante', 'esto es discriminacion', 'puedo comprarle eso', 'me siento confundido', 'este leon es muy docil', 'lo averiguare manana', 'de donde eres', 'espero una llamada', 'tom dijo que mary estaba ocupada', 'que guey', 'en que trabajas', 'eso es un alivio', 'no teneis hambre', 'besa a tomas', 'el se jubila la proxima primavera', 'modere usted sus impetus', 'vamos a abrir la ventana', 'me permite utilizar su telefono', 'los perdimos', 'es tom capaz de manejar el fracaso', 'ustedes se tienen la una a la otra', 'esto no es broma', 'el llevo una vida de lujos', 'he resuelto el misterio', 'por favor dame el menu', 'tom ignoro mi comentario', 'no quiero cocinar', 'no es nada grave', 'todos son iguales', 'puedo ver la luz', 'tom es solo un nino todavia', 'me decepcionas', 'tenemos razon', 'llama antes de entrar', 'hacedme una oferta mejor', 'queremos ver a tom', 'el sera un buen marido', 'podemos alquilar una barca de remos', 'a el le dan miedo las serpientes', 'tom esta echado en la cama', 'yo tengo una bomba', 'que estamos haciendo', 'estoy confundido', 'sabes que no puedo', 'tom necesita amigos', 'saquelo de la casa', 'que estas haciendo', 'yo creci siendo bilingue', 'el ridiculizo mi idea', 'quiero a mi madre', 'tengo trabajo el miercoles', 'nuestra tienda no esta abierta', 'nunca te cansas', 'no estaba durmiendo', 'no lo van a entender', 'por que la policia esta aqui', 'acabo de tener una vision', 'tom no estaba leyendo', 'cual es el nombre entero de tom', 'es un atajo', 'ya no importa', 'podria parar por favor', 'cuando volvera', 'no fue lo suficientemente rapido', 'ella se encuentra en el hotel ahora', 'tu estas perfectamente', 'se que tom sabe', 'eres decidido', 'estuvo muy bueno', 'todos conocen su nombre', 'el dejo africa para siempre', 'a tom le empezo a dar sueno', 'deje de fumar tabaco', 'ahi no cabe', 'yo sueno en frances', 'traducid este texto', 'le di un bofeton', 'os echare de menos', 'la radio esta muy alta', 'no deberias ir solo', 'ella esta comiendo', 'tom detesta las cebollas crudas', 'cuando llegaste alla', 'el no esta dentro', 'tom dijo algo', 'querias conducir', 'tom fue al parque', 'tienen que ser estadounidenses', 'el mes que viene hago la mudanza', 'no estoy viejo', 'tom me amenazo', 'me fui corriendo a casa', 'odio a los policias como el', 'ten seguridad', 'debo ir', 'mira y aprende', 'eres de boston', 'tom no gano', 'ha sido un ano dificil', 'yo era profesor', 'me quedare', 'te sientes hoy mejor', 'sos muy paciente', 'ella es muy guapa', 'tom juro su inocencia', 'paga tu propia comida', 'todos estan presentes', 'quien es vuestro profesor', 'eso no me gusta', 'detente aqui', 'vos vas tal vez', 'tom no comio nada', 'hoy hace bueno', 'veamos si eso funciona', 'tom se ve realmente herido', 'de donde vienen', 'haz lo que sea mejor para tom', 'un extrano se puso a hablarme', 'tom exprimio el limon', 'puedo tomar por prestada una camisa', 'en el se puede confiar', 'yo juego squash', 'eso podria ayudar', 'eso es todo por hoy', 'la encontramos viva', 'por que ibas a querer eso', 'el es mi abuelo', 'que calabaza mas grande', 'rellena esto por favor', 'esconde la plata', 'soy estudiante', 'me hice amigo de el', 'ella pulso el interruptor', 'le achacaron el muertito', 'seguro que llovera', 'el es creacionista', 'traigan a los otros por favor', 'ellos saben hablar espanol', 'a nadie le importo', 'me encanta vivir aqui', 'como puedo ayudaros', 'donde estan las llaves', 'respondanme', 'necesito decir algo', 'se han ido todos', 'se lo hare saber a tom', 'aqui esta mi direccion de correo', 'tom se sonrojo', 'a tom le gustan las peliculas de accion', 'ellas son inseparables', 'me fui a la playa', 'el dejo el cigarro', 'yo soy tu hermana', 'voten por tom', 'ella cumplio dieciseis anos', 'deberias obedecer la ley', 'tom esta en el extranjero', 'me encantaria poder ayudar', 'creo que si', 'tom no heredara mucho', 'esta preparado', 'continua por favor', 'no hay papel higienico', 'tom apunto a mary', 'mi hermano es idiota', 'tom vino aqui la semana pasada', 'solo necesito un momento', 'tom habla frances', 'tome un cruasan', 'yo soy profesor', 'aca estoy', 'tengo dinero', 'necesito un favor enorme', 'nuestro trato sigue en pie', 'tu casa es grande', 'quieres comer', 'esta es tu cerveza', 'el trabaja en el laboratorio', 'el halcon capturo un raton', 'no quiero perderos', 'yo tampoco se', 'todo bien', 'tienes que trabajar', 'existen los agujeros negros', 'tom dejo de cavar', 'esto no le gustara', 'cuando sucedio', 'tom se sento encarando a mary', 'quien ha venido contigo', 'a que no es estupendo', 'tom perdio la vista', 'tom conoce esas reglas', 'tom obtuvo un aumento', 'estoy muy seguro', 'quien heredo la sortija', 'tengo una bicicleta roja', 'yo no puedo hacer eso', 'diselo a todos', 'estuve bien no', 'pon cara de felicidad', 'se exactamente que hacer', 'no es un buen momento', 'el esta feliz', 'el mejoro el dispositivo', 'vivo cerca de la presa', 'tom esta haciendo muecas', 'alguien podria vernos', 'tom es el acusado', 'ya paso lo peor', 'los rumores eran falsos', 'recogere a tom', 'dejame en paz', 'puedes ayudar', 'tom esta viviendo su sueno', 'el pasado pasado esta', 'has perdido el norte', 'tom es un buen padre', 'el cura nos bendijo', 'es solo una broma', 'te sangra la nariz', 'ya son las once', 'cruza el puente', 'el hablo', 'tienes suficiente dinero', 'quiza no fuera tom', 'es una sorpresa', 'has sido advertido', 'me gusta el calor', 'quiero verte', 'quieres que pase', 'tom es perezoso', 'esto es sobresaliente', 'ponte tu camiseta', 'son tuyas tom', 'siempre camino', 'me gusta limpiar mi dormitorio', 'estoy gordo', 'cuanta gente hay aqui', 'el no sabe nada', 'es nuestra culpa', 'el no canta bien', 'que dice eso', 'todos queremos algo', 'por que estabas tan preocupado', 'tomas carece de sentido comun', 'no te pongas de pie', 'tom no beso a mary', 'me siento como si estuviera solo', 'le dije a tom lo que tu hiciste', 'quieres bailar', 'tom mantuvo a mary cerca', 'tom es un tipo duro', 'todavia tengo sed', 'compartamos una ensalada', 'agacha tu cabeza', 'tengo que acabarlo', 'por favor habla despacio', 'aqui esta el bus', 'mantene la calma', 'aqui tienen su dinero ninos', 'ahora estamos a salvo', 'donde queda el ingreso', 'nadie oyo gritar a tom', 'su cara palidecio', 'ella nos gusta a todos', 'tienes algo de dinero', 'por que no confias en mi', 'te divertiste', 'esto no es error mio', 'esta novela me aburre', 'no lo puedo aguantar', 'dejalo alli', 'llama a la policia', 'de verdad eso importa', 'me gusta nadar', 'mi pelo es demasiado largo', 'te dije que te amo', 'tom despejo la mesa', 'quieres saber por que', 'mary era un chicazo', 'por fin el autobus hizo una parada', 'estoy feliz', 'a que hora es mi vuelo', 'quiero un par de guantes', 'tienes que darte prisa', 'que esta comiendo tom', 'por donde empezamos', 'sentemonos en la hierba', 'me declare culpable', 'donde hay un doctor', 'hablad conmigo por favor', 'lo has conseguido', 'mandale saludos a tomas de mi parte', 'es un idiota sin corazon', 'el tiempo se estaba agotando', 'intenta otra vez', 've y duchate primero', 'ella le abofeteo', 'hay un vaso aqui', 'que mas puedes decir', 'no tienen para que cantar', 'sos un fantasma', 'esta reservado este asiento', 'el no se pone moreno', 'como lo encontraste', 'se hizo rico de la noche a la manana', 'a tom le gustaba australia', 'a quien le tiene miedo tom', 'preguntale al policia', 'no puedo decirlo con exactitud', 'que derramaste', 'tom se ha desmayado', 'como las mataron', 'me sentia como si estuviera muerto', 'el abordo el avion', 'pense que era lindo', 'pruebate esa camisa', 'a que hora es su vuelo', 'este pescado huele mal', 'deja de llamarme tom', 'no se conoce el motivo', 'a ver su lengua', 'ella le golpeo', 'queremos a tom', 'date prisa', 'creo que es medico', 'tom no sabe cocinar', 'tenes que comer', 'donde esta boston', 'tengo hermanas', 'ella es una esposa maravillosa', 'no hagas una escena', 'empece a preparame', 'tom quiere correr', 'a ella le gusta cantar', 'asi es como me siento', 'no me desilusiones', 'tienes hasta las dos y media', 'eres modesto', 'no soy bueno mintiendo', 'me invitaron a almorzar', 'pirate', 'tengo que estudiar', 'esta no es la unica llave', 'toma usa mi llave', 'salgo de trabajar a las ocho', 'no eres divertido', 'no hagamos esto otra vez', 'como de profundo', 'sal de mi coche', 'el se ofrecio a ayudar', 'eso no puede ser verdad', 'conduje toda la noche', 'tom no es famoso', 'confio en que nos resulte', 'usted no es japones', 'soy muy vago', 'necesito que tom vea esto', 'he perdido a mis amigos', 'llamalo por favor', 'a ver tu lengua', 'sortead los obstaculos', 'tom esta en boston ahora', 'tienes que ser paciente', 'estas bien', 'dije que no', 'yo quiero ir con tom', 'en este momento estoy ocupado', 'quisiera un tenedor', 'le gusta cantar', 'compre todas las manzanas', 'nos gusta estar juntos', 'donde esta tu dinero', 'cual era el problema', 'pareces un papion', 'mi gato es blanco', 'puedo ver esa', 'solo quiero que vengas', 'hey no olvide esto', 'lo hare yo mismo', 'ponganse algo de ropa', 'recibi una carta', 'ella nunca le ha visto', 'necesito azucar', 'dibujenla', 'te lo explicare', 'este no es su lugar', 'a usted le conocen', 'estaba solo', 'sucede algo', 'tom se rehusa a trabajar', 'nadie me advirtio', 'sonrie', 'se negaron', 'si que lo quiero', 'deja ya de gritar', 'no lo aguanto', 'oh eso es terrible', 'le conoces', 'no te olvides de hacerlo', 'por favor arreglen esto', 'hiciste tu trabajo', 'tom tiene una piscina', 'se me paso llamarte', 'esta su marido en casa', 'a ella se le da bien jugar al tenis', 'esta mas alla de la razon', 'esta vez hablo en serio', 'te estas colando por tom', 'el sera un buen doctor', 'algunos estan en contra', 'puede el arte cambiar el mundo', 'tomas esta meditando', 'he pedido ayuda', 'al principio el era timido', 've a lavarte los dientes', 'donde podria encajar tom', 'efectue muchos cambios', 'pidio una cerveza', 'lo hice pintar mi casa', 'soy tu hermano', 'aqui hay una carta para usted', 'por que me lo preguntan', 'quiero que ayudes a tom', 'a todo el mundo le gusta la nieve', 'eso funciono', 'estoy molido', 'yo no puedo manejar', 'solamente quedate cerca', 'el auto es muy rapido', 'el tiene miedo de los perros', 'tengo poco dinero', 'estaba en el telefono', 'os dije que no os preocupaseis', 'naci en', 'tom esta tosiendo', 'soy culto', 'tom se parece a ti', 'el dejo el cigarro', 'no estaba invitado', 'ella dejo de fumar', 'cuenteme todos los detalles', 'este cuarto esta frio', 'sabe usted donde vivo', 'eso fue solo un sueno', 'estoy segura de que tom tiene buenas intenciones', 'os conozco a ambos', 'dejelo entrar', 'veamos la television', 'todos nacemos locos', 'no estas sola', 'eso es una groseria', 'nado una vez a la semana', 'insulto a nuestro equipo', 'tus bromas no son graciosas', 'supongo que tom tenia razon', 'festejamos toda la noche', 'la puedes poner alli', 'me gusta el ingles y la musica', 'eso es completamente ridiculo', 'para de decir eso', 'eso es asunto mio', 'el no me interesa', 'queria alquilar un autobus', 'tom respetaba a mary', 'desayune a las', 'el es mi heroe', 'tendras que confiar en mi', 'quieres que conteste', 'llegue aqui a las dos y media', 'sean breves', 'preferiria morir', 'es malo para el corazon', 'lo adivine correctamente', 'vamos a ir a mi casa', 'ella debe haber estado enferma', 'ayer hizo calor', 'consegui entrar', 'creo que lo hizo el', 'puedo correr', 'te metiste en problemas', 'voy a trabajar aqui', 'la increpo', 'usted puede tener el mio', 'me asegure de ello', 'no tenes futuro aca', 'todos estaban presentes excepto tom', 'el bebe esta llorando', 'no suenas alegre', 'cocino casi todos los dias', 'bailemos', 'tom siguio trabajando', 'cual fue el resultado', 'prefiero el negro', 'el es un tipico japones', 'mis piernas son debiles', 'terminamos', 'volvera pronto', 'tom vuelve a estar solo', 'me agrada tu actitud', 'soy de australia', 'tienes un minuto', 'no lo empujes', 'quiero disculparme', 'tom acepto el trabajo', 'tom dice que no va a votar', 'tom puso los ojos en blanco', 'ustedes se tienen el uno al otro', 'tom no puede ayudarte', 'te gusta leer', 'su habitacion tiene paredes rojas', 'tom canto de manera suave', 'ellos se lo llevaron por la fuerza', 'tenemos una ventaja', 'ella canta muy bien', 'no es ese nuestro fin', 'a menudo he estado ahi', 'me estas espiando', 'me quede despierto toda la noche', 'tom puede ver fantasmas', 'no deberias estar yendote', 'tenemos la clave', 'tomas es hipocondriaco', 'donde estoy', 'el libro esta polvoriento', 'nos ensena frances', 'alguien me esta observando', 'el se quito la camisa', 'yo no era infiel', 'el cuchillo no es filoso', 'ella es preciosa', 'tal vez puedan ser felices', 'estoy harto de todo', 'dejo de llover', 'no estamos seguros', 'se me olvido otra vez', 'tom vive en el extranjero', 'mary se hizo la manicura', 'no lo puedo negar', 'yo tambien tengo una sensacion similar', 'tu puedes parar esto', 'nos estan esperando', 'el a menudo aparece en television', 'me di prisa en volver a entrar', 'cuando empieza la primavera', 'deja de pelear', 'como vas a volver', 'tom tendra exito', 'mantente alejado de la puerta', 'sabes la razon', 'el le gusta a tom', 'que alguien me eche una mano aqui', 'es autentico el informe', 'tomare eso como un si', 'tomas se come las unas', 'una vez conduje el prius de tom', 'tom perdio su pasaporte', 'bajen la voz', 'tenia un ojo vago', 'dame algunos', 'quitense los zapatos', 'me tengo que esconder', 'esperamos lluvia hoy', 'buenos dias a todos', 'vinimos juntos', 'mi corazon empezo a latir aceleradamente', 'el hizo su mejor esfuerzo', 'puedo poner la mesa', 'tenia que asegurarme', 'tom no dijo nada', 'prueba un poco del caviar', 'ella es hermosa', 'llovio toda la noche', 'las mujeres lo adoraron', 'anotalo todo', 'yo me acuerdo', 'tom se ve joven', 'no estamos peleando', 'estoy mejor', 'pasame las tijeras', 'las cosas se rompen', 'mira la imagen', 'que causa esto', 'este es nuestro programa', 'tom agradecio a mary', 'habla aleman', 'va usted de paseo', 'me preocupo por tom', 'el no tiene novia', 'tu eres medico', 'solo quiero a tom', 'la pueden poner alli', 'estoy casi listo', 'nadie le escapa a la muerte', 'cuales son los sintomas', 'miren hacia adelante', 'me enganaron', 'no tengo hijos', 'continuad cantando', 'me acuerdo bien de tom', 'puedo sentirlo', 'me acuerdo de tom', 'esto es real', 'no de de comer a los animales', 'no tengo empleo', 'cual es la prisa', 'es la hora', 'no quiero el dinero', 'eso es adecuado', 'tom esta plantando arboles', 'me alegra verte', 'estare ausente manana', 'soy feliz', 'mi nombre es tom jackson', 'su nombre es mary', 'no somos extranjeros', 'es dificil', 'necesito mis pastillas', 'de quien es esta oficina', 'no eres estupida', 'mi padre se hizo viejo', 'toma lo que quieras', 'esta obsoleto', 'ha ido a la tienda', 'es suficiente por hoy', 'abraza tus suenos', 'eso es otro problema', 'la luz esta prendida', 'no tengo nietos', 'te estuve esperando', 'haz otra eleccion', 'tomas no es para nada inteligente', 'no soy policia', 'tom esta descalzo', 'es mi hermana', 'la querra por siempre', 'quiza tom tuvo suerte', 'fue mi culpa', 'te dare un regalo', 'deja de fantasear', 'no estoy de acuerdo con eso', 'os gusta el vino frances', 'me partiste el corazon', 'de quien es este boligrafo', 'nunca te callas', 'solo sigue adelante', 'tom necesita algo de efectivo', 'tom tiene sed', 'ayudanos', 'he estado preocupada', 'se larga a llorar', 'tom esta tomando analgesicos', 'estuvieron todos de acuerdo', 'por que estan aqui', 'no tengo una caja', 'hemos sido descubiertos', 'vuelva a empezar', 'podrias repetir eso', 'mary es viuda', 'por favor no hablen en frances', 'aplaudimos', 'esta leche huele raro', 'no me puedes matar', 'no me gusta su pelo', 'el le dijo que estudiara', 'puedo usar tu coche papa', 'se que no soy perfecto', 'en verdad no conozco a tom', 'el es mi marido', 'es realmente apestoso', 'ya no me gustas', 'por favor tome asiento', 'esta a dieta', 'no estas escuchando', 'no te enfades', 'eso no es gracioso', 'este esta lleno', 'mi computador se ha congelado', 'eres muy inteligente', 'completa este formulario', 'que chico mas alto', 'bebi de la canilla', 'yo lo rompi', 'el bebe comenzo a gatear', 'no discutamos mas', 'pregunta', 'puedo acariciar a tu gato', 'tienes una opinion', 'voy a saltar', 'ya he dicho que no', 'no es por eso que lo hice', 'pasale', 'estamos ya en navidad', 'aun es una nina', 'no es suficiente para usted', 'tom espero su turno', 'necesito el dinero de tom', 'eres mas alto que yo', 'no dejes que eso suceda', 'vosotras lo sabeis', 'quiero sacar fotos', 'no puede ser cierto', 'estas perdido', 'la primavera ha llegado', 'todos pueden cometer errores', 'eres fotogenico', 'envidio a tom', 'me estas mintiendo', 'ella le dio la llave', 'esto se lo compre a tom', 'no me siento muy bien', 'este es el apartamento de tom', 'hable mas alto por favor', 'es una linda pollera', 'tom esta herido', 'ella quiere bailar', 'que haces hoy', 'quien es esta mujer', 'tom recomendo a mary', 'he perdido un arete', 'no quiero tu compasion', 'comenzo', 'cuando juega tenis', 'pronto llovera', 'necesito tiempo', 'ten cuidado con lo que haces', 'donde estan mis pantalones', 'estamos cuidando una casa', 'se murio de repente', 'tienes la boleta', 'no te crei', 'el es leal a su jefe', 'lo intentaremos eso seguro', 'lo hice lo mejor que pude', 'casi fui robado', 'se donde viven', 'habla conmigo', 'yo creo que eres perfecto', 'hace frio afuera', 'podrias ayudarme', 'me lo pueden explicar', 'el es un hombre paciente', 'nada ha cambiado', 'alguien esta cantando', 'necesitamos vuestra ayuda', 'llame hoy a tom', 'tom esta dormido', 'tom me colgo', 'estoy quebrado', 'esto me parece extrano', 'que tan retrasado estoy', 'prefiero no cantar', 'ellos pagan bien', 'fui a la panaderia', 'sos muy terco', 'tom es un buen atleta', 'creo que huelo una rata', 'dimos nuestra palabra', 'tom peleo', 'este tio es cojonudo', 'incluso tom estaba desconcertado', 'me volvi a quedar dormido', 'aguarda hasta las seis', 'ordena tu cuarto', 'tomas es realmente un idiota', 'tengo serias dudas al respecto', 'tom pago la cuenta', 'son prisioneros', 'deja de gritar', 'tom es un sospechoso', 'las habeis visto', 'tom tuvo sueno', 'tenia hambre', 'no te gusta el pescado', 'si yo igual pienso eso', 'no lo sabra', 'ya se como va', 'vamos otra intentona', 'coge una', 'tom era el companero de celda de john', 'ella y yo nos llevamos bien', 'puedes nadar como tom', 'ten verguenza', 'tom camino a casa', 'este pajaro no puede volar', 'yo obtuve un bono', 'me hacen un favor', 'nos han disparado', 'nos vamos ahora', 'teniamos un gato', 'nadie lo diria', 'tom compro un diccionario', 'llevo a cabo su propio plan', 'se esta poniendo helado', 'ella es gentil', 'mi marido es un vago', 'te llevare a casa', 'el amor es una locura', 'sois como de la familia', 'durmio todo el dia', 'habla un poco mas fuerte', 'yo no tengo una hermana', 'todo el mundo quiere ir', 'ven a nuestra mesa', 'es divertido', 'tienes un carro', 'buitree anoche', 'no fue facil', 'ella miro a su alrededor', 'el vidrio se rompio', 'podeis ponerla ahi', 'lo considero mi deber', 'vive usted aqui', 'estamos de vuelta', 'me tiene antipatia', 'esperamos buenos resultados', 'tom vio a mary sonreir', 'teniamos un poco de agua', 'yo hablo un poco de frances', 'como esta el perro', 'por que estais tan tristes', 'el liquido era viscoso', 'el pidio disculpas', 'capturalo', 'hoy me he levantado pronto', 'me la encontre en la iglesia', 'no tienes miedo', 'tom esta en el sotano', 'lo que esta hecho no se puede deshacer', 'mi esposa odia a los gatos', 'una cocacola por favor', 'debo escribir una carta', 'mary es la hermana de tom', 'es del tamano perfecto', 'fue un accidente', 'esto es culpa mia', 'te dije que no te preocuparas', 'eso es nieve', 'como ha llegado el hasta aqui', 'por que vinieron ustedes', 'ellos son terribles enemigos', 'lei su libro', 'estoy perdiendo la paciencia', 'tom es infiel', 'tom ignora a mary', 'te sentis mejor ahora', 'eso es trabajo de mujeres', 'tom es tacano', 'como se siente', 'es aquel tuyo', 'cuanto deberian obtener', 'a quien llamaste', 'se nos ha avistado', 'eso suena bastante tonto', 'estamos en el pozo', 'recuerdo haciendo eso', 'el nino tiro una piedra', 'eso es indispensable', 'dime', 'el se afeito', 'a mi padre le gusta su trabajo', 'ella le obedece', 'estoy comiendo una pera', 'tom baila', 'yo os quise', 'no voy a volver', 'un dia lo sabre', 'no enciendas la luz', 'me gustan los tulipanes', 'traes todo', 'no van a volver', 'necesitaba dinero', 'cual es nuestro equipo', 'tom espero afuera', 'cuando ocurrira eso', 'tengo el pelo guero', 'deberiamos ayudar', 'pregunto tom por mi', 'esto tiene que hacerse', 'este es su perro', 'la quiero a morir', 'no podes escapar', 'no soy cocinero', 'el no vendra verdad', 'comimos huevos', 'las rosas huelen bien', 'mezcla la sopa', 'no es una broma', 'quiero que tengas esto', 'podemos hablar contigo', 'tom no estornudo', 'se formaron densos nubarrones', 'tom esta en el bosque', 'hace mucho frio aqui', 'se acabo la partida', 'dormi hasta el amanecer', 'no me parezco a ti', 'estan ganando', 'el asesinato es un crimen', 'comprare un ford', 'tuve un golpe', 'donde esta el bano', 'me gustas', 'tom quiere desaparecer', 'ni siquiera le conozco', 'es uno de los mejores', 'estan ellas aqui', 'tom me pego en la cabeza', 'vendran mejores dias', 'no seas ridiculo', 'es el verdad', 'por favor hable frances', 'estamos a sabado', 'me gusta hablar', 'queda sal', 'todo fue idea de tomas', 'no hice esa promesa', 'tenia la boca seca', 'nunca he salido de boston', 'espera solo un momento', 'no quiero jugar', 'tom fue educado en casa', 'mis manos estan temblando', 'cuando llegaremos', 'amamos a nuestros hijos', 'cual es tu guitarra', 'he recibido un correo electronico raro', 'me gusta aquel perro', 'llego tarde a la cena', 'que semana mas larga', 'mi esposa me golpea', 'estoy siempre de mal humor', 'yo no estoy contento', 'ellos estan alli', 'ha cambiado algunas palabras', 'dos mas dos es cuatro', 'aqui viene el camarero', 'era timido', 'tom esta bien', 'no puedo ir al cine', 'de verdad lo siento', 'no lo oi llegar', 'corrija eso por favor', 'te creo', 'haz lo que tienes que hacer', 'eres idiota o que', 'tom guarda un secreto', 'el brinco sobre la mesa', 'puede que necesites una pala', 'estamos muy contentos', 'ellos son poco de fiar', 'es eso cafe lo que huelo', 'dibujala', 'tom estaba desfigurado', 'estoy haciendo cafe', 'alquile un par de esquies', 'sono el timbre de la puerta', 'fui convocado', 'tom es pesimo en quimica', 'ellos sienten hambre', 'ellos aman a tom', 'ambos eran extremadamente ricos', 'tomas trabajaba como granjero', 'uno debe cumplir con su deber', 'este es el mejor boligrafo', 'no seas malo', 'se de que va esto', 'estoy casi lista', 'se que tom lo hizo', 'no mires abajo', 'he estado en australia', 'el perro parece hambriento', 'eres una nina divertida', 'aqui estareis seguros', 'ese es tu funeral', 'tuve que aceptarlo', 'es bastante increible', 'no se lo dire nunca a nadie', 'tom le dejo una nota a mary', 'no solia fumar', 'tom me echara de menos', 'quien tenia razon', 'quedaos donde estais', 'ahora esta escribiendo un libro', 'nos encanta tom', 'dale las llaves a tom', 'cual es tu postura', 'me sentia del mismo modo', 'ahora sabemos', 'yo pense que era verdad', 'no toques estos', 'el radar se rompio', 'trate de salvar a tom', 'debe haber una manera', 'eres realmente maravilloso', 'puedo conducir el tractor', 'el collar del perro es rojo', 'llore toda la noche', 'nos lo pasamos bien juntos', 'lee esto ahora', 'no te vienes conmigo', 'donde esta mi padre', 'viste el accidente', 'he tenido una vida dura', 'quiero dejar la escuela', 'hazlo rapido', 'deberiamos hacerlo', 'se te ha ido la pelota', 'lamenta lo que hizo', 'por que la nieve es blanca', 'tom contrato a un detective', 'tu estas seguro aqui', 'creo que tom tiene razon', 'conozco a un tipo en boston', 'llevala al quirofano', 'no puedes estar hablando en serio', 'ahora estais a salvo', 'ella lo vio bailar', 'me cai', 'estoy tan cansada', 'me estas poniendo triste', 'tom ya comio', 'espero que tom tenga razon', 'no puedo dejar a mi familia', 'el cedio a la presion', 'feliz pascua', 'podemos salvar el planeta', 'que burro', 'tom esta dentro', 'puedo hacerlo solo', 'preferiria no comerme esto', 'estoy libre hasta las', 'no acabo bien', 'tom compro unas zanahorias', 'no dispare', 'tom murio mientras dormia', 'me acabo de enterar', 'no pueden despediros', 'esta es solo mi opinion', 'nunca tendre un hijo', 'eso es fundamental', 'tom no estaba farfullando', 'ellos preparan una ensalada', 'una vez vi una', 'no quiero esperar', 'es este libro', 'este es dinero canadiense', 'que melodramatico', 'el nos ensena ingles', 'dulces palabras', 'estamos entre amigos', 'el ha actuado sabiamente', 'extrano a mis padres', 'me siento sola', 'el es amigable', 'deberia visitar boston', 'dejame pagar', 'asi es como lo hacemos', 'habla en voz baja', 'tom tiene novia', 'estan escuchando', 'escribe a tom', 'aquel es nuevo', 'donde habias estado', 'tom huyo de casa', 'ellos van a morir', 'puedo sentarme cerca de vosotras', 'este lugar es nuestro', 'soy muy curioso', 'como se llama', 'vayamos a mi casa', 'vente pronto', 'tom es ingeniero', 'empezamos a cantar', 'eres un patan tom', 'yo no aconsejaria eso', 'por favor abra su bolsa', 'donde esta mi abrigo', 'suelo ir andando', 'soy el hijo de tom', 'estaba medio lleno', 'su familia es muy grande', 'el tiene un blog', 'vote por tom', 'se acabo', 'que dia mas caluroso', 'firme esto', 'sostenganlo', 'encontre tu diario', 'te mando un mensaje', 'has perdido peso', 'el es un hombre valiente', 'esta es la pieza de tom', 'somos canadienses', 'no se quien eres', 'perdonanos', 'por que no fuiste', 'mucho gusto', 'este tornillo esta suelto', 'eres muy negativo', 'acaso maria no es bonita', 'la caballerosidad sigue viva', 'donde puedo poner mi bolso', 'cuanto le debemos', 'cambie', 'tom lo entendio', 'nunca conduzco', 'consulta tu diccionario', 'ella debe ser feliz', 'ellos te traicionaron', 'no te burles de mi', 'deshagase del arma', 'tom tiene un coche', 'gracias por preguntar', 'quiero ir a marte', 'se apoya en un baston', 'el almuerzo es al mediodia', 'cual es su cerveza', 'despierta a los ninos', 'todos aplauden', 'necesito ponerme a dieta', 'estornude', 'puedo hablar con tom', 'tom tu me quieres', 'se puede fumar aqui', 'tengo una computadora', 'soy tu aliado', 'tienes que arreglarlo', 'llama a tu madre', 'el es mi hermano menor', 'ahora se por que', 'eso es verdad no es asi', 'puedo pagar con tarjeta de credito', 'utilizo google todos los dias', 'hace fresco', 'ella es hiperactiva', 'pudrete mamon', 'esto es un hecho', 'esta vivo', 'aprenda usted a marcar el compas', 'no puedo mentiros', 'entendiste', 'estuvo cerca', 'el vino como a las dos', 'me gustan los caballos', 'mi vida corria peligro', 'no puedes escuchar el sonido', 'tom se ayudo a si mismo', 'yo era demasiado rapido', 'he decidido renunciar', 'que tienes', 'yo me bane', 'eso es mio', 'es muy complicado', 'naci en', 'tom canto para mary', 'que dijo tu esposa', 'cubre aqui', 'ya estoy podrido', 'mary echa de menos a su marido', 'esto no es frances', 'ya estoy contento', 'ella quiere un sombrero nuevo', 'me olvide todo sobre eso', 'tengo miedo de que se haya perdido', 'ya conocia a todos', 'no esta tan lejos', 'yo quiero ser un mago', 'por favor no te enfades', 'ella es muy astuta', 'nadabamos en el mar', 'quiero que te quedes con esto', 'espera por mi fuera', 'me puse a cubierto', 'necesito una mas', 'vaya despacio', 'todos tienen que comer', 'se que puedo hacerlo mejor', 'puedes dejarlo reparado', 'no tienes fiebre', 'ella me dio un regalo', 'soy la hermana de tom', 'puede ser importante', 'a ti te conocemos', 'hasta pronto', 'no podemos parar ahora', 'tus zapatos hieden', 'por favor mantenme informado', 'nos hace falta agua', 'a tomas le encanta pescar', 'que son las corridas de toros', 'que tiempo mas fabuloso', 'ella adora a los gatos', 'solo estaba bromeando', 'los ojos de tomas estan abiertos', 'la madera seca se quema bien', 'nos vemos alrededor de las', 'parece que ella viene', 'tom esta en contra de fumar', 'esta muy ocupada', 'eso es perfecto', 'cualquier cosa podria suceder', 'tenes lindos ojos', 'dejen de quejarse', 'tom te estafo', 'tom no conoce a mary', 'esto es perfecto', 'disfruta del espectaculo', 'cual es tu filosofia', 'el sobrevivio al accidente', 'tomas tiene el pelo largo', 'te amamos', 'ese nino es su hermano', 'no lo lastimes', 'pague', 'limpiate los ojos', 'estas en mi camino', 'a tom le encantan los rabanos', 'dame diez minutos', 'no estoy calvo', 'no te metas en mis asuntos', 'los dias de tom estan contados', 'no estan cansados', 'esto es de tom', 'me gusta esa cancion', 'estoy enamorada de ella', 'no des de comer a los animales', 'estamos a tiempo', 'se que resulto molesto', 'perdi mi inspiracion', 'ellos odiaban a tom', 'quiero una gominola', 'puedo haceros una pregunta', 'yo conte un chiste', 'quiero un dolar', 'teneis mi palabra', 'soy el hermano de tom', 'deberia estudiar frances', 'sali corriendo de la casa', 'tom estrujo la esponja', 'ya no estoy enfadado', 'fue una broma', 'la puerta esta abierta', 'usted vivia aqui', 'todo el mundo pago', 'tom puso a hervir algo de agua', 'tom es testigo', 'ataque', 'no soy tan grande como tu', 'aquello era un desastre', 'debo estar viendo cosas', 'tom esta gordo', 'es dificil el frances', 'tom nacio en boston', 'el estudio en el exterior', 'veamos si ayuda', 'las cosas cambian', 'nos quedamos sin cafe', 'quiza no sea joven', 'le dije a tom acerca de ti', 'tom es despistado', 'rompe en llanto', 'hay alguien ausente hoy', 'tom le escribio una carta a maria', 'le grito tom a mary', 'nadie sabe que estoy aqui', 'que sera de ella', 'cuanto has pagado', 'esa no es excusa', 'para de molestarme', 'fuera', 'estas conduciendo muy rapido', 'mira por la ventana', 'que haran', 'ella aprobo mi plan', 'eso me pertenece', 'el trabaja en el banco', 'tom es cortes', 'empecemos', 'tom no es obediente', 'tom esta inspirado', 'tom vomito', 'es mas seguro quedarse aqui', 'que hora es', 'su hija esta enferma', 'decidi hacer eso', 'me duele mucho la espalda', 'lamentamos su deceso', 'hoy es mi dia', 'cuanto costo', 'voy a la escuela todos los dias', 'ya tome cafe', 'considerate afortunado', 'sabia que no era verdad', 'prepare cena', 'todos me quieren', 'por que no puedo ir', 'he tenido un dia horrible', 'no soy delgado', 'soy el medico de tom', 'por que lo haces', 'probemos esta torta', 'ella se sento a mi lado', 'tom abordo el avion', 'estan todas las puertas cerradas', 'era un buen amigo', 'es de noche', 'mi boligrafo es nuevo', 'habla usted frances', 'eres muy maleducado', 'no me vuelvas a llamar', 'ella cocina muy bien', 'estoy enojado', 'esos son regalos', 'no los culpo', 'puedo acompanarle', 'es un claro indicativo', 'que tan bien conoces a tom', 'quienes son los candidatos', 'tomaron batidos', 'todavia puedo ayudarte', 'cuando volveras', 'tom esta esperando', 'tienes que permanecer despierto', 'a nadie le gusta perder', 'voy a ser breve', 'soy paciente', 'volvere a contactar contigo', 'no hay comida', 'veo una reina', 'estoy casada', 'se lo dire a tom mas tarde', 'puedo ver este', 'salgamos de aqui', 'tom esta comiendo sobras', 'ellos son muy viejos', 'tom reprobo', 'este fue mi error', 'no puede quedarse por mucho tiempo', 'ya no tengo hambre', 'yo estaba en el cuarto de bano', 'no estabas en casa', 'saben todo', 'deja de perder el tiempo', 'ellos siguieron siendo amigos', 'llamame alguna vez', 'tienes una television', 'eres rico', 'esto es grande', 'estamos yendo a casa', 'eres budista', 'boston es genial', 'compre algunos sellos', 'corre mas rapido', 'quiero decir una cosa', 'ustedes son idiotas', 'tom queria a mary', 'tengo que encontrar a mi perro', 'anade mas agua', 'quien es aquella persona', 'a ver eso', 'no se acerquen al perro', 'tiene el pelo corto', 'es lo que quiero', 'todas las personas son diferentes', 'quiero que tom nos ayude', 'el cuido del bebe', 'intentalo ahora', 'los ninos se estan divirtiendo', 'tom esta triste', 'nadie quiere a tom', 'espero que os vaya bien a todos', 'hoy me quedare en casa', 'que esta haciendo aqui tom', 'no estoy feliz', 've y mira quien es', 'niegas eso', 'me siento relajado contigo', 'quiero ese libro', 'estoy empeorando', 'tom escapo', 'eso si es conveniente no', 'ella tiene mas de veinte anos', 'sacanos de aqui', 'la pompa de jabon exploto', 'tom se esta quejando', 'soy mas pequeno que el', 'lo espero con ganas', 'los perros pueden ver en la oscuridad', 'tom tambien es un estudiante', 'piensatelo', 'la manguera no funcionaba', 'el telefono seguia sonando', 'necesito uno mas', 'tengo una casa', 'al parecer estas en lo correcto', 'tom esta atrapado', 'quiero vivir', 'corri adonde mi madre', 'que verguenza', 'los gatos no son humanos', 'que hay de ti', 'queres esta camisa', 'me voy a reunir con tom a las dos y media', 'no seais tan impacientes', 'necesita pilas nuevas', 'vengo todos los dias', 'te observe', 'no puedo evitar quererla', 'no puedo hacerlo sola', 'no soy idiota', 'esta envejeciendo', 'tuve un infarto el ano pasado', 'por que estas enojado', 'todavia no funciona', 'oh no', 'vives en boston', 'le gusta nadar', 'tom volvera a matar', 'segui practicando', 'solo dejalo ahi', 'esto se me da de pena', 'no dejare que me chantajeen', 'las quiero a ambas', 'hicieron trampas', 'cuando te vas a acostar', 'como se llama tu perro', 'el perro esta ladrando', 'tom tiene mala vista', 'ellos no comeran carne', 'te voy a ayudar', 'estaba muy feliz', 'tom desafio a mary', 'a ella le gustan los gatos', 'no derramo ni una lagrima', 'y si te equivocas', 'hay alguien ahi', 'mi trabajo aqui se ha terminado', 'el es tan bonito', 'nadie quiere ser pobre', 'lloviznaba', 'deberias descansar', 'bebe mucha agua', 'me lo acabo de inventar', 'cuando termina', 'quiero entrar', 'nunca fuiste mi tipo', 'el invierno se acerca', 'tom se ha escapado', 'sabes quienes somos', 'tu eres un buen cocinero', 'estoy seguro de que te va a gustar', 'manana estare ocupado', 'tom es un chico maravilloso', 'tom queria muerta a mary', 'por que esperar a navidad', 'estoy tan gordo', 'no nos queda ninguna bala', 'solo estoy haciendo mi trabajo', 'el delincuente esta tenso', 'usted bebe vino', 'me encanta la jardineria', 'ella me evita', 'que fecha es hoy', 'quedatelos', 'el tiene cerca de sesenta anos', 'nunca olvido un nombre', 'cuantos equipos hay', 'tom es genial', 'ella tenia ganas de llorar', 'te voy a hacer dano', 'tuerce a la izquierda', 'tom esta luchando contra el cancer', 'todavia no esta aqui tom', 'os estan buscando', 'no esta aqui', 'le hice abrir la puerta', 'estabas en casa', 'lo pueden poner alli', 'no hay tiempo', 'sabes conducir', 'ella tiene mas o menos tu misma edad', 'eres un chico inteligente', 'estabas en mi cuarto', 'creo que tomas es estupido', 'hay vida en marte', 'tom estaba vomitando', 'venid cuando querais', 'es un error sin importancia', 'ha estado muerto diez anos', 'le conocemos a usted', 'nada nuevo', 'ella decidio ir', 'pueden fumar aqui', 'a que si ya veras', 'os gusta el pescado', 'a tom no le gustaba mary', 'por favor haz esto por mi', 'se acabo la bateria', 'tom se bajo del taxi', 'por que nadie me previno', 'quien le conto a tom', 'ella le vendio su coche', 'no podes pelar una naranja', 'dale una muneca', 'los pajaros cantan', 'donde esta la pasta de dientes', 'puedo comer algo', 'ya no me importa', 'siempre estoy bajo estres', 'fue bien', 'esta es mi prima', 'ah que barato', 'podeis andar', 'es ese tu verdadero nombre', 'podemos hablar despues de clases', 'lo recuerdo', 'tengo que tomar un bano', 'eres un buen entrenador', 'ellos nos tienen miedo', 'el proyecto esta en camino', 'preparemonos', 'vayamos en colectivo', 'la semana termino', 'deci la verdad', 'tom parece aterrorizado', 'tienes mi casco', 'vinimos a pedir disculpas', 'la montana es verde', 'ella quiere abrazarle', 'no puedes matarnos a todos', 'puedo conseguirles mas', 'el le teme a la muerte', 'no son estupidos', 'perdi mi paraguas', 'mandaron a buscar un doctor', 'que tipo de juego es este', 'echa el cerrojo', 'tienes la razon', 'frieme un huevo', 'ultimamente ha hecho frio', 'nadie sabia quien era el', 'donde esta tom por cierto', 'me gusta eso', 'tengo que encontrar a tom', 'no te dejare ir', 'dibujela', 'el impostor fue atrapado', 'puede oirnos', 'vienen', 'eres decidido', 'pienso que es posible', 'donde esta la bolsa', 'el recibe un buen sueldo', 'espera enfrente', 'el es un temerario', 'mira eso', 'somos padres', 'asi son los perros', 'estamos mejor', 'quitame las manos de encima', 'gracias de antemano', 'intentalo de veras', 'descubri algo', 'esta lista es para usted', 'soy nuevo aqui', 'tomas luce como un banquero', 'mira de nuevo', 'no nos perdemos de nada', 'no maldigas en publico', 'el queso es hecho a partir de la leche', 'no es tan sencillo', 'no es culpa tuya', 'solo tengo ojos para ti', 'sal de mi camino', 'yo tengo un rancho', 'practicas algun deporte', 'hay otra pega', 'todo esta bien', 'que sigue a continuacion', 'por favor arregla esto', 'no volveremos a vernos', 'necesitas carro', 'es una larga historia', 'el es muy honesto', 'necesitas saber', 'esta es una casa de madera', 'es muy grande', 'el se porto como un nino', 'juguemos a las quemadas', 'hoy estoy muy ocupado', 'tom me reconocio', 'fracasaras', 'estoy en el toilette', 'tengo insomnio', 'puedes leer este libro', 'apuremonos', 'el aeropuerto esta cerrado', 'que incordio', 'esa fue una decision facil', 'le va a encantar esto', 'tom tenia hambre', 'yo sueno mucho', 'tienes tres segundos', 'no quiero esta camisa', 'tom escucho la alarma', 'no estoy preparado para hacerlo', 'tom esta ayudando', 'tom es un comunista', 'la ignorancia es una bendicion', 'pareces espabilado', 'duerme algo', 'me temo que va a llover', 'esa casa parece bonita', 'estas perdido', 'tom no es muy educado', 'el tren acaba de salir', 'que equipo gano el juego', 'podria votar por tom', 'yo puedo hacer ambos', 'te gusta la musica', 'espero que te guste el trabajo', 'no habias salido', 'tiene siete hijos varones', 'pregunte a tom', 'a tom le mordio un murcielago', 'estoy demasiado agotado para caminar', 'nosotros aplaudimos', 'necesitamos un coche', 'es muy temprano', 'ellos quieren mas dinero', 'es lo que es', 'tiene una camisa negra', 'tom se quemo', 'tom gano la apuesta', 'me la voy a comer', 'toma tu cambio', 'el fue un soldado valiente', 'la suerte esta echada', 'me agrada trabajar aqui', 'ya lo traje de vuelta', 'no lo se con seguridad', 'cuanto cuesta este sofa', 'ya no soy un crio', 'ella esta llorando', 'tirame el balon', 'quien lo dice', 'todos estaban asustados', 'iremos juntos', 'el alma es inmortal', 'tom nunca grita', 'por que llorabas', 'solo era una broma', 'casi lo dejo', 'yo puedo hablar ingles', 'este concurso esta arreglado', 'tom intento mantener la calma', 'ha intentado gritar', 'conduzcamos hacia el lago', 'fue interesante', 'me das asco', 'estoy esperando a tom', 'deberiamos hacer silencio', 'queres compartirlo', 'de quien es este auto', 'quieres darme una mano', 'quiero verlos', 'quien ha escrito este libro', 'cual es la talla de zapato de tom', 'yo gane la medalla de oro', 'nosotras estabamos aca primero', 'ella es simpatica', 'el mintio acerca de eso', 'no estaras solo', 'a tom le han renido', 'eres capaz de resolverla', 'comimos juntos', 'puede que sea demasiado tarde', 'confio en que fuera bien', 'tom puede nadar muy bien', 'llegaste temprano', 'tom es muy inflexible', 'por favor para de hablar', 'disculpa un segundo', 'no se frances', 'que hacemos hoy', 'me mudo a boston', 'quiero estar sola', 'lei eso para mi familia', 'no es tan poco', 'revisalos a todos', 'no te olvides tus cosas', 'esta es nuestra unica oportunidad', 'a esta pieza le llega luz del sol', 'donde tienes el pasaporte', 'tom es una buena persona', 'mi hermana llora a menudo', 'que persiguen ellos', 'a tom le duele la espalda', 'prometi no decir', 'tom hablara', 'viste a alguien mas', 'ha empezado a nevar', 'a tom no le gusto', 'se alquila esta habitacion', 'tom no es como yo', 'estare bien', 'sabes el camino', 'ellos van de compras', 'no le hablemos a ella', 'a tom le gusta cantar', 'yo tengo tres camaras fotograficas', 'me pondre con eso enseguida', 'el tiene un monton de dinero', 'el bebe lloro', 'es una persona agradable', 'cual es bueno', 'tenemos dos ninos', 'puedes tener el mio', 'tom tiene treinta a lo sumo', 'abusado', 'estamos estudiando frances', 'no te quiero aqui', 'tom lo hizo por diversion', 'ven y ayudame', 'tome una fotografia de ella', 'abrace a tom', 'es posible que cometa un error', 'creo que tom sabe por que', 'el toca bien la guitarra', 'ya comiste', 'dejame marchar', 'estoy viendo las noticias', 'nunca lo he necesitado', 'creo que el tiene razon', 'los koalas son monos', 'hemos vuelto', 'piensatelo', 'puedes ayudarme un poco', 'eres la monda', 'no me quiero olvidar', 'me averguenzo de mi cuerpo', 'alli estan los regalos', 'cogi un resfriado terrible', 'puede hacerse', 'mis gatas son mis hijas', 'por que estoy haciendo esto', 'cuanto costara esto', 'pregunte como estaba tom', 'me puedo comer esa torta', 'dibuja un circulo', 'podria ir a la carcel', 'memorizalo', 'adelante tome otro', 'sonare contigo', 'como se usa esto', 'el frances es dificil', 'conozco a las dos ninas', 'el nacio en', 'vuelvan a empezar', 'estas estudiando', 'yo tomo para relajarme', 'jamas te he mentido', 'llovio durante dias', 'ese no es mi problema', 'es posible que trate de hacer eso', 'tomas volvera pronto', 'tomas nos esta mirando', 'ellos votaron que no', 'el agua estaba muy caliente', 'deja de seguirme', 'el estaba yendo hacia el colegio', 'no me hagas dano por favor', 'no lo puedo sentir', 'tomas sabe lo que hiciste', 'has dicho algo', 'este es el perro de tom', 'con que frecuencia te duchas', 'llovio sin parar', 'esta habitacion es muy calida', 'me siento triste', 'perdimos mucho tiempo', 'conozco un monton de canciones', 'veo algo', 'entonces cual es el plan', 'se que lo tienes', 'aun fumas', 'paga lo que tu quieras', 'le pedi ayuda', 'es dinero lo que queres', 'tom es un heroe de verdad', 'tom sintio curiosidad', 'esta prohibido bailar', 'me acuerdo', 'tom disparo su rifle', 'viaje a boston', 'ha muerto tom', 'no salgas despues de que oscurezca', 'no almorce', 'estare con tom', 'no nos falta de nada', 'este es tu gato', 'quien esta cansado', 'son muy listos', 'esta bien', 'a ella se le acabo el papel', 'te estamos vigilando', 'recibis cheques', 'no fuimos atacados', 'tom fue a la universidad', 'muerdete la lengua', 'las sabanas se sienten humedas', 'me gusta ver la tele', 'tom es de contabilidad', 'el agujero es lo suficientemente grande', 'el cometio un error', 'apresurate llegaremos tarde', 'el me enseno historia', 'ahora te toca a ti', 'dios existe', 'ella y yo somos brasilenos', 'eso deberia ayudar', 'despues me senti mal', 'te vi en television', 'el me insulto en publico', 'comenzo a llover', 'el pretendia casarse con ella', 'hoy tom es pelirrojo', 'voy saliendo', 'me perdonarias', 'para mi es una buena noticia', 'todos tenemos defectos', 'puedes ponerlo ahi', 'tom pateo a mary', 'voy a empezar esta noche', 'yo acostumbraba a hacerlo', 'eres un pesimo cocinero', 'dije inmediatamente que si', 'tom apenas podia caminar', 'sabia que te gustaria', 'conozco las normas', 'llevatelo a casa', 'no me dejes de nuevo', 'esta manzana sabe agria', 'yo estaba aqui antes', 'los ninos se fueron', 'el tenia una hija', 'mi teclado esta sucio', 'pensas que soy feliz', 'parecian la mar de ocupados', 'he estado esperando', 'eso es esencial', 'llamalo a tomas', 'en cierto modo lo comprendo', 'es demasiado picante para mi', 'es un problema menor', 'quiero evidencias', 'el me hizo un cumplido', 'manana trabajo', 'que era ese ruido', 'entro en el cuarto', 'todos lo hemos hecho', 'ese cafe huele bien', 'quiero verlo', 'quiza nieve', 'el se cansa facilmente', 'han perdido ustedes', 'no tenemos suerte', 'no puedo comer', 'eso es confuso', 'volvio la calma', 'encontrare a alguien mas', 'el habla fluidamente el japones', 'me conocian', 'corran', 'no dispares', 'cuanto costo', 'acepto tu reto', 'que deberia decirle a tom', 'miren de nuevo', 'quiero que te sientes aqui', 'todos los ninos estan despiertos', 'lo aprendi en la escuela', 'me tengo que banar', 'no se puede rectificar', 'empezamos a andar', 'tom tomo un gran riesgo', 'cuando termina', 'el queria destruirlo', 'por favor canta una cancion', 'no te metas en el barro', 'no sos gracioso', 'tienes que mantener tu palabra', 'entra', 'la calle estaba oscura', 'estoy preparado para todo', 'que querria tom', 'la ayuda', 'le compre un sombrero a tomas', 'nos vamos', 'hay un guardia afuera', 'pareces muy ocupado', 'no necesito recordar', 'todo esta en calma', 'el cielo se abrira pronto', 'simplemente lo quiero', 'deja la puerta cerrada', 'dejenos hacer nuestro trabajo', 'tom nunca dijo nada', 'se conducir un coche', 'sin problemas', 'no te burles de ellos', 'esto es un murcielago', 'ellos saben la verdad', 'cierra esa bocaza', 'a tom le falta empatia', 'el todavia no baja', 'pruebese este a ver que tal le queda', 'puedes intentarlo', 'es francesa', 'tom no tiene ningun pudor', 'deja que lo coja', 'tom esta malo', 'por favor diga que si', 'tom chasqueo sus dedos', 'no tendre miedo', 'acaso somos solo amigos', 'eres decidido', 'responde la pregunta', 'tom no se quejo', 'tom conoce a mary', 'bien intentalo otra vez', 'tom llamo a mary', 'se leer', 'puedo ir', 'estoy tan hambriento', 'todos ellos gritan', 'pon un poco mas de pimienta', 'tiene que ser hoy', 'eso es una lastima', 'no des de comer al perro', 'un caballo es muy practico', 'no temo nada', 'somos debiles', 'siempre estaremos aqui', 'mi telefono se esta cargando', 'perdona pero tu quien eres', 'estaremos perfectamente', 'tuve un sueno', 'quiero mas de eso', 'te gusta la comida coreana', 'tom necesita la escalera', 'soy nueva aqui', 'podemos entrar', 'alguien mato a tom', 'que pasa hoy', 'necesito que guarden silencio', 'tom lo controlara', 'no me gusto el resultado', 'lee despues de mi', 'me senti estupido', 'ni siquiera estuve ahi', 'estaban sorprendidos', 'vamonos para casa', 'todos ellos hablan frances', 'vamos al zoo', 'se rindieron', 'espero que no sea verdad', 'aun te detesto', 'el no lo volvio a decir', 'quedate con nosotros', 'tiene buena pinta', 'hay alguien en casa', 'tom apago la television', 'lo hicimos', 'se leer frances', 'el todavia escribe poemas', 'te ves tan relajado', 'por favor sientate', 'te hare feliz', 'este pajaro no puede volar', 'creo que podemos', 'te acuerdas de mi', 'nosotros eramos mas jovenes entonces', 'que tienes', 'el hijo de tom esta enfermo', 'yo tambien lo he recibido', 'no hablaste con tom', 'tu tomaste demasiado', 'siempre te echare de menos', 'ese es un problema', 'no habeis visto unos pajaros', 'aun esta humedo', 'con quienes viven', 'no te invite', 'el tiempo cura muchas heridas', 'tom es milmillonario', 'dejame sola', 'nunca me pararas', 'ella te traiciono', 'por favor abre la ventana', 'no digas eso', 'los calcetines apestan', 'tuve que renunciar', 'tom quiere matarnos', 'quisiera una taza de te', 'cuantos anos tiene tu tio', 'no tengo fiebre', 'tom aprende bastante rapido', 'ella me envio una carta', 'quien condujo', 'acabo de solucionar el rompecabezas', 'estoy harto de ese trabajo', 'deberiamos permanecer aqui', 'no eres el unico', 'agradecimos a tomas por eso', 'se lo raro que es esto', 'tom quiere ser amado', 'bajad el volumen', 'tengo miedo de ti', 'tom nunca sale', 'como conoceis vosotros dos a tom', 'tom no dijo una sola palabra', 'gracias a dios que estoy viva', 'lo compre', 'eres muy inteligente', 'un calamar tiene diez tentaculos', 'yo estaba vivo', 'le encontramos con vida', 'tienen hambre chicos', 'mi pelo es demasiado largo', 'el se paro para fumar', 'ella debe estar enfadada', 'a donde iras', 'la pizza esta fria', 'tenemos que esperarle', 'tengo un visado', 'me gusta la leche', 'puedo hablar con vosotros', 'no me sorprenderia', 'el esta estudiando', 'no vuelvas a casa solo', 'que estas escondiendo', 'la habitacion de tom es un caos', 'quien escribio esto', 'reservame un asiento', 'este lugar es hermoso', 'ayer no comi', 'el te traiciono', 'aquel libro no es mio', 'me querias', 'vive alguno aqui', 'me quedare si llueve', 'tom acaba de almorzar', 'soy musico', 'quiero que estes segura', 'llama a tom inmediatamente', 'prueba esto', 'ahora le toca a tom', 'puedes vivir conmigo', 'se quemo', 'ellos viven cerca', 'se callaron', 'tenemos que irnos', 'el me pidio perdon', 'este perro es tuyo', 'tom no puede soportarlo', 'me lo comi', 'yo quiero tu respeto', 'ese perro es grande', 'todos estan de acuerdo', 'dame mi baston', 'saquen ese perro de aqui', 'que hora tienes', 'quien se comio todos los pasteles', 'no quiero acordarme', 'es de tom', 'este es tom', 'me congele', 'estoy de reforma', 'no tenemos auto', 'hazlo inmediatamente', 'me dejas verlos', 'me encantan las fiestas sorpresa', 'volemos cometas', 'me pregunto a quien puedo invitar', 'oye escuchame', 'puedo hacer algo', 'descubrio una nueva estrella', 'dejadlo entrar', 'tu tienes un hijo', 'paga lo que puedas', 'tuve suficiente', 'sigue intentandolo', 'de quien es este carro', 'te espere', 'que dijo el nino', 'ella dejo de fumar', 'no pasa nada', 'me duele el corazon', 'la mande un punetazo a la mandibula', 'me gusta tu chaqueta', 'nos vemos en la escuela', 'comprendi que el tenia razon', 'queremos la verdad tom', 'mejor creelo', 'el tiene una barba espesa', 'lavese la cara', 'tom no puede trabajar', 'soy tu amigo', 'no se nada de frances', 'ella es una chica muy gentil', 'quiero estar preparado', 'viste lo que yo vi', 'es en serio lo que estoy diciendo', 'te sugiero que te escondas', 'se que tom te extrana', 'cuanto viste', 'me encanta la astronomia', 'tom es un hombre feliz', 'me disculpo por esto', 'le gusta cocinar', 'te vas a quedar en casa', 'no quiero demandar a tom', 'parecemos estar enfermos', 'ustedes estan equivocados', 'el libro es chico', 'elimina esa foto', 'tomate una aspirina', 'para aqui', 'el bebio un poco', 'estoy desnudo', 'trabajaremos', 'puedo sacarte una foto', 'no se movio nadie', 'no tenes marido', 'que estas haciendo', 'el se ha vuelto loco', 'agitar antes de usar', 'no lo despiertes', 'el cacao puede ser muy amargo', 'no puedo olvidar a tom', 'me tengo que ir ahora', 'no toco el piano', 'soy arbitro', 'esta es mi madre', 'esto es horrible', 'tengo mucho sueno para conducir', 'que deberia hacer ahora', 'me acuerdo de ellas', 'esa vela no es blanca', 'el es mas fuerte que ustedes', 'todos sabiamos de eso', 'tom es bueno para nadar', 'un perro le mordio en la pierna', 'mama tiene fiebre', 'me alegra verte tom', 'puede ver esto', 'habla mas despacio', 'donde esta tu cartera', 'ella lo odiaba muchisimo', 'echa de menos a su familia', 'todavia eres menor de edad', 'tom ha estado ocupado', 'esa es una buena idea', 'no puedo superarlo', 'no confies en tom', 'orale', 'tom pagara por esto', 'no llore', 'no conozco a esa senora', 'mucha gente lo hace', 'se que esta mal', 'quitate tu gorra', 'le gusta caminar sola', 'alguien te esta llamando', 'llovera', 'me conoce', 'como se puede parar esto', 'no es ese mi objetivo', 'esto es una caja', 'has perdido', 'el esta a bordo del barco', 'esto fue nuestra culpa', 'di tus oraciones', 'que debes hacer', 'que hay para comer', 'me encontre con una anciana', 'tom tiene pecas', 'se acabo', 'que mas podria significar', 'veo un libro', 'eres mi tipo', 'me hice catolico', 'me desabroche los cordones de los zapatos', 'me alivia oir eso', 'yo necesito mi bolso', 'tomas canto con maria', 'la noche estaba fria', 'soy delgado', 'lavaos los pies', 'estoy triste sin ti', 'no tienes opcion', 'echo de menos a mis amigos', 'no me gusta el queso', 'hace calor aqui', 'sientate junto a mi', 'tengo que ir al centro', 'dile a tom que se vaya a sentar', 'dejadme salir', 'cocine gramos de arroz', 'la gente tiene miedo de la guerra', 'ensename la fotografia', 'el agua refleja la luz', 'compraste un diccionario', 'estoy muerto si me quedo aqui', 'toma este o ese', 'me diverti mucho', 'esos lentes te quedan bien', 'no seas absurdo', 'tom no va a comer', 'he dibujado un mapa', 'tienes que ser paciente', 'todavia soy soltero', 'no hay ninguna solucion', 'no subas de peso', 'tenes hasta medianoche', 'este esta limpio', 'te ves perfecto', 'no puedo encontrar mi bolsa', 'se pone mejor', 'este pozo es muy hondo', 'no digas palabrotas', 'cual es la tarifa del autobus', 'siempre estamos ocupados', 'pensa en tu hermano', 'tiene buen aspecto', 'vuestra casa es grande', 'no conocia esa cancion', 'escuchaste ese ruido', 'que equipo gano', 'tu no eres perdedor', 'no hagan ruido', 'tuve una manana ocupada', 'lave las ventanas', 'nosotros cantamos para ella', 'estoy en el bano', 'estan sorprendidos', 'el mato a ese hombre', 'tu eres mi enemigo', 'no morire', 'tom toca la guitarra', 'ire', 'tres personas estan ausentes', 'relajate unos segundos', 'el amor es para todos', 'ella solamente comia carne magra', 'no pueden verme', 'te lo dare', 'que esta tomando tom', 'sus palabras me sorprendieron', 'ella lo ato', 'tengo que esconder esta bolsa', 'podeis perdonarme', 'queremos simplemente nuestra parte', 'tocame chopin', 'cualquier libro servira', 'esto es una estafa', 'me toco la mano', 'tom no veia nada', 'que juego tan emocionante', 'la niebla es muy densa', 'nadie esta cooperando', 'el papa de tom esta en la carcel', 'podemos aumentar la imagen', 'todos lo quieren', 'hoy pareces feliz', 'es un fastidio', 'me gusta ser espontaneo', 'donde esta mi cuchilla', 'esta el en casa', 'conoces esta cancion', 'tom me ha perdonado', 'eso es todo lo que tengo', 'estoy segura de su exito', 'tom esta sentado sobre la valla', 'ire a pie', 'te gusta el rap', 'tom esta buscando trabajo', 'esa es la razon por la que vino tom', 'eres un inutil', 'por favor vayan abajo', 'le gustan los colores', 'hablemos con formalidad', 'ella necesita ayuda', 'ya te tengo', 'firma esto', 'prueba esto', 'a mi tambien me gusta pintar', 'voy a decidir quien lo hace', 'bebanse el vino', 'me siento muy mal por eso', 'a mi tambien me ha gustado', 'dejame sentirlo', 'lo sabiamos todo el tiempo', 'aprovechare la oportunidad', 'tu dormias', 'no quiero pelear', 'tom hizo feliz a mary', 'tom nunca se caso', 'tom se asusta facil', 'he aprobado todos mis examenes', 'como nos vemos', 'llevo puestas gafas de sol', 'es mi novia', 'tom es el siguiente', 'ahora te veo', 'yo queria gritar', 'no hablen', 'bien por ti', 'usted sobrevivio', 'fui forzado a ir', 'recibio tom mi mensaje', 'yo estoy cansada', 'tom necesita un corte de pelo', 'tom deberia estar en casa', 'pedimos disculpas', 'solo dale un minuto', 'esto esta bien', 'se afincaron en canada', 'tom esta escuchando', 'oimos la puerta cerrandose', 'tienes glaucoma', 'podeis iros', 'es un precio razonable', 'cualquier comentario es bienvenido', 'admitire que estoy equivocado', 'estaba muy nervioso', 'entrega tus papeles', 'me pregunto por que estara atrasado', 'pele una manzana', 'estas hablando de mi', 'tiene un cuerpo perfecto', 'ellos viajaron juntos', 'el gato es marron', 'me tome dos tazas de cafe', 'odio los ordenadores', 'que mala suerte', 'de quien es este auto', 'gracias por la comida', 'por que estudias', 'el no escucho mis suplicas', 'consigueme un doctor', 'ellos estaban atrapados', 'yo dije eso', 'tom es arbitro', 'todos estamos contentos', 'tom no tiene dinero', 'no abras las puertas', 'el llevaba un abrigo azul', 'tom queria ser alto', 'ey tom abre', 'deja la ciudad', 'todos vacilaron', 'hay otra forma', 'yo soy un cobarde', 'tom perdio su paraguas', 'pagare lo mio', 'quien quiere mas cafe', 'estoy esperando', 'tienes', 'la oferta fue rechazada', 'se acabo el recreo', 'alimenta al pajaro', 'deberias quedarte en la cama', 'en eso estamos', 'le abri mi corazon', 'hagamoslo breve', 'que lo causo', 'esas son vuestras opciones', 'el azucar es dulce', 'solo tengo un deseo', 'la mision fue cancelada', 'quieren comer', 'me desgarra interiormente', 'me veo gorda', 'dime que ves', 'no seras el primero', 'quereis bailar', 'no necesito la ayuda de tom', 'puede que hiele la semana que viene', 'eres pesimo para mentir', 'el casi siempre esta en la casa', 'me enfade', 'eres mas alto que yo', 'cierra la boca', 'como se siente', 'bebiste demasiado', 'es esto normal', 'sientate y cierra la boca', 'esta despedido', 'vos la conoces', 'esperaras', 'ellos hablan frances', 'a el le gusta pescar', 'deja de ser metiche', 'tom no es muy sociable', 'que te atormenta', 'el se acosto', 'tom subio la escalera', 'tom ama el arte', 'estoy relativamente seguro', 'debo continuar', 'confia en mi', 'acabo de recibir vuestro mensaje', 'no oi un chapoteo', 'yo no robo', 'lo estamos buscando', 'bebe un monton de agua', 'la cuenta por favor', 'los hombres van a trabajar', 'querias verme', 'tom hablo sobre boston', 'cumplio su palabra', 'mi madre hace tortas', 'apresurate', 'como te fue el examen', 'me voy a dormir', 'mi pasatiempo es cocinar', 'nadie lo entiende', 'vamos responde rapido', 'te fuiste alli', 'nosotros estabamos aca primero', 'tom rento una tabla de nieve', 'tengo problemas de espalda', 'yo soy atento', 'pueden mirar', 'su salario es muy alto', 'tom estaba adentro', 'yo vivo muy cerca de aqui', 'dormi todo el dia', 'lloraba', 'pero yo no tenia miedo', 'cerramos temprano', 'son espias', 'te amo mas que a ella', 'quien mas esta en la lista', 'lleva tu carne de estudiante', 'ahora mismo esta comiendo', 'me duele la garganta', 'tom tiene ahora tres anos', 'esperate', 'solia jugar al tenis', 'nadie murio', 'de quien es esta mochila', 'solo vinieron cincuenta personas', 'que raro', 'sois mis enemigas', 'se como lo puedo hacer', 'me muero del aburrimiento', 'tom vio a mary irse', 'tom vino con maria', 'los resultados estaban claros', 'alguien lo conoce', 'el quiere el dinero', 'alguien te vio', 'quienes son esas mujeres', 'estamos a medio camino', 'te acompano', 'estoy frio y mojado', 'lo abofeteo', 'alguien me siguio', 'tom se bajo de su taburete', 'gane', 'no tengo suficiente ram', 'tomas parecia sorprendido', 'por que tuviste que marcharte', 'tom se preocupa', 'ellos no saben mi nombre', 'ellos siguieron siendo amigos', 'vendemos zumo de naranja', 'el apago la luz', 'tom es mi vecino', 'he perdido mi paraguas', 'puedo tomar prestada su bicicleta', 'quiero quedarme esto', 'acaso es asi', 'el acabara en la carcel', 'tenemos que movernos rapido', 'como puedo encontrar a tom', 'obviamente ire', 'me gusta la luz de las velas', 'es un mal momento', 'yo odio boston', 'me gusta estar solo', 'me he convertido en mujer', 'lo has vuelto a hacer', 'todavia tiene usted mi llave', 'son fotos viejas', 'eso vale', 'eso no es seguro', 'el es muy cuidadoso', 'el le ha dado un libro', 'este es tu libro', 'esto es japon', 'esta comida esta muy salada', 'todavia tenemos tiempo', 'no era de el', 'solo tienes que hacerlo', 'solo es una nina', 'mi aficion es la musica', 'tom dio una paliza a mary', 'lo supongo', 'necesito un lugar donde quedarme', 'le pedi un favor', 'tal vez escriba un libro', 'no pueden culparle', 'deja de sobarme', 'fui a la escuela', 'viene el tren', 'quien es el', 'cumple tus promesas', 'el es un anciano alegre', 'una vaca tiene la cola larga', 'eres idiota', 'por que estuviste en boston', 'hoy es de octubre', 'podemos hablar a solas', 'todo el mundo lo sabia', 'nadie recuerda', 'yo solo hablo frances', 'a tom no le gusta el cerdo', 'tomen un cruasan', 'manana hara bueno', 'puede darme algunos de estos', 'estoy saludable', 'no puede pararla', 'espera', 'hemos discutido esto', 'el abuso de mi confianza', 'tenemos un naranjo', 'tengo un poquito de hambre', 'esa historia suena a cierta', 'queremos ayudarte ahora', 'intente hacer eso', 'preguntaselo', 'cuidado con el perro', 'que me diste', 'no lo veo', 'es guapa', 'donde esta tu ropa', 'quiero leerlo', 'decid la verdad', 'han salido', 'creo que es increible', 'soy guardes', 'quien ha bebido de mi vaso', 'eso es de ayuda', 'estamos de tu lado', 'el no corre', 'nadie puede controlarnos', 'deje la ventana abierta', 'no cedi', 'tom grito', 'esta tierra es su tierra', 'esto es un harpa', 'necesito un momento con vos', 'adoptamos a un nino', 'este es para mi amigo', 'cual es tu tipo de sangre', 'por que dejaste ir a tom', 'tom lo hizo gratis', 'aprecio tus consejos', 'papa no esta en casa', 'estais equivocados', 'fue una trampa', 'tom me golpeo', 'eso sorprendio a tom', 'deberias dormir', 'aqui me bajo yo', 'me gusta planchar', 'cual es tu respuesta', 'tom parece ser pobre', 'tom es mi hijo', 'esos lentes se te ven bien', 'lo leiste todo', 'quedese ahi', 'por favor ven con nosotros', 'no fuimos a ningun lado', 'comere aqui', 'no fui contendiente para tom', 'su padre es alto', 'puedes levantarte', 'ya no me gustas', 'he visto a tom en el trabajo', 'no te desconcentres', 'todavia nos queda tiempo', 'todos se ven cansados', 'tom siguio andando', 'no hay apuro', 'esta casa es mia', 'estuvo chilo', 'el consiguio el balon', 'mama tom me esta pegando', 'somos diabeticos', 'ahora ten paciencia', 'no tengo donde quedarme', 'la cena esta preparada', 'trabajo tanto como tu', 'trae a los otros por favor', 'un leon es un animal', 'tal vez puedo ayudarte', 'tom ganara esta partida', 'estaba segura de que vendriais', 'tienes los sintomas', 'me muero de hambre', 'soy nuevo en la ciudad', 'que es lo que quieres ser', 'a tom se le olvido', 'no soy sordo', 'por que no te vas a casa', 'tiene que quedarse en la cama', 'nunca hice eso antes', 'me mentiste otra vez', 'ten algo mas de paciencia', 'por que no comes', 'te deje un mensaje', 'no puedo aguantar el frio', 'le dije a tom lo que se', 'todos recordaron a tom', 'tom arruino mi vida', 'tom me golpeo mucho', 'donde estabas', 'el se fue', 'nos sentamos junto a tom', 'mi amigo es bilingue', 'tiene diez hijos', 'nos estamos hundiendo', 'me gusta este modelo', 'ella le escucha', 'a esto dedico mi vida', 'tom se esta poniendo inquieto', 'no puedo estar de acuerdo contigo', 'a tom al final se le dio la razon', 'todos vosotros morireis', 'voy a estudiar', 'come mas despacio', 'estoy un poco confuso', 'como esta tu padre', 'cual es el plan tom', 'diles que vengan aqui', 'tom tiene vista', 'tom parece estar muy contento', 'no estabas escuchando', 'los microbios pueden provocar enfermedades', 'tom tiene vecinos ruidosos', 'ellos estan bajo arresto', 'hace calor aqui abajo', 'esto es muy irregular', 'podria llover esta noche', 'quien es el fotografo', 'tom es tartamudo', 'tom fue el que contribuyo', 'gracias amigo mio', 'no como carne de cerdo', 'no tenemos por que apurarnos', 'tom condujo a mary a casa', 'me gusta ganar premios', 'sabe todo', 'su piel es lisa', 'tom murio de viejo', 'yo tengo un resfriado', 'yo voy ahi cada ano', 'ni siquiera los conozco', 'sois felices', 'no tengo adonde ir', 'ella le contrato', 'esta mesa esta hecha a mano', 'tom dice que es inocente', 'ellos parecen aburridos', 'nadar es facil', 'puedo probar tu pan', 'tom solia escribir canciones', 'ellos fueron puestos en prision', 'eres muy inteligente', 'me encanta tu sonrisa', 'eso parece vulgar', 'trae vino', 'me sentia excluido', 'estoy aburrido de boston', 'por que me abandono tom', 'lo sentis', 'no hemos perdido mucho', 'este te es demasiado amargo', 'ella se fue para ese lado', 'que te mejores', 'estas perfectamente', 'eres paciente', 'se parte nuestra', 'dejame llamar a mi abogado', 'estas muy borracho', 'vente a comer con nosotros', 'tom era un nino malo', 'pense que teniamos un trato', 'te estoy molestando', 'el chico huyo', 'se ha ido a america', 'vienes o no', 'tom estaba curioso', 'se quemaron', 'me siento mejor', 'eres divertido', 'el agujero es bastante grande', 'supongo que es posible', 'no consigo hacerlo', 'tengo dinero', 'alguien echaba de menos al perro', 'quiero dinero', 'yo era demasiado pequeno', 'yo puedo ayudar', 'no compre ese libro', 'a menudo vengo aqui', 'tom lo queria de esta manera', 'esto es un libro', 'te duele la garganta', 'cuanto debo pagar', 'esta hecho de hierro', 'nunca le oi mentir', 'tom postulo para una visa', 'quedate tranquilo', 'estas enamorada de tom', 'yo creo en la magia', 'tengo rodilleras', 'me encantan los viajes', 'a tom realmente le gusta mary', 'soy contador', 'no es muy importante', 'por que llamaste a tom', 'lo adoran', 'quien provoco el accidente', 'son una buena tripulacion', 'puedo sentarme a su lado', 'eso es todo lo que ella escribio', 'eso no funciona', 'el no conoce a ninguno de nosotros', 'vayamos y averiguemoslo', 'ese no es el perro de tom', 'vamos juntos', 'tom tiene las manos grandes', 'nos elegiran a ti o a mi', 'cual es la razon', 've a tumbarte', 'sone la campanilla', 'tienen mi palabra', 'estamos yendo a casa', 'el dinero mueve el mundo', 'hablo un poco de frances', 'eso fue brusco', 'lo aprendi yo solo', 'pague unos dolares', 'tom se recibio en', 'a quien le importa', 'te llevare hasta tom', 'el quiere un coche nuevo', 'quedaos aqui con nosotros', 'ahora estoy intentando trabajar', 'ya terminaste', 'no hablamos frances', 'comamos y ya', 'no hemos visto nada', 'lo pasamos bien', 'no desobedezca usted mis ordenes', 'escojan un vestido que les guste', 'eso puede ser peligroso', 'no era una lista larga', 'todo lo que puedes hacer es esperar', 'dejaron de reir', 'tom encontro el bug', 'es como de la familia', 'tom era veloz', 'estan enojados', 'tom no morira', 'no fui a la escuela', 'dejadme ir con vosotros', 'sigo sin verlo', 'queres comprarlo', 'todo el mundo piensa de esa forma', 'tom vive en australia', 'tom sabe que es verdad', 'es un nuevo dia', 'viste eso', 'tom no se va a quedar', 'disfruto de esas visitas', 'lavate la cara', 'por cuanto nos detenemos aqui', 'que haces', 'te gustan los robots', 'como era', 'el es un buen doctor', 'todos los bondis estan llenos', 'toma las llaves de su auto', 'voy a las', 'cepillese los dientes', 'tom no va a escuchar', 'no escuche lo que dijiste', 'no estoy especulando', 'me escondere aqui dentro', 'le pedi que me ayudara', 'quien es usted', 'lo que hizo tom estuvo mal', 'por favor escoja sabiamente', 'no viste eso', 'soy alergico a las zanahorias', 'donde puedo aparcar', 'el esta usando lentes', 'tom es un hombre alto', 'nosotros lo averiguaremos', 'yo escucho eso', 'piensas que estoy de broma', 'tom vivia ahi', 'el clima es muy templado', 'tom escupio', 'tengo que pintarlo', 'no tienes dinero', 'el es actor', 'aca esta la direccion', 'eres repugnante', 'que son estas cosas', 'como un monton de arroz', 'no lo volvere a hacer', 'todas las manzanas estan ahi', 'alguna vez has vendido un coche', 'no puedo detenerla', 'preguntale a tom como esta mary', 'tom puede oirte', 'es muy viejo', 'quiero uno como ese', 'hoy estoy bien', 'no tengo un televisor', 'olvidese de tomas', 'somos serios', 'nosotras la vimos', 'acompane a tom hasta alla', 'tom esta contando una historia', 'que vende usted', 'el aburre a todo el mundo', 'nadie puede detener el tiempo', 'ahora es un hombre', 'el dio una respuesta inmediata', 'estoy feliz de estar viva', 'tom pago el boleto', 'eso es bueno para ti', 'fue imprevisto', 'eso parece sangre', 'conoces a su padre', 'tiene usted dinero', 'barred el suelo por favor', 'yo se lo que implica', 'tom se esta desvistiendo', 'se educada pero firme', 'ya vale de tanto lamento', 'tomas esta avergonzado', 'por que no atendias', 'todos mis problemas han terminado', 'el pajaro esta en su nido', 'me gusta escuchar a la npr', 'estoy bien gracias', 'que dios me perdone', 'quien lo dijo', 'no estoy interesado', 'todas ustedes estan invitadas', 'estaba indefenso', 'tom es timido', 'tom nos mintio', 'esto se ve bien', 'tom llego a casa muy tarde', 'asumi que eras feliz', 'el se sento junto a ella', 'tiene movil', 'este es un libro tremendamente viejo', 'te gusta la macedonia', 'que es todo este ruido', 'necesitamos un traductor', 'no chilles', 'eso me parece correcto', 'tom le pago al cajero', 'hasta un nino lo sabe', 'no hicimos nada', 'tom deberia ganar', 'se que tom esta agotado', 'no me molestes', 'estoy pensando', 'eso no es lo que yo oigo', 'todos siguieron trabajando', 'entra ya', 'te estas escondiendo de tom', 'no es problema nuestro', 'donde estan las ninas', 'estad preparados', 'quisiera una talla mediana', 'ves lo que quiero decir', 'aqui hay un libro', 'gira a la derecha', 'es esa tuya', 'el lleva puesto lentes', 'puedo conseguir que te despidan', 'tenemos comida suficiente ahora', 'todos observaron', 'seamos creativos', 'que bueno verte tom', 'el cavo un agujero', 'estamos listos para partir', 'no puedo confiar en vosotros', 'no habia nadie presente', 'recuerdalo', 'estoy de vuelta en boston', 'yo necesite ayuda', 'eras arrogante', 'europa no es un pais', 'la historia se difundio', 'dame solo un minuto', 'no soy capaz de encontrar lo que quiero', 'conoces a esta dama', 'tomas vende cafe', 'el semaforo se puso rojo', 'ellos no son una amenaza', 'el sabe hablar japones', 'tom beso a su prima', 'que estas comiendo', 'tienes miel', 'dispare a tom', 'esto es totalmente legal', 'no se como cocinar', 'son las', 'eso es bastante absurdo', 'mis labios estan sellados', 'tienes que probarlo', 'me dejaron ir', 'necesitamos ganar', 'me puedo probar esta chaqueta', 'es mi tio', 'tranquilo', 'hay otro obstaculo', 'tengo todo', 'no comencemos una pelea', 'omite esta palabra', 'esto es tan emocionante', 'tengo otra pregunta', 'solo necesitaba algo de espacio', 'estoy totalmente de acuerdo', 'lo queremos de vuelta', 'me da tristeza escucharlo', 'acabo de enterarme', 'tomas se avergonzo', 'donde esta mi bolso', 'a tom verdaderamente le apasionaba', 'ella estaba alli sola', 'no lo hagas tom', 'tom bajo del taxi', 'merezco la felicidad', 'voy a la tasca', 'ya estoy harto', 'menudo jaleo', 'es una llama', 'tom es el tio de mary', 'ella entiende de musica', 'el ha escrito dos libros', 'no puedes ser medico', 'el sol derritio la nieve', 'yo podria matarla', 'quereis una naranja', 'los resfriados son contagiosos', 'no te muevas', 'ella tiene un gato blanco', 'tom se come los rabanos crudos', 'estan en lo cierto', 'estamos observando', 'toma unos dias libres', 'veamonos a las dos y media', 'se agradable', 'nos encanta el sistema', 'en que camino queda la playa', 'se esfumaron sus esperanzas', 'practico judo', 'dame un pedazo de papel', 'tom jalo el gatillo', 'por que fue despedido tom del trabajo', 'yo se por que tom esta ocupado', 'no te vuelvas a dormir', 'tom firmo un adc', 'me lo pase muy bien', 'me quede sin bencina', 'y si os equivocais', 'devolvio el dinero', 'defiendete', 'tenemos que avisarle', 'el ya volvio', 'el lleva un diario', 'me sorprendi de verdad', 'mary es una muchacha maja', 'odio ese ruido', 'tambien me gustan los pasteles', 'el dinero mueve el mundo', 'unas pocas de estas son mias', 'dame tu direccion', 'eso no es un hospital', 'yo tambien se montar a caballo', 'pon buena cara', 'donde esta el correo', 'esta es su casa', 'aun no es medianoche', 'decidmelo', 'dame tu opinion', 'era de tom', 'puedes nadar por debajo del agua', 'detesto bailar', 'permanecimos callados', 'cuidado con el perro', 'lo sabiamos', 'moriria por tom', 'tom respeta mucho a mary', 'ella llevo una vida feliz', 'calla y come', 'nos levantamos temprano', 'voy a detener a tom', 'eres el responsable aqui', 'no se puede detener a tom', 'ella canto muy bien', 'tom y yo nos vimos el lunes', 'tom es libre', 'ahora deberias irte a casa', 'un momento', 'no puedo hacer otra cosa', 'no toco el piano', 'usted se puede retirar ahora caballero', 'la escuela comienza el lunes', 'como puedo yo pagar', 'eso no puede ser verdad', 'tienes tiempo', 'tom es agresivo', 'quiere comer', 'hace buen tiempo', 'por favor poneos en fila', 'puede que no venga', 'ponle seguro a la puerta por favor', 'no me despidieron renuncie', 'son nuestros amigos', 'intentad no preocuparos', 'abrazaron a tom', 'yo os podria matar', 'no soy un hombre paciente', 'todo estaba listo', 'esto me pone tan mal', 'localiza a tu madre', 'se que esta caliente', 'escondamonos', 'estoy orgulloso de mi hermano', 'esta escena me encanta', 'confese', 'fue una gran sorpresa', 'no la conocemos', 'donde esta la oficina de tom', 'no les gusto', 'cuanto es esto', 'todavia estas en el trabajo', 'ellos son mis viejos amigos', 'se me cayo mi manzana', 'los gatos me fascinan', 'ella nacio el ano pasado', 'la frontera esta cerrada', 'vemos con los ojos', 'no entrar', 'usted lo hizo lo mejor que pudo', 'por que lo he hecho', 'ustedes son actrices', 'puedo prender el televisor', 'yo estaba fuera', 'lo hice por vos', 'yo no puedo hablar en frances', 'ellos elevaron un globo', 'el es rico', 'el se ha hecho rico', 'es un monton', 'por favor deme algo de beber', 'ese nudo esta flojo', 'todavia es posible', 'tom no es un gemelo', 'ven aqui cerca tom', 'eso no es nada nuevo', 'repita despues de mi por favor', 'deja que lo sienta', 'esto es asqueroso', 'por que no estas en casa', 'no le temo a la muerte', 'yo perdi un arete', 'reconocieron a tom', 'yo bebi de la canilla', 'quien es tom por cierto', 'se que esto no es facil', 'el estaba decepcionado', 'tenes miel', 'que planea hacer', 'espera', 'te queremos', 'no se quebro', 'el tiene once hijos', 'por que no nos escondemos aqui', 'de pronto el se detuvo', 'estamos recien casados', 'tom esta comodo', 'te acuerdas de nosotros', 'donde esta la llave', 'tom se rompio la nariz', 'yo tengo el doble de tu edad', 'llenalo por favor', 'tomas dijo que no habia visto nada', 'la pelicula esta clasificada como x', 'es demasiado caro', 'cuanto jabon necesitamos', 'todos los odian', 'esto es para usted', 'estoy a su disposicion', 'gane el primer premio', 'tom deberia disculparse', 'me olvide de llamarte', 'salieron victoriosos', 'te molestan las serpientes', 'viene alguien', 'voy a hacer algunas llamadas', 'eres arrogante', 'caminaban dos lado a lado', 'mi reloj es preciso', 'tom sabe tocar oboe', 'mira estoy un poco ocupado', 'tom termino con maria', 'alejate', 'tom dijo buenas noches', 'yo no conozco a esta senora', 'a tom le esta creciendo el pelo', 'festejamos toda la noche', 'ella acaba de salir', 'por que esta tom en casa', 'encuentro eso fascinante', 'ella es conocida a lo ancho', 'necesitamos mas cerveza', 'sabemos como hacerlo', 'no me importa si hace calor', 'ellos se acordaran', 'acaso estaba hablando contigo', 'ella sabe patinar', 'me sentia solo', 'describase a si mismo', 'es una gran idea', 'tom estaba en urgencias', 'intenta centrarte', 'me encanta la cerveza', 'espera por mi aqui', 'las miradas se cruzaron', 'por favor no llores', 'la television estaba encendida', 'tom nunca te amo', 'le compre una corbata', 'pongalo alli', 'por supuesto que tomas esta equivocado', 'tiene una pinta exquisita', 'eso fue un pesimo truco', 'necesito mis gafas', 'la queria de verdad', 'el vende whisky', 'todavia no estamos en primavera', 'esta bien', 'que comiste tu', 'esta totalmente desnudo', 'es grande tom', 'venceremos', 'tom nos cocina', 'solo la use una vez', 'el es mi padrastro', 'la abrace', 'es verdad', 'los mataron a ambos', 'come donde quieras', 'limitate a subir por aqui', 'estoy muy avergonzado', 'cubrete las piernas', 'este lapicero es mio', 'puedes hacerlo', 'va usted a pagar al contado', 'me arruinaron la vida', 'dispare', 'tom esta despierto', 'prefiero el tiempo mas caluroso', 'el se acaba de ir', 'quien es mi profesor', 'esto sera doloroso', 'a el le gusto eso', 'no va a nevar', 'que grande eres', 'me siento adormilado', 'quien mas lo sabe', 'el me pidio ayuda', 'acaso dijiste treinta', 'vinimos a pedir perdon', 'acaso el mundo se ha vuelto loco', 'el prueba', 'jugo de naranja por favor', 'pidele a tom que no vaya ahi', 'estaba dando un paseo', 'vamos a charlar', 'ven aqui ahora mismo', 'el ahorro mucho dinero', 'renuncie', 'tom no esta listo todavia', 'tom se oculto detras de la puerta', 'esta es la habitacion', 'tom estaba mirando la cnn', 'tom esta estornudando', 'tenia que decir algo', 'acabo de volver a la ciudad', 'manana me encontrare con el', 'eso es de tom', 'no hay respuesta correcta', 'me he cortado', 'el es todavia joven', 'cuando duermen las lechuzas', 'esta sonando el telefono', 'no hice nada malo', 'tom dira la verdad', 'tom toco su violin', 'tom pago con tarjeta de credito', 'me hacia reir mucho', 'por supuesto que tomas esta en lo cierto', 'utilizad este', 'lo heriste', 'espera', 'la puerta esta atascada', 'supongo que tenias razon', 'vale nos vemos manana', 'tom y yo nos abrazamos', 'digalo fuerte', 'hare lo que quiera', 'odio la opera', 'no lo he olvidado', 'recibi una llamada de el', 'gracias por llamar', 'simplemente no lo se', 'que te hace pensar asi', 'usted lo puede poner ahi', 'por que no lo estas usando', 'soy profesor de japones', 'hoy no tengo plata', 'se sento en el banco', 'tom dono sangre', 'no me hagas reir', 'ella es su verdadera madre', 'toca el claxon', 'tambien me gusta la pintura', 'manana ayudare a tom', 'eso sera divertido', 'trabajas mucho', 'aflojala', 'prestad atencion por favor', 'ella habla ingles', 'deja de sonar', 'mi frances es malo', 'no seas malo', 'que notas', 'termine de comer', 'el tiempo se esta agotando', 'perro ladrador poco mordedor', 'quiero advertirte', 'sabes por que estoy aqui', 'mary es una esposa trofeo', 'quedaos sentadas por favor', 'tiene mucho dinero', 'es una distraccion', 'tom es anorexico', 'como se llamaba el chico', 'las ovejas comen pasto', 'ella lo echo a el', 'tom estaba disponible', 'solo tengo unos pocos libros', 'estoy orgulloso de mi hijo', 'yo debo verlo', 'tom nos engano a todos', 'este bolso es mio', 'lo que dices es cierto', 'digame mas', 'tom luce bastante molesto', 'emiti un juicio precipitado', 'declaramos la guerra', 'estan tratando de ayudar', 'ella esta a punto de partir', 'tom tiene razon', 'han sido advertidos', 'esto me basta', 'todos se enfermaron', 'me lo puede explicar', 'nos cambiamos', 'la pelicula me gusto', 'hacia mucho frio', 'estabas sola', 'lo viste', 'soy racional', 'he olvidado su nombre', 'es interesante', 'no le vi', 'intentemos algo', 'acepto tus disculpas', 'quieres que te traiga un cafe', 'solo tira de la cadena', 'mi amigo tiene diecisiete anos', 'sos el mejor', 'hoy hace sol', 'te duele el brazo', 'es solo un juego', 'nosotros no teniamos secretos', 'tom ama a los perros', 'no te enojes', 'el lo pateo', 'me gusta trabajar', 'conozco bien boston', 'no seas tonto', 'tenes novia', 'os veo a eso de las', 'recibi un correo electronico raro', 'me encanta el frances', 'mi tio maneja un hotel', 'no puedo creerlo', 'estaban todos', 'estuviste en coma', 'fue un contratiempo', 'las clases empiezan a las', 'tom no comio mucho', 'cierra tu libro', 'tom usa lentes', 'estoy calificado', 'que ocurre', 'no es suficiente', 'tom tiene dos novias', 'todos pagaron', 'es hora de que me vaya', 'mary era una camarera', 'yo supongo que te gusta el', 'tom me permitio ir', 'lo hizo sin malicia', 'hable un poco mas alto', 'empecemos en la pagina', 'su libro estaba al reves', 'nosotros creemos en dios', 'tom ha muerto', 'esa solo es una excusa', 'no puedo quejarme', 'es un fanatico', 'saldria', 'he ido a lavarme las manos', 'no dijo nada', 'estuve a punto de rendirme', 'tom no aprobo', 'ahora estoy en el trabajo', 'esta muy hambriento', 'voy a ir a clase', 'yo no era una buena madre', 'cuantos anos tienen los ninos', 'el sabe jugar al beisbol', 'tom estaba profundamente dormido', 'tomas parecia timido', 'juegas golf', 'aun no confio en tom', 'yo jugare con vosotras', 'eso parece sospechoso', 'tom es ambidiestro', 'a menudo jugamos al ajedrez', 'aquella es mi mujer', 'ponte en contacto con tom', 'se disparo la escopeta', 'tengo que estudiar matematicas', 'compro un ordenador', 'quien se quedo', 'puedes hacer eso de nuevo', 'miradlo', 'todo tiene un proposito', 'damelos', 'cebe el anzuelo', 'este perro corre rapido', 'pasenla bien', 'el la queria muchisimo', 'que justifica esto', 'por que deberia interferir', 'era negro', 'me encantan los gatos', 'soy maderero', 'quien pidio pizza', 'quedate ahi', 'di que me amas', 'que te parece el proximo sabado', 'fue ella la que me lo dijo', 'salio del coche', 'cerrad los ojos', 'no podemos retirarnos ahora', 'bajen sus lapices', 'haga lo que quiera', 'tom estara aburrido como una ostra', 'ahora ella esta en peligro', 'el es pequeno y debil', 'tom nunca ha estado enfermo', 'usted no tiene calor', 'tom esta delgaducho', 'ella ceno', 'tom tiene mal aliento', 'eres un periodista', 'tuvimos una navegacion dificil', 'soy muy timido', 'te llamo luego', 'reflexiona antes de actuar', 'he sido muy rapida en juzgarte', 'mira de cerca', 'que lastima', 'todo anduvo bien', 'te veo en el almuerzo', 'estaba desnudo', 'llegue aqui antes que tu', 'no tengo enemigos', 'quien va primero', 'la mujer de tomas es abogada', 'que dijo', 'cuando empieza', 'no eres japonesa', 'todos aman a los titeres', 'me gusta andar en tren', 'esa es nuestra casa', 'es lo que el dice', 'espero que no estes solo', 'yo conduzco ahora', 'cierrala', 'esto es solo para vosotros', 'tengo que ir', 'toma el control', 'el perro esta jadeando', 'ella vino con buenas noticias', 'adonde vas', 'identifiquese', 'tom no confia en nosotros', 'tom es mi unico hijo', 'eso es frances', 'quien haria eso', 'yo gane', 'se mas preciso', 'el y yo somos profesores', 'cual es tu cerveza', 'eso no es un insulto', 'hablame acerca de tu plan', 'estoy haciendo guacamole', 'nosotros comimos sopa de papa', 'mi mujer es canadiense', 'tom esta relajado', 'el se volvio muy peligroso', 'fue una boda bonita', 'tom es realmente molesto', 'cuantos murieron', 'yo traere el almuerzo', 'hablais de nosotras', 'sabes programar en c', 'soy muy afortunado', 'mejor empiezas ya', 'no era gracioso', 'no me preocupo por tom', 'me gusta la escritura', 'sus padres estaban furiosos', 'trabajo para mcdonalds', 'no tengo hermana', 'tom es perverso', 'meteos en vuestros asuntos', 'no tengo una espada', 'nadie vino a ayudarme', 'yo escucho musica', 'donde esta la comida', 'lo haremos manana', 'tom se detuvo', 'tom compro un periodico', 'quien escribio hamlet', 'cuanto pagaste', 'el policia estaba borracho', 'quiero olvidarla', 'ahora estoy preparado para irme', 'los osos hibernan', 'alguien nos espia', 'el se levanta a las', 'mi camisa no es marron', 'huye', 'nadie jamas lo elogio', 'sonreid', 'cogi prestado un coche', 'que mas necesitas', 'tom nunca usa corbata', 'sos muy inteligente', 'le llamaste', 'eras mio', 'hasta mi mama sabe', 'me gustaria quedarme de pie', 'necesito decir adios', 'no abras esas ventanas', 'tengo cuarenta anos', 'los ninos son vulnerables', 'por quien deberia votar', 'esta interfiriendo', 'volvio a casa a las diez', 'te veiamos', 'necesito recuperarlos', 'tom no esta entusiasmado', 'hice algo similar', 'ellos viven en esta ciudad', 'forma dos filas', 'prometi', 'vamos levantate', 'trate de ser romantica', 'ella respondio inclinando la cabeza', 'quiero un descuento', 'ella lo observo comer', 'vete cuando quieras', 'el aprende rapido', 'lucharemos hasta el final', 'tom se ha dado a la fuga', 'aguanta', 'todo el mundo llora', 'yo tenia tres perros', 'cierra el cajon', 'mary es una mujer fuerte', 'tom es un lacroso', 'escribi eso para tom', 'podemos marcharnos', 'quien os vio', 'me ataron', 'ellos estan vacios', 'tom tiene acento frances', 'no seas timida', 'me gusta mi trabajo', 'me equivoque al contestar', 'tom es malvado', 'tomas espero', 'el es tan lindo', 'por favor dense las manos', 'esto esta roto', 'nos gusta la opera', 'donde estan mis ninos', 'voy a la cantina', 'estara listo pronto', 'parece un ciervo', 'eso lo puede hacer cualquiera', 'estoy emocionalmente agotado', 'no eres la unica', 'debe de tener mas de cincuenta anos', 'las ranas comen moscas', 'sois hermanos', 'es cuestion de tiempo', 'ella bailo con el', 'yo no bebi esa leche', 'tom esta haciendo progresos', 'murio anoche', 'hablame', 'no abra la puerta', 'dame la espada', 'tom le presto un libro a mary', 'nadie esta por encima de la ley', 'orale', 'a tom no le gusta el cafe', 'como estuvo tu verano', 'aqui esta el', 'donde vamos despues', 'te gusta la lluvia', 'los vere a las seis', 'halle facil el juego', 'practiquemos', 'no quiero morir aqui', 'ya se como termina', 'nosotros no hicimos eso', 'encontrare otro trabajo', 'me voy a ir', 'mary plancho su falda', 'ire a buscar a tom', 'esa fue una decision estupenda', 'inspirad', 'ya habeis terminado', 'le gusta perder', 'sos inservible', 'no creo que este gordo', 'me quede dormido', 'tiene la misma edad que yo', 'tu libro esta aqui', 'me encargare de ello inmediatamente', 'ella lo adora', 'ellos se estan escapando', 'me encontre en el camino con tom', 'intercambiaron saludos', 'no estas solo', 'tom esta viendo la tele', 'la puerta no abre', 'es un trabajo muy dificil', 'estan ocupados', 'me escapaba', 'tom desenchufo la plancha', 'di siempre la verdad', 'tengo dolor de estomago', 'es una situacion fea', 'lo hicieron ellos', 'todo fue un sueno', 'ya estoy preparada', 'me pica el bagre', 'elija una persona', 'el escribe guiones', 'estoy chorreando', 'creo que no entendi bien', 'huia', 'de que color es tu cuarto', 'no estoy comiendo', 'tom a menudo ayuda a otros', 'ahora no estamos en situacion de peligro', 'no puedes confiar en tom', 'soy ciega', 'la mermelada viene en un frasco', 'hacia frio', 'casi nunca estoy en casa', 'estas en peligro', 'protesto se admite', 'eso ya lo se', 'por que no eres feliz', 'necesito un milagro', 'pueden entregarmelo de vuelta ahora', 'tom es golfista', 'el aun sigue vivo', 'los examenes empiezan la semana que viene', 'necesitas hablar con tom', 'mi mandibula me duele', 'ella hizo sola el trabajo', 'tom es el novio de mary', 'trabaje en una granja', 'no lo uso', 'te castigaran', 'estas son buenas noticias', 'simplemente dejame probar', 'el se pasa quejando', 'la casa esta ardiendo', 'tengo curiosidad', 'cocine la cena', 'las cosas pasan', 'puede que vuelvan', 'prestame atencion', 'la carne esta congelada', 'ella decidio dimitir', 'tengo pesadillas frecuentemente', 'tom ensena frances', 'ese es un viejo sombrero', 'todavia estoy levantado', 'yo la conozco bien', 'tengo que saber', 'estas detenido', 'esto trabaja', 'por que es nuestro problema', 'haria casi cualquier cosa', 'estaba esperando una respuesta', 'es esto bueno', 'lo he hecho yo', 'podria suceder', 'ella le hizo un traje nuevo', 'nadie te creyo', 'cuando volveras', 'la noticia le hizo feliz', 'tom come como un caballo', 'viene con comidas', 'la ballena es un mamifero', 'quien es ese', 'odio a mi hermana', 'esto es lo que necesito', 'no te pierdas', 'estoy lleno', 'dejame salir', 'de donde sos', 'el reloj esta adelantado', 'tom se volvio sospechoso', 'te acuerdas de su nombre', 'a tom le encantan los ninos', 'es eso bueno o malo', 'yo tambien tengo prueba hoy', 'vas a salir manana', 'las mujeres lo adoraban', 'no hay forma de ganar', 'tom es un fundamentalista', 'tom dejo de limpiar', 'no puedes hacer esto', 'estas indefenso', 'son inmensas', 'el lo volvio a repetir', 'el vino', 'espere aqui por favor', 'obramos de buena fe', 'yo estaba ausente', 'es en serio', 'eso es hablar de la mar', 'agarrate a la cuerda', 'esa fabrica hace juguetes', 'estamos organizados', 'hice ejercicio', 'tom es un buen chico', 'tom ya ha tenido mas de la cuenta', 'vivi en boston una vez', 'te echo mucho de menos', 'yo soy dueno de un yate', 'quien ayudo a tom', 'no hay ninguna esperanza', 'sirveme lo de siempre', 'se esto', 'es muy obvio', 'hoy es cinco de marzo', 'es cosa de dos', 'describidmelo', 'esta estufa quema aceite', 'prueben esto', 'los dragones son guay', 'cuanto tiempo duro', 'tiraselo a tom', 'traigo vino', 'hay algo que yo pueda hacer', 'puedes prender el televisor', 'ahorrate tu aliento', 'tom es mi jefe', 'queda uno', 'necesito mas espacio', 'tienes que ser sincero', 'el no te hara ningun dano', 'es obvio que es una mentira', 'ustedes dos estaban borrachos', 'estaran bien', 'ella me dijo su secreto', 'esta casi acabado', 'te lo dejare a ti', 'haz que tom te ayude', 'me conocen', 'me lave las manos', 'da gusto estar solo', 'no tengo nada que hacer', 'esto es legal', 'disfruto la soledad', 'que comieron', 'ven y mira', 'eres una chica linda', 'a nadie le gustan los listillos', 'ella lo apaleo hasta la muerte', 'somos culturistas', 'vamos a ir', 'ustedes necesitan mas practica', 'tom es muy sarcastico', 'eres una buena persona', 'cuando vuelves a casa', 'ella ha llegado la ultima', 'quiero divorciarme', 'no hay nadie como tu', 'tenemos que contarselo', 'pare para fumar', 'el corrio un gran riesgo', 'como pudiste hacerlo', 'ellos son muy peligrosos', 'queremos mas plata', 'tomare jugo', 'despierta', 'estoy comodo con esto', 'el verano se acabo', 'tom parecia disgustado', 'cruzo el rio', 'no peleabamos', 'asisti a su funeral', 'estoy tan lleno', 'tiene usted un libro', 'mis padres estan muertos', 'tengo algo para tom', 'lee tu libro', 'a que hora es el almuerzo', 'cometelo', 'muera el rey', 'eso le pertenece a el', 'mi esposo esta en el trabajo', 'me fui a casa corriendo', 'el hizo un testamento el ano pasado', 'nos dimos la mano', 'tom esta bien', 'estas escondiendo algo', 'ella no es alta', 'mi abuela esta enferma', 'tom ha enloquecido', 'intenta tranquilizarte', 'es un buen trato', 'salvaron a todos', 'me lo se de memoria', 'mandale saludos a tomas de mi parte', 'estoy con un cliente', 'a el le gusta leer libros', 'es esta tu cartera', 'esperanos', 'oye no vayais', 'tom dejo de fumar', 'esperame despierto', 'este es nuestro legado', 'que es tan gracioso', 'esta vibrando', 'he perdido la llave', 'no te recuerdo', 'a que no me pillas', 'caigo bien a la gente', 'son muy inteligentes', 'puedes hacerlo tu solo', 'quien me acompanara', 'el salio', 'hay algo aca', 'esta muy lejos boston', 'por favor ensename frances', 'sabes quien era el', 'dejame ir solo', 'no me gusta el silencio', 'maria es una nina buena', 'me agarre un resfriado', 'tom desayuno', 'puedes preparar una comida', 'mi padre esta en casa', 'necesito ver a mi familia', 'pudieramos olvidarnos de ese asunto', 'cuentame la historia de tu vida', 'tuve que levantarme temprano', 'ahora tienes hambre', 'solo tengo una hasta ahora', 'oremos', 'llegare a casa el lunes', 'el es un nino travieso', 'cante', 'sabes que no bailo', 'donde esta mi billetera', 'esta muerta', 'estate lejos de mi', 'mantente abrigado', 'le gusta dormir', 'me duele el brazo', 'no se nadar', 'que patetico', 'tom queria ayudar a mary', 'tom esta de servicio', 'me siento mal', 'ellos son vuestros', 'ese era tu plan', 'vayamos a nadar', 'tengo trescientos dolares', 'estoy viviendo en boston', 'esto es carcinogeno', 'tom esta ordenando su habitacion', 'apuesto a que nadie tiene sueno', 'se que es mi billete', 'tom le echo un vistazo a las imagenes', 'todas las chicas aman a tom', 'he recibido tu carta', 'toma el mio', 'tom esta enamorado de ti', 'trata de pensar al respecto', 'eres bueno con los ninos', 'tomas esta viniendo', 'que hay frente a ti', 'la comida era muy buena', 'siempre he admirado a tom', 'el llego demasiado pronto', 'no cedio en su empeno', 'tom fue extraordinariio', 'averigue donde esta ella', 'tom se apoyo en su baston', 'deja de intentarlo', 'no es demasiado profundo', 'tom es un muchacho muy listo', 'tom esta listo para pelear', 'era nuestro secreto', 'tom paso a la clandestinidad', 'las matematicas son realmente dificiles', 'es el turno de tom', 'el problema es suyo', 'ella es agresiva', 'se que a las chicas les gusta', 'tu pollera es muy corta', 'es casi mediodia', 'tengo un sueno secreto', 'tom esta ahora en su habitacion', 'esto se esta poniendo dificil', 'las encontre', 'necesito descansar ahora', 'mary es una chica maja', 'se quedo despierta toda la noche', 'tom reparo la valla', 'me senti muy solo', 'saben como te llamas', 'el vive en tokio', 'vosotros teneis muchas amigas', 'preguntame cualquier cosa', 'el show debe continuar', 'esa bufanda me encanta', 'tienes hasta medianoche', 'esta listo', 'yo creo que los fantasmas existen', 'no es capaz de decir una mentira', 'es una buena idea', 'desayune a las siete y media de la manana', 'esto es una buena idea', 'nunca tuve un empleo fijo', 'lo sentimos tom', 'a quien escogemos', 'cumplio ochenta y uno', 'no quiero el anillo', 'ganamos la lucha', 'tom volvio afuera', 'el compro un auto nuevo', 'no estoy muerto', 'tom compro una pistola', 'tom se dejo crecer la barba', 'piensa en ellos', 'su nombre real es tom', 'nadie dijo nada', 'cookie es mi perro', 'el precio es razonable', 'le vi', 'no es algo bueno', 'solo robe unas pocas monedas', 'me estas bromeando', 'abri la caja fuerte', 'cual es mejor', 'solo estoy haciendo lo mejor que puedo', 'esto esta bien', 'te estoy lastimando', 'me va genial', 'quien esta mirando', 'ella le hizo un hombre', 'buena suerte con convencerlo', 'bienvenida a mi hogar', 'tom llega hoy', 'me alcanzaron', 'este auto es nuevo', 'tienes que decirnoslo', 'tom tranquilizo a mary', 'tom es un principiante', 'tom necesitaba esperanza', 'eres electricista', 'no mires hacia arriba', 'donde lo encontraste', 'lea estas instrucciones', 'no hace frio', 'estoy cansado de manejar', 'es un culturista', 'nadie sabra', 'eso no es suficiente', 'nadie quiere a tom', 'tom admitio haber mentido', 'le encanta pescar', 'le pico una abeja', 'nunca habia notado eso', 'el trabajo duro', 'tengo una mujer canadiense', 'me encanta viajar solo', 'el dolor ha desaparecido', 'viene una tormenta', 'es hora de irte a la cama', 'tom vino conmigo', 've a cambiarte', 'no les quedan excusas', 'estoy preocupado por ti', 'estabamos bromeando', 'me puse nostalgico', 'de verdad me gustaria ayudar', 'esto no es caro', 'tu estas al mando', 'tom es una persona sincera', 'se pego en la rodilla', 'ayer hacia frio', 'acaso eres sordo', 'a ti te habria gustado', 'tom esta aprendiendo frances', 'te sientes enfermo', 'lo escondere en cualquier lugar', 'como salieron las cosas', 'orale', 'lo lamento por tu hijo', 'frecuentemente me siento deprimido', 'tenemos bastante', 'nadie hablo conmigo', 'habla despacio por favor', 'siempre me levanto pronto', 'el le aconsejo que no fuera', 'tom no esta en su oficina', 'no lo escuches', 'mi tio esta enfadado', 'tom le envio un mensaje a mary', 'estoy descalzo', 'pareces tener recursos', 'culpas a tom', 'soy bastante resistente', 'tengo algo de comer', 'como va tu trabajo', 'de verdad tom bailo', 'lo sabran', 'fui a esa fiesta', 'el es un numero primo', 'prometio', 'son idiotas', 'yo no te colgue', 'el esta respirando', 'que es esa cosa', 'eso no es una solucion', 'lo recuerdas', 'cerra la heladera por favor', 'tom hizo nadar a mary', 'no tengas tanta prisa', 'tenemos algo', 'tienes dudas', 'por que no se detuvo tom', 'todos sobrevivieron', 'lo se con seguridad', 'toma el dinero y corre', 'ella tiene una muneca bonita', 'soy el primero', 'te estas sonriendo de nuevo', 'abandonamos el plan', 'tom estas dormido', 'ella quiere abrazarlo', 'por favor contestame', 'el tiene otro hijo', 'necesito cafe', 'eso es lo que crees', 'tomas no estaba en su casa solo', 'el es fuerte como un toro', 'tom asintio', 'no temia la muerte', 'eres irresistible', 'tom es nuestro invitado', 'estuve sentado alli', 'supongo que tuve suerte', 'tom te quiere', 'tomas es imparable', 'tom esta estudiando mucho', 'gracias por invitarme', 'dejeme entrar', 'tuve una manana ocupada', 'estoy debil', 'tengo cagalera', 'firme aqui', 'dije que no tenia hambre', 'tengo lo que necesitaba', 'eres nervioso', 'como es tom', 'que espera', 'puedo verte', 'ellos te vieron', 'no puedes simplemente arreglarlo', 'echamos azucar en nuestro te', 'eres el lider', 'por ahi haga el favor', 'puede que ella venga manana', 'vendemos frutas', 'corramos ese azar', 'tiralo abajo', 'la guerra estallo', 'ella puede coser muy bien', 'estoy tan devastado', 'no me gusta la primavera', 'usted tiene vino', 'no los compre', 'me permite que le interrumpa', 'necesito hablar dos palabras con usted', 'como es el agua aqui', 'tomas esta planchando camisas', 'y esa cara tan larga', 'ha llovido durante toda la noche', 'las ciruelas no estaban maduras', 'no me gusta este lugar', 'que aburrimiento', 'le pedi un favor', 'tom nunca viste de rojo', 'por favor adopten este cachorrito', 'tom es medico ahora', 'esto es un libro', 'tom alquilo una tabla de snowboard', 'me ayudarias por favor', 'tome leche', 'voy a una autoescuela', 'decile a tom que lo amo', 'tengo formacion', 'pareces un turista', 'ya veras', 'agarra la barandilla', 'te perderas', 'yo no creo que sea justo', 'me echas de menos', 'estoy mejorando', 'no sos gordo', 'tom no tolera a mary', 'tom fallecio el lunes', 'eres golfista', 'tom me comprende', 'dale a tom la pistola', 'esta roto', 'tom es divorciado', 'pido disculpas por eso', 'estoy emocionada', 'hace mas calor adentro', 'coge alguno', 'ojala fuera capaz de nadar', 'soy muy gordo', 'tom es poliglota', 'y a mi que', 'no me gustan los pepinos', 'sabes latin', 'ella estaba enojada con su hijo', 'tom esta alli solo', 'es inteligente', 'eso es peligroso', 'dejame que lo haga', 'compre el libro', 'quien te ensena frances', 'ellos tenian miedo', 'leere el libro', 'bueno hasta luego', 'solo es un sueno', 'me maree de repente', 'el es su propio amo', 'que dia es hoy', 'dame solo un minuto', 'todos estan muertos', 'mejor no vayas', 'no puedo culparte', 'tom estaba muy enfermo', 'buscaba a tom', 'eso me valdra', 'la cortina se prendio en llamas', 'haz tu propio trabajo', 'luzco bien', 'sus espadas chocaron', 'ella quiere besarlo', 'los buenos estudiantes estudian mucho', 'eso se ve hortera', 'relajemonos', 'acostumbrate tom', 'espera ahi', 'nunca hago trampas', 'este boton esta suelto', 'actua', 'no has iniciado sesion', 'el desempleo esta aumentando', 'contactame manana', 'seamos objetivos', 'eres tremendo', 'detesto a tom', 'maria es rara', 'tom es un buen rapero', 'voy a ir a boston', 'estaba delicioso', 'tom no esta en el hotel', 'mi hermano debe de estar enfermo', 'vienes aqui con frecuencia', 'no me gusta el sushi', 'a tom lo agarraron en una mentira', 'dejame hablar a mi', 'debo hablar contigo', 'el aire esta reseco', 'quieres un recorte', 'tienes dinero', 'tom me recuerda a john', 'somos los amigos de tom', 'parece un huevo', 'el tenia un perro', 'quien quiere un poco de torta', 'tom sabe mantener un secreto', 'habia dos pasteles', 'le diste un beso de despedida a tom', 'que quieres decir', 'tom quiere mucho mas', 'nadie puede pararme', 'el estaba muy viejo y enfermo', 'esto es eneldo', 'tengo las puntas abiertas', 'ayudame a salir', 'has estado alguna vez en television', 'el le hizo una repisa', 'tom casualmente se encogio de hombros', 'estamos listos para continuar', 'me gustan los chistes de tom', 'ellos empezaron a pelear', 'estate quieto ahi', 'ven a sentarte con nosotros', 'he sido agredido', 'no queria perder', 'el hombre tiene razon', 'el gato capturo a las ratas', 'no puede sentarse conmigo', 'invita a quien sea que quieras', 'se que mentiste', 'es una firma acreditada', 'esta creciendo', 'estudiaras manana', 'estas borracho', 'encontre un trabajo', 'todavia estoy aqui', 'abri la boca', 'tomen notas', 'tenemos que pagar impuestos', 'yo vivo con mis padres', 'cierra la puerta', 'ven temprano', 'nunca lo dire', 'me gusta escribir', 'estoy aprendiendo frances ahora', 'no tires la toalla', 'estamos muy orgullosas de ti', 'tom odia los secretos', 'usted es budista', 'digame donde vive', 'dile a tu amigo que se vaya', 'mi pulso es debil', 'se esquiar', 'no estabamos preparados para ello', 'que supermercado tan grande', 'podrias estar en peligro', 'la apuesta esta echada', 'la vida es hermosa', 'pareces cansada', 'alguien la ha liado', 'el rara vez fue ahi', 'yo estaba de acuerdo con su plan', 'ella me enseno su habitacion', 'les encanta esta cancion', 'todo parecia bien', 'encontraron esto', 'no era amor verdadero', 'tom estaba triste y solo', 'tom sabe quien es mary', 'a tom le gusto esto', 'y si me niego', 'necesito hablar contigo', 'tom se ha vuelto loco', 'eramos muy buenos amigos', 'ayer lo necesitaba', 'el le abofeteo a ella', 'yo estoy aqui a menudo', 'te estan siguiendo', 'hemos probado todo', 'creo que tom es rudo', 'idos manana', 'vine conduciendo', 'explicadmela', 'no te pases de vueltas tom', 'se puede confiar en el', 'esta chaqueta tiene botones', 'eres oportunista', 'jugamos en la playa', 'te resultara facil', 'tom volvio a preguntar', 'habia dos puentes', 'no soy racista', 'usas kratom', 'estoy muy asustada', 'se lo que quieres decir', 'estais aqui para ayudarnos', 'te va a gustar', 'choque contra un arbol', 'te admiraba', 'estoy agotado', 'comian', 'deja eso ahi', 'cada dia me siento mejor', 'me preocupo por ellos', 'estoy listo', 'tengo fiebre alta', 'continuemos casados', 'donde estan los guardias', 'que festin', 'me pregunto a quien puedo invitar', 'ella es una persona seria', 'ponte este sueter', 'se estaba oscureciendo', 'esto es una radio', 'me lo dicen mucho', 'ni me lo digas', 'tom tiene tres tios', 'cual es la temperatura', 'ensename como funciona', 'por favor sientense aqui', 'tom murio feliz', 'ese no es mi nombre', 'eso fue tonto', 'que barbaro', 'ellos fueron en metro', 'cocinamos con gas', 'recuerdo esta historia', 'el era muy paciente', 'le invitasteis', 'estoy contento de verla', 'sabia quien era el', 'yo puedo andar en bicicleta', 'donde estan mis muletas', 'que tan seguro es seguro', 'todos necesitan amigos', 'yo no tomo', 'aprendan frances', 'deberiamos estar juntos', 'saben quien es', 'entro en el ejercito', 'el koala es un oso', 'no podemos ganar', 'esperare arriba', 'le gustan los gatos negros', 'veo una corona', 'iras con tom', 'un ave levanto el vuelo en lo alto', 'se han vaciado las piscinas', 'a tom no le gustan los huevos', 'nos encanta esta zona', 'esos son tus enemigos', 'que asco', 'pidio una cerveza', 'se un caballero', 'estabamos recien casados', 'ella no es la victima', 'queda arroz', 'yo no lo limpie', 'logro su cometido', 'soy mas rico que tom', 'movamos la mesa', 'no te preocupes', 'el perdio su entrada para el cine', 'traiga a su hermano', 'me lo entregan de vuelta ahora', 'acababa de llegar', 'tu turno acaba a las dos y media', 'el sospechoso confeso', 'tom confia en mi', 'su libro me inspiro', 'los llamare', 'no hay otra manera', 'comes carne', 'tu eres bienvenido aqui', 'tom se unio a nosotros', 'puede que tom este alli', 'tengo que peinarme el cabello', 'te gusta el tenis', 'no llores por favor', 'nadie me aprecia', 'despedi a tom', 'esto suena sospechoso', 'os conocemos', 'estamos condenados', 'estaba oscuro en el bosque', 'son las ocho y media', 'trata de llevarte bien', 'hagamoslo ahora mismo', 'dormimos demasiado', 'estoy algo decepcionado', 'tienen vino', 'veniamos a pedir disculpas', 'voy al parque', 'dejalo descansar tom', 'no te acerques a los perros', 'cogeme una botella de cerveza', 'tom estuvo despierto toda la noche', 'no digas esa palabra', 'tom deberia estar aqui', 'lo hare con mucho gusto', 'de quien es esta mochila', 'vamos', 'no importa', 'tom perdio una lente de contacto', 'por favor cierren la ventana', 'son esos', 'jesus lloro', 'a ella le gusta', 'tom parece no estar herido', 'esta buena la leche', 'nos vemos hacia las', 'el no fuma', 'tu vestido es muy bonito', 'estaban mintiendo', 'como esta tom', 'tom estaba ausente', 'este libro no es mio', 'mary sabe bailar bien', 'encontro una camara rota', 'hay azucar', 'no hay luces', 'tom se hizo catolico', 'esta noche es la noche', 'debes estar bromeando', 'revisen sus bolsillos', 'no quiero estudiar', 'no consigo abrir la puerta', 'por que no funciono eso', 'creo que tom esta haciendo trampa', 'estoy horrorizada', 'tom conocia los riesgos', 'queremos ir a casa', 'tom conoce al padre de mary', 'usemos este', 'quiero cambiar de trabajo', 'nunca digas eso', 'esperaron', 'no puedo ver a nadie', 'esta listo el desayuno', 'dejate de joder', 'me siento refrescado', 'cuando vamos', 'tom quiere el divorcio', 'tom deberia saber eso', 'el todavia esta trabajando', 'bebes alcohol', 'tom le dio una patada a mary', 'todo el mundo llora', 'me gusta el cabello corto', 'acabamos de llegar', 'os gusta el vino blanco', 'ya no soy un bebe', 'no es eso lo que buscamos', 'donde has estado', 'vinieron todos ellos', 'eramos demasiado lentos', 'vayamos al meollo', 'tom me ha abandonado', 'fue un rey bueno', 'hemos regresado', 'tom se hizo muy famoso', 'es una secuela', 'tom parecia enojado', 'necesito hablar dos palabras con tom', 'le pusiste llave a la puerta', 'puedo ayudarle', 'mi coche no arranca', 'cada persona es un mundo', 'ya terminasteis', 'podria usar el bano', 'tom vacilo', 'volvera a las seis', 'yo no vi', 'voy a contarte una historia', 'manana tomare una decision', 'esta lista la torta', 'va a nevar hoy', 'no echo de menos a tom en absoluto', 'eso suena hermoso', 'eres mayor que tom', 'hablas mucho', 'lava los platos', 'tengo una cuenta de ahorros', 'da un paso atras', 'estamos aqui', 'dejame averiguarlo', 'el actuo como un demente', 'me abandonaste', 'lo habeis visto', 'el esta enfadado todavia', 'me declaro culpable', 'estaba esperando por tom', 'vengo de australia', 'ton vive cerca de mary', 'unas cuantas de estas son mias', 'corrigeme si me equivoco', 'a tom le gusta mary', 'es para tom', 'la navidad es luego cierto', 'guardenselos', 'esto es un suicidio', 'ella lo esta besando', 'que hizo ella hoy', 'pueden ponerlo alli', 'trae a tom contigo', 'la sensacion es simplemente distinta', 'muchisimas gracias', 'abrochate el cinturon', 'estaba de buen humor', 'no tengo oido para la musica', 'a tom no le gustaba mary', 'fuiste encantador', 'hazlo lo mejor que puedas', 'esas no son palabras', 'lo escondi en algun lugar', 'vuelve al auto', 'soy una persona muy melancolica', 'todavia es lunes', 'he vuelto', 'ahora me acuerdo', 'recibiste el mensaje', 'todos saltaron', 'en esta cueva viven murcielagos', 'el todavia esta en el trabajo', 'todos rieron', 'me encontre con una amiga', 'tom no la vio nunca mas', 'creo que necesitamos a tom', 'nosotros miraremos eso', 'a que sabe esta sopa', 'estan separados', 'ella tuvo lastima por el', 'le gusta correr', 'conduzca con cuidado', 'podemos volver ahora', 'donde esta mi baston', 'ensename como hacerlo', 'conoces a tom', 'estaba fuera', 'que burro eres', 'ella lleva pantis', 'soy un hombre casado', 'lavate los pies', 'entro mary', 'yo estoy escondido', 'esa es mi respuesta', 'todos han votado', 'quemad el cuerpo', 'regresaron', 'hoy quiero salir a comer', 'no le gusta perder', 'que listo', 'hay una huelga', 'donde esta tu cuarto', 'no es importante', 'estoy perdiendo clientes', 'trabajan para mi', 'el es un buen escritor', 'esperen un segundo', 'el problema no es el dinero', 'dame eso', 'muestra tus cartas', 'es viejo', 'a tom le gusta esto', 'la blusa esta limpia', 'mi garganta esta seca', 'no te olvides de tom', 'puedo abrir esta caja', 'estoy loco por vos', 'los pajaros tenian hambre', 'no te puedes ir ahora', 'es muy seco', 'es soberbio', 'por favor copie esto', 'conoceis a su padre', 'fue culpa tuya', 'el me mostro la zona', 'tu no pagaste', 'enviame la cuenta', 'nunca hay que decir nunca', 'que estas preparando', 'dame tu cuchillo', 'tom realmente amaba a mary', 'me gusta estar a solas', 'lo tengo', 'vivo cruzando la calle', 'el tiene un buen ingreso', 'como se ha resuelto todo', 'por que tememos a la muerte', 'podrias describirlos', 'no seas tonto', 'era la unica mujer', 'adelante toma otro', 'lo has hecho alguna vez', 'yo hice eso', 'manten el domingo libre', 'ella es una rubia estupida', 'ignore a tom', 'se que es dificil', 'termine ganando', 'mary esta muy buena', 'ahora estoy comiendo', 'me estoy casando', 'lamento lo que hice', 'tu nombre es tom verdad', 'dejaron la verja abierta', 'el tren ha llegado', 'no puedo dormir bien', 'soy autista', 'no sabe manejar', 'dejalo en mis manos', 'esta tienda me pertenece', 'no escucho nada', 'tom puede oiros', 'tom me convencio', 'tu decides', 'es un restaurante barato', 'tu camisa esta arrugada', 'que edad tiene tu tio', 'no oi a tom irse', 'todavia tenemos tiempo', 'es correcto', 'compre una camara', 'intenta pararme', 'tom era mas listo que mary', 'ellos confian el uno en el otro', 'debes de ser tom', 'de veras me gusta ese carro', 'no esta frio', 'preguntare por ahi', 'estoy un poco intranquilo', 'ellos lo construyeron', 'estoy enamorada', 'el siempre tiene razon', 'ponga una marca en esta pagina', 'se que lo puedes lograr', 'aprueban', 'soy testigo', 'he encontrado el problema', 'a que podria referirse', 'tenemos dos rinones', 'mantenganse abrigados', 'esto es intolerable', 'ella es timida con los extranos', 'engordaste', 'normalmente me levanto a las ocho', 'que los motiva', 'es tan frio como el hielo', 'dejalo ir', 'ella le siguio a casa', 'quiero mas informacion', 'os echare mucho de menos', 'apuremonos', 'no siento mas odio por tom', 'la casa de tom esta embrujada', 'creo que no vendra', 'que hora es de todos modos', 'se dirigieron escaleras abajo', 'tom todavia esta en la cama', 'nunca intente entrometerme', 'esto funcionara', 'comencemos', 'se que es el amor', 'le debo un favor a tom', 'te echamos mucho de menos', 'deberias ser profesor', 'estoy de acuerdo con tu propuesta', 'ayer les ayude', 'ellos son amigos', 'el esta pisando los cincuenta', 'es cancer', 'me encontre con ella en la calle', 'sabia que tom estaba aqui', 'la mantequilla se obtiene de la leche', 'estoy sin blanca', 'deja que llame a tom', 'no tientes a la suerte', 'no estaba listo', 'quien querria haceros dano', 'tom se esta lavando la cara', 'alguien me robo la billetera', 'tom escucho cuidadosamente', 'voy saliendo', 'tom cambio de idea', 'donde los pusiste', 'tengo que fregar los suelos', 'nunca hablamos', 'este cd vale diez dolares', 'tengo mas de dieciocho anos', 'olvide mi campera', 'ella lo adora', 'ella le compro un coche', 'ya ha empezado', 'atended a todas las advertencias', 'odio a sus padres', 'nadie posee la luna', 'eres una chica con suerte', 'eso es un truco', 'repita lo que acabo de decir', 'nada es casualidad', 'es redundante', 'esa chica es muy timida', 'estan esposados', 'quieres una bolsa', 'alguien me acompano', 'ese cuchillo corta bien', 'traeme mis gafas', 'noto frio', 'ten cuidado', 'no te gusta el vino', 'no podemos solamente ir', 'cuando querias ir', 'no es barato', 'puedes responder a esto', 'ganaste el caso', 'llegaras lejos', 'no pronuncies su nombre', 'estoy preparado para empezar', 'este es un libro antiguo', 'prueba otra vez', 'se paro el tren', 'tom a menudo falta a clases', 'eres bastante inteligente', 'que le hiciste a tom', 'como aprendiste frances', 'me senti verdaderamente deprimido', 'me gustaria irme', 'te gustaria venir', 'creo que el es feliz', 'puedo apuntarme', 'yo queria zapatos rojos', 'es que estoy tan perdido', 'el me gusta', 'tomemos otra cerveza', 'todo parecia normal', 'este diario es gratuito', 'ella no compro el pan', 'ustedes tambien estaban ahi', 'los tiempos eran duros', 'me acuerdo de ambos', 'esta abarrotado hoy', 'ellas van a irse', 'lo hizo el mismo', 'por que no puede venir tom', 'eso es mejor o no', 'tiene ella miedo de la muerte', 'no me arrepiento de nada', 'nadie estaba escuchando', 'estamos saliendo', 'hierve un poco de agua', 'comimos pez espada', 'es lo que dice la ley', 'compradme la roja', 'le di un punetazo a tomas', 'el llevaba un esmoquin', 'vendras con nosotras', 'tom rompio las reglas', 'esto es muy genial', 'tomate una cerveza', 'yo saltaba', 'es accesible', 'paso de repente', 'vamos a ir a boston', 'siempre discutiamos', 'el reloj hizo tictac', 'esquiar es mi pasion', 'deja de ser tan ingenuo', 'que te trajo aqui', 'tenemos un mapa', 'cuanto mide este lapiz', 'enciende la television', 'perdone la intrusion', 'hubo un obstaculo', 'tengo clase manana', 'seguire adelante', 'tom marco un gol', 'nadie lo sabe todo', 'eso es realmente genial', 'se paciente conmigo', 'ha llegado el correo', 'no siento la espalda', 'tom no se puede decidir', 'todos ellos tenian hambre', 'no duele', 'no nos mire', 'tom debe ser castigado', 'tu madre sabe', 'esta silla esta rota', 'cuando vino tom', 'el colegio es aburrido', 'tenes cancer', 'tom no es tan joven', 'que edad tiene tu esposa', 'necesito papel', 'por favor dile hola', 'lo llevamos bien', 'cierra la boca', 'vamos adentro', 'oi el mensaje', 'tomas es un poco ingenuo', 'lo procuramos', 'es demasiado grande', 'quien te enseno musica', 'tome otra', 'tambien tom va a ir', 'el se suicido', 'no silbes en la escuela', 'me sentia mal', 'no vas a ir', 'que haces', 'esta tu esposo en casa', 'yo te debo dolares', 'ellos se aman', 'a el le encanta la musica', 'he visto lo que habeis hecho', 'fue mi eleccion', 'a mi me supo bien', 'tom contuvo un gemido', 'tom empezo a hablar', 'mis zapatos han desaparecido', 'esta noche estoy ocupado', 'creo lo que el dice', 'metete en tus cosas', 'su vestido estaba rasgado', 'esto es bueno verdad', 'sere muy cuidadoso', 'fui arrestado', 'deberia asear mi cuarto', 'a que hora te levantaste', 'alguien esta lastimado', 'estamos comiendo manzanas', 'preferiria caminar', 'lo que hicisteis estuvo mal', 'mas fuerte por favor', 'no la he olvidado', 'esto esta descompuesto', 'ellos que son', 'ustedes primero', 'armate', 'he logrado mucho', 'me puedo defender sola', 'ella cuido de mi perro', 'ella hablo mucho', 'quedese quieto por un momento', 'tom es muy capaz', 'esto no es amor verdadero', 'estoy guapo', 'estaban felices', 'oh lo siento', 'estas meditando tom', 'proba este', 'tom comio rapidamente', 'tom me disparo', 'alguna vez descansas', 'lo hacia en la escuela', 'cual es la mia', 'el era paciente', 'sacate los zapatos', 'no veo ningun moraton', 'yo tampoco consigo verle', 'esta es una carretera privada', 'que comen los caballos', 'estabamos todos muy hambrientos', 'por que le crees a tom', 'nada cambia', 'no entrar', 'esto no es gracioso', 'el seguia hablando', 'lo habeis oido', 'no estabas escuchando', 'perdi el apetito', 'ella trabajo duro', 'te quiero en mi oficina', 'me acabo de despertar', 'quien necesita un trago', 'el la aterroriza', 'el nino se puso a llorar', 'tom es calvo', 'yo me siento estupido', 'me corregi', 'me gusta la fruta', 'por que debo sufrir', 'estoy esperando en la fila', 'tienes unos ninos muy monos', 'quiero dejar mi empleo', 'todo esto es culpa tuya', 'el estaba hablando', 'toma mi mano', 'hazlo con otro', 'girad a la izquierda', 'el quebro la ventana', 'por favor lee este libro', 'el se fue a casa ayer', 'tan solo vayamos a verlo', 'no tienes hambre', 'tom es mi papa', 'no te lo voy a decir', 'no puedo dormir por las noches', 'quien quiere un helado', 'realmente deberia salir', 'no le llega agua al tanque', 'no deberia decirtelo', 'quieres hablar', 'tom no es religioso', 'no ire sin ti', 'cuanto te debemos', 'yo no queria nadar', 'el estaba encolerizado', 'fui a boston', 'el esta delgado', 'el dano esta hecho', 'ella es mi esposa', 'quien tiene sed', 'hoy hace mucho viento', 'pareces muy somnoliento', 'tom es terrorista', 'voy a dormir', 'para ese coche', 'este es mi colegio', 'yo no soy mago', 'tom tiene mis llaves', 'llevanos a casa', 'donde puedo conseguir el mapa', 'a tom le leyeron la palma', 'el nos esta entreteniendo', 'cuenteme de tom', 'no se trata de dinero', 'podria ser fatal', 'aplique por escrito', 'creo que somos vecinos', 'este libro es muy delgado', 'mi madre cocina bien', 'tu nombre era', 'estas listo para volar', 'mi tio hizo una fortuna', 'te juzgue mal', 'aqui esta vuestro perro', 'tom es un gordo', 'por que no le advertiste a tom', 'me toca a mi', 'ella sabe quienes somos', 'el estaba alli solo', 'me gusta esta musica', 'no te pases', 'es que no merece la pena', 'sientese aqui por favor', 'encontraste tu libro', 'quieren sentarse', 'ahora no puedo ir', 'permitime pagar mi parte', 'que le ha pasado', 'tom sabe hablar frances', 'me estaba banando', 'fue una hermosa fiesta', 'por favor sujetalo fuerte', 'tom necesita la ayuda de mary', 'diganme la verdad', 'perdi mi fuerza', 'tomas necesita tu apoyo', 'necesito un bocadillo', 'el es un hombre ingenioso', 'no fue a clase', 'tenemos que hacerlo ahora', 'por favor quedate', 'vendra manana', 'di mi palabra', 'lo mirare', 'ella no fuma', 'escribe algo', 'no quiero ir', 'lo necesito', 'el fue al colegio en coche', 'tom no esta nervioso', 'tom aprobo', 'queremos a tom en nuestro equipo', 'tu mochila esta repleta', 'podeis ponerlo alli', 'lo podemos albergar', 'tomas sabe lo que usted hizo', 'debo montar una bicicleta', 'he estado alla dos veces', 'el esta estudiando', 'me quede pasmado', 'hablo en serio', 'no hagas eso por favor', 'tomare leche desnatada', 'es mi unica preocupacion', 'tom casi lloro', 'tom esta tocando piano', 'me pregunto quien ha llegado', 'quien te ensena', 'por que estan tan paranoicos', 'no canten', 'yo olvide el libro', 'no estoy ocupado ahora', 'odio la mermelada', 'se nos perdieron las llaves', 'trate de protegerte', 'mas despacio', 'estan indefensas', 'puedo oir cantar a tom', 'todo es culpa tuya', 'vivo en este hotel', 'no habia ningun problema', 'la habitacion se esta calentando', 'son japoneses', 'asi exactamente asi', 'puedes creer esto', 'ensename tus deberes', 'convine', 'cual es la buena noticia', 'sabia que serias atrapado', 'no se usar bien el tenedor', 'no me gusta hacerlo', 'tom ha dimitido esta semana', 'mantenga su posicion', 'tom fue torturado', 'estoy contratada', 'estas muerto', 'mira me tengo que ir', 'quiero creer que es asi', 'revisemos el mapa', 'ha llegado la hora', 'mi brazo derecho es fuerte', 'me enganaron a causa de eso', 'tienes algo de leche', 'me has hecho falta', 'tienen celos de nosotros', 'estoy en contra de este proyecto de ley', 'tom tiene un marcado acento', 'medita sobre ello', 'espera fuera', 'no entre usted', 'nos encanta comer manzanas', 'yo tambien te echare de menos', 'el volvio nuevamente', 'los hechos no son claros', 'son cerca de las diez', 'sos un caprichoso', 'tu me pediste ayuda', 'este plan no tiene defectos', 'tom estornudo con fuerza', 'me pregunto quien es ella', 'no ponga excusas', 'tom fue hablador', 'esta aqui tom', 'estuvieron todas', 'tom solo bebe agua', 'me duelen las piernas', 'el motor se detuvo', 'como hacemos eso', 'casi todos llegaron tarde', 'ya he comido', 'el dijo que era pobre', 'tom va a la iglesia', 'quien dijo eso', 'es importante para tom', 'tom no dijo nada', 'podria ocurriros a vosotras', 'prueba este dulce', 'vete ya', 'ellos se burlaron de mi', 'empieza otra vez', 'ya has dado de comer al perro', 'por favor abri esta caja', 'ya basta', 'volvamos', 'por que llora el bebe', 'encuentralo a tomas', 'solo necesito la ayuda de tom', 'no me delates', 'esto es muy cierto', 'quiero hacerlo otra vez', 'sabia que vendrian problemas', 'esa mochila es mia', 'estamos muy orgullosos de tomas', 'tomas es inservible', 'me gusta tu bufanda', 'el autobus todavia no ha llegado', 'no hay vuelta atras', 'quitaos la ropa', 'el vio a una chica guapa', 'estais muy hambrientas', 'yo esperare aqui', 'ella es tan joven como yo', 'le gusta estar sola', 'el vive en osaka', 'quiero estar solo', 'esa no es mi esposa', 'es amigo tuyo', 'yo no estaba en casa', 'acercate', 'hemos estado mejor', 'compartiremos', 'tom morira', 'tom siempre esta serio', 'quedate aqui con nosotros', 'guarda esto', 'tom ya esta grande', 'esto son cosas importantes', 'no ves que estoy ocupado', 'para que sirve eso', 'me siento mal', 'somos huerfanos', 'luego lo hare', 'no puedo ir contigo', 'distaba mucho de ser cierto', 'que edad tiene tu hijo', 'he aprendido la leccion', 'no se lo que es', 'tom me quiere matar', 'las reuniones han concluido', 'no puedo encontrar a tom tampoco', 'empujala', 'te puedo tomar la mano', 'hay algun problema aqui', 'necesito una corbata', 'tom es divertido', 'tom es el asesino', 'estare aqui manana', 'vayamonos juntos', 'el come mucho', 'somos amigos', 'tom parece desanimado ultimamente', 'este es el libro de tom', 'tom esta atarantado', 'esta carretera es terrible', 'por que pagina vas', 'con quien habla', 'que tan malo fue el dano', 'tom vio otra vez a mary', 'este es un nuevo modelo', 'tom no come carne', 'dame un cigarrillo', 'no estoy culpando a nadie', 'tom no tenia dinero', 'me estas avergonzando', 'toque el acordeon', 'este diccionario es mio', 'come cuanto quieras', 'esa es la oficina de tom', 'yo leia un libro', 'dudas de mi', 'ven a pescar conmigo', 'quien se comio todas las tortas', 'tom no puede correr muy rapido', 'cuanto dinero queda', 'el se subio al avion', 'mary es mama', 'crees que ayudo', 'vinisteis demasiado tarde', 'tom es timido', 'esto no ocurrio', 'tom trapeo la mesa', 'ella nos dio un obsequio', 'esa es una idea genial', 'ahora no esta aqui', 'creo que encontraremos a tom', 'lo sigo haciendo', 'tom es mi sobrino', 'quien vigila', 'el juega futbol', 'lo hice yo', 'tomas dice que es absurdo', 'eres de la pasma', 'le gustan las aventuras', 'por favor calmate', 'te parece que tom tenga pinta de pusilanime', 'permiteme pagar mi parte', 'tenedlo siempre presente', 'empiece a cantar', 'quieres compartirlo', 'tomas estaba un poco fastidiado', 'lo amo a tomas', 'estoy mucho mas feliz ahora', 'estoy escribiendo un articulo', 'te puedo preguntar algo', 'a el le gusta pescar', 'por que no comieron ustedes', 'estan deliciosos', 'terminaste el trabajo', 'yo contribui', 'soy tu doctor', 'digame en donde vive', 'el habla ingles muy bien', 'entendemos por que', 'jamas te das por vencido', 'no lo encontraron a tomas', 'nos encontramos con ella por casualidad', 'cuanto cuesta una noche', 'que gusto verte', 'los dias se estan haciendo mas largos', 'el ya es un hombre', 'tom comio un rabano', 'menudo bicho estas hecho', 'tom esta con nosotros', 'siento mucho su perdida', 'por que sigo con vida', 'a tom no se le dan bien las matematicas', 'no comais en el pupitre', 'el pescado estaba muy fresco', 'tom corre muy rapido', 'trabajo con el', 'fue a por el doctor', 'estare ocupada la semana que viene', 'cual es tu direccion', 'un caballo corre rapidamente', 'tom ordeno las vacas', 'el banco esta cerrado', 'solo tom sabe', 'le debo dinero a tom', 'como estuvo su entrevista', 'estos son mis cd', 'esto es fabuloso', 'que quieren decir', 'eso es irrelevante', 'tom es amable conmigo', 'tom crecio siendo bilingue', 'que es lo que esta en la caja', 'senti eso', 'mi papa me matara', 'confio en que toda la gente este de acuerdo', 've por ahi', 'estos zapatos me calzan', 'lo hare lo mejor que pueda', 'hacia calor en la habitacion', 'la economia va bien', 'tom esta mintiendo otra vez', 'el tren se dio la vuelta', 'tom se aferro a mary', 'no suele enfadarse', 'mary me hace morir de la risa', 'que anda mal', 'estan arruinadas', 'calmate', 'se te ha ido la pinza', 'no hemos comido', 'estoy feliz', 'sigue remando', 'el se siente muy feliz', 'me incline educadamente', 'nos preparamos', 'eh adonde vas', 'odio a mi familia', 'quien falta', 'todo el mundo tiene acento', 'no puedo pararle', 'odio a esa clase de personas', 'todos tienen miedo del tiempo', 'intentalo tanto como puedas', 'eres inteligente', 'somos profesoras', 'a ella le gusta el', 'tom es feliz', 'he tenido un accidente', 'algunos peces vuelan', 'empiece a escribir', 'queremos justicia', 'esperame', 'tengo mala vista', 'a todos les gusta ella', 'nosotros lo ayudamos', 'el iba a hablar', 'hay un sandwich aqui', 'como te sientes al respecto', 'yo puedo hacer eso', 'tienes el pelo demasiado largo', 'esto no es acerca de ellos', 'nada puede detenernos', 'no puedes andar', 'ocurrira en breve', 'te suplico que me ayudes', 'vos usaste mi camara', 'solo estaba recordando', 'me duele todo', 'no no ayude', 'tom rara vez llega tarde', 'vamos intentalo otra vez', 'era una mala eleccion', 'como con las manos', 'te importa si canto', 'no me hagas enojar', 'comparto su opinion', 'ahora no estoy triste', 'ahora se', 'fui muchas veces alli', 'el ya almorzo', 'me estas embromando', 'es dulce o amargo', 'tenia una fiebre muy alta', 'quien tiene tiempo para eso', 'tom descanso por un momento', 'ella es despreocupada', 'le dio un derrame cerebral', 'queria decir que no', 'quiero un poco de comida', 'prestame tu bicicleta', 'se las da de guapo', 'deja de culparte a ti mismo', 'soy empresario', 'tom murio solo', 'tom quemo su ropa', 'yo se cosas', 'necesito un rotulador', 'como crees que me siento', 'como de alto es el', 'que mundo mas raro', 'tomas sabe quienes son ellos', 'donde quedamos', 'es justo', 'deja de llorar', 'no hay nada ahi', 'me gusta el arroz', 'tom fue mi profesor', 'no es dificil de encontrar', 'puedes tomar un taxi', 'adoro nuestras conversaciones', 'nosotros crecimos juntos', 'es asombroso', 'odio las bodas', 'naci en un barco', 'que esta en peligro', 'esta ahi', 'vayamos por aqui', 'las quiero', 'no esperes', 'deberia ponerme a dieta', 'dejame hablar', 'enganaron', 'son bastante inteligentes', 'son rojos', 'deten ese camion', 'la salud es riqueza', 'a tom le gusto', 'hueles bien', 'solo me estoy asegurando', 'por favor perdoname la vida', 'tom la hace feliz a mary', 'huele esto', 'has visto alguna vez un ovni', 'dos cervezas por favor', 'tom estara ahi', 'no nos mientas', 'donde esta tu arma', 'conoci a una anciana', 'lo conociamos', 'espera por nosotros aqui', 'nosotros estamos escondidos', 'depende de ti', 'fui un idiota', 'tienes que irte', 'el es un chico amable', 'no se preocupen', 'me estas zorreando', 'que es una pandemia', 'cuantas gorras tienes', 'tom dejo de reir', 'apaga el fuego', 'te ayudaremos gratis', 'sube al auto', 'le deje a tom algo de dinero', 'el rio se salio de madre', 'el me torcio el brazo', 'estas estancado', 'no tienes calor', 'quedas detenido', 'estabamos preocupados', 'estas son verdaderas', 'confia en ti mismo', 'ellos no estan viniendo', 'dudo de que alguien lo haya dicho', 'ella le abrazo', 'puedes ensenarme', 'me gusta mi casa', 'llueve', 'tom estaba solo en casa', 'recuerdo aquella risa', 'no tengo miedo', 'tomas es el unico hijo de maria', 'estaba impresionada', 'lo podria matar', 'quien te ha dicho esto', 'expliquenmela', 'tom no comeria', 'las reglas son claras', 'como escapo tom', 'esta ud hablando conmigo', 'a tom le gustan las patatas', 'no te quites los pantalones', 'intenta verlo como yo', 'tomas estaba realmente cansado', 'nuestras tuberias se reventaron', 'tiene buen aspecto', 'tom ofrecio una disculpa', 'eres una persona amable', 'no atiende nadie', 'su amigo es cantante', 'por favor vuelve a intentarlo', 'tienes hermanos', 'se que nos puedes ayudar', 'tomas me pellizco', 'me ha llamado tom', 'os habeis perdido', 'donde trabaja tom', 'esta pelicula es aburrida', 'me gusta la sandia', 'puedo ensenar ingles', 'por favor tomate algo', 'eso puede pasar el lunes', 'no como fruta', 'no puedo culparlos', 'me encontre con ella hace una hora', 'es una mala idea', 'ella esta a dieta', 'venga ven aqui', 'entras o no', 'la verja estaba cerrada con llave', 'que esta haciendo', 'no estoy invitado', 'que es un abaco', 'se lo que es correcto', 'quien es el primero', 'no sos estupida', 'que bueno verte', 'creia que tom tenia un perro', 'estoy aqui todas las noches', 'me vendimos nuestro coche a tom', 'compraron ustedes un coche', 'tom viene de boston', 'tom nunca ha sido de mi agrado', 'donde hay un espejo', 'me van a dar un gran aumento', 'yo soy la mala', 'tom es tacano', 'responderan', 'tape esa gotera', 'utilice este', 'empece a sangrar', 'vamos vamos alla', 'apaguemos la television', 'me ascendieron', 'ellos ayudaron a tom', 'los renacuajos se convierten en ranas', 'no os pareis', 'esto es inmoral', 'tenia un mal dia', 'va a hacer calor', 'fue una decision facil de tomar', 'tom te acompanara', 'que mas quieren', 'me torci el tobillo', 'crees que estoy de broma', 'me gusta el arte', 'los veo', 'tom lo queria asi', 'es una cancion preciosa', 'tom tenia en ese momento', 'es mi trabajo', 'ella es mi amiga', 'lo entiendes verdad', 'puedo hacer esto durante toda la noche', 'el no luce de esa edad', 'tenemos tres nietos', 'me estoy hartando', 'en invierno hace frio', 'cometi un error', 'he estado en boston', 'tu tambien puedes venir', 'tengo que hacer eso ahora', 'por favor permanezcan sentados', 'llovio todo el dia', 'esfuerzate un poquito mas', 'ese es un error muy comun', 'tenia ganas de llorar', 'fue una noche extrana', 'manana es mi dia libre', 'vas a viajar solo', 'por favor ven aqui', 'tom es bioquimico', 'mate a los ratones', 'mencionaron su nombre', 'servios vosotros mismos', 'vuelve a casa', 'no es algo bueno', 'ella le beso', 'es su coche', 'mis ojos son azules', 'comprobare de nuevo', 'esta fingiendo', 'tom estaba palido', 'el va a menudo a pie al colegio', 'tom tiene un coche nuevo', 'tenia miedo', 'se lo quito', 'ella se convirtio en cantante', 'encontre algo', 'a quien mas has preguntado', 'sostenelo con ambas manos', 'tom descanso', 'me quede', 'tom se preocupa demasiado', 'se lo que siento', 'lo siento de verdad', 'pruebe un poco', 'cuando volvio tom', 'quieres un bolso', 'tom dejo conducir a mary', 'afuera esta lloviendo', 'mi gato esta mojado', 'nadie nos dio nada', 'el corto', 'soy calvo', 'tom esta cansado de esperar', 'el tuvo problemas respiratorios', 'no bebais nada de alcohol', 'son esos para mi', 'esa es una copia', 'compre muchos libros', 'sos la mejor', 'damelo ahora', 'no pude hacer nada', 'puedes leer', 'tomas sabe quienes son', 'tom es asqueroso', 'yo se todo eso', 'no mataras', 'me gusta esta ciudad', 'tienes que venir', 'estas rodeado', 'no fui honesto', 'todo es malo', 'eso es verdad', 'me cambie de camisa', 'dilo claramente', 'tom sabia la respuesta', 'en verano hace calor', 'han pasado tres dias', 'no cerre la puerta', 'has visto a tom', 'es una historia muy triste', 'como lo hariais vosotros', 'despierta a tom', 'no sabe quien soy', 'tom es musulman', 'puede esperar', 'es una comedia', 'tom habria caminado', 'se puede contar con el', 'deberias estar en casa', 'quedate sentado por favor', 'tom podria caer enfermo', 'nadie quiere morir', 'que guapa es', 'el era mi amigo', 'no somos ricos', 'deberias disculparte ante mi', 'los has visto', 'son gente corriente', 'eso es increible', 'era mi amigo', 'no quiero contaroslo', 'lo metieron preso', 'yo se lo que es aquello', 'me he cortado', 'es demasiado pequena', 'este fue mi error', 'conozco a esas mujeres', 'el era un buen amigo', 'es hora de irse', 'frances es una optativa', 'dormi demasiado', 'vuelve cuando quieras', 'tengo informacion', 'he estado ocupado', 'tom sufrira', 'ojala me equivoque', 'donde esta la parada del autobus', 'el conoce la verdad', 'sujetad la cuerda', 'estoy acatarrado', 've alli conmigo', 'donde esta mi asiento', 'tom esta bien de salud', 'todo esta claro', 'hemos hecho nuestro deber', 'quien es esa chica', 'conozco un atajo', 'nunca me levanto tarde', 'deja venir a tom', 'eres practico', 'traje vino', 'hay alguien adentro', 'que saben ustedes', 'consta que es asi', 'estamos hartos', 'tambien habla frances', 'lo pintaremos', 'debemos irnos temprano', 'quise gritar', 'tu estas muy alerta', 'no es una profecia', 'tom ataco a mary', 'yo administro un motel', 'mary llevo un vestido blanco', 'tom conoce a mary', 'trabaje mucho hoy', 'los leones corren rapido', 'mi sueno se hizo realidad', 'el posee muchas tierras', 'donde esta el puente', 'me perdi', 'lo hice', 'soy de brasil', 'me gustaria jugar al tenis', 'nos conoce muy bien', 'tom quiere culparnos', 'estas ciruelas estan maduras', 'para de quejarte', 'aquel puente no es largo', 'no forcejees', 'que tan lejos esta de aqui', 'he mirado a mi alrededor', 'eres muy astuta', 'aqui teneis algunos detalles', 'deberian quedarse en cama', 'no queres una galletita', 'ni siquiera me conoces', 'quiero a mi mama', 'ella esta muerta', 'no saben', 'los monos se suben a los arboles', 'no fue una peticion', 'queres ensalada', 'ahora mismo estamos ocupados', 'nadie puede detener el tiempo', 'esto es un autentico chollo', 'no es ese mi objetivo', 'estoy soltera', 'queres una bolsa', 'sos un adulto', 'cuanto me vas a pagar', 'tom es bueno cantando', 'tom rara vez se rie', 'quisiera verlo', 'estoy helado', 'tom se siente solo', 'tom se sintio solo', 'hizo llorar a mi madre', 'ella aun lo amaba', 'podemos vernos el lunes', 'soy incapaz de nadar', 'tom escribe bien', 'no importa lo que el dijo', 'necesito mis llaves', 'soy como mi padre', 'me quieren matar', 'el es joven e inmaduro', 'cual es tu talla de zapatos', 'tom quiere a su esposa', 'todos ellos hablan en frances', 'que te ha despertado', 'puede empezar ahora mismo', 'se tiro una semana lloviendo', 'fue ayer', 'perdi la nocion del tiempo', 'indicame adonde ir', 'peligro reconocido peligro evitado', 'eso es nuevo para mi', 'que le dijiste a tom', 'es un ladron', 'tom se paro cerca de mary', 'tom no lo aprobaria', 'de hecho tienes razon', 'tom se divorcio de mary', 'estas loco', 'eso no va a cambiar nada', 'se me paso echarle un ojo', 'se que resulto molesta', 'mi hermano me va a matar', 'el parece amable', 'eso es pseudociencia', 'tu sabes algo', 'mira hacia atras', 'les gustan las naranjas', 'tom esta en bastantes malas condiciones', 'queremos hablar', 'la tormenta de nieve no amainaba', 'no seas tan duro conmigo', 'barre mi habitacion', 'llamame el lunes', 'no te abandonare', 'este es mi consejo', 'esa no es mi pregunta', 'no cedere', 'lo puedo hacer ahora', 'el lo sabia desde un comienzo', 'tom se esta riendo', 'odio a las aranas', 'el va a la escuela caminando', 'el carro de tom fue confiscado', 'ya no hace tanto calor', 'ella ha comprado un pollo', 'cuesta mucho aprender frances', 'el coche es azul', 'tu arma esta cargada', 'describanmelo', 'solo cumpli con mi deber', 'tom carece de experiencia', 'quien escribio la biblia', 'que perro mas grande', 'la arena estaba tibia', 'hemos comido', 'gracias a ti', 'soy daltonico', 'estoy viendo doble', 'no se lo digan a mi novia', 'yo subi a bordo', 'esperad por mi', 'tambien tengo que ir yo', 'hay algo mas', 'comprueba tu buzon', 'esa es mia', 'yo merezco mas', 'tom es histerico', 'tiene buenas piernas', 'ahora largate', 'nadie aqui me conoce', 'eso duele', 'los osos son muy peligrosos', 'tom es un veterano', 'tom esta bastante borracho', 'decidire eso despues', 'no hizo tom nada mas que comer', 'ya voy muy tarde', 'soy guapa', 'no suena bien', 'me gusta la ensalada de papas', 'tom se aburrio', 'lo puedes poner ahi', 'lleve la camara conmigo', 'no hay cafe', 'perdi mi cuaderno hoy', 'se estrellaron', 'este calor es insoportable', 'es ella', 'tom se comio las sobras', 'mi salario es muy bajo', 'lo hare inmediatamente', 'se ha ido la luz', 'ayudame a abrir esta ventana', 'no le eches la culpa', 'tom queria comprarlo', 'como de profundos son los cortes', 'quien es aquel hombre', 'soy inmune a la viruela', 'el se alejo corriendo de ella', 'ire andando', 'despiertame si me necesitas', 'casi se muere tom esta noche', 'yo diria que tom esta celoso', 'ya se acerca la navidad', 'el queria viajar al mar', 'tu conoces esto', 'no te voy a denunciar', 'no puedo creer esto', 'mintio sobre su edad', 'como se llama el perro de tom', 'yo no ronco', 'no me gusta la ciencia', 'podriais quedaros un minuto', 'vuestro perro esta aqui', 'por que te dejo tom', 'asi son los perros', 'estas almorzando', 'no tengo esposa', 'tom es apasionado', 'tomas me va a llamar', 'es doloroso']\n"
          ]
        },
        {
          "output_type": "execute_result",
          "data": {
            "text/plain": [
              "10000"
            ]
          },
          "metadata": {},
          "execution_count": 45
        }
      ],
      "source": [
        "decoder_test_output=[]\n",
        "for e in decoder_test:\n",
        "  decoder_test_output.append(e[0:-1])\n",
        "\n",
        "print(decoder_test_output)\n",
        "len(decoder_test_output)"
      ]
    },
    {
      "cell_type": "code",
      "execution_count": 46,
      "metadata": {
        "colab": {
          "base_uri": "https://localhost:8080/"
        },
        "id": "ujqE3oTintKr",
        "outputId": "9611732e-7a38-41f5-f864-30915d61c8f0"
      },
      "outputs": [
        {
          "output_type": "stream",
          "name": "stdout",
          "text": [
            "['no quiero verte', 'el casa esta en el cario', 'eres muy inteligente', 'lo lo me encontre', 'no puedo contar con tom', 'no le gusta esa comida', 'eres muy inteligente', 'cual es la casa de tom', 'tom no puede estar en el coche', 'dejame venir ahora', 'dejame entrar este', 'tom esta miento', 'no tienes pada', 'me pendi en la comida', 'donde puedo contar la casa', 'tom se dio un poco de la cara', 'debes detar a tom', 'no estoy confuntado', 'podemos pararte a tom', 'eso es mio', 'no soy carie', 'mi padre esta aqui', 'puedo contar un poco de casa', 'deja el casa', 'todos estan de casa', 'eso es un carien', 'cuando esta este tiempo', 'salte mi coche', 'por que estamos enfermos', 'estas enfermo', 'el es un buen peligro', 'no necesitamos amudar', 'necesitas algo de mismo', 'eso no es tanido', 'estas estudiando', 'no tenemos pueno a tom', 'era un poco de comer', 'era un buen pesigio', 'era un auen comiliano', 'estas consado', 'no me gusta el cocie', 'segamos en la cama', 'voy a todos los dias', 'nadie sabe nodo', 'fue un perictoro', 'estas confentado', 'no dejes dejar a tom', 'el se conto un coche', 'eso son muy canidos', 'no quiero este libro', 'que esta en el coche', 'estas bailando la cara', 'el es un amigo', 'no te lo di un trabajo', 'te puedes estar en el', 'vamos a casa a las alas', 'esta en casa', 'no tengo ningun agua', 'por que estas tan preparado', 'es este tu para', 'me gusta esta casa de la casa', 'eres muy galiente', 'es un primerero', 'lo hare', 'es esto estupado', 'el tiene un poco de casa', 'teme tu cama', 'quiero una cara', 'tom no ayudara', 'podemos estar enfermo', 'necesito un auto', 'estoy comiendo un coche', 'esta casa esta demasiado carado', 'tengo que dermir felices', 'a tom le gustan los perros', 'que tan esta en cantando', 'estoy comiendo un prabajo', 'no quiero verme', 'alguien esta comiendo', 'esto es lo que pijero', 'quieres verte', 'te gusta el sole', 'podria ser aqui', 'quien te rego', 'tom se ve de cantar', 'no se verdire', 'como lo hiciste a tom', 'ella estaba enferma de esto', 'haz a la parte', 'yo podria ser arto', 'tom compro a mary', 'debemos hablar', 'dejare estar en el cara', 'el se conto en el', 'todos lo lo sabemos', 'ella se puedo contar can el auto', 'donde esta el pelicio', 'como esta en contando el casa', 'ella tiene un poco de camina', 'el esta dasando en esta']\n",
            "gens length:  100\n",
            "decoder_test_output:  10000\n"
          ]
        }
      ],
      "source": [
        "\n",
        "print(gens)\n",
        "print(\"gens length: \", len(gens))\n",
        "print(\"decoder_test_output: \", len(decoder_test_output))"
      ]
    },
    {
      "cell_type": "code",
      "source": [
        "# get decoder_test_target values of the same random indexes\n",
        "final_decoder_test_out = []\n",
        "for e in sampled_indexes:\n",
        "  final_decoder_test_out.append(decoder_test_output[e])\n",
        "\n",
        "print(sampled_indexes)\n",
        "print(decoder_test_output[5643])\n"
      ],
      "metadata": {
        "colab": {
          "base_uri": "https://localhost:8080/"
        },
        "id": "KmDsnJ_bPQ6Y",
        "outputId": "bb075aa6-4902-4f45-eb5b-a2268d4e539b"
      },
      "execution_count": 47,
      "outputs": [
        {
          "output_type": "stream",
          "name": "stdout",
          "text": [
            "[2132, 5907, 6955, 531, 6399, 9391, 8065, 9232, 6980, 8073, 8417, 2747, 4278, 5083, 9144, 8172, 8848, 5190, 579, 9943, 77, 1531, 3881, 159, 573, 9738, 2960, 4607, 8810, 6832, 4221, 6923, 213, 6758, 7084, 3592, 5910, 7317, 794, 9240, 4438, 5847, 6930, 8998, 1257, 1, 3301, 7255, 9950, 4865, 1066, 5529, 7082, 9154, 7719, 5591, 3413, 7680, 4501, 1015, 8807, 500, 2474, 1307, 7702, 8808, 6653, 6114, 5676, 1029, 2977, 1861, 6935, 354, 1386, 5856, 4265, 7831, 1216, 1559, 7298, 8594, 273, 252, 3285, 2197, 5168, 698, 2354, 6009, 1487, 2024, 4392, 7745, 6410, 6063, 4519, 4117, 8275, 3067]\n",
            "tom se esta quejando\n"
          ]
        }
      ]
    },
    {
      "cell_type": "code",
      "execution_count": 48,
      "metadata": {
        "colab": {
          "base_uri": "https://localhost:8080/"
        },
        "id": "pIwpAcGLedCk",
        "outputId": "f45b9c98-8703-4cff-b234-d255e18accae"
      },
      "outputs": [
        {
          "output_type": "stream",
          "name": "stdout",
          "text": [
            "BLEU Score: 0.3656926612945475\n"
          ]
        }
      ],
      "source": [
        "from nltk.translate.bleu_score import corpus_bleu\n",
        "\n",
        "bleu_score = corpus_bleu([[reference] for reference in final_decoder_test_out], gens)\n",
        "\n",
        "print(\"BLEU Score:\", bleu_score)"
      ]
    }
  ],
  "metadata": {
    "accelerator": "GPU",
    "colab": {
      "gpuType": "T4",
      "provenance": []
    },
    "kernelspec": {
      "display_name": "Python 3",
      "name": "python3"
    },
    "language_info": {
      "codemirror_mode": {
        "name": "ipython",
        "version": 3
      },
      "file_extension": ".py",
      "mimetype": "text/x-python",
      "name": "python",
      "nbconvert_exporter": "python",
      "pygments_lexer": "ipython3",
      "version": "3.8.8"
    }
  },
  "nbformat": 4,
  "nbformat_minor": 0
}